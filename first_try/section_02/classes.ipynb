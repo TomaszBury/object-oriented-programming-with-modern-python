{
 "cells": [
  {
   "attachments": {},
   "cell_type": "markdown",
   "metadata": {},
   "source": [
    "Or firs class"
   ]
  },
  {
   "cell_type": "code",
   "execution_count": 1,
   "metadata": {},
   "outputs": [],
   "source": [
    "class MercedezBenz:\n",
    "    pass"
   ]
  },
  {
   "cell_type": "code",
   "execution_count": 2,
   "metadata": {},
   "outputs": [
    {
     "data": {
      "text/plain": [
       "__main__.MercedezBenz"
      ]
     },
     "execution_count": 2,
     "metadata": {},
     "output_type": "execute_result"
    }
   ],
   "source": [
    "MercedezBenz"
   ]
  },
  {
   "cell_type": "code",
   "execution_count": 3,
   "metadata": {},
   "outputs": [
    {
     "data": {
      "text/plain": [
       "type"
      ]
     },
     "execution_count": 3,
     "metadata": {},
     "output_type": "execute_result"
    }
   ],
   "source": [
    "type(MercedezBenz)"
   ]
  },
  {
   "cell_type": "code",
   "execution_count": 4,
   "metadata": {},
   "outputs": [
    {
     "data": {
      "text/plain": [
       "(object,)"
      ]
     },
     "execution_count": 4,
     "metadata": {},
     "output_type": "execute_result"
    }
   ],
   "source": [
    "MercedezBenz.__bases__"
   ]
  },
  {
   "cell_type": "code",
   "execution_count": 5,
   "metadata": {},
   "outputs": [
    {
     "data": {
      "text/plain": [
       "'MercedezBenz'"
      ]
     },
     "execution_count": 5,
     "metadata": {},
     "output_type": "execute_result"
    }
   ],
   "source": [
    "MercedezBenz.__name__"
   ]
  },
  {
   "cell_type": "code",
   "execution_count": 6,
   "metadata": {},
   "outputs": [
    {
     "data": {
      "text/plain": [
       "<__main__.MercedezBenz at 0x1e9a4c29590>"
      ]
     },
     "execution_count": 6,
     "metadata": {},
     "output_type": "execute_result"
    }
   ],
   "source": [
    "MercedezBenz()"
   ]
  },
  {
   "cell_type": "code",
   "execution_count": 7,
   "metadata": {},
   "outputs": [],
   "source": [
    "w140 = MercedezBenz()\n",
    "w223 = MercedezBenz()"
   ]
  },
  {
   "cell_type": "code",
   "execution_count": 8,
   "metadata": {},
   "outputs": [
    {
     "data": {
      "text/plain": [
       "<__main__.MercedezBenz at 0x1e9a4c42a50>"
      ]
     },
     "execution_count": 8,
     "metadata": {},
     "output_type": "execute_result"
    }
   ],
   "source": [
    "w223"
   ]
  },
  {
   "cell_type": "code",
   "execution_count": 9,
   "metadata": {},
   "outputs": [
    {
     "data": {
      "text/plain": [
       "<__main__.MercedezBenz at 0x1e9a4c42b50>"
      ]
     },
     "execution_count": 9,
     "metadata": {},
     "output_type": "execute_result"
    }
   ],
   "source": [
    "w140"
   ]
  },
  {
   "cell_type": "code",
   "execution_count": 10,
   "metadata": {},
   "outputs": [
    {
     "data": {
      "text/plain": [
       "False"
      ]
     },
     "execution_count": 10,
     "metadata": {},
     "output_type": "execute_result"
    }
   ],
   "source": [
    "w140 == w223"
   ]
  },
  {
   "attachments": {},
   "cell_type": "markdown",
   "metadata": {},
   "source": [
    "# Class State"
   ]
  },
  {
   "cell_type": "code",
   "execution_count": 11,
   "metadata": {},
   "outputs": [],
   "source": [
    "class MercedezBenz:\n",
    "    doors = 2\n",
    "    wheels = 4"
   ]
  },
  {
   "cell_type": "code",
   "execution_count": 12,
   "metadata": {},
   "outputs": [
    {
     "data": {
      "text/plain": [
       "\"\\n---------------------------------------------------------------------------\\nNameError                                 Traceback (most recent call last)\\nCell In[22], line 1\\n----> 1 __dict__\\n\\nNameError: name '__dict__' is not defined\\n\""
      ]
     },
     "execution_count": 12,
     "metadata": {},
     "output_type": "execute_result"
    }
   ],
   "source": [
    "# __dict__\n",
    "'''\n",
    "---------------------------------------------------------------------------\n",
    "NameError                                 Traceback (most recent call last)\n",
    "Cell In[22], line 1\n",
    "----> 1 __dict__\n",
    "\n",
    "NameError: name '__dict__' is not defined\n",
    "'''"
   ]
  },
  {
   "cell_type": "code",
   "execution_count": 13,
   "metadata": {},
   "outputs": [
    {
     "data": {
      "text/plain": [
       "mappingproxy({'__module__': '__main__',\n",
       "              'doors': 2,\n",
       "              'wheels': 4,\n",
       "              '__dict__': <attribute '__dict__' of 'MercedezBenz' objects>,\n",
       "              '__weakref__': <attribute '__weakref__' of 'MercedezBenz' objects>,\n",
       "              '__doc__': None})"
      ]
     },
     "execution_count": 13,
     "metadata": {},
     "output_type": "execute_result"
    }
   ],
   "source": [
    "MercedezBenz.__dict__"
   ]
  },
  {
   "cell_type": "code",
   "execution_count": 14,
   "metadata": {},
   "outputs": [],
   "source": [
    "MercedezBenz.doors = 4"
   ]
  },
  {
   "cell_type": "code",
   "execution_count": 15,
   "metadata": {},
   "outputs": [],
   "source": [
    "MercedezBenz.model = 'S'"
   ]
  },
  {
   "cell_type": "code",
   "execution_count": 16,
   "metadata": {},
   "outputs": [
    {
     "data": {
      "text/plain": [
       "mappingproxy({'__module__': '__main__',\n",
       "              'doors': 4,\n",
       "              'wheels': 4,\n",
       "              '__dict__': <attribute '__dict__' of 'MercedezBenz' objects>,\n",
       "              '__weakref__': <attribute '__weakref__' of 'MercedezBenz' objects>,\n",
       "              '__doc__': None,\n",
       "              'model': 'S'})"
      ]
     },
     "execution_count": 16,
     "metadata": {},
     "output_type": "execute_result"
    }
   ],
   "source": [
    "MercedezBenz.__dict__"
   ]
  },
  {
   "cell_type": "code",
   "execution_count": 17,
   "metadata": {},
   "outputs": [],
   "source": [
    "w223 = MercedezBenz()\n",
    "w222 = MercedezBenz()"
   ]
  },
  {
   "cell_type": "code",
   "execution_count": 18,
   "metadata": {},
   "outputs": [
    {
     "data": {
      "text/plain": [
       "4"
      ]
     },
     "execution_count": 18,
     "metadata": {},
     "output_type": "execute_result"
    }
   ],
   "source": [
    "w222.doors"
   ]
  },
  {
   "cell_type": "code",
   "execution_count": 19,
   "metadata": {},
   "outputs": [
    {
     "data": {
      "text/plain": [
       "4"
      ]
     },
     "execution_count": 19,
     "metadata": {},
     "output_type": "execute_result"
    }
   ],
   "source": [
    "w222.doors"
   ]
  },
  {
   "cell_type": "code",
   "execution_count": 20,
   "metadata": {},
   "outputs": [
    {
     "data": {
      "text/plain": [
       "'S'"
      ]
     },
     "execution_count": 20,
     "metadata": {},
     "output_type": "execute_result"
    }
   ],
   "source": [
    "w222.model"
   ]
  },
  {
   "cell_type": "code",
   "execution_count": 21,
   "metadata": {},
   "outputs": [
    {
     "data": {
      "text/plain": [
       "'S'"
      ]
     },
     "execution_count": 21,
     "metadata": {},
     "output_type": "execute_result"
    }
   ],
   "source": [
    "w223.model"
   ]
  },
  {
   "attachments": {},
   "cell_type": "markdown",
   "metadata": {},
   "source": [
    "# Methods and Behaviour"
   ]
  },
  {
   "cell_type": "code",
   "execution_count": 22,
   "metadata": {},
   "outputs": [],
   "source": [
    "class MercedezBenz:\n",
    "    doors = 4\n",
    "    wheels = 4\n",
    "\n",
    "MercedezBenz.doors = 5\n",
    "MercedezBenz.model = 'S'\n"
   ]
  },
  {
   "cell_type": "code",
   "execution_count": 23,
   "metadata": {},
   "outputs": [],
   "source": [
    "class MercedezBenz:\n",
    "    doors = 4\n",
    "    wheels = 4\n",
    "    model = 'S'"
   ]
  },
  {
   "cell_type": "code",
   "execution_count": 24,
   "metadata": {},
   "outputs": [],
   "source": [
    "def drive():\n",
    "    return 'A car is being driven'"
   ]
  },
  {
   "cell_type": "code",
   "execution_count": 25,
   "metadata": {},
   "outputs": [
    {
     "data": {
      "text/plain": [
       "'A car is being driven'"
      ]
     },
     "execution_count": 25,
     "metadata": {},
     "output_type": "execute_result"
    }
   ],
   "source": [
    "drive()"
   ]
  },
  {
   "cell_type": "code",
   "execution_count": 26,
   "metadata": {},
   "outputs": [],
   "source": [
    "class MercedezBenz:\n",
    "    doors = 4\n",
    "    wheels = 4\n",
    "    model = \"S\"\n",
    "\n",
    "    def drive(self):\n",
    "        return self"
   ]
  },
  {
   "cell_type": "code",
   "execution_count": 27,
   "metadata": {},
   "outputs": [],
   "source": [
    "w220 =  MercedezBenz()"
   ]
  },
  {
   "cell_type": "code",
   "execution_count": 28,
   "metadata": {},
   "outputs": [
    {
     "data": {
      "text/plain": [
       "<__main__.MercedezBenz at 0x1e9a4968890>"
      ]
     },
     "execution_count": 28,
     "metadata": {},
     "output_type": "execute_result"
    }
   ],
   "source": [
    "w220"
   ]
  },
  {
   "cell_type": "code",
   "execution_count": 29,
   "metadata": {},
   "outputs": [
    {
     "data": {
      "text/plain": [
       "<__main__.MercedezBenz at 0x1e9a4968890>"
      ]
     },
     "execution_count": 29,
     "metadata": {},
     "output_type": "execute_result"
    }
   ],
   "source": [
    "w220.drive()"
   ]
  },
  {
   "cell_type": "code",
   "execution_count": 30,
   "metadata": {},
   "outputs": [
    {
     "data": {
      "text/plain": [
       "True"
      ]
     },
     "execution_count": 30,
     "metadata": {},
     "output_type": "execute_result"
    }
   ],
   "source": [
    "w220 == w220.drive()"
   ]
  },
  {
   "cell_type": "code",
   "execution_count": 31,
   "metadata": {},
   "outputs": [
    {
     "data": {
      "text/plain": [
       "True"
      ]
     },
     "execution_count": 31,
     "metadata": {},
     "output_type": "execute_result"
    }
   ],
   "source": [
    "w220 is w220.drive()"
   ]
  },
  {
   "cell_type": "code",
   "execution_count": 32,
   "metadata": {},
   "outputs": [
    {
     "data": {
      "text/plain": [
       "False"
      ]
     },
     "execution_count": 32,
     "metadata": {},
     "output_type": "execute_result"
    }
   ],
   "source": [
    "w220 == MercedezBenz"
   ]
  },
  {
   "cell_type": "code",
   "execution_count": 33,
   "metadata": {},
   "outputs": [],
   "source": [
    "class MercedezBenz:\n",
    "    doors = 4\n",
    "    wheels = 4\n",
    "    model = \"S\"\n",
    "\n",
    "    def drive(self):\n",
    "        return f'A Mercedex is driving. And is is {self}\\n'"
   ]
  },
  {
   "cell_type": "code",
   "execution_count": 34,
   "metadata": {},
   "outputs": [],
   "source": [
    "w220 = MercedezBenz()\n",
    "w223 = MercedezBenz()"
   ]
  },
  {
   "cell_type": "code",
   "execution_count": 35,
   "metadata": {},
   "outputs": [
    {
     "data": {
      "text/plain": [
       "'A Mercedex is driving. And is is <__main__.MercedezBenz object at 0x000001E9A4C5B150>\\n'"
      ]
     },
     "execution_count": 35,
     "metadata": {},
     "output_type": "execute_result"
    }
   ],
   "source": [
    "w220.drive()"
   ]
  },
  {
   "cell_type": "code",
   "execution_count": 36,
   "metadata": {},
   "outputs": [
    {
     "data": {
      "text/plain": [
       "'A Mercedex is driving. And is is <__main__.MercedezBenz object at 0x000001E9A4C4C690>\\n'"
      ]
     },
     "execution_count": 36,
     "metadata": {},
     "output_type": "execute_result"
    }
   ],
   "source": [
    "w223.drive()"
   ]
  },
  {
   "cell_type": "code",
   "execution_count": 37,
   "metadata": {},
   "outputs": [
    {
     "data": {
      "text/plain": [
       "False"
      ]
     },
     "execution_count": 37,
     "metadata": {},
     "output_type": "execute_result"
    }
   ],
   "source": [
    "w220 is w223"
   ]
  },
  {
   "attachments": {},
   "cell_type": "markdown",
   "metadata": {},
   "source": [
    "# Tracing drive"
   ]
  },
  {
   "cell_type": "code",
   "execution_count": 38,
   "metadata": {},
   "outputs": [
    {
     "data": {
      "text/plain": [
       "<function __main__.MercedezBenz.drive(self)>"
      ]
     },
     "execution_count": 38,
     "metadata": {},
     "output_type": "execute_result"
    }
   ],
   "source": [
    "MercedezBenz.drive"
   ]
  },
  {
   "cell_type": "code",
   "execution_count": 39,
   "metadata": {},
   "outputs": [
    {
     "data": {
      "text/plain": [
       "function"
      ]
     },
     "execution_count": 39,
     "metadata": {},
     "output_type": "execute_result"
    }
   ],
   "source": [
    "type(MercedezBenz.drive)"
   ]
  },
  {
   "cell_type": "code",
   "execution_count": 40,
   "metadata": {},
   "outputs": [
    {
     "data": {
      "text/plain": [
       "<bound method MercedezBenz.drive of <__main__.MercedezBenz object at 0x000001E9A4C5B150>>"
      ]
     },
     "execution_count": 40,
     "metadata": {},
     "output_type": "execute_result"
    }
   ],
   "source": [
    "w220.drive"
   ]
  },
  {
   "cell_type": "code",
   "execution_count": 41,
   "metadata": {},
   "outputs": [
    {
     "data": {
      "text/plain": [
       "<bound method MercedezBenz.drive of <__main__.MercedezBenz object at 0x000001E9A4C4C690>>"
      ]
     },
     "execution_count": 41,
     "metadata": {},
     "output_type": "execute_result"
    }
   ],
   "source": [
    "w223.drive"
   ]
  },
  {
   "cell_type": "code",
   "execution_count": 42,
   "metadata": {},
   "outputs": [
    {
     "data": {
      "text/plain": [
       "method"
      ]
     },
     "execution_count": 42,
     "metadata": {},
     "output_type": "execute_result"
    }
   ],
   "source": [
    "type(w223.drive)"
   ]
  },
  {
   "attachments": {},
   "cell_type": "markdown",
   "metadata": {},
   "source": [
    "# Instance attributes"
   ]
  },
  {
   "cell_type": "code",
   "execution_count": 43,
   "metadata": {},
   "outputs": [],
   "source": [
    "class MercedezBenz:\n",
    "    doors = 4\n",
    "    wheels = 4\n",
    "    model = \"S\"\n",
    "\n",
    "    def drive(self):\n",
    "        return f'A Mercedex is driving. And is is {self}\\n'"
   ]
  },
  {
   "cell_type": "code",
   "execution_count": 44,
   "metadata": {},
   "outputs": [
    {
     "data": {
      "text/plain": [
       "True"
      ]
     },
     "execution_count": 44,
     "metadata": {},
     "output_type": "execute_result"
    }
   ],
   "source": [
    "w223 = MercedezBenz()\n",
    "w222 = MercedezBenz()\n",
    "\n",
    "w223.doors == w222.doors"
   ]
  },
  {
   "cell_type": "code",
   "execution_count": 45,
   "metadata": {},
   "outputs": [
    {
     "data": {
      "text/plain": [
       "True"
      ]
     },
     "execution_count": 45,
     "metadata": {},
     "output_type": "execute_result"
    }
   ],
   "source": [
    "w223.model == w222.model"
   ]
  },
  {
   "cell_type": "code",
   "execution_count": 46,
   "metadata": {},
   "outputs": [],
   "source": [
    "w223.color = 'black'\n",
    "w222.color = 'red'"
   ]
  },
  {
   "cell_type": "code",
   "execution_count": 47,
   "metadata": {},
   "outputs": [
    {
     "data": {
      "text/plain": [
       "('black', 'red')"
      ]
     },
     "execution_count": 47,
     "metadata": {},
     "output_type": "execute_result"
    }
   ],
   "source": [
    "w223.color, w222.color "
   ]
  },
  {
   "cell_type": "code",
   "execution_count": 48,
   "metadata": {},
   "outputs": [],
   "source": [
    "class MercedezBenz:\n",
    "    doors = 4\n",
    "    wheels = 4\n",
    "    model = \"S\"\n",
    "\n",
    "    def __init__(self, color) -> None: # after instance creation, but before it is returned.\n",
    "        self.color = color\n",
    "\n",
    "    def drive(self):\n",
    "        return f'A Mercedex is driving. And is is {self}\\n'\n",
    "    "
   ]
  },
  {
   "cell_type": "code",
   "execution_count": 49,
   "metadata": {},
   "outputs": [],
   "source": [
    "# MercedezBenz()\n"
   ]
  },
  {
   "attachments": {},
   "cell_type": "markdown",
   "metadata": {},
   "source": [
    "```python\n",
    "---------------------------------------------------------------------------\n",
    "NameError                                 Traceback (most recent call last)\n",
    "Cell In[2], line 1\n",
    "----> 1 MercedezBenz()\n",
    "\n",
    "NameError: name 'MercedezBenz' is not defined\n",
    "```"
   ]
  },
  {
   "cell_type": "code",
   "execution_count": 50,
   "metadata": {},
   "outputs": [],
   "source": [
    "w223 = MercedezBenz('black')\n",
    "w222 = MercedezBenz('Red')"
   ]
  },
  {
   "cell_type": "code",
   "execution_count": 51,
   "metadata": {},
   "outputs": [
    {
     "data": {
      "text/plain": [
       "('black', 'Red')"
      ]
     },
     "execution_count": 51,
     "metadata": {},
     "output_type": "execute_result"
    }
   ],
   "source": [
    "w223.color, w222.color"
   ]
  },
  {
   "cell_type": "code",
   "execution_count": 52,
   "metadata": {},
   "outputs": [],
   "source": [
    "class MercedezBenz:\n",
    "    doors = 4\n",
    "    wheels = 4\n",
    "    model = \"S\"\n",
    "\n",
    "    def __init__(self, color='midnight blue') -> None: # after instance creation, but before it is returned.\n",
    "        self.color = color\n",
    "\n",
    "    def drive(self):\n",
    "        return f'A Mercedex is driving. And is is {self}\\n'\n",
    "    "
   ]
  },
  {
   "cell_type": "code",
   "execution_count": 53,
   "metadata": {},
   "outputs": [],
   "source": [
    "w223 = MercedezBenz()"
   ]
  },
  {
   "cell_type": "code",
   "execution_count": 54,
   "metadata": {},
   "outputs": [
    {
     "data": {
      "text/plain": [
       "'midnight blue'"
      ]
     },
     "execution_count": 54,
     "metadata": {},
     "output_type": "execute_result"
    }
   ],
   "source": [
    "w223.color"
   ]
  },
  {
   "cell_type": "code",
   "execution_count": 55,
   "metadata": {},
   "outputs": [],
   "source": [
    "w222 = MercedezBenz('green')"
   ]
  },
  {
   "cell_type": "code",
   "execution_count": 56,
   "metadata": {},
   "outputs": [
    {
     "data": {
      "text/plain": [
       "'green'"
      ]
     },
     "execution_count": 56,
     "metadata": {},
     "output_type": "execute_result"
    }
   ],
   "source": [
    "w222.color"
   ]
  },
  {
   "cell_type": "code",
   "execution_count": 57,
   "metadata": {},
   "outputs": [],
   "source": [
    "w140 = MercedezBenz('silver')"
   ]
  },
  {
   "attachments": {},
   "cell_type": "markdown",
   "metadata": {},
   "source": [
    "# object.attribiute syntax"
   ]
  },
  {
   "cell_type": "code",
   "execution_count": 58,
   "metadata": {},
   "outputs": [
    {
     "data": {
      "text/plain": [
       "4"
      ]
     },
     "execution_count": 58,
     "metadata": {},
     "output_type": "execute_result"
    }
   ],
   "source": [
    "MercedezBenz.doors"
   ]
  },
  {
   "cell_type": "code",
   "execution_count": 59,
   "metadata": {},
   "outputs": [
    {
     "data": {
      "text/plain": [
       "'green'"
      ]
     },
     "execution_count": 59,
     "metadata": {},
     "output_type": "execute_result"
    }
   ],
   "source": [
    "w222.color"
   ]
  },
  {
   "cell_type": "code",
   "execution_count": 60,
   "metadata": {},
   "outputs": [
    {
     "data": {
      "text/plain": [
       "4"
      ]
     },
     "execution_count": 60,
     "metadata": {},
     "output_type": "execute_result"
    }
   ],
   "source": [
    "w223.wheels"
   ]
  },
  {
   "cell_type": "code",
   "execution_count": 61,
   "metadata": {},
   "outputs": [
    {
     "data": {
      "text/plain": [
       "'midnight blue'"
      ]
     },
     "execution_count": 61,
     "metadata": {},
     "output_type": "execute_result"
    }
   ],
   "source": [
    "getattr(w223, 'color')"
   ]
  },
  {
   "cell_type": "code",
   "execution_count": 62,
   "metadata": {},
   "outputs": [
    {
     "data": {
      "text/plain": [
       "'midnight blue'"
      ]
     },
     "execution_count": 62,
     "metadata": {},
     "output_type": "execute_result"
    }
   ],
   "source": [
    "w223.color"
   ]
  },
  {
   "cell_type": "code",
   "execution_count": 63,
   "metadata": {},
   "outputs": [],
   "source": [
    "w223.color = 'white'"
   ]
  },
  {
   "cell_type": "code",
   "execution_count": 64,
   "metadata": {},
   "outputs": [],
   "source": [
    "setattr(w223, 'color', 'reddish')"
   ]
  },
  {
   "cell_type": "code",
   "execution_count": 65,
   "metadata": {},
   "outputs": [
    {
     "data": {
      "text/plain": [
       "'reddish'"
      ]
     },
     "execution_count": 65,
     "metadata": {},
     "output_type": "execute_result"
    }
   ],
   "source": [
    "w223.color"
   ]
  },
  {
   "cell_type": "code",
   "execution_count": 66,
   "metadata": {},
   "outputs": [],
   "source": [
    "objs = [w222, w223]\n",
    "\n",
    "attribs = ['color', 'doors']\n",
    "\n",
    "values = ['navyBlue', 3]"
   ]
  },
  {
   "cell_type": "code",
   "execution_count": 67,
   "metadata": {},
   "outputs": [
    {
     "name": "stdout",
     "output_type": "stream",
     "text": [
      "green\n",
      "4\n",
      "reddish\n",
      "4\n"
     ]
    }
   ],
   "source": [
    "for obj in objs:\n",
    "    for attr in attribs:\n",
    "        print(f'{getattr(obj, attr)}')"
   ]
  },
  {
   "cell_type": "code",
   "execution_count": 68,
   "metadata": {},
   "outputs": [
    {
     "data": {
      "text/plain": [
       "[<__main__.MercedezBenz at 0x1e9a4c3f190>,\n",
       " <__main__.MercedezBenz at 0x1e9a4c18790>]"
      ]
     },
     "execution_count": 68,
     "metadata": {},
     "output_type": "execute_result"
    }
   ],
   "source": [
    "objs"
   ]
  },
  {
   "cell_type": "code",
   "execution_count": 69,
   "metadata": {},
   "outputs": [
    {
     "data": {
      "text/plain": [
       "range(0, 2)"
      ]
     },
     "execution_count": 69,
     "metadata": {},
     "output_type": "execute_result"
    }
   ],
   "source": [
    "range(len(attribs))"
   ]
  },
  {
   "cell_type": "code",
   "execution_count": 70,
   "metadata": {},
   "outputs": [],
   "source": [
    "for obj in objs:\n",
    "    for i in range(len(attribs)):\n",
    "        setattr(obj, attr[i], values[i])"
   ]
  },
  {
   "cell_type": "code",
   "execution_count": 71,
   "metadata": {},
   "outputs": [
    {
     "name": "stdout",
     "output_type": "stream",
     "text": [
      "green, green\n",
      "4, 4\n",
      "reddish, reddish\n",
      "4, 4\n"
     ]
    }
   ],
   "source": [
    "for obj in objs:\n",
    "    for i in range(len(attribs)):\n",
    "        print(f'{getattr(obj, attribs[i])}, {getattr(obj, attribs[i])}')"
   ]
  },
  {
   "cell_type": "code",
   "execution_count": 72,
   "metadata": {},
   "outputs": [],
   "source": [
    "for obj in objs:\n",
    "    for attrib, val in zip(attribs, values):\n",
    "        setattr(obj, attrib, val)"
   ]
  },
  {
   "cell_type": "code",
   "execution_count": 73,
   "metadata": {},
   "outputs": [
    {
     "data": {
      "text/plain": [
       "('navyBlue', 'navyBlue')"
      ]
     },
     "execution_count": 73,
     "metadata": {},
     "output_type": "execute_result"
    }
   ],
   "source": [
    "w222.color, w223.color"
   ]
  },
  {
   "cell_type": "code",
   "execution_count": 74,
   "metadata": {},
   "outputs": [
    {
     "data": {
      "text/plain": [
       "(3, 3)"
      ]
     },
     "execution_count": 74,
     "metadata": {},
     "output_type": "execute_result"
    }
   ],
   "source": [
    "w222.doors, w223.doors"
   ]
  },
  {
   "cell_type": "code",
   "execution_count": 75,
   "metadata": {},
   "outputs": [
    {
     "data": {
      "text/plain": [
       "4"
      ]
     },
     "execution_count": 75,
     "metadata": {},
     "output_type": "execute_result"
    }
   ],
   "source": [
    "MercedezBenz.doors"
   ]
  },
  {
   "cell_type": "code",
   "execution_count": 76,
   "metadata": {},
   "outputs": [
    {
     "data": {
      "text/plain": [
       "'navyBlue'"
      ]
     },
     "execution_count": 76,
     "metadata": {},
     "output_type": "execute_result"
    }
   ],
   "source": [
    "w222.color"
   ]
  },
  {
   "cell_type": "code",
   "execution_count": 77,
   "metadata": {},
   "outputs": [
    {
     "data": {
      "text/plain": [
       "4"
      ]
     },
     "execution_count": 77,
     "metadata": {},
     "output_type": "execute_result"
    }
   ],
   "source": [
    "w223.wheels"
   ]
  },
  {
   "cell_type": "code",
   "execution_count": 78,
   "metadata": {},
   "outputs": [
    {
     "data": {
      "text/plain": [
       "4"
      ]
     },
     "execution_count": 78,
     "metadata": {},
     "output_type": "execute_result"
    }
   ],
   "source": [
    "getattr(w223, 'wheels')"
   ]
  },
  {
   "cell_type": "code",
   "execution_count": 79,
   "metadata": {},
   "outputs": [
    {
     "data": {
      "text/plain": [
       "'navyBlue'"
      ]
     },
     "execution_count": 79,
     "metadata": {},
     "output_type": "execute_result"
    }
   ],
   "source": [
    "getattr(w222, 'color')"
   ]
  },
  {
   "cell_type": "code",
   "execution_count": 80,
   "metadata": {},
   "outputs": [],
   "source": [
    "w223.color = 'white'"
   ]
  },
  {
   "cell_type": "code",
   "execution_count": 81,
   "metadata": {},
   "outputs": [
    {
     "data": {
      "text/plain": [
       "'white'"
      ]
     },
     "execution_count": 81,
     "metadata": {},
     "output_type": "execute_result"
    }
   ],
   "source": [
    "w223.color"
   ]
  },
  {
   "cell_type": "code",
   "execution_count": 82,
   "metadata": {},
   "outputs": [],
   "source": [
    "\n",
    "setattr(w223, 'color', 'navy blue')"
   ]
  },
  {
   "cell_type": "code",
   "execution_count": 83,
   "metadata": {},
   "outputs": [
    {
     "data": {
      "text/plain": [
       "'navy blue'"
      ]
     },
     "execution_count": 83,
     "metadata": {},
     "output_type": "execute_result"
    }
   ],
   "source": [
    "w223.color"
   ]
  },
  {
   "cell_type": "code",
   "execution_count": 84,
   "metadata": {},
   "outputs": [],
   "source": [
    "objs = [w222, w223]\n",
    "\n",
    "attribs = ['color', 'doors']\n",
    "\n",
    "values = ['navy blue', 3]"
   ]
  },
  {
   "cell_type": "code",
   "execution_count": 85,
   "metadata": {},
   "outputs": [],
   "source": [
    "for obj in objs:\n",
    "    for attrib, val in zip(attribs, values):\n",
    "        setattr(obj, attrib, val)"
   ]
  },
  {
   "cell_type": "code",
   "execution_count": 86,
   "metadata": {},
   "outputs": [
    {
     "data": {
      "text/plain": [
       "('navy blue', 'navy blue')"
      ]
     },
     "execution_count": 86,
     "metadata": {},
     "output_type": "execute_result"
    }
   ],
   "source": [
    "w222.color, w223.color"
   ]
  },
  {
   "cell_type": "code",
   "execution_count": 87,
   "metadata": {},
   "outputs": [
    {
     "data": {
      "text/plain": [
       "(3, 3)"
      ]
     },
     "execution_count": 87,
     "metadata": {},
     "output_type": "execute_result"
    }
   ],
   "source": [
    "w222.doors, w223.doors"
   ]
  },
  {
   "attachments": {},
   "cell_type": "markdown",
   "metadata": {},
   "source": [
    "# quick detour"
   ]
  },
  {
   "cell_type": "code",
   "execution_count": 88,
   "metadata": {},
   "outputs": [
    {
     "data": {
      "text/plain": [
       "[('color', 'navy blue'), ('doors', 3)]"
      ]
     },
     "execution_count": 88,
     "metadata": {},
     "output_type": "execute_result"
    }
   ],
   "source": [
    "list(zip(attribs, values))"
   ]
  },
  {
   "cell_type": "code",
   "execution_count": 89,
   "metadata": {},
   "outputs": [
    {
     "name": "stdout",
     "output_type": "stream",
     "text": [
      "navy blue\n",
      "3\n",
      "navy blue\n",
      "3\n"
     ]
    }
   ],
   "source": [
    "for obj in objs:\n",
    "    for attr in attribs:\n",
    "        print(f'{getattr(obj, attr)}')"
   ]
  },
  {
   "cell_type": "code",
   "execution_count": 90,
   "metadata": {},
   "outputs": [
    {
     "data": {
      "text/plain": [
       "\"\\n---------------------------------------------------------------------------\\nAttributeError                            Traceback (most recent call last)\\nCell In[94], line 1\\n----> 1 w223.wingspan\\n\\nAttributeError: 'MercedezBenz' object has no attribute 'wingspan'\\n\\n\""
      ]
     },
     "execution_count": 90,
     "metadata": {},
     "output_type": "execute_result"
    }
   ],
   "source": [
    "# w223.wingspan\n",
    "\n",
    "'''\n",
    "---------------------------------------------------------------------------\n",
    "AttributeError                            Traceback (most recent call last)\n",
    "Cell In[94], line 1\n",
    "----> 1 w223.wingspan\n",
    "\n",
    "AttributeError: 'MercedezBenz' object has no attribute 'wingspan'\n",
    "\n",
    "'''"
   ]
  },
  {
   "cell_type": "code",
   "execution_count": 91,
   "metadata": {},
   "outputs": [
    {
     "name": "stdout",
     "output_type": "stream",
     "text": [
      "'MercedezBenz' object has no attribute 'wingspan'\n"
     ]
    }
   ],
   "source": [
    "try:\n",
    "    print(w223.wingspan)\n",
    "except AttributeError as e:\n",
    "    print(e)"
   ]
  },
  {
   "cell_type": "code",
   "execution_count": 92,
   "metadata": {},
   "outputs": [
    {
     "data": {
      "text/plain": [
       "'No attribute Fount'"
      ]
     },
     "execution_count": 92,
     "metadata": {},
     "output_type": "execute_result"
    }
   ],
   "source": [
    "getattr(w223, 'wingspan', 'No attribute Fount')"
   ]
  },
  {
   "attachments": {},
   "cell_type": "markdown",
   "metadata": {},
   "source": [
    "# Revisting self"
   ]
  },
  {
   "cell_type": "code",
   "execution_count": 93,
   "metadata": {},
   "outputs": [],
   "source": [
    "class MercedezBenz:\n",
    "    doors = 4\n",
    "    wheels = 4\n",
    "    model = \"S\"\n",
    "\n",
    "    def __init__(self, color='midnight blue') -> None: # after instance creation, but before it is returned.\n",
    "        self.color = color\n",
    "\n",
    "    def drive(self):\n",
    "        return f'A Mercedex is driving. And is is {self}\\n'\n",
    "    \n",
    "    def auto_drive():\n",
    "        return 'Auto-driving for now...'\n",
    "    "
   ]
  },
  {
   "cell_type": "code",
   "execution_count": 94,
   "metadata": {},
   "outputs": [],
   "source": [
    "m123 = MercedezBenz('Pink')"
   ]
  },
  {
   "cell_type": "code",
   "execution_count": 95,
   "metadata": {},
   "outputs": [
    {
     "data": {
      "text/plain": [
       "'\\n---------------------------------------------------------------------------\\nTypeError                                 Traceback (most recent call last)\\nCell In[98], line 1\\n----> 1 m123.auto_drive()\\n\\nTypeError: MercedezBenz.auto_drive() takes 0 positional arguments but 1 was given\\n'"
      ]
     },
     "execution_count": 95,
     "metadata": {},
     "output_type": "execute_result"
    }
   ],
   "source": [
    "# m123.auto_drive()\n",
    "\n",
    "'''\n",
    "---------------------------------------------------------------------------\n",
    "TypeError                                 Traceback (most recent call last)\n",
    "Cell In[98], line 1\n",
    "----> 1 m123.auto_drive()\n",
    "\n",
    "TypeError: MercedezBenz.auto_drive() takes 0 positional arguments but 1 was given\n",
    "'''"
   ]
  },
  {
   "cell_type": "code",
   "execution_count": 96,
   "metadata": {},
   "outputs": [],
   "source": [
    "class MercedezBenz:\n",
    "    doors = 4\n",
    "    wheels = 4\n",
    "    model = \"S\"\n",
    "\n",
    "    def __init__(self, color='midnight blue') -> None: # after instance creation, but before it is returned.\n",
    "        self.color = color\n",
    "\n",
    "    def drive(self):\n",
    "        return f'A Mercedex is driving. And is is {self}\\n'\n",
    "    \n",
    "    def auto_drive(self):\n",
    "        return 'Auto-driving for now...'\n",
    "    "
   ]
  },
  {
   "cell_type": "code",
   "execution_count": 97,
   "metadata": {},
   "outputs": [],
   "source": [
    "m124 = MercedezBenz('White')"
   ]
  },
  {
   "cell_type": "code",
   "execution_count": 98,
   "metadata": {},
   "outputs": [
    {
     "data": {
      "text/plain": [
       "'Auto-driving for now...'"
      ]
     },
     "execution_count": 98,
     "metadata": {},
     "output_type": "execute_result"
    }
   ],
   "source": [
    "m124.auto_drive()"
   ]
  },
  {
   "attachments": {},
   "cell_type": "markdown",
   "metadata": {},
   "source": [
    "## C#, hjava this (reserved)"
   ]
  },
  {
   "attachments": {},
   "cell_type": "markdown",
   "metadata": {},
   "source": [
    "# 11. Skill Challenge #1"
   ]
  },
  {
   "attachments": {},
   "cell_type": "markdown",
   "metadata": {},
   "source": [
    "Define a Student class with 2 instance attributes (name, age) and 1 class attribute (education_platform), defaulting to udemy.   \n",
    "Make it so that instances of student could be created by simply specifying the name.   \n",
    "Hint: set the default age to a number   \n",
    "\n",
    "Define a greet() method which alternates between various names greetingsl. Whent invoked, the method should randomly select a greating and interpolate in the name of the sutdent:\n",
    "* Hi, I'm ...\n",
    "* Hey there, my name is ...\n",
    "* Hi, Oh, my name is ...\n",
    "\n",
    "Starting with a list of several student names, create student instances from each, and have each student introduce themselves."
   ]
  },
  {
   "cell_type": "code",
   "execution_count": 99,
   "metadata": {},
   "outputs": [],
   "source": [
    "from random import randint\n",
    "\n",
    "\n",
    "class Student:\n",
    "    education_platform = 'udemy'\n",
    "    name = ''\n",
    "    age = 0\n",
    "\n",
    "    def __init__(self, name, age=99) -> None:\n",
    "        self.name = name\n",
    "        self.age = age\n",
    "\n",
    "    def greet(self):\n",
    "         i = randint(0,2)\n",
    "         greetings = [\"Hi, I`m \", 'Hey there, my name is ', 'Hi, Oh, my name is ']\n",
    "         return f'{greetings[i]}{self.name}'"
   ]
  },
  {
   "cell_type": "code",
   "execution_count": 100,
   "metadata": {},
   "outputs": [],
   "source": [
    "Asha = Student('Asha')\n",
    "Michael = Student('Michael')\n",
    "Arjun = Student('Arjun')\n",
    "Roland = Student('Roland')\n",
    "\n",
    "students = [Asha, Michael, Arjun, Roland]"
   ]
  },
  {
   "cell_type": "code",
   "execution_count": 101,
   "metadata": {},
   "outputs": [
    {
     "name": "stdout",
     "output_type": "stream",
     "text": [
      "Hi, Oh, my name is Asha, My age is 99\n",
      "Hey there, my name is Michael, My age is 99\n",
      "Hey there, my name is Arjun, My age is 99\n",
      "Hi, Oh, my name is Roland, My age is 99\n"
     ]
    }
   ],
   "source": [
    "names = ['Asha', 'Michael', 'Arjun', 'Roland', 'Alice', 'Brian', 'Clayton', 'Deirdre', 'Elon', 'Faye']\n",
    "\n",
    "for student in students:\n",
    "    print(f'{student.greet()}, My age is {student.age}')"
   ]
  },
  {
   "cell_type": "code",
   "execution_count": 102,
   "metadata": {},
   "outputs": [],
   "source": [
    "import random\n",
    "\n",
    "\n",
    "class Student:\n",
    "    education_platform = 'udemy'\n",
    "    name = ''\n",
    "    age = 0\n",
    "\n",
    "    def __init__(self, name, age = 99):\n",
    "        self.name = name\n",
    "        self.age = age\n",
    "        self.random_age()\n",
    "\n",
    "    def random_age(self):\n",
    "        self.age = random.randint(43,74)\n",
    "\n",
    "    def greet(self):\n",
    "         greetings = [\"Hi, I`m \", 'Hey there, my name is ', 'Hi, Oh, my name is ']\n",
    "         return f'{random.choice(greetings)}{self.name}'"
   ]
  },
  {
   "cell_type": "code",
   "execution_count": 103,
   "metadata": {},
   "outputs": [
    {
     "name": "stdout",
     "output_type": "stream",
     "text": [
      "Hey there, my name is Asha, my age is 74.\n",
      "Hi, I`m Michael, my age is 44.\n",
      "Hi, I`m Arjun, my age is 61.\n",
      "Hey there, my name is Roland, my age is 56.\n"
     ]
    }
   ],
   "source": [
    "import time\n",
    "\n",
    "Asha = Student('Asha')\n",
    "Michael = Student('Michael')\n",
    "Arjun = Student('Arjun')\n",
    "Roland = Student('Roland')\n",
    "\n",
    "students = [Asha, Michael, Arjun, Roland]\n",
    "\n",
    "for student in students:\n",
    "    print(f'{student.greet()}, my age is {student.age}.')"
   ]
  },
  {
   "cell_type": "code",
   "execution_count": 104,
   "metadata": {},
   "outputs": [
    {
     "name": "stdout",
     "output_type": "stream",
     "text": [
      "65\n",
      "\n",
      "71\n",
      "\n",
      "69\n",
      "\n",
      "54\n",
      "\n",
      "52\n",
      "\n",
      "62\n",
      "\n",
      "57\n",
      "\n",
      "46\n",
      "\n",
      "43\n",
      "\n",
      "48\n",
      "\n"
     ]
    }
   ],
   "source": [
    "for i in range(10):\n",
    "    print(f'{randint(43,74)}\\n')"
   ]
  },
  {
   "cell_type": "code",
   "execution_count": 105,
   "metadata": {},
   "outputs": [],
   "source": [
    "def class_create(student_names):\n",
    "    return [Student(name) for name in student_names]"
   ]
  },
  {
   "cell_type": "code",
   "execution_count": 106,
   "metadata": {},
   "outputs": [
    {
     "name": "stdout",
     "output_type": "stream",
     "text": [
      "Hey there, my name is Asha\n",
      "Hi, I`m Michael\n",
      "Hey there, my name is Arjun\n",
      "Hi, I`m Roland\n",
      "Hi, I`m Alice\n",
      "Hey there, my name is Brian\n",
      "Hi, Oh, my name is Clayton\n",
      "Hey there, my name is Deirdre\n",
      "Hi, I`m Elon\n",
      "Hi, Oh, my name is Faye\n"
     ]
    }
   ],
   "source": [
    "for student in class_create(names):\n",
    "    print(student.greet())"
   ]
  },
  {
   "attachments": {},
   "cell_type": "markdown",
   "metadata": {},
   "source": [
    "# Class and Static Methods"
   ]
  },
  {
   "cell_type": "code",
   "execution_count": 107,
   "metadata": {},
   "outputs": [],
   "source": [
    "class MercedezBenz:\n",
    "    doors = 4\n",
    "    wheels = 4\n",
    "    model = \"S\"\n",
    "\n",
    "    def __init__(self, color='midnight blue') -> None: # after instance creation, but before it is returned.\n",
    "        self.color = color\n",
    "\n",
    "    def drive(self):\n",
    "        return f'A Mercedex is driving. And is is {self}\\n'\n",
    "    \n",
    "    @staticmethod\n",
    "    def auto_drive():\n",
    "        return 'Auto-driving for now...'\n",
    "    "
   ]
  },
  {
   "cell_type": "code",
   "execution_count": 108,
   "metadata": {},
   "outputs": [],
   "source": [
    "w124 = MercedezBenz() "
   ]
  },
  {
   "cell_type": "code",
   "execution_count": 109,
   "metadata": {},
   "outputs": [
    {
     "data": {
      "text/plain": [
       "'Auto-driving for now...'"
      ]
     },
     "execution_count": 109,
     "metadata": {},
     "output_type": "execute_result"
    }
   ],
   "source": [
    "w124.auto_drive()"
   ]
  },
  {
   "cell_type": "code",
   "execution_count": 110,
   "metadata": {},
   "outputs": [
    {
     "data": {
      "text/plain": [
       "'Auto-driving for now...'"
      ]
     },
     "execution_count": 110,
     "metadata": {},
     "output_type": "execute_result"
    }
   ],
   "source": [
    "MercedezBenz.auto_drive()"
   ]
  },
  {
   "cell_type": "code",
   "execution_count": 111,
   "metadata": {},
   "outputs": [],
   "source": [
    "class MercedezBenz:\n",
    "    doors = 4\n",
    "    wheels = 4\n",
    "    model = \"S\"\n",
    "\n",
    "    def __init__(self, color='midnight blue') -> None: # after instance creation, but before it is returned.\n",
    "        self.color = color\n",
    "\n",
    "    def drive(self):\n",
    "        return f'A Mercedex is driving. And is is {self}\\n'\n",
    "    \n",
    "    @staticmethod\n",
    "    def auto_drive():\n",
    "        return 'Auto-driving for now...'\n",
    "    \n",
    "    @classmethod\n",
    "    def create_lease(cls):\n",
    "        print(f'A lease for {cls} will be created.')"
   ]
  },
  {
   "cell_type": "code",
   "execution_count": 112,
   "metadata": {},
   "outputs": [
    {
     "name": "stdout",
     "output_type": "stream",
     "text": [
      "A lease for <class '__main__.MercedezBenz'> will be created.\n"
     ]
    }
   ],
   "source": [
    "MercedezBenz.create_lease()"
   ]
  },
  {
   "cell_type": "code",
   "execution_count": 113,
   "metadata": {},
   "outputs": [
    {
     "name": "stdout",
     "output_type": "stream",
     "text": [
      "A lease for <class '__main__.MercedezBenz'> will be created.\n"
     ]
    }
   ],
   "source": [
    "w123 = MercedezBenz()\n",
    "w123.create_lease()"
   ]
  },
  {
   "attachments": {},
   "cell_type": "markdown",
   "metadata": {},
   "source": [
    "# BONUS: An Alternative syntax"
   ]
  },
  {
   "cell_type": "code",
   "execution_count": 114,
   "metadata": {},
   "outputs": [],
   "source": [
    "class MercedezBenz:\n",
    "    doors = 4\n",
    "    wheels = 4\n",
    "    model = \"S\"\n",
    "\n",
    "    def __init__(self, color='midnight blue') -> None: # after instance creation, but before it is returned.\n",
    "        self.color = color\n",
    "\n",
    "    def drive(self):\n",
    "        return f'A Mercedex is driving. And is is {self}\\n'\n",
    "    \n",
    "    #@staticmethod\n",
    "    def auto_drive():\n",
    "        return 'Auto-driving for now...'\n",
    "    \n",
    "    #@classmethod\n",
    "    def create_lease(cls):\n",
    "        print(f'A lease for {cls} will be created.')\n",
    "\n",
    "    create_lease = classmethod(create_lease)\n",
    "    auto_drive = staticmethod(auto_drive)"
   ]
  },
  {
   "cell_type": "code",
   "execution_count": 115,
   "metadata": {},
   "outputs": [
    {
     "data": {
      "text/plain": [
       "'Auto-driving for now...'"
      ]
     },
     "execution_count": 115,
     "metadata": {},
     "output_type": "execute_result"
    }
   ],
   "source": [
    "MercedezBenz.auto_drive()"
   ]
  },
  {
   "cell_type": "code",
   "execution_count": 116,
   "metadata": {},
   "outputs": [
    {
     "name": "stdout",
     "output_type": "stream",
     "text": [
      "A lease for <class '__main__.MercedezBenz'> will be created.\n"
     ]
    }
   ],
   "source": [
    "MercedezBenz.create_lease()"
   ]
  },
  {
   "cell_type": "code",
   "execution_count": 117,
   "metadata": {},
   "outputs": [
    {
     "name": "stdout",
     "output_type": "stream",
     "text": [
      "A lease for <class '__main__.MercedezBenz'> will be created.\n"
     ]
    }
   ],
   "source": [
    "w124 = MercedezBenz()\n",
    "w124.create_lease()"
   ]
  },
  {
   "attachments": {},
   "cell_type": "markdown",
   "metadata": {},
   "source": [
    "# Dunder Dict"
   ]
  },
  {
   "cell_type": "code",
   "execution_count": 118,
   "metadata": {},
   "outputs": [],
   "source": [
    "w124 = MercedezBenz('Silver')"
   ]
  },
  {
   "cell_type": "code",
   "execution_count": 119,
   "metadata": {},
   "outputs": [
    {
     "data": {
      "text/plain": [
       "'Silver'"
      ]
     },
     "execution_count": 119,
     "metadata": {},
     "output_type": "execute_result"
    }
   ],
   "source": [
    "w124.color"
   ]
  },
  {
   "cell_type": "code",
   "execution_count": 120,
   "metadata": {},
   "outputs": [
    {
     "data": {
      "text/plain": [
       "{'color': 'Silver'}"
      ]
     },
     "execution_count": 120,
     "metadata": {},
     "output_type": "execute_result"
    }
   ],
   "source": [
    "w124.__dict__"
   ]
  },
  {
   "cell_type": "code",
   "execution_count": 121,
   "metadata": {},
   "outputs": [],
   "source": [
    "w123 = MercedezBenz('Blue')"
   ]
  },
  {
   "cell_type": "code",
   "execution_count": 122,
   "metadata": {},
   "outputs": [
    {
     "data": {
      "text/plain": [
       "{'color': 'Blue'}"
      ]
     },
     "execution_count": 122,
     "metadata": {},
     "output_type": "execute_result"
    }
   ],
   "source": [
    "w123.__dict__"
   ]
  },
  {
   "cell_type": "code",
   "execution_count": 123,
   "metadata": {},
   "outputs": [],
   "source": [
    "w124.horse_power = 480"
   ]
  },
  {
   "cell_type": "code",
   "execution_count": 124,
   "metadata": {},
   "outputs": [
    {
     "data": {
      "text/plain": [
       "{'color': 'Silver', 'horse_power': 480}"
      ]
     },
     "execution_count": 124,
     "metadata": {},
     "output_type": "execute_result"
    }
   ],
   "source": [
    "w124.__dict__"
   ]
  },
  {
   "cell_type": "code",
   "execution_count": 125,
   "metadata": {},
   "outputs": [
    {
     "data": {
      "text/plain": [
       "{'color': 'Blue'}"
      ]
     },
     "execution_count": 125,
     "metadata": {},
     "output_type": "execute_result"
    }
   ],
   "source": [
    "w123.__dict__"
   ]
  },
  {
   "cell_type": "code",
   "execution_count": 126,
   "metadata": {},
   "outputs": [],
   "source": [
    "w123.__dict__['horse_power'] = 89"
   ]
  },
  {
   "cell_type": "code",
   "execution_count": 127,
   "metadata": {},
   "outputs": [
    {
     "data": {
      "text/plain": [
       "{'color': 'Blue', 'horse_power': 89}"
      ]
     },
     "execution_count": 127,
     "metadata": {},
     "output_type": "execute_result"
    }
   ],
   "source": [
    "w123.__dict__"
   ]
  },
  {
   "cell_type": "code",
   "execution_count": 128,
   "metadata": {},
   "outputs": [
    {
     "data": {
      "text/plain": [
       "{'color': 'Silver', 'horse_power': 480}"
      ]
     },
     "execution_count": 128,
     "metadata": {},
     "output_type": "execute_result"
    }
   ],
   "source": [
    "w124.__dict__"
   ]
  },
  {
   "attachments": {},
   "cell_type": "markdown",
   "metadata": {},
   "source": [
    "# Class and Static Methods"
   ]
  },
  {
   "cell_type": "code",
   "execution_count": 129,
   "metadata": {},
   "outputs": [],
   "source": [
    "class MercedezBenz:\n",
    "    doors = 4\n",
    "    wheels = 4\n",
    "    model = \"S\"\n",
    "\n",
    "    def __init__(self, color='midnight blue') -> None: # after instance creation, but before it is returned.\n",
    "        self.color = color\n",
    "\n",
    "    def drive(self):\n",
    "        return f'A Mercedex is driving. And is is {self}\\n'\n",
    "    \n",
    "    @staticmethod\n",
    "    def auto_drive():\n",
    "        return 'Auto-driving for now...'\n",
    "    \n",
    "    @classmethod\n",
    "    def create_lease(cls):\n",
    "        print(f'A lease for {cls} will be created.')"
   ]
  },
  {
   "cell_type": "code",
   "execution_count": 130,
   "metadata": {},
   "outputs": [
    {
     "data": {
      "text/plain": [
       "'Auto-driving for now...'"
      ]
     },
     "execution_count": 130,
     "metadata": {},
     "output_type": "execute_result"
    }
   ],
   "source": [
    "w124 = MercedezBenz()\n",
    "w124.auto_drive()"
   ]
  },
  {
   "cell_type": "code",
   "execution_count": 131,
   "metadata": {},
   "outputs": [
    {
     "data": {
      "text/plain": [
       "'Auto-driving for now...'"
      ]
     },
     "execution_count": 131,
     "metadata": {},
     "output_type": "execute_result"
    }
   ],
   "source": [
    "MercedezBenz.auto_drive()"
   ]
  },
  {
   "attachments": {},
   "cell_type": "markdown",
   "metadata": {},
   "source": [
    "# Class vs Instance __dict__"
   ]
  },
  {
   "cell_type": "code",
   "execution_count": 132,
   "metadata": {},
   "outputs": [],
   "source": [
    "class MercedezBenz:\n",
    "    doors = 4\n",
    "    wheels = 4\n",
    "    model = \"S\"\n",
    "\n",
    "    def __init__(self, color='midnight blue') -> None: # after instance creation, but before it is returned.\n",
    "        self.color = color\n",
    "\n",
    "    def drive(self):\n",
    "        return f'A Mercedex is driving. And is is {self}\\n'\n",
    "    \n",
    "    @staticmethod\n",
    "    def auto_drive():\n",
    "        return 'Auto-driving for now...'\n",
    "    \n",
    "    @classmethod\n",
    "    def create_lease(cls):\n",
    "        print(f'A lease for {cls} will be created.')"
   ]
  },
  {
   "cell_type": "code",
   "execution_count": 133,
   "metadata": {},
   "outputs": [
    {
     "data": {
      "text/plain": [
       "mappingproxy({'__module__': '__main__',\n",
       "              'doors': 4,\n",
       "              'wheels': 4,\n",
       "              'model': 'S',\n",
       "              '__init__': <function __main__.MercedezBenz.__init__(self, color='midnight blue') -> None>,\n",
       "              'drive': <function __main__.MercedezBenz.drive(self)>,\n",
       "              'auto_drive': <staticmethod(<function MercedezBenz.auto_drive at 0x000001E9A4C80720>)>,\n",
       "              'create_lease': <classmethod(<function MercedezBenz.create_lease at 0x000001E9A4C80860>)>,\n",
       "              '__dict__': <attribute '__dict__' of 'MercedezBenz' objects>,\n",
       "              '__weakref__': <attribute '__weakref__' of 'MercedezBenz' objects>,\n",
       "              '__doc__': None})"
      ]
     },
     "execution_count": 133,
     "metadata": {},
     "output_type": "execute_result"
    }
   ],
   "source": [
    "MercedezBenz.__dict__"
   ]
  },
  {
   "cell_type": "code",
   "execution_count": 134,
   "metadata": {},
   "outputs": [
    {
     "data": {
      "text/plain": [
       "mappingproxy"
      ]
     },
     "execution_count": 134,
     "metadata": {},
     "output_type": "execute_result"
    }
   ],
   "source": [
    "type(MercedezBenz.__dict__)"
   ]
  },
  {
   "attachments": {},
   "cell_type": "markdown",
   "metadata": {},
   "source": [
    "# MRO --> method resolution order"
   ]
  },
  {
   "cell_type": "code",
   "execution_count": 135,
   "metadata": {},
   "outputs": [
    {
     "data": {
      "text/plain": [
       "{'color': 'midnight blue'}"
      ]
     },
     "execution_count": 135,
     "metadata": {},
     "output_type": "execute_result"
    }
   ],
   "source": [
    "w124.__dict__"
   ]
  },
  {
   "attachments": {},
   "cell_type": "markdown",
   "metadata": {},
   "source": [
    "```\n",
    "get attribute by name of '__dict__'\n",
    "```\n",
    "python goes looking gor it in the namespace, then the class in the class, it finds it   \n",
    "the attribute name(__dict__) points to a descriptor  \n",
    "the descriptors get() is called  \n",
    "which returns a dictionary  "
   ]
  },
  {
   "attachments": {},
   "cell_type": "markdown",
   "metadata": {},
   "source": [
    "# BONUS: Careful with mutables"
   ]
  },
  {
   "cell_type": "code",
   "execution_count": 136,
   "metadata": {},
   "outputs": [],
   "source": [
    "class MercedezBenz:\n",
    "    doors = 4\n",
    "    wheels = 4\n",
    "    model = \"S\"\n",
    "\n",
    "    def __init__(self, color='midnight blue') -> None: # after instance creation, but before it is returned.\n",
    "        self.color = color\n",
    "\n",
    "    def drive(self):\n",
    "        return f'A Mercedex is driving. And is is {self}\\n'\n",
    "    \n",
    "    @staticmethod\n",
    "    def auto_drive():\n",
    "        return 'Auto-driving for now...'\n",
    "    \n",
    "    @classmethod\n",
    "    def create_lease(cls):\n",
    "        print(f'A lease for {cls} will be created.')"
   ]
  },
  {
   "cell_type": "code",
   "execution_count": 137,
   "metadata": {},
   "outputs": [
    {
     "data": {
      "text/plain": [
       "mappingproxy({'__module__': '__main__',\n",
       "              'doors': 4,\n",
       "              'wheels': 4,\n",
       "              'model': 'S',\n",
       "              '__init__': <function __main__.MercedezBenz.__init__(self, color='midnight blue') -> None>,\n",
       "              'drive': <function __main__.MercedezBenz.drive(self)>,\n",
       "              'auto_drive': <staticmethod(<function MercedezBenz.auto_drive at 0x000001E9A4C80B80>)>,\n",
       "              'create_lease': <classmethod(<function MercedezBenz.create_lease at 0x000001E9A4C80AE0>)>,\n",
       "              '__dict__': <attribute '__dict__' of 'MercedezBenz' objects>,\n",
       "              '__weakref__': <attribute '__weakref__' of 'MercedezBenz' objects>,\n",
       "              '__doc__': None})"
      ]
     },
     "execution_count": 137,
     "metadata": {},
     "output_type": "execute_result"
    }
   ],
   "source": [
    "MercedezBenz.__dict__"
   ]
  },
  {
   "cell_type": "code",
   "execution_count": 138,
   "metadata": {},
   "outputs": [],
   "source": [
    "w123 = MercedezBenz()\n",
    "w124 = MercedezBenz()"
   ]
  },
  {
   "cell_type": "code",
   "execution_count": 139,
   "metadata": {},
   "outputs": [],
   "source": [
    "w123.doors = 5\n",
    "w124.doors = 6"
   ]
  },
  {
   "cell_type": "code",
   "execution_count": 140,
   "metadata": {},
   "outputs": [
    {
     "data": {
      "text/plain": [
       "(5, 6)"
      ]
     },
     "execution_count": 140,
     "metadata": {},
     "output_type": "execute_result"
    }
   ],
   "source": [
    "w123.doors, w124.doors"
   ]
  },
  {
   "cell_type": "code",
   "execution_count": 141,
   "metadata": {},
   "outputs": [
    {
     "data": {
      "text/plain": [
       "4"
      ]
     },
     "execution_count": 141,
     "metadata": {},
     "output_type": "execute_result"
    }
   ],
   "source": [
    "w223 = MercedezBenz()\n",
    "w223.doors"
   ]
  },
  {
   "attachments": {},
   "cell_type": "markdown",
   "metadata": {},
   "source": [
    "# Immutables: booleans, ints, floats, string, tuples"
   ]
  },
  {
   "attachments": {},
   "cell_type": "markdown",
   "metadata": {},
   "source": [
    "# Mutable: list"
   ]
  },
  {
   "cell_type": "code",
   "execution_count": 142,
   "metadata": {},
   "outputs": [],
   "source": [
    "class Tire:\n",
    "    def __init__(self, kind, distance_covered) -> None:\n",
    "        self.kind = kind\n",
    "        self.distance_covered = distance_covered"
   ]
  },
  {
   "cell_type": "code",
   "execution_count": 143,
   "metadata": {},
   "outputs": [],
   "source": [
    "class MercedezBenz:\n",
    "    doors = 4\n",
    "    wheels = 4\n",
    "    model = \"S\"\n",
    "    tires = [Tire('operational', 10) for i in range(4)]\n",
    "\n",
    "    def __init__(self, color='midnight blue') -> None: # after instance creation, but before it is returned.\n",
    "        self.color = color\n",
    "\n",
    "    def drive(self):\n",
    "        return f'A Mercedex is driving. And is is {self}\\n'\n",
    "    \n",
    "    @staticmethod\n",
    "    def auto_drive():\n",
    "        return 'Auto-driving for now...'\n",
    "    \n",
    "    @classmethod\n",
    "    def create_lease(cls):\n",
    "        print(f'A lease for {cls} will be created.')"
   ]
  },
  {
   "cell_type": "code",
   "execution_count": 144,
   "metadata": {},
   "outputs": [
    {
     "data": {
      "text/plain": [
       "[<__main__.Tire at 0x1e9a4c76a50>,\n",
       " <__main__.Tire at 0x1e9a4c6dc10>,\n",
       " <__main__.Tire at 0x1e9a4c779d0>,\n",
       " <__main__.Tire at 0x1e9a4c85f90>]"
      ]
     },
     "execution_count": 144,
     "metadata": {},
     "output_type": "execute_result"
    }
   ],
   "source": [
    "w223 = MercedezBenz()\n",
    "w223.tires"
   ]
  },
  {
   "cell_type": "code",
   "execution_count": 145,
   "metadata": {},
   "outputs": [
    {
     "data": {
      "text/plain": [
       "[<__main__.Tire at 0x1e9a4c76a50>,\n",
       " <__main__.Tire at 0x1e9a4c6dc10>,\n",
       " <__main__.Tire at 0x1e9a4c779d0>,\n",
       " <__main__.Tire at 0x1e9a4c85f90>]"
      ]
     },
     "execution_count": 145,
     "metadata": {},
     "output_type": "execute_result"
    }
   ],
   "source": [
    "w222 = MercedezBenz()\n",
    "w222.tires"
   ]
  },
  {
   "cell_type": "code",
   "execution_count": 146,
   "metadata": {},
   "outputs": [],
   "source": [
    "w223.tires.append(Tire(kind='spare', distance_covered=100))"
   ]
  },
  {
   "cell_type": "code",
   "execution_count": 147,
   "metadata": {},
   "outputs": [
    {
     "data": {
      "text/plain": [
       "[<__main__.Tire at 0x1e9a4c76a50>,\n",
       " <__main__.Tire at 0x1e9a4c6dc10>,\n",
       " <__main__.Tire at 0x1e9a4c779d0>,\n",
       " <__main__.Tire at 0x1e9a4c85f90>,\n",
       " <__main__.Tire at 0x1e9a4c25f10>]"
      ]
     },
     "execution_count": 147,
     "metadata": {},
     "output_type": "execute_result"
    }
   ],
   "source": [
    "w222.tires"
   ]
  },
  {
   "cell_type": "code",
   "execution_count": 148,
   "metadata": {},
   "outputs": [
    {
     "data": {
      "text/plain": [
       "[<__main__.Tire at 0x1e9a4c76a50>,\n",
       " <__main__.Tire at 0x1e9a4c6dc10>,\n",
       " <__main__.Tire at 0x1e9a4c779d0>,\n",
       " <__main__.Tire at 0x1e9a4c85f90>,\n",
       " <__main__.Tire at 0x1e9a4c25f10>]"
      ]
     },
     "execution_count": 148,
     "metadata": {},
     "output_type": "execute_result"
    }
   ],
   "source": [
    "w124 = MercedezBenz()\n",
    "w124.tires"
   ]
  },
  {
   "attachments": {},
   "cell_type": "markdown",
   "metadata": {},
   "source": [
    "# Access Control"
   ]
  },
  {
   "cell_type": "code",
   "execution_count": 149,
   "metadata": {},
   "outputs": [],
   "source": [
    "w201 = MercedezBenz('Lavender')"
   ]
  },
  {
   "cell_type": "code",
   "execution_count": 150,
   "metadata": {},
   "outputs": [
    {
     "data": {
      "text/plain": [
       "5"
      ]
     },
     "execution_count": 150,
     "metadata": {},
     "output_type": "execute_result"
    }
   ],
   "source": [
    "w201.doors +=1\n",
    "w201.doors"
   ]
  },
  {
   "cell_type": "code",
   "execution_count": 151,
   "metadata": {},
   "outputs": [
    {
     "data": {
      "text/plain": [
       "'Andy'"
      ]
     },
     "execution_count": 151,
     "metadata": {},
     "output_type": "execute_result"
    }
   ],
   "source": [
    "w201.doors = 'Andy'\n",
    "w201.doors"
   ]
  },
  {
   "cell_type": "code",
   "execution_count": 152,
   "metadata": {},
   "outputs": [
    {
     "data": {
      "text/plain": [
       "1.2"
      ]
     },
     "execution_count": 152,
     "metadata": {},
     "output_type": "execute_result"
    }
   ],
   "source": [
    "w201.doors = 1.2\n",
    "w201.doors"
   ]
  },
  {
   "attachments": {},
   "cell_type": "markdown",
   "metadata": {},
   "source": [
    "# Docstrins"
   ]
  },
  {
   "cell_type": "code",
   "execution_count": 153,
   "metadata": {},
   "outputs": [
    {
     "data": {
      "text/plain": [
       "'\\n---------------------------------------------------------------------------\\nTypeError                                 Traceback (most recent call last)\\nCell In[568], line 1\\n----> 1 getattr()\\n\\nTypeError: getattr expected at least 2 arguments, got 0\\n'"
      ]
     },
     "execution_count": 153,
     "metadata": {},
     "output_type": "execute_result"
    }
   ],
   "source": [
    "# getattr()\n",
    "'''\n",
    "---------------------------------------------------------------------------\n",
    "TypeError                                 Traceback (most recent call last)\n",
    "Cell In[568], line 1\n",
    "----> 1 getattr()\n",
    "\n",
    "TypeError: getattr expected at least 2 arguments, got 0\n",
    "'''"
   ]
  },
  {
   "cell_type": "code",
   "execution_count": 154,
   "metadata": {},
   "outputs": [
    {
     "name": "stdout",
     "output_type": "stream",
     "text": [
      "Help on built-in function getattr in module builtins:\n",
      "\n",
      "getattr(...)\n",
      "    getattr(object, name[, default]) -> value\n",
      "    \n",
      "    Get a named attribute from an object; getattr(x, 'y') is equivalent to x.y.\n",
      "    When a default argument is given, it is returned when the attribute doesn't\n",
      "    exist; without it, an exception is raised in that case.\n",
      "\n"
     ]
    }
   ],
   "source": [
    "help(getattr)"
   ]
  },
  {
   "cell_type": "code",
   "execution_count": 155,
   "metadata": {},
   "outputs": [
    {
     "name": "stdout",
     "output_type": "stream",
     "text": [
      "Help on class Tire in module __main__:\n",
      "\n",
      "class Tire(builtins.object)\n",
      " |  Tire(kind, distance_covered) -> None\n",
      " |  \n",
      " |  Methods defined here:\n",
      " |  \n",
      " |  __init__(self, kind, distance_covered) -> None\n",
      " |      Initialize self.  See help(type(self)) for accurate signature.\n",
      " |  \n",
      " |  ----------------------------------------------------------------------\n",
      " |  Data descriptors defined here:\n",
      " |  \n",
      " |  __dict__\n",
      " |      dictionary for instance variables (if defined)\n",
      " |  \n",
      " |  __weakref__\n",
      " |      list of weak references to the object (if defined)\n",
      "\n"
     ]
    }
   ],
   "source": [
    "help(Tire)"
   ]
  },
  {
   "cell_type": "code",
   "execution_count": 156,
   "metadata": {},
   "outputs": [],
   "source": [
    "class Tire:\n",
    "    '''\n",
    "    Defines an automobile tire object.\n",
    "\n",
    "    :param kind: the kind of tire, e.g. operational, spare or winter\n",
    "    :param distance_covered: the distance in km the tire has covered\n",
    "    '''\n",
    "    def __init__(self, kind, distance_covered) -> None:\n",
    "        self.kind = kind\n",
    "        self.distance_covered = distance_covered"
   ]
  },
  {
   "cell_type": "code",
   "execution_count": 157,
   "metadata": {},
   "outputs": [
    {
     "name": "stdout",
     "output_type": "stream",
     "text": [
      "Help on class Tire in module __main__:\n",
      "\n",
      "class Tire(builtins.object)\n",
      " |  Tire(kind, distance_covered) -> None\n",
      " |  \n",
      " |  Defines an automobile tire object.\n",
      " |  \n",
      " |  :param kind: the kind of tire, e.g. operational, spare or winter\n",
      " |  :param distance_covered: the distance in km the tire has covered\n",
      " |  \n",
      " |  Methods defined here:\n",
      " |  \n",
      " |  __init__(self, kind, distance_covered) -> None\n",
      " |      Initialize self.  See help(type(self)) for accurate signature.\n",
      " |  \n",
      " |  ----------------------------------------------------------------------\n",
      " |  Data descriptors defined here:\n",
      " |  \n",
      " |  __dict__\n",
      " |      dictionary for instance variables (if defined)\n",
      " |  \n",
      " |  __weakref__\n",
      " |      list of weak references to the object (if defined)\n",
      "\n"
     ]
    }
   ],
   "source": [
    "help(Tire)"
   ]
  },
  {
   "cell_type": "code",
   "execution_count": 158,
   "metadata": {},
   "outputs": [
    {
     "data": {
      "text/plain": [
       "mappingproxy({'__module__': '__main__',\n",
       "              '__doc__': '\\n    Defines an automobile tire object.\\n\\n    :param kind: the kind of tire, e.g. operational, spare or winter\\n    :param distance_covered: the distance in km the tire has covered\\n    ',\n",
       "              '__init__': <function __main__.Tire.__init__(self, kind, distance_covered) -> None>,\n",
       "              '__dict__': <attribute '__dict__' of 'Tire' objects>,\n",
       "              '__weakref__': <attribute '__weakref__' of 'Tire' objects>})"
      ]
     },
     "execution_count": 158,
     "metadata": {},
     "output_type": "execute_result"
    }
   ],
   "source": [
    "Tire.__dict__"
   ]
  },
  {
   "attachments": {},
   "cell_type": "markdown",
   "metadata": {},
   "source": [
    "# Skill Challenge"
   ]
  },
  {
   "cell_type": "code",
   "execution_count": 159,
   "metadata": {},
   "outputs": [
    {
     "data": {
      "text/plain": [
       "('abcdefghijklmnopqrstuvwxyzABCDEFGHIJKLMNOPQRSTUVWXYZ',\n",
       " '0123456789',\n",
       " '!\"#$%&\\'()*+,-./:;<=>?@[\\\\]^_`{|}~')"
      ]
     },
     "execution_count": 159,
     "metadata": {},
     "output_type": "execute_result"
    }
   ],
   "source": [
    "import string\n",
    "string.ascii_letters, string.digits , string.punctuation"
   ]
  },
  {
   "cell_type": "code",
   "execution_count": 160,
   "metadata": {},
   "outputs": [
    {
     "data": {
      "text/plain": [
       "['a',\n",
       " 'b',\n",
       " 'c',\n",
       " 'd',\n",
       " 'e',\n",
       " 'f',\n",
       " 'g',\n",
       " 'h',\n",
       " 'i',\n",
       " 'j',\n",
       " 'k',\n",
       " 'l',\n",
       " 'm',\n",
       " 'n',\n",
       " 'o',\n",
       " 'p',\n",
       " 'q',\n",
       " 'r',\n",
       " 's',\n",
       " 't',\n",
       " 'u',\n",
       " 'v',\n",
       " 'w',\n",
       " 'x',\n",
       " 'y',\n",
       " 'z',\n",
       " 'A',\n",
       " 'B',\n",
       " 'C',\n",
       " 'D',\n",
       " 'E',\n",
       " 'F',\n",
       " 'G',\n",
       " 'H',\n",
       " 'I',\n",
       " 'J',\n",
       " 'K',\n",
       " 'L',\n",
       " 'M',\n",
       " 'N',\n",
       " 'O',\n",
       " 'P',\n",
       " 'Q',\n",
       " 'R',\n",
       " 'S',\n",
       " 'T',\n",
       " 'U',\n",
       " 'V',\n",
       " 'W',\n",
       " 'X',\n",
       " 'Y',\n",
       " 'Z']"
      ]
     },
     "execution_count": 160,
     "metadata": {},
     "output_type": "execute_result"
    }
   ],
   "source": [
    "letters = [s for s in string.ascii_letters]\n",
    "letters"
   ]
  },
  {
   "cell_type": "code",
   "execution_count": 161,
   "metadata": {},
   "outputs": [],
   "source": [
    "letters = [l for l in string.ascii_letters]\n",
    "numbers = [d for d in string.digits]\n",
    "punctuation = [p for p in string.punctuation]"
   ]
  },
  {
   "cell_type": "code",
   "execution_count": 162,
   "metadata": {},
   "outputs": [
    {
     "data": {
      "text/plain": [
       "['a',\n",
       " 'b',\n",
       " 'c',\n",
       " 'd',\n",
       " 'e',\n",
       " 'f',\n",
       " 'g',\n",
       " 'h',\n",
       " 'i',\n",
       " 'j',\n",
       " 'k',\n",
       " 'l',\n",
       " 'm',\n",
       " 'n',\n",
       " 'o',\n",
       " 'p',\n",
       " 'q',\n",
       " 'r',\n",
       " 's',\n",
       " 't',\n",
       " 'u',\n",
       " 'v',\n",
       " 'w',\n",
       " 'x',\n",
       " 'y',\n",
       " 'z',\n",
       " 'A',\n",
       " 'B',\n",
       " 'C',\n",
       " 'D',\n",
       " 'E',\n",
       " 'F',\n",
       " 'G',\n",
       " 'H',\n",
       " 'I',\n",
       " 'J',\n",
       " 'K',\n",
       " 'L',\n",
       " 'M',\n",
       " 'N',\n",
       " 'O',\n",
       " 'P',\n",
       " 'Q',\n",
       " 'R',\n",
       " 'S',\n",
       " 'T',\n",
       " 'U',\n",
       " 'V',\n",
       " 'W',\n",
       " 'X',\n",
       " 'Y',\n",
       " 'Z']"
      ]
     },
     "execution_count": 162,
     "metadata": {},
     "output_type": "execute_result"
    }
   ],
   "source": [
    "pool_of_characters = {'letters':letters,\n",
    "                          'numbers':numbers,\n",
    "                          'punctuation':punctuation}\n",
    "pool_of_characters.get('letters')"
   ]
  },
  {
   "cell_type": "code",
   "execution_count": 163,
   "metadata": {},
   "outputs": [],
   "source": [
    "class Password:\n",
    "    password = ''\n",
    "    letters = [l for l in string.ascii_letters]\n",
    "    numbers = [d for d in string.digits]\n",
    "    punctuation = [p for p in string.punctuation]\n",
    "\n",
    "    pool_of_characters = {}\n",
    "\n",
    "    def __init__(self, strength='mid', length=12) -> None:   \n",
    "        self.strength = strength\n",
    "        self.length = length\n",
    "\n",
    "        if self.strength == 'low':\n",
    "            pool_of_characters = {'letters':letters}\n",
    "        elif self.strength == 'mid':\n",
    "            pool_of_characters = {'letters':letters,\n",
    "                                  'numbers':numbers}\n",
    "        else:\n",
    "            pool_of_characters = {'letters':letters,\n",
    "                                    'numbers':numbers,\n",
    "                                    'punctuation':punctuation}\n",
    "    \n",
    "        self.generate_password()\n",
    "    \n",
    "    def generate_password(self):\n",
    "        characters = []\n",
    "        match self.strength:\n",
    "            case 'low':\n",
    "                characters.extend(letters)\n",
    "            case 'mid':\n",
    "                characters.extend(letters)\n",
    "                characters.extend(numbers)\n",
    "            case 'high':\n",
    "                characters.extend(letters)\n",
    "                characters.extend(numbers)\n",
    "                characters.extend(punctuation)\n",
    "                \n",
    "        self.password = ''.join(random.choices(characters, k=self.length))\n",
    "\n",
    "    def show_input_universe(self):\n",
    "        return pool_of_characters\n"
   ]
  },
  {
   "cell_type": "code",
   "execution_count": 164,
   "metadata": {},
   "outputs": [],
   "source": [
    "secret = Password()"
   ]
  },
  {
   "cell_type": "code",
   "execution_count": 165,
   "metadata": {},
   "outputs": [
    {
     "data": {
      "text/plain": [
       "{'letters': ['a',\n",
       "  'b',\n",
       "  'c',\n",
       "  'd',\n",
       "  'e',\n",
       "  'f',\n",
       "  'g',\n",
       "  'h',\n",
       "  'i',\n",
       "  'j',\n",
       "  'k',\n",
       "  'l',\n",
       "  'm',\n",
       "  'n',\n",
       "  'o',\n",
       "  'p',\n",
       "  'q',\n",
       "  'r',\n",
       "  's',\n",
       "  't',\n",
       "  'u',\n",
       "  'v',\n",
       "  'w',\n",
       "  'x',\n",
       "  'y',\n",
       "  'z',\n",
       "  'A',\n",
       "  'B',\n",
       "  'C',\n",
       "  'D',\n",
       "  'E',\n",
       "  'F',\n",
       "  'G',\n",
       "  'H',\n",
       "  'I',\n",
       "  'J',\n",
       "  'K',\n",
       "  'L',\n",
       "  'M',\n",
       "  'N',\n",
       "  'O',\n",
       "  'P',\n",
       "  'Q',\n",
       "  'R',\n",
       "  'S',\n",
       "  'T',\n",
       "  'U',\n",
       "  'V',\n",
       "  'W',\n",
       "  'X',\n",
       "  'Y',\n",
       "  'Z'],\n",
       " 'numbers': ['0', '1', '2', '3', '4', '5', '6', '7', '8', '9'],\n",
       " 'punctuation': ['!',\n",
       "  '\"',\n",
       "  '#',\n",
       "  '$',\n",
       "  '%',\n",
       "  '&',\n",
       "  \"'\",\n",
       "  '(',\n",
       "  ')',\n",
       "  '*',\n",
       "  '+',\n",
       "  ',',\n",
       "  '-',\n",
       "  '.',\n",
       "  '/',\n",
       "  ':',\n",
       "  ';',\n",
       "  '<',\n",
       "  '=',\n",
       "  '>',\n",
       "  '?',\n",
       "  '@',\n",
       "  '[',\n",
       "  '\\\\',\n",
       "  ']',\n",
       "  '^',\n",
       "  '_',\n",
       "  '`',\n",
       "  '{',\n",
       "  '|',\n",
       "  '}',\n",
       "  '~']}"
      ]
     },
     "execution_count": 165,
     "metadata": {},
     "output_type": "execute_result"
    }
   ],
   "source": [
    "secret.show_input_universe()"
   ]
  },
  {
   "cell_type": "code",
   "execution_count": 166,
   "metadata": {},
   "outputs": [],
   "source": [
    "secret = Password()"
   ]
  },
  {
   "cell_type": "code",
   "execution_count": 167,
   "metadata": {},
   "outputs": [
    {
     "data": {
      "text/plain": [
       "'xJArM6A2MRTM'"
      ]
     },
     "execution_count": 167,
     "metadata": {},
     "output_type": "execute_result"
    }
   ],
   "source": [
    "secret.password"
   ]
  },
  {
   "cell_type": "code",
   "execution_count": 168,
   "metadata": {},
   "outputs": [
    {
     "data": {
      "text/plain": [
       "{'letters': ['a',\n",
       "  'b',\n",
       "  'c',\n",
       "  'd',\n",
       "  'e',\n",
       "  'f',\n",
       "  'g',\n",
       "  'h',\n",
       "  'i',\n",
       "  'j',\n",
       "  'k',\n",
       "  'l',\n",
       "  'm',\n",
       "  'n',\n",
       "  'o',\n",
       "  'p',\n",
       "  'q',\n",
       "  'r',\n",
       "  's',\n",
       "  't',\n",
       "  'u',\n",
       "  'v',\n",
       "  'w',\n",
       "  'x',\n",
       "  'y',\n",
       "  'z',\n",
       "  'A',\n",
       "  'B',\n",
       "  'C',\n",
       "  'D',\n",
       "  'E',\n",
       "  'F',\n",
       "  'G',\n",
       "  'H',\n",
       "  'I',\n",
       "  'J',\n",
       "  'K',\n",
       "  'L',\n",
       "  'M',\n",
       "  'N',\n",
       "  'O',\n",
       "  'P',\n",
       "  'Q',\n",
       "  'R',\n",
       "  'S',\n",
       "  'T',\n",
       "  'U',\n",
       "  'V',\n",
       "  'W',\n",
       "  'X',\n",
       "  'Y',\n",
       "  'Z'],\n",
       " 'numbers': ['0', '1', '2', '3', '4', '5', '6', '7', '8', '9'],\n",
       " 'punctuation': ['!',\n",
       "  '\"',\n",
       "  '#',\n",
       "  '$',\n",
       "  '%',\n",
       "  '&',\n",
       "  \"'\",\n",
       "  '(',\n",
       "  ')',\n",
       "  '*',\n",
       "  '+',\n",
       "  ',',\n",
       "  '-',\n",
       "  '.',\n",
       "  '/',\n",
       "  ':',\n",
       "  ';',\n",
       "  '<',\n",
       "  '=',\n",
       "  '>',\n",
       "  '?',\n",
       "  '@',\n",
       "  '[',\n",
       "  '\\\\',\n",
       "  ']',\n",
       "  '^',\n",
       "  '_',\n",
       "  '`',\n",
       "  '{',\n",
       "  '|',\n",
       "  '}',\n",
       "  '~']}"
      ]
     },
     "execution_count": 168,
     "metadata": {},
     "output_type": "execute_result"
    }
   ],
   "source": [
    "secret.show_input_universe()"
   ]
  },
  {
   "cell_type": "code",
   "execution_count": 169,
   "metadata": {},
   "outputs": [
    {
     "name": "stdout",
     "output_type": "stream",
     "text": [
      "2ulcSR77qARI\n",
      "8D4SoMJEtmqI\n",
      "D9nf3lI4HYiH\n",
      "c163G10fcVOQ\n",
      "j12T9P2Frb8A\n",
      "5rh1oVPtP7uW\n",
      "NFEoaGoBQ1OF\n"
     ]
    }
   ],
   "source": [
    "for i in range(7):\n",
    "    print(Password().password)"
   ]
  },
  {
   "cell_type": "code",
   "execution_count": 170,
   "metadata": {},
   "outputs": [
    {
     "name": "stdout",
     "output_type": "stream",
     "text": [
      "mid\n",
      "Q6sUZRG3Ehrc\n",
      "low\n",
      "CoAvjfHaznvg\n",
      "low\n",
      "rSrbJpmvIQup\n",
      "high\n",
      "{-PZ?zc?$}Au\n",
      "high\n",
      "09z5/CwL1*<B\n",
      "mid\n",
      "hgnPS2uZqwVS\n",
      "high\n",
      "rTT<V`{/Kb&0\n"
     ]
    }
   ],
   "source": [
    "for i in range(7):\n",
    "    strength = random.choice(['low','mid','high'])\n",
    "    print(strength)\n",
    "    print(Password(strength).password)"
   ]
  },
  {
   "cell_type": "code",
   "execution_count": 171,
   "metadata": {},
   "outputs": [
    {
     "name": "stdout",
     "output_type": "stream",
     "text": [
      "Strength of password:low, length:12\n",
      "kCjzqUprGgtG\n",
      "Strength of password:mid, length:18\n",
      "zrqsajMLtLf3WZHRfQ\n",
      "Strength of password:low, length:14\n",
      "HzeexzilRtOHVl\n",
      "Strength of password:low, length:7\n",
      "yAowsKZ\n",
      "Strength of password:low, length:21\n",
      "jWpdIvYigOlxuHRdszigs\n",
      "Strength of password:high, length:6\n",
      "PDCKtf\n",
      "Strength of password:low, length:18\n",
      "jzpslapRHenLjeOSrI\n",
      "Strength of password:low, length:23\n",
      "CmdgiAROxTAbLbGUpCYyhbx\n",
      "Strength of password:high, length:20\n",
      ":$3z?:x4IcgMegwvlh>l\n",
      "Strength of password:mid, length:18\n",
      "xuNLsDsie5Ibn1jo7R\n",
      "Strength of password:mid, length:21\n",
      "m14CpN99MFMVAMvaLKtdI\n",
      "Strength of password:mid, length:23\n",
      "YdDXb2JU8oa4zNdipzI9KdV\n",
      "Strength of password:high, length:18\n",
      "@zh%L8Zv$JuS/p@]:b\n"
     ]
    }
   ],
   "source": [
    "for i in range(13):\n",
    "    strength = random.choice(['low','mid','high'])\n",
    "    length = random.randint(2,23)\n",
    "    print(f'Strength of password:{strength}, length:{length}')\n",
    "    print(Password(strength=strength, length=length).password)"
   ]
  },
  {
   "attachments": {},
   "cell_type": "markdown",
   "metadata": {},
   "source": [
    "# Solution"
   ]
  },
  {
   "cell_type": "code",
   "execution_count": 172,
   "metadata": {},
   "outputs": [],
   "source": [
    "from copy import copy\n",
    "\n",
    "class Password:\n",
    "    '''\n",
    "    A password of customize srength and lenght.\n",
    "    Encapsulate arandomly generate pasword dependding on the user-specified strength and length, \n",
    "    where the latter is optional an automatically set depending on the strength (low -> 8, mid-> 12, high -> 12). \n",
    "    If a length is user-specified these presets are overridden regardles of the strength.   \n",
    "\n",
    "    :param strength: a measure of the password's effectiveness against brute-force quessing\n",
    "    :type length: int, optionl\n",
    "\n",
    "    :param length: the length of the password\n",
    "    :type length: int, optional\n",
    "\n",
    "    '''\n",
    "\n",
    "    INPUT_UNIVERS ={\n",
    "        'numbers': list(range(10)),\n",
    "        'letters':list(string.ascii_letters),\n",
    "        'punctuation':list(string.punctuation)\n",
    "    }\n",
    "\n",
    "    DEFAULT_LENGHT = {\n",
    "        'low':8,\n",
    "        'mid':12,\n",
    "        'high':16\n",
    "    }\n",
    "\n",
    "    @classmethod\n",
    "    def show_input_universe(cls):\n",
    "        '''\n",
    "        Return the complete imput univers from which characters are sampled\n",
    "        :return: The universe of characters from which random sampling is done to generate passwords\n",
    "        :rtype: dict (of list-s)\n",
    "        return slc. INPUT_UNIVERS\n",
    "        '''\n",
    "\n",
    "    def __init__(self, strength='mid', length=None):\n",
    "        '''Constructor method'''\n",
    "        self.strength = strength\n",
    "        self.lenght = length\n",
    "        self._generate()\n",
    "\n",
    "    def _generate(self):\n",
    "        '''\n",
    "        Generates the password according to the strength and length specified at initailization\n",
    "\n",
    "        :return: the randomly generated password\n",
    "        :rtype: str\n",
    "        '''\n",
    "        population = copy(self.INPUT_UNIVERS['letters'])\n",
    "        length = self.lenght or self.DEFAULT_LENGHT.get(self.strength)\n",
    "\n",
    "        if self.strength == 'high':\n",
    "            population += self.INPUT_UNIVERS['numbers'] + self.INPUT_UNIVERS['punctuation']\n",
    "        else:\n",
    "            population += self.INPUT_UNIVERS['numbers']\n",
    "\n",
    "        self.password = ''.join(list(map(str, random.choices(population , k=length))))"
   ]
  },
  {
   "cell_type": "code",
   "execution_count": 173,
   "metadata": {},
   "outputs": [
    {
     "data": {
      "text/plain": [
       "'xupzj8ee'"
      ]
     },
     "execution_count": 173,
     "metadata": {},
     "output_type": "execute_result"
    }
   ],
   "source": [
    "p_weak = Password(strength='low')\n",
    "p_weak.password"
   ]
  },
  {
   "cell_type": "code",
   "execution_count": 174,
   "metadata": {},
   "outputs": [
    {
     "data": {
      "text/plain": [
       "'bhq5scJQrp38SMHRSlQ2XCif8IJkokAHXqIdAeHB'"
      ]
     },
     "execution_count": 174,
     "metadata": {},
     "output_type": "execute_result"
    }
   ],
   "source": [
    "p_mid = Password(strength='mid', length=40)\n",
    "p_mid.password"
   ]
  },
  {
   "cell_type": "code",
   "execution_count": 175,
   "metadata": {},
   "outputs": [
    {
     "data": {
      "text/plain": [
       "'prlJVt2!9*`mTj3A'"
      ]
     },
     "execution_count": 175,
     "metadata": {},
     "output_type": "execute_result"
    }
   ],
   "source": [
    "p_high = Password(strength='high')\n",
    "p_high.password"
   ]
  },
  {
   "cell_type": "code",
   "execution_count": 176,
   "metadata": {},
   "outputs": [
    {
     "data": {
      "text/plain": [
       "'5iZztjfT'"
      ]
     },
     "execution_count": 176,
     "metadata": {},
     "output_type": "execute_result"
    }
   ],
   "source": [
    "p_weak = Password(strength='low')\n",
    "p_weak.password"
   ]
  },
  {
   "cell_type": "code",
   "execution_count": null,
   "metadata": {},
   "outputs": [],
   "source": []
  }
 ],
 "metadata": {
  "kernelspec": {
   "display_name": "Python 3",
   "language": "python",
   "name": "python3"
  },
  "language_info": {
   "codemirror_mode": {
    "name": "ipython",
    "version": 3
   },
   "file_extension": ".py",
   "mimetype": "text/x-python",
   "name": "python",
   "nbconvert_exporter": "python",
   "pygments_lexer": "ipython3",
   "version": "3.11.3"
  },
  "orig_nbformat": 4,
  "vscode": {
   "interpreter": {
    "hash": "aee8b7b246df8f9039afb4144a1f6fd8d2ca17a180786b69acc140d282b71a49"
   }
  }
 },
 "nbformat": 4,
 "nbformat_minor": 2
}
