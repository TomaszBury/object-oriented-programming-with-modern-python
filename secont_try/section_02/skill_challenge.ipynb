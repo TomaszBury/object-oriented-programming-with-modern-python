{
 "cells": [
  {
   "cell_type": "code",
   "execution_count": 1,
   "metadata": {},
   "outputs": [],
   "source": [
    "import random\n",
    "class Student:\n",
    "    educational_platform = \"Udemy.com\"\n",
    "    def __init__(self, name, age=24) -> None:\n",
    "        self.name = name\n",
    "        self.age = age\n",
    "\n",
    "    def greet(self):\n",
    "        greetings = random.choice([\"Hello\", \"Hi\", \"Hey there\", \"Greetings\", \"Salutations\", \"Good day\", \"Howdy\", \"Yo\", \"What's up\", \"Bonjour\"])\n",
    "        return f\"{greetings}, my name is {self.name}.\""
   ]
  },
  {
   "cell_type": "code",
   "execution_count": 2,
   "metadata": {},
   "outputs": [
    {
     "name": "stdout",
     "output_type": "stream",
     "text": [
      "Hello, my name is John.\n",
      "Good day, my name is Andy.\n",
      "Bonjour, my name is Joe.\n",
      "Yo, my name is Alice.\n",
      "Hi, my name is Emma.\n",
      "Good day, my name is David.\n",
      "Hi, my name is Olivia.\n",
      "Hey there, my name is Sophia.\n",
      "Yo, my name is Liam.\n",
      "Salutations, my name is Ethan.\n"
     ]
    }
   ],
   "source": [
    "# List of first names and last names\n",
    "first_names = ['John', 'Andy', 'Joe', 'Alice', 'Emma', 'David', 'Olivia', 'Sophia', 'Liam', 'Ethan']\n",
    "last_names = ['Johnson', 'Smith', 'Williams', 'Brown', 'Lee', 'Garcia', 'Martinez', 'Davis', 'Anderson', 'Harris']\n",
    "\n",
    "for name in first_names:\n",
    "    print(Student(name=name).greet())"
   ]
  },
  {
   "cell_type": "code",
   "execution_count": 3,
   "metadata": {},
   "outputs": [
    {
     "data": {
      "text/plain": [
       "'Udemy.com'"
      ]
     },
     "execution_count": 3,
     "metadata": {},
     "output_type": "execute_result"
    }
   ],
   "source": [
    "s1 = Student(\"Wehn\", age=50)\n",
    "s1.educational_platform"
   ]
  },
  {
   "cell_type": "code",
   "execution_count": 4,
   "metadata": {},
   "outputs": [
    {
     "name": "stdout",
     "output_type": "stream",
     "text": [
      "Bonjour, my name is Wehn.\n",
      "Hey there, my name is Wehn.\n",
      "Hey there, my name is Wehn.\n",
      "Hey there, my name is Wehn.\n",
      "Howdy, my name is Wehn.\n",
      "Howdy, my name is Wehn.\n",
      "Hello, my name is Wehn.\n",
      "Hey there, my name is Wehn.\n",
      "What's up, my name is Wehn.\n",
      "Hey there, my name is Wehn.\n",
      "What's up, my name is Wehn.\n",
      "Hi, my name is Wehn.\n",
      "Hi, my name is Wehn.\n",
      "Yo, my name is Wehn.\n",
      "Hi, my name is Wehn.\n"
     ]
    }
   ],
   "source": [
    "for i in range(15):\n",
    "    print(s1.greet())"
   ]
  },
  {
   "cell_type": "code",
   "execution_count": null,
   "metadata": {},
   "outputs": [],
   "source": []
  }
 ],
 "metadata": {
  "kernelspec": {
   "display_name": "Python 3",
   "language": "python",
   "name": "python3"
  },
  "language_info": {
   "codemirror_mode": {
    "name": "ipython",
    "version": 3
   },
   "file_extension": ".py",
   "mimetype": "text/x-python",
   "name": "python",
   "nbconvert_exporter": "python",
   "pygments_lexer": "ipython3",
   "version": "3.12.1"
  }
 },
 "nbformat": 4,
 "nbformat_minor": 2
}
