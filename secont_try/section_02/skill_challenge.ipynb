{
 "cells": [
  {
   "cell_type": "code",
   "execution_count": 2,
   "metadata": {},
   "outputs": [],
   "source": [
    "import random\n",
    "class Student:\n",
    "    educational_platform = \"Udemy.com\"\n",
    "    def __init__(self, name, age=24) -> None:\n",
    "        self.name = name\n",
    "        self.age = age\n",
    "\n",
    "    def greet(self):\n",
    "        _greeting = random.choice([\"Hello\", \"Hi\", \"Hey there\", \"Greetings\", \"Salutations\", \"Good day\", \"Howdy\", \"Yo\", \"What's up\", \"Bonjour\"])\n",
    "        return f\"{_greeting}, my name is {self.name}.\""
   ]
  },
  {
   "cell_type": "code",
   "execution_count": 8,
   "metadata": {},
   "outputs": [
    {
     "name": "stdout",
     "output_type": "stream",
     "text": [
      "Howdy, my name is John.\n",
      "Good day, my name is Andy.\n",
      "Greetings, my name is Joe.\n",
      "Good day, my name is Alice.\n",
      "Salutations, my name is Emma.\n",
      "Howdy, my name is David.\n",
      "What's up, my name is Olivia.\n",
      "Hi, my name is Sophia.\n",
      "What's up, my name is Liam.\n",
      "Howdy, my name is Ethan.\n"
     ]
    }
   ],
   "source": [
    "# List of first names and last names\n",
    "first_names = ['John', 'Andy', 'Joe', 'Alice', 'Emma', 'David', 'Olivia', 'Sophia', 'Liam', 'Ethan']\n",
    "last_names = ['Johnson', 'Smith', 'Williams', 'Brown', 'Lee', 'Garcia', 'Martinez', 'Davis', 'Anderson', 'Harris']\n",
    "\n",
    "students = [Student(name) for name in first_names]\n",
    "\n",
    "for student in students:\n",
    "    print(student.greet())"
   ]
  },
  {
   "cell_type": "code",
   "execution_count": 3,
   "metadata": {},
   "outputs": [
    {
     "data": {
      "text/plain": [
       "'Udemy.com'"
      ]
     },
     "execution_count": 3,
     "metadata": {},
     "output_type": "execute_result"
    }
   ],
   "source": [
    "s1 = Student(\"Wehn\", age=50)\n",
    "s1.educational_platform"
   ]
  },
  {
   "cell_type": "code",
   "execution_count": 4,
   "metadata": {},
   "outputs": [
    {
     "name": "stdout",
     "output_type": "stream",
     "text": [
      "Bonjour, my name is Wehn.\n",
      "Hey there, my name is Wehn.\n",
      "Hey there, my name is Wehn.\n",
      "Hey there, my name is Wehn.\n",
      "Howdy, my name is Wehn.\n",
      "Howdy, my name is Wehn.\n",
      "Hello, my name is Wehn.\n",
      "Hey there, my name is Wehn.\n",
      "What's up, my name is Wehn.\n",
      "Hey there, my name is Wehn.\n",
      "What's up, my name is Wehn.\n",
      "Hi, my name is Wehn.\n",
      "Hi, my name is Wehn.\n",
      "Yo, my name is Wehn.\n",
      "Hi, my name is Wehn.\n"
     ]
    }
   ],
   "source": [
    "for i in range(15):\n",
    "    print(s1.greet())"
   ]
  },
  {
   "cell_type": "markdown",
   "metadata": {},
   "source": [
    "# Solution"
   ]
  },
  {
   "cell_type": "code",
   "execution_count": 1,
   "metadata": {},
   "outputs": [
    {
     "name": "stdout",
     "output_type": "stream",
     "text": [
      "Hi, I'm Alice\n",
      "Hi. Oh, my name is Brian\n",
      "Hi, I'm Clayton\n",
      "Hi. Oh, my name is Deirdre\n",
      "Hi. Oh, my name is Elon\n",
      "Hey there, my name is Faye\n"
     ]
    }
   ],
   "source": [
    "from random import choice\n",
    "\n",
    "\n",
    "class Student:\n",
    "    educational_platform = \"Udemy\"\n",
    "\n",
    "    def __init__(self, name, age=34):\n",
    "        self.name = name\n",
    "        self.age = age\n",
    "\n",
    "    def greet(self):\n",
    "        _greetings = [\n",
    "            \"Hi, I'm {}\",\n",
    "            \"Hey there, my name is {}\",\n",
    "            \"Hi. Oh, my name is {}\"\n",
    "        ]\n",
    "\n",
    "        greeting = choice(_greetings)\n",
    "\n",
    "        return greeting.format(self.name)\n",
    "\n",
    "\n",
    "def class_create(student_names):\n",
    "    return [Student(name) for name in student_names]\n",
    "\n",
    "\n",
    "if __name__ == \"__main__\":\n",
    "    names = [\"Alice\", \"Brian\", \"Clayton\", \"Deirdre\", \"Elon\", \"Faye\"]\n",
    "\n",
    "    for student in class_create(names):\n",
    "        print(student.greet())\n"
   ]
  },
  {
   "cell_type": "code",
   "execution_count": null,
   "metadata": {},
   "outputs": [],
   "source": []
  }
 ],
 "metadata": {
  "kernelspec": {
   "display_name": "Python 3",
   "language": "python",
   "name": "python3"
  },
  "language_info": {
   "codemirror_mode": {
    "name": "ipython",
    "version": 3
   },
   "file_extension": ".py",
   "mimetype": "text/x-python",
   "name": "python",
   "nbconvert_exporter": "python",
   "pygments_lexer": "ipython3",
   "version": "3.12.1"
  }
 },
 "nbformat": 4,
 "nbformat_minor": 2
}
