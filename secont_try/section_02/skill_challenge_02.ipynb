{
 "cells": [
  {
   "cell_type": "code",
   "execution_count": 57,
   "metadata": {},
   "outputs": [],
   "source": [
    "import string\n",
    "from random import choices\n",
    "from copy import copy\n",
    "\n",
    "class Password:\n",
    "    pool = {\n",
    "        \"letters\":list(string.ascii_letters),\n",
    "        \"numbers\":list(string.digits),\n",
    "        \"punctuation\":list(string.punctuation)\n",
    "    }\n",
    "\n",
    "    input_lenght = {\n",
    "        \"low\":8,\n",
    "        \"mid\":12,\n",
    "        \"high\": 16\n",
    "    }\n",
    "\n",
    "    def __init__(self, lenght=None, strength=\"mid\" ) -> None:\n",
    "        self.strength = strength\n",
    "        self.lenght = lenght\n",
    "\n",
    "        self._generate()\n",
    "    \n",
    "    @classmethod\n",
    "    def show_input_universe(cls):\n",
    "        \"\"\"\n",
    "        Return pool from which characters are smapled.\n",
    "        :return: Universe\n",
    "        :rtype:dic\n",
    "        \"\"\"\n",
    "        return cls.pool\n",
    "    \n",
    "    def _generate(self):\n",
    "        \"\"\"\n",
    "        Pass according to the strength and length specified at initialization.\n",
    "        \"\"\"\n",
    "        population = copy(self.pool[\"letters\"])\n",
    "\n",
    "        lenght = int( self.lenght or self.input_lenght.get(self.strength) )\n",
    "\n",
    "        if self.strength == \"high\":\n",
    "            population += self.pool[\"numbers\"] + self.pool[\"punctuation\"]\n",
    "        else:\n",
    "            population += self.pool[\"numbers\"]\n",
    "\n",
    "        passw = list(map(str , choices(population, k=lenght)))\n",
    "        self.password = \"\".join(passw)\n"
   ]
  },
  {
   "cell_type": "code",
   "execution_count": 58,
   "metadata": {},
   "outputs": [
    {
     "data": {
      "text/plain": [
       "'8zvD3eM1m4iX'"
      ]
     },
     "execution_count": 58,
     "metadata": {},
     "output_type": "execute_result"
    }
   ],
   "source": [
    "p = Password()\n",
    "p.password"
   ]
  },
  {
   "cell_type": "code",
   "execution_count": 59,
   "metadata": {},
   "outputs": [
    {
     "data": {
      "text/plain": [
       "'/\\'~8!pVQ;3o\"+$51R+,PJx2KdH0[mYhLMm}_CM6N*P$b@10AW~T?Y;i\\'>;wCf0@P'"
      ]
     },
     "execution_count": 59,
     "metadata": {},
     "output_type": "execute_result"
    }
   ],
   "source": [
    "p = Password(64, \"high\")\n",
    "p.password"
   ]
  },
  {
   "cell_type": "code",
   "execution_count": 60,
   "metadata": {},
   "outputs": [
    {
     "data": {
      "text/plain": [
       "'YMjGDyb1lIwE'"
      ]
     },
     "execution_count": 60,
     "metadata": {},
     "output_type": "execute_result"
    }
   ],
   "source": [
    "p = Password()\n",
    "p.password"
   ]
  },
  {
   "cell_type": "code",
   "execution_count": null,
   "metadata": {},
   "outputs": [],
   "source": []
  }
 ],
 "metadata": {
  "kernelspec": {
   "display_name": "Python 3",
   "language": "python",
   "name": "python3"
  },
  "language_info": {
   "codemirror_mode": {
    "name": "ipython",
    "version": 3
   },
   "file_extension": ".py",
   "mimetype": "text/x-python",
   "name": "python",
   "nbconvert_exporter": "python",
   "pygments_lexer": "ipython3",
   "version": "3.12.1"
  }
 },
 "nbformat": 4,
 "nbformat_minor": 2
}
