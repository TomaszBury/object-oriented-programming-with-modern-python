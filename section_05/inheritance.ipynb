{
 "cells": [
  {
   "attachments": {},
   "cell_type": "markdown",
   "metadata": {},
   "source": [
    "# Inheritance  \n",
    "class -> object"
   ]
  },
  {
   "cell_type": "code",
   "execution_count": 939,
   "metadata": {},
   "outputs": [],
   "source": [
    "# superclass or base class or parent class\n",
    "class Virus:\n",
    "    pass\n",
    "\n",
    "# derived class, or child class\n",
    "# or subclass or subtype\n",
    "class RNAVirus(Virus):\n",
    "    pass"
   ]
  },
  {
   "cell_type": "code",
   "execution_count": 940,
   "metadata": {},
   "outputs": [],
   "source": [
    "# \"is a \" relationships"
   ]
  },
  {
   "cell_type": "code",
   "execution_count": 941,
   "metadata": {},
   "outputs": [],
   "source": [
    "class Virus:\n",
    "    pass\n",
    "\n",
    "class RNAVirus(Virus):\n",
    "    pass\n",
    "\n",
    "class Coronavirus(RNAVirus):\n",
    "    pass\n",
    "\n",
    "class SARSCov2(Coronavirus):\n",
    "    pass"
   ]
  },
  {
   "cell_type": "code",
   "execution_count": 942,
   "metadata": {},
   "outputs": [
    {
     "data": {
      "text/plain": [
       "True"
      ]
     },
     "execution_count": 942,
     "metadata": {},
     "output_type": "execute_result"
    }
   ],
   "source": [
    "issubclass(SARSCov2, Coronavirus)"
   ]
  },
  {
   "cell_type": "code",
   "execution_count": 943,
   "metadata": {},
   "outputs": [
    {
     "data": {
      "text/plain": [
       "True"
      ]
     },
     "execution_count": 943,
     "metadata": {},
     "output_type": "execute_result"
    }
   ],
   "source": [
    "issubclass(Coronavirus, RNAVirus)"
   ]
  },
  {
   "cell_type": "code",
   "execution_count": 944,
   "metadata": {},
   "outputs": [
    {
     "data": {
      "text/plain": [
       "False"
      ]
     },
     "execution_count": 944,
     "metadata": {},
     "output_type": "execute_result"
    }
   ],
   "source": [
    "isinstance(SARSCov2, Virus)"
   ]
  },
  {
   "attachments": {},
   "cell_type": "markdown",
   "metadata": {},
   "source": [
    "# What's inheritance good for?"
   ]
  },
  {
   "cell_type": "code",
   "execution_count": 945,
   "metadata": {},
   "outputs": [],
   "source": [
    "class Virus:\n",
    "    # Name\n",
    "    # reproduction_rate\n",
    "    # resisttance\n",
    "    # host\n",
    "    # viral_load\n",
    "    def __init__(self, name, reproduction_rate, resistance) -> None:\n",
    "        self.name = name\n",
    "        self.reproduction_rate = reproduction_rate\n",
    "        self.load = 1\n",
    "        self.host = None\n",
    "    \n",
    "    def infect(self, host):\n",
    "        self.host = host\n",
    "\n",
    "    def reproduce(self):\n",
    "        if self.host is not None:\n",
    "            self.load *= (1 + self.reproduction_rate)\n",
    "            return True, f\"Virus reproduced in {self.host}. Viral load: {int(self.load)}\"\n",
    "        raise AttributeError(\"Virus needs to infect a host before being able to reproduce.\")"
   ]
  },
  {
   "cell_type": "code",
   "execution_count": 946,
   "metadata": {},
   "outputs": [],
   "source": [
    "v = Virus(\"chandipura\", 1.2, 1.1)"
   ]
  },
  {
   "attachments": {},
   "cell_type": "markdown",
   "metadata": {},
   "source": [
    "```python\n",
    "v.reproduce()\n",
    "\n",
    "---------------------------------------------------------------------------\n",
    "AttributeError                            Traceback (most recent call last)\n",
    "Cell In[193], line 1\n",
    "----> 1 v.reproduce()\n",
    "\n",
    "Cell In[191], line 20, in Virus.reproduce(self)\n",
    "     18     self.load *= (1 + self.reproduction_rate)\n",
    "     19     return True, f\"Virus reproduced in {self.host}. Viral load: {int(self.load)}\"\n",
    "---> 20 raise AttributeError(\"Virus needs to infect a host before being able to reproduce.\")\n",
    "\n",
    "AttributeError: Virus needs to infect a host before being able to reproduce.\n",
    "```"
   ]
  },
  {
   "cell_type": "code",
   "execution_count": 947,
   "metadata": {},
   "outputs": [],
   "source": [
    "v.infect(\"animal\")"
   ]
  },
  {
   "cell_type": "code",
   "execution_count": 948,
   "metadata": {},
   "outputs": [
    {
     "data": {
      "text/plain": [
       "(True, 'Virus reproduced in animal. Viral load: 2')"
      ]
     },
     "execution_count": 948,
     "metadata": {},
     "output_type": "execute_result"
    }
   ],
   "source": [
    "v.reproduce()"
   ]
  },
  {
   "cell_type": "code",
   "execution_count": 949,
   "metadata": {},
   "outputs": [],
   "source": [
    "class RNAVirus(Virus):\n",
    "    genome = \"ribonucleic\"\n",
    "\n",
    "    def reproduce(self):\n",
    "        success, status = Virus.reproduce(self=self)\n",
    "\n",
    "        if success:\n",
    "            print(f\"{self.name} just replicated in cytoplasma of {self.host} cells.\")"
   ]
  },
  {
   "cell_type": "code",
   "execution_count": 950,
   "metadata": {},
   "outputs": [],
   "source": [
    "class DNAVirus(Virus):\n",
    "    genome = \"deoxyribonucleic\"\n",
    "\n",
    "    def reproduce(self):\n",
    "        success, status = Virus.reproduce(self=self)\n",
    "\n",
    "        if success:\n",
    "            print(f\"{self.name} just replicated in nucleus of {self.host} cells.\")"
   ]
  },
  {
   "cell_type": "code",
   "execution_count": 951,
   "metadata": {},
   "outputs": [],
   "source": [
    "r = RNAVirus(\"HIV\", 1.1, 0.2)"
   ]
  },
  {
   "attachments": {},
   "cell_type": "markdown",
   "metadata": {},
   "source": [
    "```python\n",
    "r.reproduce()\n",
    "\n",
    "---------------------------------------------------------------------------\n",
    "AttributeError                            Traceback (most recent call last)\n",
    "Cell In[208], line 1\n",
    "----> 1 r.reproduce()\n",
    "\n",
    "Cell In[205], line 5, in RNAVirus.reproduce(self)\n",
    "      4 def reproduce(self):\n",
    "----> 5     success, status = Virus.reproduce(self=self)\n",
    "      7     if success:\n",
    "      8         print(f\"{self.name} just replicated in cytoplasma of {self.host} cells.\")\n",
    "\n",
    "Cell In[201], line 20, in Virus.reproduce(self)\n",
    "     18     self.load *= (1 + self.reproduction_rate)\n",
    "     19     return True, f\"Virus reproduced in {self.host}. Viral load: {int(self.load)}\"\n",
    "---> 20 raise AttributeError(\"Virus needs to infect a host before being able to reproduce.\")\n",
    "\n",
    "AttributeError: Virus needs to infect a host before being able to reproduce.\n",
    "```"
   ]
  },
  {
   "cell_type": "code",
   "execution_count": 952,
   "metadata": {},
   "outputs": [],
   "source": [
    "r.infect(\"monkey_0\")"
   ]
  },
  {
   "cell_type": "code",
   "execution_count": 953,
   "metadata": {},
   "outputs": [
    {
     "name": "stdout",
     "output_type": "stream",
     "text": [
      "HIV just replicated in cytoplasma of monkey_0 cells.\n"
     ]
    }
   ],
   "source": [
    "r.reproduce()"
   ]
  },
  {
   "cell_type": "code",
   "execution_count": 954,
   "metadata": {},
   "outputs": [],
   "source": [
    "d = DNAVirus(\"Ecoli\", 2.1, 0.2)"
   ]
  },
  {
   "cell_type": "code",
   "execution_count": 955,
   "metadata": {},
   "outputs": [],
   "source": [
    "d.infect(\"sheep_1\")"
   ]
  },
  {
   "cell_type": "code",
   "execution_count": 956,
   "metadata": {},
   "outputs": [
    {
     "name": "stdout",
     "output_type": "stream",
     "text": [
      "Ecoli just replicated in nucleus of sheep_1 cells.\n"
     ]
    }
   ],
   "source": [
    "d.reproduce()"
   ]
  },
  {
   "attachments": {},
   "cell_type": "markdown",
   "metadata": {},
   "source": [
    "# All Classes Inherit From object"
   ]
  },
  {
   "cell_type": "code",
   "execution_count": 957,
   "metadata": {},
   "outputs": [],
   "source": [
    "class Virus:\n",
    "    pass\n",
    "\n",
    "class RNAVirus(Virus):\n",
    "    pass"
   ]
  },
  {
   "cell_type": "code",
   "execution_count": 958,
   "metadata": {},
   "outputs": [
    {
     "data": {
      "text/plain": [
       "object"
      ]
     },
     "execution_count": 958,
     "metadata": {},
     "output_type": "execute_result"
    }
   ],
   "source": [
    "object"
   ]
  },
  {
   "cell_type": "code",
   "execution_count": 959,
   "metadata": {},
   "outputs": [
    {
     "data": {
      "text/plain": [
       "<object at 0x143d32a7650>"
      ]
     },
     "execution_count": 959,
     "metadata": {},
     "output_type": "execute_result"
    }
   ],
   "source": [
    "object()"
   ]
  },
  {
   "cell_type": "code",
   "execution_count": 960,
   "metadata": {},
   "outputs": [],
   "source": [
    "# sentinel"
   ]
  },
  {
   "cell_type": "code",
   "execution_count": 961,
   "metadata": {},
   "outputs": [],
   "source": [
    "o1 = object()\n",
    "o2 = object()"
   ]
  },
  {
   "cell_type": "code",
   "execution_count": 962,
   "metadata": {},
   "outputs": [
    {
     "data": {
      "text/plain": [
       "False"
      ]
     },
     "execution_count": 962,
     "metadata": {},
     "output_type": "execute_result"
    }
   ],
   "source": [
    "o1 is o2"
   ]
  },
  {
   "cell_type": "code",
   "execution_count": 963,
   "metadata": {},
   "outputs": [
    {
     "data": {
      "text/plain": [
       "False"
      ]
     },
     "execution_count": 963,
     "metadata": {},
     "output_type": "execute_result"
    }
   ],
   "source": [
    "o1 == o2"
   ]
  },
  {
   "cell_type": "code",
   "execution_count": 964,
   "metadata": {},
   "outputs": [
    {
     "data": {
      "text/plain": [
       "1390817211920"
      ]
     },
     "execution_count": 964,
     "metadata": {},
     "output_type": "execute_result"
    }
   ],
   "source": [
    "id(o1)"
   ]
  },
  {
   "cell_type": "code",
   "execution_count": 965,
   "metadata": {},
   "outputs": [
    {
     "data": {
      "text/plain": [
       "object"
      ]
     },
     "execution_count": 965,
     "metadata": {},
     "output_type": "execute_result"
    }
   ],
   "source": [
    "o1.__class__"
   ]
  },
  {
   "cell_type": "code",
   "execution_count": 966,
   "metadata": {},
   "outputs": [
    {
     "data": {
      "text/plain": [
       "<method-wrapper '__repr__' of object object at 0x00000143D32A7610>"
      ]
     },
     "execution_count": 966,
     "metadata": {},
     "output_type": "execute_result"
    }
   ],
   "source": [
    "o1.__repr__"
   ]
  },
  {
   "cell_type": "code",
   "execution_count": 967,
   "metadata": {},
   "outputs": [
    {
     "data": {
      "text/plain": [
       "<method-wrapper '__hash__' of object object at 0x00000143D32A7610>"
      ]
     },
     "execution_count": 967,
     "metadata": {},
     "output_type": "execute_result"
    }
   ],
   "source": [
    "o1.__hash__"
   ]
  },
  {
   "cell_type": "code",
   "execution_count": 968,
   "metadata": {},
   "outputs": [],
   "source": [
    "class TempVirus:\n",
    "    pass"
   ]
  },
  {
   "cell_type": "code",
   "execution_count": 969,
   "metadata": {},
   "outputs": [
    {
     "data": {
      "text/plain": [
       "[<__main__.TempVirus at 0x143d2cca650>,\n",
       " <__main__.TempVirus at 0x143d35b2290>,\n",
       " <__main__.TempVirus at 0x143d352e8d0>,\n",
       " <__main__.TempVirus at 0x143d352d690>]"
      ]
     },
     "execution_count": 969,
     "metadata": {},
     "output_type": "execute_result"
    }
   ],
   "source": [
    "[TempVirus() for i in range(4)]"
   ]
  },
  {
   "cell_type": "code",
   "execution_count": 970,
   "metadata": {},
   "outputs": [],
   "source": [
    "# object is callable is because its type implements __call__"
   ]
  },
  {
   "cell_type": "code",
   "execution_count": 971,
   "metadata": {},
   "outputs": [],
   "source": [
    "class TempVirus():\n",
    "    pass"
   ]
  },
  {
   "attachments": {},
   "cell_type": "markdown",
   "metadata": {},
   "source": [
    "# same as"
   ]
  },
  {
   "cell_type": "code",
   "execution_count": 972,
   "metadata": {},
   "outputs": [],
   "source": [
    "class TempVirus(object):\n",
    "    pass"
   ]
  },
  {
   "cell_type": "code",
   "execution_count": 973,
   "metadata": {},
   "outputs": [
    {
     "data": {
      "text/plain": [
       "<method-wrapper '__call__' of type object at 0x00000143D1BE9320>"
      ]
     },
     "execution_count": 973,
     "metadata": {},
     "output_type": "execute_result"
    }
   ],
   "source": [
    "TempVirus.__call__"
   ]
  },
  {
   "attachments": {},
   "cell_type": "markdown",
   "metadata": {},
   "source": [
    "# Method resolution order"
   ]
  },
  {
   "cell_type": "code",
   "execution_count": 974,
   "metadata": {},
   "outputs": [],
   "source": [
    "class TempVirus():\n",
    "    attr = \"some_calss_attribute\"\n",
    "    attr_other = \"some_other_class_attribute\"\n",
    "\n",
    "    def __init__(self, attr):\n",
    "        self.attr = attr"
   ]
  },
  {
   "cell_type": "code",
   "execution_count": 975,
   "metadata": {},
   "outputs": [],
   "source": [
    "# __dict__"
   ]
  },
  {
   "cell_type": "code",
   "execution_count": 976,
   "metadata": {},
   "outputs": [],
   "source": [
    "v1 = TempVirus(\"instance_attribute\")"
   ]
  },
  {
   "cell_type": "code",
   "execution_count": 977,
   "metadata": {},
   "outputs": [
    {
     "data": {
      "text/plain": [
       "'instance_attribute'"
      ]
     },
     "execution_count": 977,
     "metadata": {},
     "output_type": "execute_result"
    }
   ],
   "source": [
    "v1.attr"
   ]
  },
  {
   "cell_type": "code",
   "execution_count": 978,
   "metadata": {},
   "outputs": [
    {
     "data": {
      "text/plain": [
       "{'attr': 'instance_attribute'}"
      ]
     },
     "execution_count": 978,
     "metadata": {},
     "output_type": "execute_result"
    }
   ],
   "source": [
    "v1.__dict__"
   ]
  },
  {
   "cell_type": "code",
   "execution_count": 979,
   "metadata": {},
   "outputs": [
    {
     "data": {
      "text/plain": [
       "'some_other_class_attribute'"
      ]
     },
     "execution_count": 979,
     "metadata": {},
     "output_type": "execute_result"
    }
   ],
   "source": [
    "v1.attr_other"
   ]
  },
  {
   "cell_type": "code",
   "execution_count": 980,
   "metadata": {},
   "outputs": [
    {
     "data": {
      "text/plain": [
       "mappingproxy({'__module__': '__main__',\n",
       "              'attr': 'some_calss_attribute',\n",
       "              'attr_other': 'some_other_class_attribute',\n",
       "              '__init__': <function __main__.TempVirus.__init__(self, attr)>,\n",
       "              '__dict__': <attribute '__dict__' of 'TempVirus' objects>,\n",
       "              '__weakref__': <attribute '__weakref__' of 'TempVirus' objects>,\n",
       "              '__doc__': None})"
      ]
     },
     "execution_count": 980,
     "metadata": {},
     "output_type": "execute_result"
    }
   ],
   "source": [
    "type(v1).__dict__"
   ]
  },
  {
   "cell_type": "code",
   "execution_count": 981,
   "metadata": {},
   "outputs": [
    {
     "data": {
      "text/plain": [
       "mappingproxy({'__module__': '__main__',\n",
       "              'attr': 'some_calss_attribute',\n",
       "              'attr_other': 'some_other_class_attribute',\n",
       "              '__init__': <function __main__.TempVirus.__init__(self, attr)>,\n",
       "              '__dict__': <attribute '__dict__' of 'TempVirus' objects>,\n",
       "              '__weakref__': <attribute '__weakref__' of 'TempVirus' objects>,\n",
       "              '__doc__': None})"
      ]
     },
     "execution_count": 981,
     "metadata": {},
     "output_type": "execute_result"
    }
   ],
   "source": [
    "TempVirus.__dict__"
   ]
  },
  {
   "cell_type": "code",
   "execution_count": 982,
   "metadata": {},
   "outputs": [
    {
     "data": {
      "text/plain": [
       "mappingproxy({'__module__': '__main__',\n",
       "              'attr': 'some_calss_attribute',\n",
       "              'attr_other': 'some_other_class_attribute',\n",
       "              '__init__': <function __main__.TempVirus.__init__(self, attr)>,\n",
       "              '__dict__': <attribute '__dict__' of 'TempVirus' objects>,\n",
       "              '__weakref__': <attribute '__weakref__' of 'TempVirus' objects>,\n",
       "              '__doc__': None})"
      ]
     },
     "execution_count": 982,
     "metadata": {},
     "output_type": "execute_result"
    }
   ],
   "source": [
    "v1.__class__.__dict__"
   ]
  },
  {
   "attachments": {},
   "cell_type": "markdown",
   "metadata": {},
   "source": [
    "```python\n",
    "insstance -> class -> superclass(s) -> object, else AttributeError\n",
    "```"
   ]
  },
  {
   "attachments": {},
   "cell_type": "markdown",
   "metadata": {},
   "source": [
    "```python\n",
    "\n",
    "v1.imaginary\n",
    "\n",
    "---------------------------------------------------------------------------\n",
    "AttributeError                            Traceback (most recent call last)\n",
    "Cell In[29], line 1\n",
    "----> 1 v1.imaginary\n",
    "\n",
    "AttributeError: 'TempVirus' object has no attribute 'imaginary'\n",
    "\n",
    "```"
   ]
  },
  {
   "cell_type": "code",
   "execution_count": 983,
   "metadata": {},
   "outputs": [
    {
     "data": {
      "text/plain": [
       "(object,)"
      ]
     },
     "execution_count": 983,
     "metadata": {},
     "output_type": "execute_result"
    }
   ],
   "source": [
    "TempVirus.__bases__"
   ]
  },
  {
   "cell_type": "code",
   "execution_count": 984,
   "metadata": {},
   "outputs": [
    {
     "data": {
      "text/plain": [
       "(__main__.Virus,)"
      ]
     },
     "execution_count": 984,
     "metadata": {},
     "output_type": "execute_result"
    }
   ],
   "source": [
    "RNAVirus.__bases__"
   ]
  },
  {
   "cell_type": "code",
   "execution_count": 985,
   "metadata": {},
   "outputs": [
    {
     "data": {
      "text/plain": [
       "(__main__.RNAVirus,)"
      ]
     },
     "execution_count": 985,
     "metadata": {},
     "output_type": "execute_result"
    }
   ],
   "source": [
    "Coronavirus.__bases__"
   ]
  },
  {
   "attachments": {},
   "cell_type": "markdown",
   "metadata": {},
   "source": [
    "# __mro__ --> method resolution order"
   ]
  },
  {
   "cell_type": "code",
   "execution_count": 986,
   "metadata": {},
   "outputs": [
    {
     "data": {
      "text/plain": [
       "(__main__.RNAVirus, __main__.Virus, object)"
      ]
     },
     "execution_count": 986,
     "metadata": {},
     "output_type": "execute_result"
    }
   ],
   "source": [
    "RNAVirus.__mro__"
   ]
  },
  {
   "cell_type": "code",
   "execution_count": 987,
   "metadata": {},
   "outputs": [
    {
     "data": {
      "text/plain": [
       "(__main__.Coronavirus, __main__.RNAVirus, __main__.Virus, object)"
      ]
     },
     "execution_count": 987,
     "metadata": {},
     "output_type": "execute_result"
    }
   ],
   "source": [
    "Coronavirus.__mro__"
   ]
  },
  {
   "attachments": {},
   "cell_type": "markdown",
   "metadata": {},
   "source": [
    "# Subclass Overrides"
   ]
  },
  {
   "cell_type": "code",
   "execution_count": 988,
   "metadata": {},
   "outputs": [],
   "source": [
    "from random import getrandbits"
   ]
  },
  {
   "cell_type": "code",
   "execution_count": 989,
   "metadata": {},
   "outputs": [
    {
     "name": "stdout",
     "output_type": "stream",
     "text": [
      "0\n",
      "1\n",
      "1\n",
      "0\n"
     ]
    }
   ],
   "source": [
    "for i in range(4):\n",
    "    print(getrandbits(1))"
   ]
  },
  {
   "cell_type": "code",
   "execution_count": 990,
   "metadata": {},
   "outputs": [],
   "source": [
    "class Virus:\n",
    "    def __init__(self, name, reproduction_rate, resistance):\n",
    "        self.name = name\n",
    "        self.reproduction_rate = reproduction_rate\n",
    "        self.load = 1\n",
    "        self.host = None\n",
    "    \n",
    "    def infect(self, host):\n",
    "        self.host = host\n",
    "\n",
    "    def reproduce(self):\n",
    "        if self.host is not None:\n",
    "            self.load *= (1 + self.reproduction_rate)\n",
    "\n",
    "            should_mutate = getrandbits(1)\n",
    "            print(f\"Should mutate: {should_mutate}.\")\n",
    "            \n",
    "            if should_mutate:\n",
    "                try:\n",
    "                    self.mutate()\n",
    "                except AttributeError:\n",
    "                    pass\n",
    "\n",
    "            return True, f\"Virus reproduced in {self.host}. Viral load: {int(self.load)}.\"\n",
    "        raise AttributeError(\"Virus needs to infect a host before being able to reproduce.\")\n",
    "\n",
    "class RNAVirus(Virus):\n",
    "    genome = \"ribonucleic\"\n",
    "\n",
    "    def reproduce(self):\n",
    "        success, status = Virus.reproduce(self)\n",
    "\n",
    "        if success:\n",
    "            print(f\"{self.name} just replicated in the cytoplasm of {self.host} cells.\")\n",
    "\n",
    "class DNAVirus(Virus):\n",
    "    genome = 'deoxyribonucleic'\n",
    "\n",
    "    def reproduce(self):\n",
    "        success, status = Virus.reproduce(self)\n",
    "\n",
    "        if success:\n",
    "            print(f\"{self.name} just relicated in the nucleus of {self.host} cells.\")"
   ]
  },
  {
   "cell_type": "code",
   "execution_count": 991,
   "metadata": {},
   "outputs": [],
   "source": [
    "class CoronaVirus(RNAVirus):\n",
    "    def infect(self):\n",
    "        print(\"A coronavirus specific method with a different signature from the parent's.\")\n",
    "\n",
    "        raise NotImplementedError()\n"
   ]
  },
  {
   "cell_type": "code",
   "execution_count": 992,
   "metadata": {},
   "outputs": [],
   "source": [
    "cv = CoronaVirus(\"MERS\", .1, .2)"
   ]
  },
  {
   "attachments": {},
   "cell_type": "markdown",
   "metadata": {},
   "source": [
    "```python\n",
    "cv.infect()\n",
    "\n",
    "A coronavirus specific method with a different signature from the parent\\'s.\n",
    "---------------------------------------------------------------------------\n",
    "NotImplementedError                       Traceback (most recent call last)\n",
    "Cell In[83], line 1\n",
    "----> 1 cv.infect()\n",
    "\n",
    "Cell In[81], line 5, in CoronaVirus.infect(self)\n",
    "      2 def infect(self):\n",
    "      3     print(\"A coronavirus specific method with a different signature from the parent's.\")\n",
    "----> 5     raise NotImplementedError()\n",
    "\n",
    "NotImplementedError: \n",
    "\n",
    "```"
   ]
  },
  {
   "cell_type": "code",
   "execution_count": 993,
   "metadata": {},
   "outputs": [
    {
     "data": {
      "text/plain": [
       "(__main__.CoronaVirus, __main__.RNAVirus, __main__.Virus, object)"
      ]
     },
     "execution_count": 993,
     "metadata": {},
     "output_type": "execute_result"
    }
   ],
   "source": [
    "CoronaVirus.__mro__"
   ]
  },
  {
   "cell_type": "code",
   "execution_count": 994,
   "metadata": {},
   "outputs": [],
   "source": [
    "class CoronaVirus(RNAVirus):\n",
    "    pass"
   ]
  },
  {
   "cell_type": "code",
   "execution_count": 995,
   "metadata": {},
   "outputs": [],
   "source": [
    "class SARSCov2(CoronaVirus):\n",
    "    def mutate(self):\n",
    "        print(f\"The {self.name} virus just mutated its spike protein.\")"
   ]
  },
  {
   "cell_type": "code",
   "execution_count": 996,
   "metadata": {},
   "outputs": [],
   "source": [
    "cv = SARSCov2(\"Oryginal\", 2.9, 1.2)"
   ]
  },
  {
   "cell_type": "code",
   "execution_count": 997,
   "metadata": {},
   "outputs": [],
   "source": [
    "cv.infect(\"Tobi\")"
   ]
  },
  {
   "cell_type": "code",
   "execution_count": 998,
   "metadata": {},
   "outputs": [
    {
     "name": "stdout",
     "output_type": "stream",
     "text": [
      "Should mutate: 0.\n",
      "Oryginal just replicated in the cytoplasm of Tobi cells.\n",
      "None \n",
      "\n",
      "Should mutate: 0.\n",
      "Oryginal just replicated in the cytoplasm of Tobi cells.\n",
      "None \n",
      "\n",
      "Should mutate: 0.\n",
      "Oryginal just replicated in the cytoplasm of Tobi cells.\n",
      "None \n",
      "\n",
      "Should mutate: 1.\n",
      "The Oryginal virus just mutated its spike protein.\n",
      "Oryginal just replicated in the cytoplasm of Tobi cells.\n",
      "None \n",
      "\n",
      "Should mutate: 1.\n",
      "The Oryginal virus just mutated its spike protein.\n",
      "Oryginal just replicated in the cytoplasm of Tobi cells.\n",
      "None \n",
      "\n",
      "Should mutate: 1.\n",
      "The Oryginal virus just mutated its spike protein.\n",
      "Oryginal just replicated in the cytoplasm of Tobi cells.\n",
      "None \n",
      "\n"
     ]
    }
   ],
   "source": [
    "for _ in range(6):\n",
    "    print(cv.reproduce(), \"\\n\")"
   ]
  },
  {
   "attachments": {},
   "cell_type": "markdown",
   "metadata": {},
   "source": [
    "# Better Parent Delegation: super()"
   ]
  },
  {
   "cell_type": "code",
   "execution_count": 999,
   "metadata": {},
   "outputs": [],
   "source": [
    "class Virus:\n",
    "    def __init__(self, name, reproduction_rate, resistance):\n",
    "        self.name = name\n",
    "        self.reproduction_rate = reproduction_rate\n",
    "        self.load = 1 \n",
    "        self.host = None\n",
    "\n",
    "    def infect(self, host):\n",
    "        self.host = host\n",
    "\n",
    "    def reproduce(self):\n",
    "        if self.host is not None:\n",
    "            self.load *= (1 + self.reproduction_rate)\n",
    "\n",
    "            should_mutate = getrandbits(1)\n",
    "            print(f\"Should mutate: {should_mutate}\")\n",
    "\n",
    "            if should_mutate:\n",
    "                try:\n",
    "                    self.mutate()\n",
    "                except AttributeError:\n",
    "                    pass\n",
    "            \n",
    "            return True, f\"Virus reproduced in {self.host}. Viral load: {int(self.load)}.\"\n",
    "\n",
    "        raise AttributeError(\"Virus needs to infect a host before being able to reproduce.\")"
   ]
  },
  {
   "cell_type": "code",
   "execution_count": 1000,
   "metadata": {},
   "outputs": [],
   "source": [
    "class RNAVirus(Virus):\n",
    "    genome = \"ribonucleic\"\n",
    "\n",
    "    def reproduce(self):\n",
    "        # success, status = Virus.reproduce(self)\n",
    "        success, status = super().reproduce()\n",
    "\n",
    "        if success:\n",
    "            print(f\"{self.name} just relicated in the cytoplasm of {self.host} cells.\")"
   ]
  },
  {
   "cell_type": "code",
   "execution_count": 1001,
   "metadata": {},
   "outputs": [],
   "source": [
    "class DNAVirus(Virus):\n",
    "    genome = \"deoxyribonucleic\"\n",
    "\n",
    "    def reproduce(self):\n",
    "        success, status = Virus.reproduce(self)\n",
    "\n",
    "        if success:\n",
    "            print(f\"{self.name} just replicated in the nucleus of {self.host} cells.\")\n",
    "\n",
    "class CoronaVirus(RNAVirus):\n",
    "    pass\n",
    "\n",
    "class SARCov2(CoronaVirus):\n",
    "    def mutate(self):\n",
    "        print(f\"The {self.name} virus just mutated its spike protein.\")"
   ]
  },
  {
   "cell_type": "code",
   "execution_count": 1002,
   "metadata": {},
   "outputs": [],
   "source": [
    "rv = RNAVirus(\"a\", 1.1, 1.2)\n",
    "dv = DNAVirus(\"dv\", 1.3, 1.2)"
   ]
  },
  {
   "cell_type": "code",
   "execution_count": 1003,
   "metadata": {},
   "outputs": [],
   "source": [
    "rv.infect(\"Andrew\")\n",
    "dv.infect(\"Tobi\")"
   ]
  },
  {
   "cell_type": "code",
   "execution_count": 1004,
   "metadata": {},
   "outputs": [
    {
     "name": "stdout",
     "output_type": "stream",
     "text": [
      "Should mutate: 0\n",
      "a just relicated in the cytoplasm of Andrew cells.\n"
     ]
    }
   ],
   "source": [
    "rv.reproduce()"
   ]
  },
  {
   "cell_type": "code",
   "execution_count": 1005,
   "metadata": {},
   "outputs": [
    {
     "name": "stdout",
     "output_type": "stream",
     "text": [
      "Should mutate: 0\n",
      "dv just replicated in the nucleus of Tobi cells.\n"
     ]
    }
   ],
   "source": [
    "dv.reproduce()"
   ]
  },
  {
   "attachments": {},
   "cell_type": "markdown",
   "metadata": {},
   "source": [
    "# Subclass __init__"
   ]
  },
  {
   "cell_type": "code",
   "execution_count": 1006,
   "metadata": {},
   "outputs": [],
   "source": [
    "class Virus:\n",
    "    def __init__(self, name, reproduction_rate, resistance):\n",
    "        self.name = name\n",
    "        self.reproduction_rate = reproduction_rate\n",
    "        self.load = 1 \n",
    "        self.host = None\n",
    "\n",
    "    def infect(self, host):\n",
    "        self.host = host\n",
    "\n",
    "    def reproduce(self):\n",
    "        if self.host is not None:\n",
    "            self.load *= (1 + self.reproduction_rate)\n",
    "\n",
    "            should_mutate = getrandbits(1)\n",
    "            print(f\"Should mutate: {should_mutate}\")\n",
    "\n",
    "            if should_mutate:\n",
    "                try:\n",
    "                    self.mutate() # type: ignore\n",
    "                except AttributeError:\n",
    "                    pass\n",
    "            \n",
    "            return True, f\"Virus reproduced in {self.host}. Viral load: {int(self.load)}.\"\n",
    "\n",
    "        raise AttributeError(\"Virus needs to infect a host before being able to reproduce.\")\n",
    "    \n",
    "class RNAVirus(Virus):\n",
    "    genome = \"ribonucleic\"\n",
    "\n",
    "    def reproduce(self):\n",
    "        # success, status = Virus.reproduce(self)\n",
    "        success, status = super().reproduce()\n",
    "\n",
    "        if success:\n",
    "            print(f\"{self.name} just relicated in the cytoplasm of {self.host} cells.\")\n",
    "\n",
    "class DNAVirus(Virus):\n",
    "    genome = \"deoxyribonucleic\"\n",
    "\n",
    "    def reproduce(self):\n",
    "        success, status = Virus.reproduce(self)\n",
    "\n",
    "        if success:\n",
    "            print(f\"{self.name} just replicated in the nucleus of {self.host} cells.\")\n",
    "\n",
    "class CoronaVirus(RNAVirus):\n",
    "    pass\n",
    "\n",
    "class SARSCov2(CoronaVirus):\n",
    "    def __init__(self, variant):\n",
    "        self.variant = variant\n",
    "\n",
    "\n",
    "    def mutate(self):\n",
    "        print(f\"The {self.name} virus just mutated its spike protein.\")"
   ]
  },
  {
   "cell_type": "code",
   "execution_count": 1007,
   "metadata": {},
   "outputs": [],
   "source": [
    "cv = SARSCov2(\"Omicron\")"
   ]
  },
  {
   "cell_type": "code",
   "execution_count": 1008,
   "metadata": {},
   "outputs": [
    {
     "data": {
      "text/plain": [
       "<__main__.SARSCov2 at 0x143d34b7d10>"
      ]
     },
     "execution_count": 1008,
     "metadata": {},
     "output_type": "execute_result"
    }
   ],
   "source": [
    "cv"
   ]
  },
  {
   "attachments": {},
   "cell_type": "markdown",
   "metadata": {},
   "source": [
    "```python\n",
    "cv.reproduction_rate\n",
    "\n",
    "---------------------------------------------------------------------------\n",
    "AttributeError                            Traceback (most recent call last)\n",
    "Cell In[75], line 1\n",
    "----> 1 cv.reproduction_rate\n",
    "\n",
    "AttributeError: 'SARSCov2' object has no attribute 'reproduction_rate'\n",
    "```"
   ]
  },
  {
   "cell_type": "code",
   "execution_count": 1009,
   "metadata": {},
   "outputs": [
    {
     "data": {
      "text/plain": [
       "{'variant': 'Omicron'}"
      ]
     },
     "execution_count": 1009,
     "metadata": {},
     "output_type": "execute_result"
    }
   ],
   "source": [
    "cv.__dict__"
   ]
  },
  {
   "cell_type": "code",
   "execution_count": 1010,
   "metadata": {},
   "outputs": [],
   "source": [
    "class SARSCov2(CoronaVirus):\n",
    "    def __init__(self, variant):\n",
    "        super().__init__(\"SARSCovid2\", 2.49, 1.3)\n",
    "        self.variant = variant\n",
    "\n",
    "\n",
    "    def mutate(self):\n",
    "        print(f\"The {self.name} virus just mutated its spike protein.\")"
   ]
  },
  {
   "cell_type": "code",
   "execution_count": 1011,
   "metadata": {},
   "outputs": [],
   "source": [
    "cv = SARSCov2(\"Omnicorn\")"
   ]
  },
  {
   "cell_type": "code",
   "execution_count": 1012,
   "metadata": {},
   "outputs": [
    {
     "data": {
      "text/plain": [
       "2.49"
      ]
     },
     "execution_count": 1012,
     "metadata": {},
     "output_type": "execute_result"
    }
   ],
   "source": [
    "cv.reproduction_rate"
   ]
  },
  {
   "cell_type": "code",
   "execution_count": 1013,
   "metadata": {},
   "outputs": [
    {
     "data": {
      "text/plain": [
       "{'name': 'SARSCovid2',\n",
       " 'reproduction_rate': 2.49,\n",
       " 'load': 1,\n",
       " 'host': None,\n",
       " 'variant': 'Omnicorn'}"
      ]
     },
     "execution_count": 1013,
     "metadata": {},
     "output_type": "execute_result"
    }
   ],
   "source": [
    "cv.__dict__"
   ]
  },
  {
   "cell_type": "code",
   "execution_count": 1014,
   "metadata": {},
   "outputs": [
    {
     "data": {
      "text/plain": [
       "(__main__.SARSCov2,\n",
       " __main__.CoronaVirus,\n",
       " __main__.RNAVirus,\n",
       " __main__.Virus,\n",
       " object)"
      ]
     },
     "execution_count": 1014,
     "metadata": {},
     "output_type": "execute_result"
    }
   ],
   "source": [
    "SARSCov2.__mro__"
   ]
  },
  {
   "cell_type": "code",
   "execution_count": 1015,
   "metadata": {},
   "outputs": [],
   "source": [
    "# Parent - child class relationship deined using inheritance  \n",
    "# where the child defined on init only for the purpose of calling the parent init\n"
   ]
  },
  {
   "cell_type": "code",
   "execution_count": 1016,
   "metadata": {},
   "outputs": [],
   "source": [
    "class Parent:\n",
    "    def __init__(self) -> None:\n",
    "        print(\"parent init\")\n",
    "\n",
    "class Child(Parent):\n",
    "    def __init__(self) -> None:\n",
    "        super().__init__()"
   ]
  },
  {
   "cell_type": "code",
   "execution_count": 1017,
   "metadata": {},
   "outputs": [
    {
     "name": "stdout",
     "output_type": "stream",
     "text": [
      "parent init\n"
     ]
    }
   ],
   "source": [
    "c = Child()"
   ]
  },
  {
   "cell_type": "code",
   "execution_count": 1018,
   "metadata": {},
   "outputs": [],
   "source": [
    "# more pythonic  way:"
   ]
  },
  {
   "cell_type": "code",
   "execution_count": 1019,
   "metadata": {},
   "outputs": [],
   "source": [
    "class Parent:\n",
    "    def __init__(self) -> None:\n",
    "        print(\"Parent init pythonic way.\")\n",
    "\n",
    "class Child(Parent):\n",
    "    pass"
   ]
  },
  {
   "cell_type": "code",
   "execution_count": 1020,
   "metadata": {},
   "outputs": [
    {
     "name": "stdout",
     "output_type": "stream",
     "text": [
      "Parent init pythonic way.\n"
     ]
    }
   ],
   "source": [
    "c = Child()"
   ]
  },
  {
   "attachments": {},
   "cell_type": "markdown",
   "metadata": {},
   "source": [
    "# 74"
   ]
  },
  {
   "cell_type": "code",
   "execution_count": 1021,
   "metadata": {},
   "outputs": [],
   "source": [
    "class BankAccount:\n",
    "    \"\"\"A regular bank account\"\"\"\n",
    "\n",
    "    def __init__(self, initial_balance=0):\n",
    "        self._balance = initial_balance\n",
    "\n",
    "    def deposit(self, amount):\n",
    "        if amount > 0:\n",
    "            self._balance += amount\n",
    "            print(f\"Deposited ${amount}.\")\n",
    "\n",
    "    def withdraw(self, amount):\n",
    "        if 0 < amount <= self.balance:\n",
    "            self._balance -= amount\n",
    "            print(f\"Withdrew ${amount}.\")\n",
    "\n",
    "    def __repr__(self):\n",
    "        # instance_name = SavingsBankAccount, HighInterestSavingsBankAccount\n",
    "        # __mro__ -> (tuple of class names in the full inheritance chain leading up to object)\n",
    "        instance_name = \"\".join([t.__name__ for t in type(self).__mro__[:-1]])\n",
    "        return f\"A {instance_name} with ${self.balance:.2f} in it.\"\n",
    "\n",
    "    @property\n",
    "    def balance(self):\n",
    "        return self._balance\n",
    "\n",
    "\n",
    "class Savings(BankAccount):\n",
    "    \"\"\"Like a bank account but interest-earning\"\"\"\n",
    "    interest = 0.0035\n",
    "\n",
    "    def pay_interest(self):\n",
    "        interest_earned = round(self.balance * self.interest, 2)\n",
    "        self.deposit(interest_earned)\n",
    "\n",
    "\n",
    "class HighInterest(Savings):\n",
    "    \"\"\"Like a savings account but earning higher interest, in exchange for withdrawal fees\"\"\"\n",
    "    interest = 0.007\n",
    "\n",
    "    def __init__(self, initial_balance=0, withdrawal_fee=5):\n",
    "        super().__init__(initial_balance)\n",
    "        self.withdrawal_fee = withdrawal_fee\n",
    "\n",
    "    def withdraw(self, amount):\n",
    "        if 0 < amount + self.withdrawal_fee <= self.balance:\n",
    "            self._balance -= self.withdrawal_fee\n",
    "            super().withdraw(amount)\n",
    "\n",
    "\n",
    "class LockedIn(HighInterest):\n",
    "    \"\"\"Like a high-interest saving account but earning higher interest, in exchange for the ability to withdraw early\"\"\"\n",
    "    interest = 0.009\n",
    "\n",
    "    def withdraw(self, amount):\n",
    "        return f\"Can't make early withdrawal from a Locked-in Savings account.\"\n"
   ]
  },
  {
   "cell_type": "code",
   "execution_count": 1022,
   "metadata": {},
   "outputs": [],
   "source": [
    "b = BankAccount(100)"
   ]
  },
  {
   "cell_type": "code",
   "execution_count": 1023,
   "metadata": {},
   "outputs": [
    {
     "data": {
      "text/plain": [
       "A BankAccount with $100.00 in it."
      ]
     },
     "execution_count": 1023,
     "metadata": {},
     "output_type": "execute_result"
    }
   ],
   "source": [
    "b"
   ]
  },
  {
   "cell_type": "code",
   "execution_count": 1024,
   "metadata": {},
   "outputs": [],
   "source": [
    "s = Savings(230)"
   ]
  },
  {
   "cell_type": "code",
   "execution_count": 1025,
   "metadata": {},
   "outputs": [
    {
     "data": {
      "text/plain": [
       "A SavingsBankAccount with $230.00 in it."
      ]
     },
     "execution_count": 1025,
     "metadata": {},
     "output_type": "execute_result"
    }
   ],
   "source": [
    "s"
   ]
  },
  {
   "cell_type": "code",
   "execution_count": 1026,
   "metadata": {},
   "outputs": [],
   "source": [
    "l = LockedIn(10000)"
   ]
  },
  {
   "cell_type": "code",
   "execution_count": 1027,
   "metadata": {},
   "outputs": [
    {
     "data": {
      "text/plain": [
       "A LockedInHighInterestSavingsBankAccount with $10000.00 in it."
      ]
     },
     "execution_count": 1027,
     "metadata": {},
     "output_type": "execute_result"
    }
   ],
   "source": [
    "l"
   ]
  },
  {
   "cell_type": "code",
   "execution_count": 1028,
   "metadata": {},
   "outputs": [
    {
     "name": "stdout",
     "output_type": "stream",
     "text": [
      "Deposited $640.\n"
     ]
    }
   ],
   "source": [
    "s.deposit(640)"
   ]
  },
  {
   "cell_type": "code",
   "execution_count": 1029,
   "metadata": {},
   "outputs": [
    {
     "data": {
      "text/plain": [
       "A SavingsBankAccount with $870.00 in it."
      ]
     },
     "execution_count": 1029,
     "metadata": {},
     "output_type": "execute_result"
    }
   ],
   "source": [
    "s"
   ]
  },
  {
   "cell_type": "code",
   "execution_count": 1030,
   "metadata": {},
   "outputs": [
    {
     "name": "stdout",
     "output_type": "stream",
     "text": [
      "Deposited $3.04.\n"
     ]
    }
   ],
   "source": [
    "s.pay_interest()"
   ]
  },
  {
   "cell_type": "code",
   "execution_count": 1031,
   "metadata": {},
   "outputs": [
    {
     "name": "stdout",
     "output_type": "stream",
     "text": [
      "Withdrew $153.\n"
     ]
    }
   ],
   "source": [
    "s.withdraw(153)"
   ]
  },
  {
   "cell_type": "code",
   "execution_count": 1032,
   "metadata": {},
   "outputs": [
    {
     "data": {
      "text/plain": [
       "A SavingsBankAccount with $720.04 in it."
      ]
     },
     "execution_count": 1032,
     "metadata": {},
     "output_type": "execute_result"
    }
   ],
   "source": [
    "s"
   ]
  },
  {
   "cell_type": "code",
   "execution_count": 1033,
   "metadata": {},
   "outputs": [],
   "source": [
    "hi = HighInterest(400)"
   ]
  },
  {
   "cell_type": "code",
   "execution_count": 1034,
   "metadata": {},
   "outputs": [
    {
     "name": "stdout",
     "output_type": "stream",
     "text": [
      "Deposited $456.\n"
     ]
    }
   ],
   "source": [
    "hi.deposit(456)"
   ]
  },
  {
   "cell_type": "code",
   "execution_count": 1035,
   "metadata": {},
   "outputs": [
    {
     "data": {
      "text/plain": [
       "A HighInterestSavingsBankAccount with $856.00 in it."
      ]
     },
     "execution_count": 1035,
     "metadata": {},
     "output_type": "execute_result"
    }
   ],
   "source": [
    "hi"
   ]
  },
  {
   "cell_type": "code",
   "execution_count": 1036,
   "metadata": {},
   "outputs": [
    {
     "name": "stdout",
     "output_type": "stream",
     "text": [
      "Deposited $5.99.\n"
     ]
    }
   ],
   "source": [
    "hi.pay_interest()"
   ]
  },
  {
   "cell_type": "code",
   "execution_count": 1037,
   "metadata": {},
   "outputs": [
    {
     "data": {
      "text/plain": [
       "A HighInterestSavingsBankAccount with $861.99 in it."
      ]
     },
     "execution_count": 1037,
     "metadata": {},
     "output_type": "execute_result"
    }
   ],
   "source": [
    "hi"
   ]
  },
  {
   "cell_type": "code",
   "execution_count": 1038,
   "metadata": {},
   "outputs": [
    {
     "name": "stdout",
     "output_type": "stream",
     "text": [
      "Withdrew $789.\n"
     ]
    }
   ],
   "source": [
    "hi.withdraw(789)"
   ]
  },
  {
   "cell_type": "code",
   "execution_count": 1039,
   "metadata": {},
   "outputs": [
    {
     "data": {
      "text/plain": [
       "A HighInterestSavingsBankAccount with $67.99 in it."
      ]
     },
     "execution_count": 1039,
     "metadata": {},
     "output_type": "execute_result"
    }
   ],
   "source": [
    "hi"
   ]
  },
  {
   "attachments": {},
   "cell_type": "markdown",
   "metadata": {},
   "source": [
    "# 75 Subclassing Properties"
   ]
  },
  {
   "cell_type": "code",
   "execution_count": 1040,
   "metadata": {},
   "outputs": [],
   "source": [
    "class SARSCov2(CoronaVirus):\n",
    "    known_variants = [\"alpha\", 'beta', \"gamma\", \"epsilon\"]\n",
    "\n",
    "    def __init__(self, variant) -> None:\n",
    "        super().__init__(\"SARSCovid2\", 2.49, 1.3)\n",
    "        self.variant = variant\n",
    "    \n",
    "    def mutate(self):\n",
    "        print(f\"The {self.name} virus just mutated its spike protein.\")\n",
    "\n",
    "    @property\n",
    "    def variant(self):\n",
    "        return self._variant\n",
    "    \n",
    "    @variant.setter\n",
    "    def variant(self, value):\n",
    "        if value.lower() not in self.known_variants:\n",
    "            raise ValueError(\"Expected a known variant of concern.\")\n",
    "        \n",
    "        self._variant = value.lower()"
   ]
  },
  {
   "cell_type": "code",
   "execution_count": 1041,
   "metadata": {},
   "outputs": [],
   "source": [
    "cv = SARSCov2(\"ALpHA\")"
   ]
  },
  {
   "cell_type": "code",
   "execution_count": 1042,
   "metadata": {},
   "outputs": [
    {
     "data": {
      "text/plain": [
       "{'name': 'SARSCovid2',\n",
       " 'reproduction_rate': 2.49,\n",
       " 'load': 1,\n",
       " 'host': None,\n",
       " '_variant': 'alpha'}"
      ]
     },
     "execution_count": 1042,
     "metadata": {},
     "output_type": "execute_result"
    }
   ],
   "source": [
    "cv.__dict__"
   ]
  },
  {
   "attachments": {},
   "cell_type": "markdown",
   "metadata": {},
   "source": [
    "```python\n",
    "cv.variant = \"something else.\"\n",
    "---------------------------------------------------------------------------\n",
    "ValueError                                Traceback (most recent call last)\n",
    "Cell In[237], line 1\n",
    "----> 1 cv.variant = \"something else.\"\n",
    "\n",
    "Cell In[232], line 18, in SARSCov2.variant(self, value)\n",
    "     15 @variant.setter\n",
    "     16 def variant(self, value):\n",
    "     17     if value.lower() not in self.known_variants:\n",
    "---> 18         raise ValueError(\"Expected a known variant of concern.\")\n",
    "     20     self._variant = value.lower()\n",
    "\n",
    "ValueError: Expected a known variant of concern.\n",
    "```"
   ]
  },
  {
   "cell_type": "code",
   "execution_count": 1043,
   "metadata": {},
   "outputs": [],
   "source": [
    "cv.variant = \"beta\""
   ]
  },
  {
   "cell_type": "code",
   "execution_count": 1044,
   "metadata": {},
   "outputs": [
    {
     "data": {
      "text/plain": [
       "'beta'"
      ]
     },
     "execution_count": 1044,
     "metadata": {},
     "output_type": "execute_result"
    }
   ],
   "source": [
    "cv.variant"
   ]
  },
  {
   "cell_type": "code",
   "execution_count": 1045,
   "metadata": {},
   "outputs": [],
   "source": [
    "class DoubleMutant(SARSCov2):\n",
    "    pass"
   ]
  },
  {
   "attachments": {},
   "cell_type": "markdown",
   "metadata": {},
   "source": [
    "```python\n",
    "DoubleMutant(\"New Variant\")\n",
    "\n",
    "---------------------------------------------------------------------------\n",
    "ValueError                                Traceback (most recent call last)\n",
    "Cell In[347], line 1\n",
    "----> 1 DoubleMutant(\"New Variant\")\n",
    "\n",
    "Cell In[340], line 6, in SARSCov2.__init__(self, variant)\n",
    "      4 def __init__(self, variant) -> None:\n",
    "      5     super().__init__(\"SARSCovid2\", 2.49, 1.3)\n",
    "----> 6     self.variant = variant\n",
    "\n",
    "Cell In[340], line 18, in SARSCov2.variant(self, value)\n",
    "     15 @variant.setter\n",
    "     16 def variant(self, value):\n",
    "     17     if value.lower() not in self.known_variants:\n",
    "---> 18         raise ValueError(\"Expected a known variant of concern.\")\n",
    "     20     self._variant = value.lower()\n",
    "\n",
    "ValueError: Expected a known variant of concern.\n",
    "```"
   ]
  },
  {
   "attachments": {},
   "cell_type": "markdown",
   "metadata": {},
   "source": [
    "```python\n",
    "class DoubleMutant(SARSCov2):\n",
    "    @variant.setter\n",
    "    def variant(self, value):        \n",
    "        self._variant = value.lower()\n",
    "    \n",
    "NameError                                 Traceback (most recent call last)\n",
    "Cell In[108], line 1\n",
    "----> 1 class DoubleMutant(SARSCov2):\n",
    "      2     @variant.setter\n",
    "      3     def variant(self, value):        \n",
    "      4         self._variant = value.lower()\n",
    "\n",
    "Cell In[108], line 2, in DoubleMutant()\n",
    "      1 class DoubleMutant(SARSCov2):\n",
    "----> 2     @variant.setter\n",
    "      3     def variant(self, value):        \n",
    "      4         self._variant = value.lower()\n",
    "\n",
    "NameError: name 'variant' is not defined\n",
    "```"
   ]
  },
  {
   "cell_type": "code",
   "execution_count": 1046,
   "metadata": {},
   "outputs": [],
   "source": [
    "class DoubleMutant(SARSCov2):\n",
    "    @SARSCov2.variant.setter\n",
    "    def variant(self, value):        \n",
    "        self._variant = value.lower()"
   ]
  },
  {
   "cell_type": "code",
   "execution_count": 1047,
   "metadata": {},
   "outputs": [],
   "source": [
    "dv = DoubleMutant(\"New Variant\")"
   ]
  },
  {
   "cell_type": "code",
   "execution_count": 1048,
   "metadata": {},
   "outputs": [
    {
     "data": {
      "text/plain": [
       "'new variant'"
      ]
     },
     "execution_count": 1048,
     "metadata": {},
     "output_type": "execute_result"
    }
   ],
   "source": [
    "dv.variant"
   ]
  },
  {
   "cell_type": "code",
   "execution_count": 1049,
   "metadata": {},
   "outputs": [
    {
     "data": {
      "text/plain": [
       "{'name': 'SARSCovid2',\n",
       " 'reproduction_rate': 2.49,\n",
       " 'load': 1,\n",
       " 'host': None,\n",
       " '_variant': 'new variant'}"
      ]
     },
     "execution_count": 1049,
     "metadata": {},
     "output_type": "execute_result"
    }
   ],
   "source": [
    "dv.__dict__"
   ]
  },
  {
   "attachments": {},
   "cell_type": "markdown",
   "metadata": {},
   "source": [
    "# whole 9 jarsd"
   ]
  },
  {
   "cell_type": "code",
   "execution_count": 1050,
   "metadata": {},
   "outputs": [],
   "source": [
    "class DoubleMutant(SARSCov2):\n",
    "    @property\n",
    "    def variant(self):\n",
    "        print(\"Getter from tyhe subclas!\")\n",
    "        return self._variant\n",
    "    \n",
    "    @variant.setter\n",
    "    def variant(self, value):        \n",
    "        self._variant = value.lower()\n",
    "    \n",
    "    @variant.deleter\n",
    "    def variant(self):\n",
    "        del self._variant"
   ]
  },
  {
   "cell_type": "code",
   "execution_count": 1051,
   "metadata": {},
   "outputs": [],
   "source": [
    "cv = SARSCov2(\"Alpha\")"
   ]
  },
  {
   "cell_type": "code",
   "execution_count": 1052,
   "metadata": {},
   "outputs": [],
   "source": [
    "dv = DoubleMutant(\"NEW VARIA-dsfasdf-NT\")"
   ]
  },
  {
   "cell_type": "code",
   "execution_count": 1053,
   "metadata": {},
   "outputs": [
    {
     "name": "stdout",
     "output_type": "stream",
     "text": [
      "Getter from tyhe subclas!\n"
     ]
    },
    {
     "data": {
      "text/plain": [
       "'new varia-dsfasdf-nt'"
      ]
     },
     "execution_count": 1053,
     "metadata": {},
     "output_type": "execute_result"
    }
   ],
   "source": [
    "dv.variant"
   ]
  },
  {
   "cell_type": "code",
   "execution_count": 1054,
   "metadata": {},
   "outputs": [
    {
     "data": {
      "text/plain": [
       "'alpha'"
      ]
     },
     "execution_count": 1054,
     "metadata": {},
     "output_type": "execute_result"
    }
   ],
   "source": [
    " cv.variant"
   ]
  },
  {
   "attachments": {},
   "cell_type": "markdown",
   "metadata": {},
   "source": [
    "```python\n",
    "cv.variant = \"Some Nonsense.\"\n",
    "```"
   ]
  },
  {
   "attachments": {},
   "cell_type": "markdown",
   "metadata": {},
   "source": [
    "```python\n",
    "---------------------------------------------------------------------------\n",
    "ValueError                                Traceback (most recent call last)\n",
    "Cell In[237], line 1\n",
    "----> 1 cv.variant = \"Some nonsence.\"\n",
    "\n",
    "Cell In[211], line 18, in SARSCov2.variant(self, value)\n",
    "     15 @variant.setter\n",
    "     16 def variant(self, value):\n",
    "     17     if value.lower() not in self.known_variants:\n",
    "---> 18         raise ValueError(\"Expected a known variant of concern.\")\n",
    "     20     self._variant = value.lower()\n",
    "\n",
    "ValueError: Expected a known variant of concern.\n",
    "```"
   ]
  },
  {
   "cell_type": "code",
   "execution_count": 1055,
   "metadata": {},
   "outputs": [],
   "source": [
    "dv.variant = \"Some other nonsense.\""
   ]
  },
  {
   "cell_type": "code",
   "execution_count": 1056,
   "metadata": {},
   "outputs": [
    {
     "name": "stdout",
     "output_type": "stream",
     "text": [
      "Getter from tyhe subclas!\n"
     ]
    },
    {
     "data": {
      "text/plain": [
       "'some other nonsense.'"
      ]
     },
     "execution_count": 1056,
     "metadata": {},
     "output_type": "execute_result"
    }
   ],
   "source": [
    "dv.variant"
   ]
  },
  {
   "attachments": {},
   "cell_type": "markdown",
   "metadata": {},
   "source": [
    "# 76 Extending Built-ins"
   ]
  },
  {
   "attachments": {},
   "cell_type": "markdown",
   "metadata": {},
   "source": [
    "list or dict"
   ]
  },
  {
   "cell_type": "code",
   "execution_count": 1057,
   "metadata": {},
   "outputs": [],
   "source": [
    "population = {\n",
    "    \"CAN\": 38,\n",
    "    \"USA\": 329,\n",
    "    \"IND\": 1380\n",
    "}"
   ]
  },
  {
   "cell_type": "code",
   "execution_count": 1058,
   "metadata": {},
   "outputs": [
    {
     "data": {
      "text/plain": [
       "38"
      ]
     },
     "execution_count": 1058,
     "metadata": {},
     "output_type": "execute_result"
    }
   ],
   "source": [
    "population[\"CAN\"]"
   ]
  },
  {
   "attachments": {},
   "cell_type": "markdown",
   "metadata": {},
   "source": [
    "```python\n",
    "population[\"CANADA\"]\n",
    "```"
   ]
  },
  {
   "attachments": {},
   "cell_type": "markdown",
   "metadata": {},
   "source": [
    "```python\n",
    "---------------------------------------------------------------------------\n",
    "KeyError                                  Traceback (most recent call last)\n",
    "Cell In[244], line 1\n",
    "----> 1 population[\"CANADA\"]\n",
    "\n",
    "KeyError: 'CANADA'\n",
    "```\n"
   ]
  },
  {
   "cell_type": "code",
   "execution_count": 1059,
   "metadata": {},
   "outputs": [
    {
     "data": {
      "text/plain": [
       "38"
      ]
     },
     "execution_count": 1059,
     "metadata": {},
     "output_type": "execute_result"
    }
   ],
   "source": [
    "population.__getitem__(\"CAN\")"
   ]
  },
  {
   "cell_type": "code",
   "execution_count": 1060,
   "metadata": {},
   "outputs": [],
   "source": [
    "from random import choice\n",
    "\n",
    "class FunnyDict(dict):\n",
    "    not_found = ['404', 'Wait, what?', 'Try again, or dont?']\n",
    "\n",
    "    def __getitem__(self, item):\n",
    "        if not item in self:\n",
    "            return choice(self.not_found)\n",
    "        \n",
    "        return super().__getitem__(item)"
   ]
  },
  {
   "cell_type": "code",
   "execution_count": 1061,
   "metadata": {},
   "outputs": [],
   "source": [
    "population = FunnyDict({\n",
    "    \"CAN\": 38,\n",
    "    \"USA\": 329,\n",
    "    \"IND\": 1380\n",
    "})"
   ]
  },
  {
   "cell_type": "code",
   "execution_count": 1062,
   "metadata": {},
   "outputs": [
    {
     "data": {
      "text/plain": [
       "38"
      ]
     },
     "execution_count": 1062,
     "metadata": {},
     "output_type": "execute_result"
    }
   ],
   "source": [
    "population['CAN']"
   ]
  },
  {
   "cell_type": "code",
   "execution_count": 1063,
   "metadata": {},
   "outputs": [
    {
     "data": {
      "text/plain": [
       "'Wait, what?'"
      ]
     },
     "execution_count": 1063,
     "metadata": {},
     "output_type": "execute_result"
    }
   ],
   "source": [
    "population['CANADA']"
   ]
  },
  {
   "cell_type": "code",
   "execution_count": 1064,
   "metadata": {},
   "outputs": [
    {
     "data": {
      "text/plain": [
       "'Try again, or dont?'"
      ]
     },
     "execution_count": 1064,
     "metadata": {},
     "output_type": "execute_result"
    }
   ],
   "source": [
    "population['RANDOM']"
   ]
  },
  {
   "cell_type": "code",
   "execution_count": 1065,
   "metadata": {},
   "outputs": [
    {
     "name": "stdout",
     "output_type": "stream",
     "text": [
      "404\n",
      "Try again, or dont?\n",
      "Wait, what?\n",
      "Wait, what?\n",
      "Wait, what?\n",
      "Wait, what?\n"
     ]
    }
   ],
   "source": [
    "for i in range(6):\n",
    "    print(population['Test random funny.'])"
   ]
  },
  {
   "attachments": {},
   "cell_type": "markdown",
   "metadata": {},
   "source": [
    "# 77. Another Example"
   ]
  },
  {
   "cell_type": "code",
   "execution_count": 1066,
   "metadata": {},
   "outputs": [],
   "source": [
    "import random\n",
    "\n",
    "l = [random.randint(100,10000)/100 for _ in range(4)]"
   ]
  },
  {
   "cell_type": "code",
   "execution_count": 1067,
   "metadata": {},
   "outputs": [
    {
     "data": {
      "text/plain": [
       "[44.97, 13.15, 10.54, 74.19]"
      ]
     },
     "execution_count": 1067,
     "metadata": {},
     "output_type": "execute_result"
    }
   ],
   "source": [
    "l"
   ]
  },
  {
   "cell_type": "code",
   "execution_count": 1068,
   "metadata": {},
   "outputs": [
    {
     "data": {
      "text/plain": [
       "35.7125"
      ]
     },
     "execution_count": 1068,
     "metadata": {},
     "output_type": "execute_result"
    }
   ],
   "source": [
    "sum(l) / len(l)"
   ]
  },
  {
   "cell_type": "code",
   "execution_count": 1069,
   "metadata": {},
   "outputs": [],
   "source": [
    "class AvgList(list):\n",
    "    def average(self):\n",
    "        return sum(self) / len(self)"
   ]
  },
  {
   "cell_type": "code",
   "execution_count": 1070,
   "metadata": {},
   "outputs": [],
   "source": [
    "l_2 = AvgList([random.randint(100,10000)/100 for _ in range(5)])"
   ]
  },
  {
   "cell_type": "code",
   "execution_count": 1071,
   "metadata": {},
   "outputs": [
    {
     "data": {
      "text/plain": [
       "69.22"
      ]
     },
     "execution_count": 1071,
     "metadata": {},
     "output_type": "execute_result"
    }
   ],
   "source": [
    "l_2.average()"
   ]
  },
  {
   "cell_type": "code",
   "execution_count": 1072,
   "metadata": {},
   "outputs": [],
   "source": [
    "class AvgList(list):\n",
    "    @property\n",
    "    def average(self):\n",
    "        return sum(self) / len(self)"
   ]
  },
  {
   "cell_type": "code",
   "execution_count": 1073,
   "metadata": {},
   "outputs": [],
   "source": [
    "l_3 = AvgList([random.randint(100, 10000)/100 for _ in range(4)])"
   ]
  },
  {
   "cell_type": "code",
   "execution_count": 1074,
   "metadata": {},
   "outputs": [
    {
     "data": {
      "text/plain": [
       "25.11"
      ]
     },
     "execution_count": 1074,
     "metadata": {},
     "output_type": "execute_result"
    }
   ],
   "source": [
    "l_3.average"
   ]
  },
  {
   "cell_type": "code",
   "execution_count": 1075,
   "metadata": {},
   "outputs": [
    {
     "name": "stdout",
     "output_type": "stream",
     "text": [
      "18.47\n",
      "48.31\n",
      "58.17\n",
      "95.17\n"
     ]
    }
   ],
   "source": [
    "for _ in range(4):\n",
    "    print(random.randint(100, 10000)/100)"
   ]
  },
  {
   "attachments": {},
   "cell_type": "markdown",
   "metadata": {},
   "source": [
    "```python\n",
    "l_4 = AvgList(46.35, 84.61, 20.46, 15.16)\n",
    "```"
   ]
  },
  {
   "attachments": {},
   "cell_type": "markdown",
   "metadata": {},
   "source": [
    "```python\n",
    "---------------------------------------------------------------------------\n",
    "TypeError                                 Traceback (most recent call last)\n",
    "Cell In[148], line 1\n",
    "----> 1 l_4 = AvgList(46.35, 84.61, 20.46, 15.16)\n",
    "\n",
    "TypeError: list expected at most 1 argument, got 4\n",
    "```"
   ]
  },
  {
   "cell_type": "code",
   "execution_count": 1076,
   "metadata": {},
   "outputs": [],
   "source": [
    "class AvgList(list):\n",
    "    def __init__(self, *args):\n",
    "        if args and type(args[0]) != list:\n",
    "            super().__init__(args)\n",
    "        else:\n",
    "            super().__init__(args[0])\n",
    "    @property\n",
    "    def average(self):\n",
    "        return sum(self) / len(self)"
   ]
  },
  {
   "cell_type": "code",
   "execution_count": 1077,
   "metadata": {},
   "outputs": [],
   "source": [
    "l_5 = AvgList(46.35, 84.61, 20.46, 15.16)"
   ]
  },
  {
   "cell_type": "code",
   "execution_count": 1078,
   "metadata": {},
   "outputs": [],
   "source": [
    "l_6 = AvgList([random.randint(100,10000)/100 for _ in range(4)])"
   ]
  },
  {
   "cell_type": "code",
   "execution_count": 1079,
   "metadata": {},
   "outputs": [
    {
     "data": {
      "text/plain": [
       "[75.15, 17.81, 12.84, 80.44]"
      ]
     },
     "execution_count": 1079,
     "metadata": {},
     "output_type": "execute_result"
    }
   ],
   "source": [
    "l_6"
   ]
  },
  {
   "cell_type": "code",
   "execution_count": 1080,
   "metadata": {},
   "outputs": [
    {
     "data": {
      "text/plain": [
       "[46.35, 84.61, 20.46, 15.16]"
      ]
     },
     "execution_count": 1080,
     "metadata": {},
     "output_type": "execute_result"
    }
   ],
   "source": [
    "l_5"
   ]
  },
  {
   "cell_type": "code",
   "execution_count": 1081,
   "metadata": {},
   "outputs": [
    {
     "data": {
      "text/plain": [
       "41.645"
      ]
     },
     "execution_count": 1081,
     "metadata": {},
     "output_type": "execute_result"
    }
   ],
   "source": [
    "l_5.average"
   ]
  },
  {
   "cell_type": "code",
   "execution_count": 1082,
   "metadata": {},
   "outputs": [
    {
     "data": {
      "text/plain": [
       "41.645"
      ]
     },
     "execution_count": 1082,
     "metadata": {},
     "output_type": "execute_result"
    }
   ],
   "source": [
    "sum(l_5) / len(l_5)"
   ]
  },
  {
   "cell_type": "code",
   "execution_count": 1083,
   "metadata": {},
   "outputs": [
    {
     "data": {
      "text/plain": [
       "166.58"
      ]
     },
     "execution_count": 1083,
     "metadata": {},
     "output_type": "execute_result"
    }
   ],
   "source": [
    "46.35 + 84.61 + 20.46 + 15.16"
   ]
  },
  {
   "cell_type": "code",
   "execution_count": 1084,
   "metadata": {},
   "outputs": [
    {
     "data": {
      "text/plain": [
       "41.645"
      ]
     },
     "execution_count": 1084,
     "metadata": {},
     "output_type": "execute_result"
    }
   ],
   "source": [
    "166.58 / 4"
   ]
  },
  {
   "attachments": {},
   "cell_type": "markdown",
   "metadata": {},
   "source": [
    "# 78. Beware The pitfalls"
   ]
  },
  {
   "cell_type": "code",
   "execution_count": 1085,
   "metadata": {},
   "outputs": [],
   "source": [
    "from random import choice\n",
    "\n",
    "class FunnyDict(dict):\n",
    "    not_foud = ['484', 'Wait, what?', \"Try again, or don't\"]\n",
    "\n",
    "    def __getitem__(self, item):\n",
    "        if not item in self:\n",
    "            return choice(self.not_foud)\n",
    "        \n",
    "        return super().__getitem__(item)"
   ]
  },
  {
   "cell_type": "code",
   "execution_count": 1086,
   "metadata": {},
   "outputs": [],
   "source": [
    "rd = {\n",
    "    \"CAN\" : 38,\n",
    "    \"USA\" : 329,\n",
    "    \"IND\" : 1380\n",
    "}\n",
    "\n",
    "fd = FunnyDict({\n",
    "    \"CAN\" : 38,\n",
    "    \"USA\" : 329,\n",
    "    \"IND\" : 1380\n",
    "})"
   ]
  },
  {
   "attachments": {},
   "cell_type": "markdown",
   "metadata": {},
   "source": [
    "```python\n",
    "rd['CAR']\n",
    "```"
   ]
  },
  {
   "attachments": {},
   "cell_type": "markdown",
   "metadata": {},
   "source": [
    "```python\n",
    "---------------------------------------------------------------------------\n",
    "KeyError                                  Traceback (most recent call last)\n",
    "Cell In[149], line 1\n",
    "----> 1 rd['CAR']\n",
    "\n",
    "KeyError: 'CAR'\n",
    "```"
   ]
  },
  {
   "cell_type": "code",
   "execution_count": 1087,
   "metadata": {},
   "outputs": [
    {
     "data": {
      "text/plain": [
       "\"Try again, or don't\""
      ]
     },
     "execution_count": 1087,
     "metadata": {},
     "output_type": "execute_result"
    }
   ],
   "source": [
    "fd[\"CAR\"]"
   ]
  },
  {
   "cell_type": "code",
   "execution_count": 1088,
   "metadata": {},
   "outputs": [
    {
     "data": {
      "text/plain": [
       "38"
      ]
     },
     "execution_count": 1088,
     "metadata": {},
     "output_type": "execute_result"
    }
   ],
   "source": [
    "rd.get(\"CAN\")"
   ]
  },
  {
   "cell_type": "code",
   "execution_count": 1089,
   "metadata": {},
   "outputs": [
    {
     "data": {
      "text/plain": [
       "38"
      ]
     },
     "execution_count": 1089,
     "metadata": {},
     "output_type": "execute_result"
    }
   ],
   "source": [
    "fd.get(\"CAN\")"
   ]
  },
  {
   "cell_type": "code",
   "execution_count": 1090,
   "metadata": {},
   "outputs": [],
   "source": [
    "fd.get(\"CAR\")"
   ]
  },
  {
   "cell_type": "code",
   "execution_count": 1091,
   "metadata": {},
   "outputs": [],
   "source": [
    "from random import choice\n",
    "\n",
    "class FunnyDict(dict):\n",
    "    not_foud = ['404', 'Wait, what?', \"Try again, or don't\"]\n",
    "\n",
    "    def __getitem__(self, item):\n",
    "        if not item in self:\n",
    "            return choice(self.not_foud)\n",
    "        \n",
    "        return super().__getitem__(item)\n",
    "    \n",
    "    def get(self, value):\n",
    "        return self.__getitem__(value)"
   ]
  },
  {
   "cell_type": "code",
   "execution_count": 1092,
   "metadata": {},
   "outputs": [],
   "source": [
    "fd = FunnyDict({\n",
    "    \"CAN\" : 38,\n",
    "    \"USA\" : 329,\n",
    "    \"IND\" : 1380\n",
    "})"
   ]
  },
  {
   "cell_type": "code",
   "execution_count": 1093,
   "metadata": {},
   "outputs": [
    {
     "data": {
      "text/plain": [
       "'404'"
      ]
     },
     "execution_count": 1093,
     "metadata": {},
     "output_type": "execute_result"
    }
   ],
   "source": [
    "fd.get(\"CAR\")"
   ]
  },
  {
   "attachments": {},
   "cell_type": "markdown",
   "metadata": {},
   "source": [
    "Update(), pop() <-- my not work>"
   ]
  },
  {
   "cell_type": "code",
   "execution_count": 1094,
   "metadata": {},
   "outputs": [],
   "source": [
    "from random import choice\n",
    "from collections import UserDict\n",
    "\n",
    "class FunnyDict(UserDict):\n",
    "    not_foud = ['404', 'Wait, what?', \"Try again, or don't\"]\n",
    "\n",
    "    def __getitem__(self, item):\n",
    "        if not item in self:\n",
    "            return choice(self.not_foud)\n",
    "        \n",
    "        return super().__getitem__(item)"
   ]
  },
  {
   "cell_type": "code",
   "execution_count": 1095,
   "metadata": {},
   "outputs": [],
   "source": [
    "fd = FunnyDict({\n",
    "    \"CAN\" : 38,\n",
    "    \"USA\" : 329,\n",
    "    \"IND\" : 1380\n",
    "})"
   ]
  },
  {
   "cell_type": "code",
   "execution_count": 1096,
   "metadata": {},
   "outputs": [
    {
     "data": {
      "text/plain": [
       "'404'"
      ]
     },
     "execution_count": 1096,
     "metadata": {},
     "output_type": "execute_result"
    }
   ],
   "source": [
    "fd.get(\"CAR\")"
   ]
  },
  {
   "cell_type": "code",
   "execution_count": 1097,
   "metadata": {},
   "outputs": [
    {
     "data": {
      "text/plain": [
       "'404'"
      ]
     },
     "execution_count": 1097,
     "metadata": {},
     "output_type": "execute_result"
    }
   ],
   "source": [
    "fd[\"CARA:LDFK\"]"
   ]
  },
  {
   "cell_type": "code",
   "execution_count": 1098,
   "metadata": {},
   "outputs": [
    {
     "data": {
      "text/plain": [
       "38"
      ]
     },
     "execution_count": 1098,
     "metadata": {},
     "output_type": "execute_result"
    }
   ],
   "source": [
    "fd['CAN']"
   ]
  },
  {
   "cell_type": "code",
   "execution_count": 1099,
   "metadata": {},
   "outputs": [
    {
     "data": {
      "text/plain": [
       "{'CAN': 38, 'USA': 329, 'IND': 1380}"
      ]
     },
     "execution_count": 1099,
     "metadata": {},
     "output_type": "execute_result"
    }
   ],
   "source": [
    "fd.data"
   ]
  },
  {
   "attachments": {},
   "cell_type": "markdown",
   "metadata": {},
   "source": [
    "# 79. Beyond Inheritance"
   ]
  },
  {
   "attachments": {},
   "cell_type": "markdown",
   "metadata": {},
   "source": [
    "# 80. Skill Challenge #8"
   ]
  },
  {
   "cell_type": "code",
   "execution_count": 1100,
   "metadata": {},
   "outputs": [],
   "source": [
    "class BidirectionalDict(UserDict):\n",
    "    def __setitem__(self, key, value):\n",
    "        if key in self:\n",
    "            del self[key]\n",
    "\n",
    "        if value in self:\n",
    "            del self[value]\n",
    "\n",
    "        super().__setitem__(key, value)\n",
    "        super().__setitem__(value, key)\n",
    "\n",
    "    def __delitem__(self, key):\n",
    "        super().__delitem__(self[key])\n",
    "        super().__delitem__(key)\n",
    "\n",
    "    def __len__(self):\n",
    "        return super().__len__() // 2"
   ]
  },
  {
   "cell_type": "code",
   "execution_count": 1101,
   "metadata": {},
   "outputs": [],
   "source": [
    "bd = BidirectionalDict({\n",
    "    \"code\":\"moere\",\n",
    "    \"sleep\":\"less\",\n",
    "    \"weee\":\"eeew\"\n",
    "})"
   ]
  },
  {
   "cell_type": "code",
   "execution_count": 1102,
   "metadata": {},
   "outputs": [
    {
     "data": {
      "text/plain": [
       "'weee'"
      ]
     },
     "execution_count": 1102,
     "metadata": {},
     "output_type": "execute_result"
    }
   ],
   "source": [
    "bd['eeew']"
   ]
  },
  {
   "cell_type": "code",
   "execution_count": 1103,
   "metadata": {},
   "outputs": [
    {
     "data": {
      "text/plain": [
       "{'code': 'moere', 'moere': 'code', 'sleep': 'less', 'less': 'sleep', 'weee': 'eeew', 'eeew': 'weee'}"
      ]
     },
     "execution_count": 1103,
     "metadata": {},
     "output_type": "execute_result"
    }
   ],
   "source": [
    "bd"
   ]
  },
  {
   "cell_type": "code",
   "execution_count": 1104,
   "metadata": {},
   "outputs": [
    {
     "data": {
      "text/plain": [
       "3"
      ]
     },
     "execution_count": 1104,
     "metadata": {},
     "output_type": "execute_result"
    }
   ],
   "source": [
    "len(bd)"
   ]
  },
  {
   "cell_type": "code",
   "execution_count": 1105,
   "metadata": {},
   "outputs": [],
   "source": [
    "bd['code'] = 'better'"
   ]
  },
  {
   "cell_type": "code",
   "execution_count": 1106,
   "metadata": {},
   "outputs": [
    {
     "data": {
      "text/plain": [
       "{'sleep': 'less', 'less': 'sleep', 'weee': 'eeew', 'eeew': 'weee', 'code': 'better', 'better': 'code'}"
      ]
     },
     "execution_count": 1106,
     "metadata": {},
     "output_type": "execute_result"
    }
   ],
   "source": [
    "bd"
   ]
  },
  {
   "cell_type": "code",
   "execution_count": 1107,
   "metadata": {},
   "outputs": [
    {
     "data": {
      "text/plain": [
       "'better'"
      ]
     },
     "execution_count": 1107,
     "metadata": {},
     "output_type": "execute_result"
    }
   ],
   "source": [
    "bd['code']"
   ]
  },
  {
   "cell_type": "code",
   "execution_count": 1108,
   "metadata": {},
   "outputs": [
    {
     "data": {
      "text/plain": [
       "'code'"
      ]
     },
     "execution_count": 1108,
     "metadata": {},
     "output_type": "execute_result"
    }
   ],
   "source": [
    "bd['better']"
   ]
  },
  {
   "cell_type": "code",
   "execution_count": 1109,
   "metadata": {},
   "outputs": [],
   "source": [
    "bd.update([('sleep','deeper')])"
   ]
  },
  {
   "cell_type": "code",
   "execution_count": 1110,
   "metadata": {},
   "outputs": [
    {
     "data": {
      "text/plain": [
       "{'weee': 'eeew', 'eeew': 'weee', 'code': 'better', 'better': 'code', 'sleep': 'deeper', 'deeper': 'sleep'}"
      ]
     },
     "execution_count": 1110,
     "metadata": {},
     "output_type": "execute_result"
    }
   ],
   "source": [
    "bd"
   ]
  },
  {
   "cell_type": "code",
   "execution_count": 1111,
   "metadata": {},
   "outputs": [
    {
     "data": {
      "text/plain": [
       "3"
      ]
     },
     "execution_count": 1111,
     "metadata": {},
     "output_type": "execute_result"
    }
   ],
   "source": [
    "len(bd)"
   ]
  },
  {
   "cell_type": "code",
   "execution_count": 1112,
   "metadata": {},
   "outputs": [
    {
     "data": {
      "text/plain": [
       "'deeper'"
      ]
     },
     "execution_count": 1112,
     "metadata": {},
     "output_type": "execute_result"
    }
   ],
   "source": [
    "bd.pop('sleep')"
   ]
  },
  {
   "cell_type": "code",
   "execution_count": 1113,
   "metadata": {},
   "outputs": [
    {
     "data": {
      "text/plain": [
       "2"
      ]
     },
     "execution_count": 1113,
     "metadata": {},
     "output_type": "execute_result"
    }
   ],
   "source": [
    "len(bd)"
   ]
  },
  {
   "cell_type": "code",
   "execution_count": 1114,
   "metadata": {},
   "outputs": [],
   "source": [
    "del bd['better'] # type: ignore"
   ]
  },
  {
   "cell_type": "code",
   "execution_count": 1115,
   "metadata": {},
   "outputs": [
    {
     "data": {
      "text/plain": [
       "{'weee': 'eeew', 'eeew': 'weee'}"
      ]
     },
     "execution_count": 1115,
     "metadata": {},
     "output_type": "execute_result"
    }
   ],
   "source": [
    "bd"
   ]
  },
  {
   "cell_type": "code",
   "execution_count": 1116,
   "metadata": {},
   "outputs": [],
   "source": [
    "# 81. Solution"
   ]
  },
  {
   "cell_type": "code",
   "execution_count": 1117,
   "metadata": {},
   "outputs": [],
   "source": [
    "bd_1 = BidirectionalDict({\n",
    "    \"a\":\"b\",\n",
    "    \"c\":\"d\"\n",
    "})"
   ]
  },
  {
   "cell_type": "code",
   "execution_count": 1118,
   "metadata": {},
   "outputs": [
    {
     "data": {
      "text/plain": [
       "{'a': 'b', 'b': 'a', 'c': 'd', 'd': 'c'}"
      ]
     },
     "execution_count": 1118,
     "metadata": {},
     "output_type": "execute_result"
    }
   ],
   "source": [
    "bd_1"
   ]
  },
  {
   "cell_type": "code",
   "execution_count": 1119,
   "metadata": {},
   "outputs": [
    {
     "data": {
      "text/plain": [
       "2"
      ]
     },
     "execution_count": 1119,
     "metadata": {},
     "output_type": "execute_result"
    }
   ],
   "source": [
    "len(bd_1)"
   ]
  },
  {
   "cell_type": "code",
   "execution_count": 1120,
   "metadata": {},
   "outputs": [],
   "source": [
    "bd_1[\"a\"] = 'v'"
   ]
  },
  {
   "cell_type": "code",
   "execution_count": 1121,
   "metadata": {},
   "outputs": [
    {
     "data": {
      "text/plain": [
       "{'c': 'd', 'd': 'c', 'a': 'v', 'v': 'a'}"
      ]
     },
     "execution_count": 1121,
     "metadata": {},
     "output_type": "execute_result"
    }
   ],
   "source": [
    "bd_1"
   ]
  },
  {
   "cell_type": "code",
   "execution_count": 1122,
   "metadata": {},
   "outputs": [],
   "source": [
    "del bd_1['a'] # type: ignore"
   ]
  },
  {
   "cell_type": "code",
   "execution_count": 1123,
   "metadata": {},
   "outputs": [],
   "source": [
    "del bd_1['d'] # type: ignore"
   ]
  },
  {
   "cell_type": "code",
   "execution_count": 1124,
   "metadata": {},
   "outputs": [],
   "source": [
    "bd_1['i'] = 'b'"
   ]
  },
  {
   "cell_type": "code",
   "execution_count": 1125,
   "metadata": {},
   "outputs": [
    {
     "data": {
      "text/plain": [
       "{'i': 'b', 'b': 'i'}"
      ]
     },
     "execution_count": 1125,
     "metadata": {},
     "output_type": "execute_result"
    }
   ],
   "source": [
    "bd_1"
   ]
  },
  {
   "cell_type": "code",
   "execution_count": 1126,
   "metadata": {},
   "outputs": [
    {
     "data": {
      "text/plain": [
       "'b'"
      ]
     },
     "execution_count": 1126,
     "metadata": {},
     "output_type": "execute_result"
    }
   ],
   "source": [
    "bd_1.pop(\"i\")"
   ]
  },
  {
   "cell_type": "code",
   "execution_count": 1128,
   "metadata": {},
   "outputs": [
    {
     "data": {
      "text/plain": [
       "{}"
      ]
     },
     "execution_count": 1128,
     "metadata": {},
     "output_type": "execute_result"
    }
   ],
   "source": [
    "bd_1"
   ]
  },
  {
   "cell_type": "code",
   "execution_count": 1129,
   "metadata": {},
   "outputs": [],
   "source": [
    "bd_1 = BidirectionalDict({\n",
    "    \"a\":\"b\",\n",
    "    \"c\":\"d\"\n",
    "})"
   ]
  },
  {
   "cell_type": "code",
   "execution_count": 1130,
   "metadata": {},
   "outputs": [
    {
     "data": {
      "text/plain": [
       "{'a': 'b', 'b': 'a', 'c': 'd', 'd': 'c'}"
      ]
     },
     "execution_count": 1130,
     "metadata": {},
     "output_type": "execute_result"
    }
   ],
   "source": [
    "bd_1"
   ]
  },
  {
   "cell_type": "code",
   "execution_count": 1131,
   "metadata": {},
   "outputs": [],
   "source": [
    "bd_1.update([(\"a\",\"Better\")])"
   ]
  },
  {
   "cell_type": "code",
   "execution_count": 1132,
   "metadata": {},
   "outputs": [
    {
     "data": {
      "text/plain": [
       "{'c': 'd', 'd': 'c', 'a': 'Better', 'Better': 'a'}"
      ]
     },
     "execution_count": 1132,
     "metadata": {},
     "output_type": "execute_result"
    }
   ],
   "source": [
    "bd_1"
   ]
  },
  {
   "cell_type": "code",
   "execution_count": null,
   "metadata": {},
   "outputs": [],
   "source": []
  }
 ],
 "metadata": {
  "kernelspec": {
   "display_name": "Python 3",
   "language": "python",
   "name": "python3"
  },
  "language_info": {
   "codemirror_mode": {
    "name": "ipython",
    "version": 3
   },
   "file_extension": ".py",
   "mimetype": "text/x-python",
   "name": "python",
   "nbconvert_exporter": "python",
   "pygments_lexer": "ipython3",
   "version": "3.11.3"
  },
  "orig_nbformat": 4
 },
 "nbformat": 4,
 "nbformat_minor": 2
}
