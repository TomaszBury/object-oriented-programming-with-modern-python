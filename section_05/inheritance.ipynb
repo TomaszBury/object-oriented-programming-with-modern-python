{
 "cells": [
  {
   "attachments": {},
   "cell_type": "markdown",
   "metadata": {},
   "source": [
    "# Inheritance  \n",
    "class -> object"
   ]
  },
  {
   "cell_type": "code",
   "execution_count": 1,
   "metadata": {},
   "outputs": [],
   "source": [
    "# superclass or base class or parent class\n",
    "class Virus:\n",
    "    pass\n",
    "\n",
    "# derived class, or child class\n",
    "# or subclass or subtype\n",
    "class RNAVirus(Virus):\n",
    "    pass"
   ]
  },
  {
   "cell_type": "code",
   "execution_count": 2,
   "metadata": {},
   "outputs": [],
   "source": [
    "# \"is a \" relationships"
   ]
  },
  {
   "cell_type": "code",
   "execution_count": 3,
   "metadata": {},
   "outputs": [],
   "source": [
    "class Virus:\n",
    "    pass\n",
    "\n",
    "class RNAVirus(Virus):\n",
    "    pass\n",
    "\n",
    "class Coronavirus(RNAVirus):\n",
    "    pass\n",
    "\n",
    "class SARSCov2(Coronavirus):\n",
    "    pass"
   ]
  },
  {
   "cell_type": "code",
   "execution_count": 4,
   "metadata": {},
   "outputs": [
    {
     "data": {
      "text/plain": [
       "True"
      ]
     },
     "execution_count": 4,
     "metadata": {},
     "output_type": "execute_result"
    }
   ],
   "source": [
    "issubclass(SARSCov2, Coronavirus)"
   ]
  },
  {
   "cell_type": "code",
   "execution_count": 5,
   "metadata": {},
   "outputs": [
    {
     "data": {
      "text/plain": [
       "True"
      ]
     },
     "execution_count": 5,
     "metadata": {},
     "output_type": "execute_result"
    }
   ],
   "source": [
    "issubclass(Coronavirus, RNAVirus)"
   ]
  },
  {
   "cell_type": "code",
   "execution_count": 6,
   "metadata": {},
   "outputs": [
    {
     "data": {
      "text/plain": [
       "False"
      ]
     },
     "execution_count": 6,
     "metadata": {},
     "output_type": "execute_result"
    }
   ],
   "source": [
    "isinstance(SARSCov2, Virus)"
   ]
  },
  {
   "attachments": {},
   "cell_type": "markdown",
   "metadata": {},
   "source": [
    "# What's inheritance good for?"
   ]
  },
  {
   "cell_type": "code",
   "execution_count": 7,
   "metadata": {},
   "outputs": [],
   "source": [
    "class Virus:\n",
    "    # Name\n",
    "    # reproduction_rate\n",
    "    # resisttance\n",
    "    # host\n",
    "    # viral_load\n",
    "    def __init__(self, name, reproduction_rate, resistance) -> None:\n",
    "        self.name = name\n",
    "        self.reproduction_rate = reproduction_rate\n",
    "        self.load = 1\n",
    "        self.host = None\n",
    "    \n",
    "    def infect(self, host):\n",
    "        self.host = host\n",
    "\n",
    "    def reproduce(self):\n",
    "        if self.host is not None:\n",
    "            self.load *= (1 + self.reproduction_rate)\n",
    "            return True, f\"Virus reproduced in {self.host}. Viral load: {int(self.load)}\"\n",
    "        raise AttributeError(\"Virus needs to infect a host before being able to reproduce.\")"
   ]
  },
  {
   "cell_type": "code",
   "execution_count": 8,
   "metadata": {},
   "outputs": [],
   "source": [
    "v = Virus(\"chandipura\", 1.2, 1.1)"
   ]
  },
  {
   "attachments": {},
   "cell_type": "markdown",
   "metadata": {},
   "source": [
    "```python\n",
    "v.reproduce()\n",
    "\n",
    "---------------------------------------------------------------------------\n",
    "AttributeError                            Traceback (most recent call last)\n",
    "Cell In[193], line 1\n",
    "----> 1 v.reproduce()\n",
    "\n",
    "Cell In[191], line 20, in Virus.reproduce(self)\n",
    "     18     self.load *= (1 + self.reproduction_rate)\n",
    "     19     return True, f\"Virus reproduced in {self.host}. Viral load: {int(self.load)}\"\n",
    "---> 20 raise AttributeError(\"Virus needs to infect a host before being able to reproduce.\")\n",
    "\n",
    "AttributeError: Virus needs to infect a host before being able to reproduce.\n",
    "```"
   ]
  },
  {
   "cell_type": "code",
   "execution_count": 9,
   "metadata": {},
   "outputs": [],
   "source": [
    "v.infect(\"animal\")"
   ]
  },
  {
   "cell_type": "code",
   "execution_count": 10,
   "metadata": {},
   "outputs": [
    {
     "data": {
      "text/plain": [
       "(True, 'Virus reproduced in animal. Viral load: 2')"
      ]
     },
     "execution_count": 10,
     "metadata": {},
     "output_type": "execute_result"
    }
   ],
   "source": [
    "v.reproduce()"
   ]
  },
  {
   "cell_type": "code",
   "execution_count": 11,
   "metadata": {},
   "outputs": [],
   "source": [
    "class RNAVirus(Virus):\n",
    "    genome = \"ribonucleic\"\n",
    "\n",
    "    def reproduce(self):\n",
    "        success, status = Virus.reproduce(self=self)\n",
    "\n",
    "        if success:\n",
    "            print(f\"{self.name} just replicated in cytoplasma of {self.host} cells.\")"
   ]
  },
  {
   "cell_type": "code",
   "execution_count": 12,
   "metadata": {},
   "outputs": [],
   "source": [
    "class DNAVirus(Virus):\n",
    "    genome = \"deoxyribonucleic\"\n",
    "\n",
    "    def reproduce(self):\n",
    "        success, status = Virus.reproduce(self=self)\n",
    "\n",
    "        if success:\n",
    "            print(f\"{self.name} just replicated in nucleus of {self.host} cells.\")"
   ]
  },
  {
   "cell_type": "code",
   "execution_count": 13,
   "metadata": {},
   "outputs": [],
   "source": [
    "r = RNAVirus(\"HIV\", 1.1, 0.2)"
   ]
  },
  {
   "attachments": {},
   "cell_type": "markdown",
   "metadata": {},
   "source": [
    "```python\n",
    "r.reproduce()\n",
    "\n",
    "---------------------------------------------------------------------------\n",
    "AttributeError                            Traceback (most recent call last)\n",
    "Cell In[208], line 1\n",
    "----> 1 r.reproduce()\n",
    "\n",
    "Cell In[205], line 5, in RNAVirus.reproduce(self)\n",
    "      4 def reproduce(self):\n",
    "----> 5     success, status = Virus.reproduce(self=self)\n",
    "      7     if success:\n",
    "      8         print(f\"{self.name} just replicated in cytoplasma of {self.host} cells.\")\n",
    "\n",
    "Cell In[201], line 20, in Virus.reproduce(self)\n",
    "     18     self.load *= (1 + self.reproduction_rate)\n",
    "     19     return True, f\"Virus reproduced in {self.host}. Viral load: {int(self.load)}\"\n",
    "---> 20 raise AttributeError(\"Virus needs to infect a host before being able to reproduce.\")\n",
    "\n",
    "AttributeError: Virus needs to infect a host before being able to reproduce.\n",
    "```"
   ]
  },
  {
   "cell_type": "code",
   "execution_count": 14,
   "metadata": {},
   "outputs": [],
   "source": [
    "r.infect(\"monkey_0\")"
   ]
  },
  {
   "cell_type": "code",
   "execution_count": 15,
   "metadata": {},
   "outputs": [
    {
     "name": "stdout",
     "output_type": "stream",
     "text": [
      "HIV just replicated in cytoplasma of monkey_0 cells.\n"
     ]
    }
   ],
   "source": [
    "r.reproduce()"
   ]
  },
  {
   "cell_type": "code",
   "execution_count": 16,
   "metadata": {},
   "outputs": [],
   "source": [
    "d = DNAVirus(\"Ecoli\", 2.1, 0.2)"
   ]
  },
  {
   "cell_type": "code",
   "execution_count": 17,
   "metadata": {},
   "outputs": [],
   "source": [
    "d.infect(\"sheep_1\")"
   ]
  },
  {
   "cell_type": "code",
   "execution_count": 18,
   "metadata": {},
   "outputs": [
    {
     "name": "stdout",
     "output_type": "stream",
     "text": [
      "Ecoli just replicated in nucleus of sheep_1 cells.\n"
     ]
    }
   ],
   "source": [
    "d.reproduce()"
   ]
  },
  {
   "attachments": {},
   "cell_type": "markdown",
   "metadata": {},
   "source": [
    "# All Classes Inherit From object"
   ]
  },
  {
   "cell_type": "code",
   "execution_count": 19,
   "metadata": {},
   "outputs": [],
   "source": [
    "class Virus:\n",
    "    pass\n",
    "\n",
    "class RNAVirus(Virus):\n",
    "    pass"
   ]
  },
  {
   "cell_type": "code",
   "execution_count": 20,
   "metadata": {},
   "outputs": [
    {
     "data": {
      "text/plain": [
       "object"
      ]
     },
     "execution_count": 20,
     "metadata": {},
     "output_type": "execute_result"
    }
   ],
   "source": [
    "object"
   ]
  },
  {
   "cell_type": "code",
   "execution_count": 21,
   "metadata": {},
   "outputs": [
    {
     "data": {
      "text/plain": [
       "<object at 0x287d5c21840>"
      ]
     },
     "execution_count": 21,
     "metadata": {},
     "output_type": "execute_result"
    }
   ],
   "source": [
    "object()"
   ]
  },
  {
   "cell_type": "code",
   "execution_count": 22,
   "metadata": {},
   "outputs": [],
   "source": [
    "# sentinel"
   ]
  },
  {
   "cell_type": "code",
   "execution_count": 23,
   "metadata": {},
   "outputs": [],
   "source": [
    "o1 = object()\n",
    "o2 = object()"
   ]
  },
  {
   "cell_type": "code",
   "execution_count": 24,
   "metadata": {},
   "outputs": [
    {
     "data": {
      "text/plain": [
       "False"
      ]
     },
     "execution_count": 24,
     "metadata": {},
     "output_type": "execute_result"
    }
   ],
   "source": [
    "o1 is o2"
   ]
  },
  {
   "cell_type": "code",
   "execution_count": 25,
   "metadata": {},
   "outputs": [
    {
     "data": {
      "text/plain": [
       "False"
      ]
     },
     "execution_count": 25,
     "metadata": {},
     "output_type": "execute_result"
    }
   ],
   "source": [
    "o1 == o2"
   ]
  },
  {
   "cell_type": "code",
   "execution_count": 26,
   "metadata": {},
   "outputs": [
    {
     "data": {
      "text/plain": [
       "2782430108064"
      ]
     },
     "execution_count": 26,
     "metadata": {},
     "output_type": "execute_result"
    }
   ],
   "source": [
    "id(o1)"
   ]
  },
  {
   "cell_type": "code",
   "execution_count": 27,
   "metadata": {},
   "outputs": [
    {
     "data": {
      "text/plain": [
       "object"
      ]
     },
     "execution_count": 27,
     "metadata": {},
     "output_type": "execute_result"
    }
   ],
   "source": [
    "o1.__class__"
   ]
  },
  {
   "cell_type": "code",
   "execution_count": 28,
   "metadata": {},
   "outputs": [
    {
     "data": {
      "text/plain": [
       "<method-wrapper '__repr__' of object object at 0x00000287D5C219A0>"
      ]
     },
     "execution_count": 28,
     "metadata": {},
     "output_type": "execute_result"
    }
   ],
   "source": [
    "o1.__repr__"
   ]
  },
  {
   "cell_type": "code",
   "execution_count": 29,
   "metadata": {},
   "outputs": [
    {
     "data": {
      "text/plain": [
       "<method-wrapper '__hash__' of object object at 0x00000287D5C219A0>"
      ]
     },
     "execution_count": 29,
     "metadata": {},
     "output_type": "execute_result"
    }
   ],
   "source": [
    "o1.__hash__"
   ]
  },
  {
   "cell_type": "code",
   "execution_count": 30,
   "metadata": {},
   "outputs": [],
   "source": [
    "class TempVirus:\n",
    "    pass"
   ]
  },
  {
   "cell_type": "code",
   "execution_count": 31,
   "metadata": {},
   "outputs": [
    {
     "data": {
      "text/plain": [
       "[<__main__.TempVirus at 0x287d70dc4d0>,\n",
       " <__main__.TempVirus at 0x287d70df3d0>,\n",
       " <__main__.TempVirus at 0x287d70dced0>,\n",
       " <__main__.TempVirus at 0x287d70dc550>]"
      ]
     },
     "execution_count": 31,
     "metadata": {},
     "output_type": "execute_result"
    }
   ],
   "source": [
    "[TempVirus() for i in range(4)]"
   ]
  },
  {
   "cell_type": "code",
   "execution_count": 32,
   "metadata": {},
   "outputs": [],
   "source": [
    "# object is callable is because its type implements __call__"
   ]
  },
  {
   "cell_type": "code",
   "execution_count": 33,
   "metadata": {},
   "outputs": [],
   "source": [
    "class TempVirus():\n",
    "    pass"
   ]
  },
  {
   "attachments": {},
   "cell_type": "markdown",
   "metadata": {},
   "source": [
    "# same as"
   ]
  },
  {
   "cell_type": "code",
   "execution_count": 34,
   "metadata": {},
   "outputs": [],
   "source": [
    "class TempVirus(object):\n",
    "    pass"
   ]
  },
  {
   "cell_type": "code",
   "execution_count": 35,
   "metadata": {},
   "outputs": [
    {
     "data": {
      "text/plain": [
       "<method-wrapper '__call__' of type object at 0x00000287D5D5B960>"
      ]
     },
     "execution_count": 35,
     "metadata": {},
     "output_type": "execute_result"
    }
   ],
   "source": [
    "TempVirus.__call__"
   ]
  },
  {
   "attachments": {},
   "cell_type": "markdown",
   "metadata": {},
   "source": [
    "# Method resolution order"
   ]
  },
  {
   "cell_type": "code",
   "execution_count": 36,
   "metadata": {},
   "outputs": [],
   "source": [
    "class TempVirus():\n",
    "    attr = \"some_calss_attribute\"\n",
    "    attr_other = \"some_other_class_attribute\"\n",
    "\n",
    "    def __init__(self, attr):\n",
    "        self.attr = attr"
   ]
  },
  {
   "cell_type": "code",
   "execution_count": 37,
   "metadata": {},
   "outputs": [],
   "source": [
    "# __dict__"
   ]
  },
  {
   "cell_type": "code",
   "execution_count": 38,
   "metadata": {},
   "outputs": [],
   "source": [
    "v1 = TempVirus(\"instance_attribute\")"
   ]
  },
  {
   "cell_type": "code",
   "execution_count": 39,
   "metadata": {},
   "outputs": [
    {
     "data": {
      "text/plain": [
       "'instance_attribute'"
      ]
     },
     "execution_count": 39,
     "metadata": {},
     "output_type": "execute_result"
    }
   ],
   "source": [
    "v1.attr"
   ]
  },
  {
   "cell_type": "code",
   "execution_count": 40,
   "metadata": {},
   "outputs": [
    {
     "data": {
      "text/plain": [
       "{'attr': 'instance_attribute'}"
      ]
     },
     "execution_count": 40,
     "metadata": {},
     "output_type": "execute_result"
    }
   ],
   "source": [
    "v1.__dict__"
   ]
  },
  {
   "cell_type": "code",
   "execution_count": 41,
   "metadata": {},
   "outputs": [
    {
     "data": {
      "text/plain": [
       "'some_other_class_attribute'"
      ]
     },
     "execution_count": 41,
     "metadata": {},
     "output_type": "execute_result"
    }
   ],
   "source": [
    "v1.attr_other"
   ]
  },
  {
   "cell_type": "code",
   "execution_count": 42,
   "metadata": {},
   "outputs": [
    {
     "data": {
      "text/plain": [
       "mappingproxy({'__module__': '__main__',\n",
       "              'attr': 'some_calss_attribute',\n",
       "              'attr_other': 'some_other_class_attribute',\n",
       "              '__init__': <function __main__.TempVirus.__init__(self, attr)>,\n",
       "              '__dict__': <attribute '__dict__' of 'TempVirus' objects>,\n",
       "              '__weakref__': <attribute '__weakref__' of 'TempVirus' objects>,\n",
       "              '__doc__': None})"
      ]
     },
     "execution_count": 42,
     "metadata": {},
     "output_type": "execute_result"
    }
   ],
   "source": [
    "type(v1).__dict__"
   ]
  },
  {
   "cell_type": "code",
   "execution_count": 43,
   "metadata": {},
   "outputs": [
    {
     "data": {
      "text/plain": [
       "mappingproxy({'__module__': '__main__',\n",
       "              'attr': 'some_calss_attribute',\n",
       "              'attr_other': 'some_other_class_attribute',\n",
       "              '__init__': <function __main__.TempVirus.__init__(self, attr)>,\n",
       "              '__dict__': <attribute '__dict__' of 'TempVirus' objects>,\n",
       "              '__weakref__': <attribute '__weakref__' of 'TempVirus' objects>,\n",
       "              '__doc__': None})"
      ]
     },
     "execution_count": 43,
     "metadata": {},
     "output_type": "execute_result"
    }
   ],
   "source": [
    "TempVirus.__dict__"
   ]
  },
  {
   "cell_type": "code",
   "execution_count": 44,
   "metadata": {},
   "outputs": [
    {
     "data": {
      "text/plain": [
       "mappingproxy({'__module__': '__main__',\n",
       "              'attr': 'some_calss_attribute',\n",
       "              'attr_other': 'some_other_class_attribute',\n",
       "              '__init__': <function __main__.TempVirus.__init__(self, attr)>,\n",
       "              '__dict__': <attribute '__dict__' of 'TempVirus' objects>,\n",
       "              '__weakref__': <attribute '__weakref__' of 'TempVirus' objects>,\n",
       "              '__doc__': None})"
      ]
     },
     "execution_count": 44,
     "metadata": {},
     "output_type": "execute_result"
    }
   ],
   "source": [
    "v1.__class__.__dict__"
   ]
  },
  {
   "attachments": {},
   "cell_type": "markdown",
   "metadata": {},
   "source": [
    "```python\n",
    "insstance -> class -> superclass(s) -> object, else AttributeError\n",
    "```"
   ]
  },
  {
   "attachments": {},
   "cell_type": "markdown",
   "metadata": {},
   "source": [
    "```python\n",
    "\n",
    "v1.imaginary\n",
    "\n",
    "---------------------------------------------------------------------------\n",
    "AttributeError                            Traceback (most recent call last)\n",
    "Cell In[29], line 1\n",
    "----> 1 v1.imaginary\n",
    "\n",
    "AttributeError: 'TempVirus' object has no attribute 'imaginary'\n",
    "\n",
    "```"
   ]
  },
  {
   "cell_type": "code",
   "execution_count": 45,
   "metadata": {},
   "outputs": [
    {
     "data": {
      "text/plain": [
       "(object,)"
      ]
     },
     "execution_count": 45,
     "metadata": {},
     "output_type": "execute_result"
    }
   ],
   "source": [
    "TempVirus.__bases__"
   ]
  },
  {
   "cell_type": "code",
   "execution_count": 46,
   "metadata": {},
   "outputs": [
    {
     "data": {
      "text/plain": [
       "(__main__.Virus,)"
      ]
     },
     "execution_count": 46,
     "metadata": {},
     "output_type": "execute_result"
    }
   ],
   "source": [
    "RNAVirus.__bases__"
   ]
  },
  {
   "cell_type": "code",
   "execution_count": 47,
   "metadata": {},
   "outputs": [
    {
     "data": {
      "text/plain": [
       "(__main__.RNAVirus,)"
      ]
     },
     "execution_count": 47,
     "metadata": {},
     "output_type": "execute_result"
    }
   ],
   "source": [
    "Coronavirus.__bases__"
   ]
  },
  {
   "attachments": {},
   "cell_type": "markdown",
   "metadata": {},
   "source": [
    "# __mro__ --> method resolution order"
   ]
  },
  {
   "cell_type": "code",
   "execution_count": 48,
   "metadata": {},
   "outputs": [
    {
     "data": {
      "text/plain": [
       "(__main__.RNAVirus, __main__.Virus, object)"
      ]
     },
     "execution_count": 48,
     "metadata": {},
     "output_type": "execute_result"
    }
   ],
   "source": [
    "RNAVirus.__mro__"
   ]
  },
  {
   "cell_type": "code",
   "execution_count": 49,
   "metadata": {},
   "outputs": [
    {
     "data": {
      "text/plain": [
       "(__main__.Coronavirus, __main__.RNAVirus, __main__.Virus, object)"
      ]
     },
     "execution_count": 49,
     "metadata": {},
     "output_type": "execute_result"
    }
   ],
   "source": [
    "Coronavirus.__mro__"
   ]
  },
  {
   "attachments": {},
   "cell_type": "markdown",
   "metadata": {},
   "source": [
    "# Subclass Overrides"
   ]
  },
  {
   "cell_type": "code",
   "execution_count": 50,
   "metadata": {},
   "outputs": [],
   "source": [
    "from random import getrandbits"
   ]
  },
  {
   "cell_type": "code",
   "execution_count": 51,
   "metadata": {},
   "outputs": [
    {
     "name": "stdout",
     "output_type": "stream",
     "text": [
      "0\n",
      "1\n",
      "0\n",
      "1\n"
     ]
    }
   ],
   "source": [
    "for i in range(4):\n",
    "    print(getrandbits(1))"
   ]
  },
  {
   "cell_type": "code",
   "execution_count": 52,
   "metadata": {},
   "outputs": [],
   "source": [
    "class Virus:\n",
    "    def __init__(self, name, reproduction_rate, resistance):\n",
    "        self.name = name\n",
    "        self.reproduction_rate = reproduction_rate\n",
    "        self.load = 1\n",
    "        self.host = None\n",
    "    \n",
    "    def infect(self, host):\n",
    "        self.host = host\n",
    "\n",
    "    def reproduce(self):\n",
    "        if self.host is not None:\n",
    "            self.load *= (1 + self.reproduction_rate)\n",
    "\n",
    "            should_mutate = getrandbits(1)\n",
    "            print(f\"Should mutate: {should_mutate}.\")\n",
    "            \n",
    "            if should_mutate:\n",
    "                try:\n",
    "                    self.mutate()\n",
    "                except AttributeError:\n",
    "                    pass\n",
    "\n",
    "            return True, f\"Virus reproduced in {self.host}. Viral load: {int(self.load)}.\"\n",
    "        raise AttributeError(\"Virus needs to infect a host before being able to reproduce.\")\n",
    "\n",
    "class RNAVirus(Virus):\n",
    "    genome = \"ribonucleic\"\n",
    "\n",
    "    def reproduce(self):\n",
    "        success, status = Virus.reproduce(self)\n",
    "\n",
    "        if success:\n",
    "            print(f\"{self.name} just replicated in the cytoplasm of {self.host} cells.\")\n",
    "\n",
    "class DNAVirus(Virus):\n",
    "    genome = 'deoxyribonucleic'\n",
    "\n",
    "    def reproduce(self):\n",
    "        success, status = Virus.reproduce(self)\n",
    "\n",
    "        if success:\n",
    "            print(f\"{self.name} just relicated in the nucleus of {self.host} cells.\")"
   ]
  },
  {
   "cell_type": "code",
   "execution_count": 53,
   "metadata": {},
   "outputs": [],
   "source": [
    "class CoronaVirus(RNAVirus):\n",
    "    def infect(self):\n",
    "        print(\"A coronavirus specific method with a different signature from the parent's.\")\n",
    "\n",
    "        raise NotImplementedError()\n"
   ]
  },
  {
   "cell_type": "code",
   "execution_count": 54,
   "metadata": {},
   "outputs": [],
   "source": [
    "cv = CoronaVirus(\"MERS\", .1, .2)"
   ]
  },
  {
   "attachments": {},
   "cell_type": "markdown",
   "metadata": {},
   "source": [
    "```python\n",
    "cv.infect()\n",
    "\n",
    "A coronavirus specific method with a different signature from the parent\\'s.\n",
    "---------------------------------------------------------------------------\n",
    "NotImplementedError                       Traceback (most recent call last)\n",
    "Cell In[83], line 1\n",
    "----> 1 cv.infect()\n",
    "\n",
    "Cell In[81], line 5, in CoronaVirus.infect(self)\n",
    "      2 def infect(self):\n",
    "      3     print(\"A coronavirus specific method with a different signature from the parent's.\")\n",
    "----> 5     raise NotImplementedError()\n",
    "\n",
    "NotImplementedError: \n",
    "\n",
    "```"
   ]
  },
  {
   "cell_type": "code",
   "execution_count": 55,
   "metadata": {},
   "outputs": [
    {
     "data": {
      "text/plain": [
       "(__main__.CoronaVirus, __main__.RNAVirus, __main__.Virus, object)"
      ]
     },
     "execution_count": 55,
     "metadata": {},
     "output_type": "execute_result"
    }
   ],
   "source": [
    "CoronaVirus.__mro__"
   ]
  },
  {
   "cell_type": "code",
   "execution_count": 56,
   "metadata": {},
   "outputs": [],
   "source": [
    "class CoronaVirus(RNAVirus):\n",
    "    pass"
   ]
  },
  {
   "cell_type": "code",
   "execution_count": 57,
   "metadata": {},
   "outputs": [],
   "source": [
    "class SARSCov2(CoronaVirus):\n",
    "    def mutate(self):\n",
    "        print(f\"The {self.name} virus just mutated its spike protein.\")"
   ]
  },
  {
   "cell_type": "code",
   "execution_count": 58,
   "metadata": {},
   "outputs": [],
   "source": [
    "cv = SARSCov2(\"Oryginal\", 2.9, 1.2)"
   ]
  },
  {
   "cell_type": "code",
   "execution_count": 59,
   "metadata": {},
   "outputs": [],
   "source": [
    "cv.infect(\"Tobi\")"
   ]
  },
  {
   "cell_type": "code",
   "execution_count": 60,
   "metadata": {},
   "outputs": [
    {
     "name": "stdout",
     "output_type": "stream",
     "text": [
      "Should mutate: 1.\n",
      "The Oryginal virus just mutated its spike protein.\n",
      "Oryginal just replicated in the cytoplasm of Tobi cells.\n",
      "None \n",
      "\n",
      "Should mutate: 0.\n",
      "Oryginal just replicated in the cytoplasm of Tobi cells.\n",
      "None \n",
      "\n",
      "Should mutate: 0.\n",
      "Oryginal just replicated in the cytoplasm of Tobi cells.\n",
      "None \n",
      "\n",
      "Should mutate: 1.\n",
      "The Oryginal virus just mutated its spike protein.\n",
      "Oryginal just replicated in the cytoplasm of Tobi cells.\n",
      "None \n",
      "\n",
      "Should mutate: 0.\n",
      "Oryginal just replicated in the cytoplasm of Tobi cells.\n",
      "None \n",
      "\n",
      "Should mutate: 1.\n",
      "The Oryginal virus just mutated its spike protein.\n",
      "Oryginal just replicated in the cytoplasm of Tobi cells.\n",
      "None \n",
      "\n"
     ]
    }
   ],
   "source": [
    "for _ in range(6):\n",
    "    print(cv.reproduce(), \"\\n\")"
   ]
  },
  {
   "attachments": {},
   "cell_type": "markdown",
   "metadata": {},
   "source": [
    "# Better Parent Delegation: super()"
   ]
  },
  {
   "cell_type": "code",
   "execution_count": 61,
   "metadata": {},
   "outputs": [],
   "source": [
    "class Virus:\n",
    "    def __init__(self, name, reproduction_rate, resistance):\n",
    "        self.name = name\n",
    "        self.reproduction_rate = reproduction_rate\n",
    "        self.load = 1 \n",
    "        self.host = None\n",
    "\n",
    "    def infect(self, host):\n",
    "        self.host = host\n",
    "\n",
    "    def reproduce(self):\n",
    "        if self.host is not None:\n",
    "            self.load *= (1 + self.reproduction_rate)\n",
    "\n",
    "            should_mutate = getrandbits(1)\n",
    "            print(f\"Should mutate: {should_mutate}\")\n",
    "\n",
    "            if should_mutate:\n",
    "                try:\n",
    "                    self.mutate()\n",
    "                except AttributeError:\n",
    "                    pass\n",
    "            \n",
    "            return True, f\"Virus reproduced in {self.host}. Viral load: {int(self.load)}.\"\n",
    "\n",
    "        raise AttributeError(\"Virus needs to infect a host before being able to reproduce.\")"
   ]
  },
  {
   "cell_type": "code",
   "execution_count": 62,
   "metadata": {},
   "outputs": [],
   "source": [
    "class RNAVirus(Virus):\n",
    "    genome = \"ribonucleic\"\n",
    "\n",
    "    def reproduce(self):\n",
    "        # success, status = Virus.reproduce(self)\n",
    "        success, status = super().reproduce()\n",
    "\n",
    "        if success:\n",
    "            print(f\"{self.name} just relicated in the cytoplasm of {self.host} cells.\")"
   ]
  },
  {
   "cell_type": "code",
   "execution_count": 63,
   "metadata": {},
   "outputs": [],
   "source": [
    "class DNAVirus(Virus):\n",
    "    genome = \"deoxyribonucleic\"\n",
    "\n",
    "    def reproduce(self):\n",
    "        success, status = Virus.reproduce(self)\n",
    "\n",
    "        if success:\n",
    "            print(f\"{self.name} just replicated in the nucleus of {self.host} cells.\")\n",
    "\n",
    "class CoronaVirus(RNAVirus):\n",
    "    pass\n",
    "\n",
    "class SARCov2(CoronaVirus):\n",
    "    def mutate(self):\n",
    "        print(f\"The {self.name} virus just mutated its spike protein.\")"
   ]
  },
  {
   "cell_type": "code",
   "execution_count": 64,
   "metadata": {},
   "outputs": [],
   "source": [
    "rv = RNAVirus(\"a\", 1.1, 1.2)\n",
    "dv = DNAVirus(\"dv\", 1.3, 1.2)"
   ]
  },
  {
   "cell_type": "code",
   "execution_count": 65,
   "metadata": {},
   "outputs": [],
   "source": [
    "rv.infect(\"Andrew\")\n",
    "dv.infect(\"Tobi\")"
   ]
  },
  {
   "cell_type": "code",
   "execution_count": 66,
   "metadata": {},
   "outputs": [
    {
     "name": "stdout",
     "output_type": "stream",
     "text": [
      "Should mutate: 0\n",
      "a just relicated in the cytoplasm of Andrew cells.\n"
     ]
    }
   ],
   "source": [
    "rv.reproduce()"
   ]
  },
  {
   "cell_type": "code",
   "execution_count": 67,
   "metadata": {},
   "outputs": [
    {
     "name": "stdout",
     "output_type": "stream",
     "text": [
      "Should mutate: 1\n",
      "dv just replicated in the nucleus of Tobi cells.\n"
     ]
    }
   ],
   "source": [
    "dv.reproduce()"
   ]
  },
  {
   "attachments": {},
   "cell_type": "markdown",
   "metadata": {},
   "source": [
    "# Subclass __init__"
   ]
  },
  {
   "cell_type": "code",
   "execution_count": 68,
   "metadata": {},
   "outputs": [],
   "source": [
    "class Virus:\n",
    "    def __init__(self, name, reproduction_rate, resistance):\n",
    "        self.name = name\n",
    "        self.reproduction_rate = reproduction_rate\n",
    "        self.load = 1 \n",
    "        self.host = None\n",
    "\n",
    "    def infect(self, host):\n",
    "        self.host = host\n",
    "\n",
    "    def reproduce(self):\n",
    "        if self.host is not None:\n",
    "            self.load *= (1 + self.reproduction_rate)\n",
    "\n",
    "            should_mutate = getrandbits(1)\n",
    "            print(f\"Should mutate: {should_mutate}\")\n",
    "\n",
    "            if should_mutate:\n",
    "                try:\n",
    "                    self.mutate() # type: ignore\n",
    "                except AttributeError:\n",
    "                    pass\n",
    "            \n",
    "            return True, f\"Virus reproduced in {self.host}. Viral load: {int(self.load)}.\"\n",
    "\n",
    "        raise AttributeError(\"Virus needs to infect a host before being able to reproduce.\")\n",
    "    \n",
    "class RNAVirus(Virus):\n",
    "    genome = \"ribonucleic\"\n",
    "\n",
    "    def reproduce(self):\n",
    "        # success, status = Virus.reproduce(self)\n",
    "        success, status = super().reproduce()\n",
    "\n",
    "        if success:\n",
    "            print(f\"{self.name} just relicated in the cytoplasm of {self.host} cells.\")\n",
    "\n",
    "class DNAVirus(Virus):\n",
    "    genome = \"deoxyribonucleic\"\n",
    "\n",
    "    def reproduce(self):\n",
    "        success, status = Virus.reproduce(self)\n",
    "\n",
    "        if success:\n",
    "            print(f\"{self.name} just replicated in the nucleus of {self.host} cells.\")\n",
    "\n",
    "class CoronaVirus(RNAVirus):\n",
    "    pass\n",
    "\n",
    "class SARSCov2(CoronaVirus):\n",
    "    def __init__(self, variant):\n",
    "        self.variant = variant\n",
    "\n",
    "\n",
    "    def mutate(self):\n",
    "        print(f\"The {self.name} virus just mutated its spike protein.\")"
   ]
  },
  {
   "cell_type": "code",
   "execution_count": 69,
   "metadata": {},
   "outputs": [],
   "source": [
    "cv = SARSCov2(\"Omicron\")"
   ]
  },
  {
   "cell_type": "code",
   "execution_count": 70,
   "metadata": {},
   "outputs": [
    {
     "data": {
      "text/plain": [
       "<__main__.SARSCov2 at 0x287d70fc750>"
      ]
     },
     "execution_count": 70,
     "metadata": {},
     "output_type": "execute_result"
    }
   ],
   "source": [
    "cv"
   ]
  },
  {
   "attachments": {},
   "cell_type": "markdown",
   "metadata": {},
   "source": [
    "```python\n",
    "cv.reproduction_rate\n",
    "\n",
    "---------------------------------------------------------------------------\n",
    "AttributeError                            Traceback (most recent call last)\n",
    "Cell In[75], line 1\n",
    "----> 1 cv.reproduction_rate\n",
    "\n",
    "AttributeError: 'SARSCov2' object has no attribute 'reproduction_rate'\n",
    "```"
   ]
  },
  {
   "cell_type": "code",
   "execution_count": 71,
   "metadata": {},
   "outputs": [
    {
     "data": {
      "text/plain": [
       "{'variant': 'Omicron'}"
      ]
     },
     "execution_count": 71,
     "metadata": {},
     "output_type": "execute_result"
    }
   ],
   "source": [
    "cv.__dict__"
   ]
  },
  {
   "cell_type": "code",
   "execution_count": 72,
   "metadata": {},
   "outputs": [],
   "source": [
    "class SARSCov2(CoronaVirus):\n",
    "    def __init__(self, variant):\n",
    "        super().__init__(\"SARSCovid2\", 2.49, 1.3)\n",
    "        self.variant = variant\n",
    "\n",
    "\n",
    "    def mutate(self):\n",
    "        print(f\"The {self.name} virus just mutated its spike protein.\")"
   ]
  },
  {
   "cell_type": "code",
   "execution_count": 73,
   "metadata": {},
   "outputs": [],
   "source": [
    "cv = SARSCov2(\"Omnicorn\")"
   ]
  },
  {
   "cell_type": "code",
   "execution_count": 74,
   "metadata": {},
   "outputs": [
    {
     "data": {
      "text/plain": [
       "2.49"
      ]
     },
     "execution_count": 74,
     "metadata": {},
     "output_type": "execute_result"
    }
   ],
   "source": [
    "cv.reproduction_rate"
   ]
  },
  {
   "cell_type": "code",
   "execution_count": 75,
   "metadata": {},
   "outputs": [
    {
     "data": {
      "text/plain": [
       "{'name': 'SARSCovid2',\n",
       " 'reproduction_rate': 2.49,\n",
       " 'load': 1,\n",
       " 'host': None,\n",
       " 'variant': 'Omnicorn'}"
      ]
     },
     "execution_count": 75,
     "metadata": {},
     "output_type": "execute_result"
    }
   ],
   "source": [
    "cv.__dict__"
   ]
  },
  {
   "cell_type": "code",
   "execution_count": 76,
   "metadata": {},
   "outputs": [
    {
     "data": {
      "text/plain": [
       "(__main__.SARSCov2,\n",
       " __main__.CoronaVirus,\n",
       " __main__.RNAVirus,\n",
       " __main__.Virus,\n",
       " object)"
      ]
     },
     "execution_count": 76,
     "metadata": {},
     "output_type": "execute_result"
    }
   ],
   "source": [
    "SARSCov2.__mro__"
   ]
  },
  {
   "cell_type": "code",
   "execution_count": 77,
   "metadata": {},
   "outputs": [],
   "source": [
    "# Parent - child class relationship deined using inheritance  \n",
    "# where the child defined on init only for the purpose of calling the parent init\n"
   ]
  },
  {
   "cell_type": "code",
   "execution_count": 78,
   "metadata": {},
   "outputs": [],
   "source": [
    "class Parent:\n",
    "    def __init__(self) -> None:\n",
    "        print(\"parent init\")\n",
    "\n",
    "class Child(Parent):\n",
    "    def __init__(self) -> None:\n",
    "        super().__init__()"
   ]
  },
  {
   "cell_type": "code",
   "execution_count": 79,
   "metadata": {},
   "outputs": [
    {
     "name": "stdout",
     "output_type": "stream",
     "text": [
      "parent init\n"
     ]
    }
   ],
   "source": [
    "c = Child()"
   ]
  },
  {
   "cell_type": "code",
   "execution_count": 80,
   "metadata": {},
   "outputs": [],
   "source": [
    "# more pythonic  way:"
   ]
  },
  {
   "cell_type": "code",
   "execution_count": 83,
   "metadata": {},
   "outputs": [],
   "source": [
    "class Parent:\n",
    "    def __init__(self) -> None:\n",
    "        print(\"Parent init pythonic way.\")\n",
    "\n",
    "class Child(Parent):\n",
    "    pass"
   ]
  },
  {
   "cell_type": "code",
   "execution_count": 84,
   "metadata": {},
   "outputs": [
    {
     "name": "stdout",
     "output_type": "stream",
     "text": [
      "Parent init pythonic way.\n"
     ]
    }
   ],
   "source": [
    "c = Child()"
   ]
  },
  {
   "attachments": {},
   "cell_type": "markdown",
   "metadata": {},
   "source": [
    "# 74"
   ]
  },
  {
   "cell_type": "code",
   "execution_count": 22,
   "metadata": {},
   "outputs": [],
   "source": [
    "class BankAccount:\n",
    "    \"\"\"A regular bank account\"\"\"\n",
    "\n",
    "    def __init__(self, initial_balance=0):\n",
    "        self._balance = initial_balance\n",
    "\n",
    "    def deposit(self, amount):\n",
    "        if amount > 0:\n",
    "            self._balance += amount\n",
    "            print(f\"Deposited ${amount}.\")\n",
    "\n",
    "    def withdraw(self, amount):\n",
    "        if 0 < amount <= self.balance:\n",
    "            self._balance -= amount\n",
    "            print(f\"Withdrew ${amount}.\")\n",
    "\n",
    "    def __repr__(self):\n",
    "        # instance_name = SavingsBankAccount, HighInterestSavingsBankAccount\n",
    "        # __mro__ -> (tuple of class names in the full inheritance chain leading up to object)\n",
    "        instance_name = \"\".join([t.__name__ for t in type(self).__mro__[:-1]])\n",
    "        return f\"A {instance_name} with ${self.balance:.2f} in it.\"\n",
    "\n",
    "    @property\n",
    "    def balance(self):\n",
    "        return self._balance\n",
    "\n",
    "\n",
    "class Savings(BankAccount):\n",
    "    \"\"\"Like a bank account but interest-earning\"\"\"\n",
    "    interest = 0.0035\n",
    "\n",
    "    def pay_interest(self):\n",
    "        interest_earned = round(self.balance * self.interest, 2)\n",
    "        self.deposit(interest_earned)\n",
    "\n",
    "\n",
    "class HighInterest(Savings):\n",
    "    \"\"\"Like a savings account but earning higher interest, in exchange for withdrawal fees\"\"\"\n",
    "    interest = 0.007\n",
    "\n",
    "    def __init__(self, initial_balance=0, withdrawal_fee=5):\n",
    "        super().__init__(initial_balance)\n",
    "        self.withdrawal_fee = withdrawal_fee\n",
    "\n",
    "    def withdraw(self, amount):\n",
    "        if 0 < amount + self.withdrawal_fee <= self.balance:\n",
    "            self._balance -= self.withdrawal_fee\n",
    "            super().withdraw(amount)\n",
    "\n",
    "\n",
    "class LockedIn(HighInterest):\n",
    "    \"\"\"Like a high-interest saving account but earning higher interest, in exchange for the ability to withdraw early\"\"\"\n",
    "    interest = 0.009\n",
    "\n",
    "    def withdraw(self, amount):\n",
    "        return f\"Can't make early withdrawal from a Locked-in Savings account.\"\n"
   ]
  },
  {
   "cell_type": "code",
   "execution_count": 23,
   "metadata": {},
   "outputs": [],
   "source": [
    "b = BankAccount(100)"
   ]
  },
  {
   "cell_type": "code",
   "execution_count": 24,
   "metadata": {},
   "outputs": [
    {
     "data": {
      "text/plain": [
       "A BankAccount with $100.00 in it."
      ]
     },
     "execution_count": 24,
     "metadata": {},
     "output_type": "execute_result"
    }
   ],
   "source": [
    "b"
   ]
  },
  {
   "cell_type": "code",
   "execution_count": 25,
   "metadata": {},
   "outputs": [],
   "source": [
    "s = Savings(230)"
   ]
  },
  {
   "cell_type": "code",
   "execution_count": 26,
   "metadata": {},
   "outputs": [
    {
     "data": {
      "text/plain": [
       "A SavingsBankAccount with $230.00 in it."
      ]
     },
     "execution_count": 26,
     "metadata": {},
     "output_type": "execute_result"
    }
   ],
   "source": [
    "s"
   ]
  },
  {
   "cell_type": "code",
   "execution_count": 27,
   "metadata": {},
   "outputs": [],
   "source": [
    "l = LockedIn(10000)"
   ]
  },
  {
   "cell_type": "code",
   "execution_count": 28,
   "metadata": {},
   "outputs": [
    {
     "data": {
      "text/plain": [
       "A LockedInHighInterestSavingsBankAccount with $10000.00 in it."
      ]
     },
     "execution_count": 28,
     "metadata": {},
     "output_type": "execute_result"
    }
   ],
   "source": [
    "l"
   ]
  },
  {
   "cell_type": "code",
   "execution_count": 29,
   "metadata": {},
   "outputs": [
    {
     "name": "stdout",
     "output_type": "stream",
     "text": [
      "Deposited $640.\n"
     ]
    }
   ],
   "source": [
    "s.deposit(640)"
   ]
  },
  {
   "cell_type": "code",
   "execution_count": 30,
   "metadata": {},
   "outputs": [
    {
     "data": {
      "text/plain": [
       "A SavingsBankAccount with $870.00 in it."
      ]
     },
     "execution_count": 30,
     "metadata": {},
     "output_type": "execute_result"
    }
   ],
   "source": [
    "s"
   ]
  },
  {
   "cell_type": "code",
   "execution_count": 31,
   "metadata": {},
   "outputs": [
    {
     "name": "stdout",
     "output_type": "stream",
     "text": [
      "Deposited $3.04.\n"
     ]
    }
   ],
   "source": [
    "s.pay_interest()"
   ]
  },
  {
   "cell_type": "code",
   "execution_count": 32,
   "metadata": {},
   "outputs": [
    {
     "name": "stdout",
     "output_type": "stream",
     "text": [
      "Withdrew $153.\n"
     ]
    }
   ],
   "source": [
    "s.withdraw(153)"
   ]
  },
  {
   "cell_type": "code",
   "execution_count": 33,
   "metadata": {},
   "outputs": [
    {
     "data": {
      "text/plain": [
       "A SavingsBankAccount with $720.04 in it."
      ]
     },
     "execution_count": 33,
     "metadata": {},
     "output_type": "execute_result"
    }
   ],
   "source": [
    "s"
   ]
  },
  {
   "cell_type": "code",
   "execution_count": 34,
   "metadata": {},
   "outputs": [],
   "source": [
    "hi = HighInterest(400)"
   ]
  },
  {
   "cell_type": "code",
   "execution_count": 35,
   "metadata": {},
   "outputs": [
    {
     "name": "stdout",
     "output_type": "stream",
     "text": [
      "Deposited $456.\n"
     ]
    }
   ],
   "source": [
    "hi.deposit(456)"
   ]
  },
  {
   "cell_type": "code",
   "execution_count": 36,
   "metadata": {},
   "outputs": [
    {
     "data": {
      "text/plain": [
       "A HighInterestSavingsBankAccount with $856.00 in it."
      ]
     },
     "execution_count": 36,
     "metadata": {},
     "output_type": "execute_result"
    }
   ],
   "source": [
    "hi"
   ]
  },
  {
   "cell_type": "code",
   "execution_count": 37,
   "metadata": {},
   "outputs": [
    {
     "name": "stdout",
     "output_type": "stream",
     "text": [
      "Deposited $5.99.\n"
     ]
    }
   ],
   "source": [
    "hi.pay_interest()"
   ]
  },
  {
   "cell_type": "code",
   "execution_count": 38,
   "metadata": {},
   "outputs": [
    {
     "data": {
      "text/plain": [
       "A HighInterestSavingsBankAccount with $861.99 in it."
      ]
     },
     "execution_count": 38,
     "metadata": {},
     "output_type": "execute_result"
    }
   ],
   "source": [
    "hi"
   ]
  },
  {
   "cell_type": "code",
   "execution_count": 39,
   "metadata": {},
   "outputs": [
    {
     "name": "stdout",
     "output_type": "stream",
     "text": [
      "Withdrew $789.\n"
     ]
    }
   ],
   "source": [
    "hi.withdraw(789)"
   ]
  },
  {
   "cell_type": "code",
   "execution_count": 40,
   "metadata": {},
   "outputs": [
    {
     "data": {
      "text/plain": [
       "A HighInterestSavingsBankAccount with $67.99 in it."
      ]
     },
     "execution_count": 40,
     "metadata": {},
     "output_type": "execute_result"
    }
   ],
   "source": [
    "hi"
   ]
  },
  {
   "cell_type": "code",
   "execution_count": null,
   "metadata": {},
   "outputs": [],
   "source": []
  }
 ],
 "metadata": {
  "kernelspec": {
   "display_name": "Python 3",
   "language": "python",
   "name": "python3"
  },
  "language_info": {
   "codemirror_mode": {
    "name": "ipython",
    "version": 3
   },
   "file_extension": ".py",
   "mimetype": "text/x-python",
   "name": "python",
   "nbconvert_exporter": "python",
   "pygments_lexer": "ipython3",
   "version": "3.11.3"
  },
  "orig_nbformat": 4
 },
 "nbformat": 4,
 "nbformat_minor": 2
}
