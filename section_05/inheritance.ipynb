{
 "cells": [
  {
   "attachments": {},
   "cell_type": "markdown",
   "metadata": {},
   "source": [
    "# Inheritance  \n",
    "class -> object"
   ]
  },
  {
   "cell_type": "code",
   "execution_count": 289,
   "metadata": {},
   "outputs": [],
   "source": [
    "# superclass or base class or parent class\n",
    "class Virus:\n",
    "    pass\n",
    "\n",
    "# derived class, or child class\n",
    "# or subclass or subtype\n",
    "class RNAVirus(Virus):\n",
    "    pass"
   ]
  },
  {
   "cell_type": "code",
   "execution_count": 290,
   "metadata": {},
   "outputs": [],
   "source": [
    "# \"is a \" relationships"
   ]
  },
  {
   "cell_type": "code",
   "execution_count": 291,
   "metadata": {},
   "outputs": [],
   "source": [
    "class Virus:\n",
    "    pass\n",
    "\n",
    "class RNAVirus(Virus):\n",
    "    pass\n",
    "\n",
    "class Coronavirus(RNAVirus):\n",
    "    pass\n",
    "\n",
    "class SARSCov2(Coronavirus):\n",
    "    pass"
   ]
  },
  {
   "cell_type": "code",
   "execution_count": 292,
   "metadata": {},
   "outputs": [
    {
     "data": {
      "text/plain": [
       "True"
      ]
     },
     "execution_count": 292,
     "metadata": {},
     "output_type": "execute_result"
    }
   ],
   "source": [
    "issubclass(SARSCov2, Coronavirus)"
   ]
  },
  {
   "cell_type": "code",
   "execution_count": 293,
   "metadata": {},
   "outputs": [
    {
     "data": {
      "text/plain": [
       "True"
      ]
     },
     "execution_count": 293,
     "metadata": {},
     "output_type": "execute_result"
    }
   ],
   "source": [
    "issubclass(Coronavirus, RNAVirus)"
   ]
  },
  {
   "cell_type": "code",
   "execution_count": 294,
   "metadata": {},
   "outputs": [
    {
     "data": {
      "text/plain": [
       "False"
      ]
     },
     "execution_count": 294,
     "metadata": {},
     "output_type": "execute_result"
    }
   ],
   "source": [
    "isinstance(SARSCov2, Virus)"
   ]
  },
  {
   "attachments": {},
   "cell_type": "markdown",
   "metadata": {},
   "source": [
    "# What's inheritance good for?"
   ]
  },
  {
   "cell_type": "code",
   "execution_count": 295,
   "metadata": {},
   "outputs": [],
   "source": [
    "class Virus:\n",
    "    # Name\n",
    "    # reproduction_rate\n",
    "    # resisttance\n",
    "    # host\n",
    "    # viral_load\n",
    "    def __init__(self, name, reproduction_rate, resistance) -> None:\n",
    "        self.name = name\n",
    "        self.reproduction_rate = reproduction_rate\n",
    "        self.load = 1\n",
    "        self.host = None\n",
    "    \n",
    "    def infect(self, host):\n",
    "        self.host = host\n",
    "\n",
    "    def reproduce(self):\n",
    "        if self.host is not None:\n",
    "            self.load *= (1 + self.reproduction_rate)\n",
    "            return True, f\"Virus reproduced in {self.host}. Viral load: {int(self.load)}\"\n",
    "        raise AttributeError(\"Virus needs to infect a host before being able to reproduce.\")"
   ]
  },
  {
   "cell_type": "code",
   "execution_count": 296,
   "metadata": {},
   "outputs": [],
   "source": [
    "v = Virus(\"chandipura\", 1.2, 1.1)"
   ]
  },
  {
   "attachments": {},
   "cell_type": "markdown",
   "metadata": {},
   "source": [
    "```python\n",
    "v.reproduce()\n",
    "\n",
    "---------------------------------------------------------------------------\n",
    "AttributeError                            Traceback (most recent call last)\n",
    "Cell In[193], line 1\n",
    "----> 1 v.reproduce()\n",
    "\n",
    "Cell In[191], line 20, in Virus.reproduce(self)\n",
    "     18     self.load *= (1 + self.reproduction_rate)\n",
    "     19     return True, f\"Virus reproduced in {self.host}. Viral load: {int(self.load)}\"\n",
    "---> 20 raise AttributeError(\"Virus needs to infect a host before being able to reproduce.\")\n",
    "\n",
    "AttributeError: Virus needs to infect a host before being able to reproduce.\n",
    "```"
   ]
  },
  {
   "cell_type": "code",
   "execution_count": 297,
   "metadata": {},
   "outputs": [],
   "source": [
    "v.infect(\"animal\")"
   ]
  },
  {
   "cell_type": "code",
   "execution_count": 298,
   "metadata": {},
   "outputs": [
    {
     "data": {
      "text/plain": [
       "(True, 'Virus reproduced in animal. Viral load: 2')"
      ]
     },
     "execution_count": 298,
     "metadata": {},
     "output_type": "execute_result"
    }
   ],
   "source": [
    "v.reproduce()"
   ]
  },
  {
   "cell_type": "code",
   "execution_count": 299,
   "metadata": {},
   "outputs": [],
   "source": [
    "class RNAVirus(Virus):\n",
    "    genome = \"ribonucleic\"\n",
    "\n",
    "    def reproduce(self):\n",
    "        success, status = Virus.reproduce(self=self)\n",
    "\n",
    "        if success:\n",
    "            print(f\"{self.name} just replicated in cytoplasma of {self.host} cells.\")"
   ]
  },
  {
   "cell_type": "code",
   "execution_count": 300,
   "metadata": {},
   "outputs": [],
   "source": [
    "class DNAVirus(Virus):\n",
    "    genome = \"deoxyribonucleic\"\n",
    "\n",
    "    def reproduce(self):\n",
    "        success, status = Virus.reproduce(self=self)\n",
    "\n",
    "        if success:\n",
    "            print(f\"{self.name} just replicated in nucleus of {self.host} cells.\")"
   ]
  },
  {
   "cell_type": "code",
   "execution_count": 301,
   "metadata": {},
   "outputs": [],
   "source": [
    "r = RNAVirus(\"HIV\", 1.1, 0.2)"
   ]
  },
  {
   "attachments": {},
   "cell_type": "markdown",
   "metadata": {},
   "source": [
    "```python\n",
    "r.reproduce()\n",
    "\n",
    "---------------------------------------------------------------------------\n",
    "AttributeError                            Traceback (most recent call last)\n",
    "Cell In[208], line 1\n",
    "----> 1 r.reproduce()\n",
    "\n",
    "Cell In[205], line 5, in RNAVirus.reproduce(self)\n",
    "      4 def reproduce(self):\n",
    "----> 5     success, status = Virus.reproduce(self=self)\n",
    "      7     if success:\n",
    "      8         print(f\"{self.name} just replicated in cytoplasma of {self.host} cells.\")\n",
    "\n",
    "Cell In[201], line 20, in Virus.reproduce(self)\n",
    "     18     self.load *= (1 + self.reproduction_rate)\n",
    "     19     return True, f\"Virus reproduced in {self.host}. Viral load: {int(self.load)}\"\n",
    "---> 20 raise AttributeError(\"Virus needs to infect a host before being able to reproduce.\")\n",
    "\n",
    "AttributeError: Virus needs to infect a host before being able to reproduce.\n",
    "```"
   ]
  },
  {
   "cell_type": "code",
   "execution_count": 302,
   "metadata": {},
   "outputs": [],
   "source": [
    "r.infect(\"monkey_0\")"
   ]
  },
  {
   "cell_type": "code",
   "execution_count": 303,
   "metadata": {},
   "outputs": [
    {
     "name": "stdout",
     "output_type": "stream",
     "text": [
      "HIV just replicated in cytoplasma of monkey_0 cells.\n"
     ]
    }
   ],
   "source": [
    "r.reproduce()"
   ]
  },
  {
   "cell_type": "code",
   "execution_count": 304,
   "metadata": {},
   "outputs": [],
   "source": [
    "d = DNAVirus(\"Ecoli\", 2.1, 0.2)"
   ]
  },
  {
   "cell_type": "code",
   "execution_count": 305,
   "metadata": {},
   "outputs": [],
   "source": [
    "d.infect(\"sheep_1\")"
   ]
  },
  {
   "cell_type": "code",
   "execution_count": 306,
   "metadata": {},
   "outputs": [
    {
     "name": "stdout",
     "output_type": "stream",
     "text": [
      "Ecoli just replicated in nucleus of sheep_1 cells.\n"
     ]
    }
   ],
   "source": [
    "d.reproduce()"
   ]
  },
  {
   "attachments": {},
   "cell_type": "markdown",
   "metadata": {},
   "source": [
    "# All Classes Inherit From object"
   ]
  },
  {
   "cell_type": "code",
   "execution_count": 307,
   "metadata": {},
   "outputs": [],
   "source": [
    "class Virus:\n",
    "    pass\n",
    "\n",
    "class RNAVirus(Virus):\n",
    "    pass"
   ]
  },
  {
   "cell_type": "code",
   "execution_count": 308,
   "metadata": {},
   "outputs": [
    {
     "data": {
      "text/plain": [
       "object"
      ]
     },
     "execution_count": 308,
     "metadata": {},
     "output_type": "execute_result"
    }
   ],
   "source": [
    "object"
   ]
  },
  {
   "cell_type": "code",
   "execution_count": 309,
   "metadata": {},
   "outputs": [
    {
     "data": {
      "text/plain": [
       "<object at 0x268ea346ed0>"
      ]
     },
     "execution_count": 309,
     "metadata": {},
     "output_type": "execute_result"
    }
   ],
   "source": [
    "object()"
   ]
  },
  {
   "cell_type": "code",
   "execution_count": 310,
   "metadata": {},
   "outputs": [],
   "source": [
    "# sentinel"
   ]
  },
  {
   "cell_type": "code",
   "execution_count": 311,
   "metadata": {},
   "outputs": [],
   "source": [
    "o1 = object()\n",
    "o2 = object()"
   ]
  },
  {
   "cell_type": "code",
   "execution_count": 312,
   "metadata": {},
   "outputs": [
    {
     "data": {
      "text/plain": [
       "False"
      ]
     },
     "execution_count": 312,
     "metadata": {},
     "output_type": "execute_result"
    }
   ],
   "source": [
    "o1 is o2"
   ]
  },
  {
   "cell_type": "code",
   "execution_count": 313,
   "metadata": {},
   "outputs": [
    {
     "data": {
      "text/plain": [
       "False"
      ]
     },
     "execution_count": 313,
     "metadata": {},
     "output_type": "execute_result"
    }
   ],
   "source": [
    "o1 == o2"
   ]
  },
  {
   "cell_type": "code",
   "execution_count": 314,
   "metadata": {},
   "outputs": [
    {
     "data": {
      "text/plain": [
       "2649629157280"
      ]
     },
     "execution_count": 314,
     "metadata": {},
     "output_type": "execute_result"
    }
   ],
   "source": [
    "id(o1)"
   ]
  },
  {
   "cell_type": "code",
   "execution_count": 315,
   "metadata": {},
   "outputs": [
    {
     "data": {
      "text/plain": [
       "object"
      ]
     },
     "execution_count": 315,
     "metadata": {},
     "output_type": "execute_result"
    }
   ],
   "source": [
    "o1.__class__"
   ]
  },
  {
   "cell_type": "code",
   "execution_count": 316,
   "metadata": {},
   "outputs": [
    {
     "data": {
      "text/plain": [
       "<method-wrapper '__repr__' of object object at 0x00000268EA3467A0>"
      ]
     },
     "execution_count": 316,
     "metadata": {},
     "output_type": "execute_result"
    }
   ],
   "source": [
    "o1.__repr__"
   ]
  },
  {
   "cell_type": "code",
   "execution_count": 317,
   "metadata": {},
   "outputs": [
    {
     "data": {
      "text/plain": [
       "<method-wrapper '__hash__' of object object at 0x00000268EA3467A0>"
      ]
     },
     "execution_count": 317,
     "metadata": {},
     "output_type": "execute_result"
    }
   ],
   "source": [
    "o1.__hash__"
   ]
  },
  {
   "cell_type": "code",
   "execution_count": 318,
   "metadata": {},
   "outputs": [],
   "source": [
    "class TempVirus:\n",
    "    pass"
   ]
  },
  {
   "cell_type": "code",
   "execution_count": 319,
   "metadata": {},
   "outputs": [
    {
     "data": {
      "text/plain": [
       "[<__main__.TempVirus at 0x268ebd77e10>,\n",
       " <__main__.TempVirus at 0x268eabefd90>,\n",
       " <__main__.TempVirus at 0x268ea4d0510>,\n",
       " <__main__.TempVirus at 0x268ea5c0790>]"
      ]
     },
     "execution_count": 319,
     "metadata": {},
     "output_type": "execute_result"
    }
   ],
   "source": [
    "[TempVirus() for i in range(4)]"
   ]
  },
  {
   "cell_type": "code",
   "execution_count": 320,
   "metadata": {},
   "outputs": [],
   "source": [
    "# object is callable is because its type implements __call__"
   ]
  },
  {
   "cell_type": "code",
   "execution_count": 321,
   "metadata": {},
   "outputs": [],
   "source": [
    "class TempVirus():\n",
    "    pass"
   ]
  },
  {
   "attachments": {},
   "cell_type": "markdown",
   "metadata": {},
   "source": [
    "# same as"
   ]
  },
  {
   "cell_type": "code",
   "execution_count": 322,
   "metadata": {},
   "outputs": [],
   "source": [
    "class TempVirus(object):\n",
    "    pass"
   ]
  },
  {
   "cell_type": "code",
   "execution_count": 323,
   "metadata": {},
   "outputs": [
    {
     "data": {
      "text/plain": [
       "<method-wrapper '__call__' of type object at 0x00000268E94958B0>"
      ]
     },
     "execution_count": 323,
     "metadata": {},
     "output_type": "execute_result"
    }
   ],
   "source": [
    "TempVirus.__call__"
   ]
  },
  {
   "attachments": {},
   "cell_type": "markdown",
   "metadata": {},
   "source": [
    "# Method resolution order"
   ]
  },
  {
   "cell_type": "code",
   "execution_count": 324,
   "metadata": {},
   "outputs": [],
   "source": [
    "class TempVirus():\n",
    "    attr = \"some_calss_attribute\"\n",
    "    attr_other = \"some_other_class_attribute\"\n",
    "\n",
    "    def __init__(self, attr):\n",
    "        self.attr = attr"
   ]
  },
  {
   "cell_type": "code",
   "execution_count": 325,
   "metadata": {},
   "outputs": [],
   "source": [
    "# __dict__"
   ]
  },
  {
   "cell_type": "code",
   "execution_count": 326,
   "metadata": {},
   "outputs": [],
   "source": [
    "v1 = TempVirus(\"instance_attribute\")"
   ]
  },
  {
   "cell_type": "code",
   "execution_count": 327,
   "metadata": {},
   "outputs": [
    {
     "data": {
      "text/plain": [
       "'instance_attribute'"
      ]
     },
     "execution_count": 327,
     "metadata": {},
     "output_type": "execute_result"
    }
   ],
   "source": [
    "v1.attr"
   ]
  },
  {
   "cell_type": "code",
   "execution_count": 328,
   "metadata": {},
   "outputs": [
    {
     "data": {
      "text/plain": [
       "{'attr': 'instance_attribute'}"
      ]
     },
     "execution_count": 328,
     "metadata": {},
     "output_type": "execute_result"
    }
   ],
   "source": [
    "v1.__dict__"
   ]
  },
  {
   "cell_type": "code",
   "execution_count": 329,
   "metadata": {},
   "outputs": [
    {
     "data": {
      "text/plain": [
       "'some_other_class_attribute'"
      ]
     },
     "execution_count": 329,
     "metadata": {},
     "output_type": "execute_result"
    }
   ],
   "source": [
    "v1.attr_other"
   ]
  },
  {
   "cell_type": "code",
   "execution_count": 330,
   "metadata": {},
   "outputs": [
    {
     "data": {
      "text/plain": [
       "mappingproxy({'__module__': '__main__',\n",
       "              'attr': 'some_calss_attribute',\n",
       "              'attr_other': 'some_other_class_attribute',\n",
       "              '__init__': <function __main__.TempVirus.__init__(self, attr)>,\n",
       "              '__dict__': <attribute '__dict__' of 'TempVirus' objects>,\n",
       "              '__weakref__': <attribute '__weakref__' of 'TempVirus' objects>,\n",
       "              '__doc__': None})"
      ]
     },
     "execution_count": 330,
     "metadata": {},
     "output_type": "execute_result"
    }
   ],
   "source": [
    "type(v1).__dict__"
   ]
  },
  {
   "cell_type": "code",
   "execution_count": 331,
   "metadata": {},
   "outputs": [
    {
     "data": {
      "text/plain": [
       "mappingproxy({'__module__': '__main__',\n",
       "              'attr': 'some_calss_attribute',\n",
       "              'attr_other': 'some_other_class_attribute',\n",
       "              '__init__': <function __main__.TempVirus.__init__(self, attr)>,\n",
       "              '__dict__': <attribute '__dict__' of 'TempVirus' objects>,\n",
       "              '__weakref__': <attribute '__weakref__' of 'TempVirus' objects>,\n",
       "              '__doc__': None})"
      ]
     },
     "execution_count": 331,
     "metadata": {},
     "output_type": "execute_result"
    }
   ],
   "source": [
    "TempVirus.__dict__"
   ]
  },
  {
   "cell_type": "code",
   "execution_count": 332,
   "metadata": {},
   "outputs": [
    {
     "data": {
      "text/plain": [
       "mappingproxy({'__module__': '__main__',\n",
       "              'attr': 'some_calss_attribute',\n",
       "              'attr_other': 'some_other_class_attribute',\n",
       "              '__init__': <function __main__.TempVirus.__init__(self, attr)>,\n",
       "              '__dict__': <attribute '__dict__' of 'TempVirus' objects>,\n",
       "              '__weakref__': <attribute '__weakref__' of 'TempVirus' objects>,\n",
       "              '__doc__': None})"
      ]
     },
     "execution_count": 332,
     "metadata": {},
     "output_type": "execute_result"
    }
   ],
   "source": [
    "v1.__class__.__dict__"
   ]
  },
  {
   "attachments": {},
   "cell_type": "markdown",
   "metadata": {},
   "source": [
    "```python\n",
    "insstance -> class -> superclass(s) -> object, else AttributeError\n",
    "```"
   ]
  },
  {
   "attachments": {},
   "cell_type": "markdown",
   "metadata": {},
   "source": [
    "```python\n",
    "\n",
    "v1.imaginary\n",
    "\n",
    "---------------------------------------------------------------------------\n",
    "AttributeError                            Traceback (most recent call last)\n",
    "Cell In[29], line 1\n",
    "----> 1 v1.imaginary\n",
    "\n",
    "AttributeError: 'TempVirus' object has no attribute 'imaginary'\n",
    "\n",
    "```"
   ]
  },
  {
   "cell_type": "code",
   "execution_count": 333,
   "metadata": {},
   "outputs": [
    {
     "data": {
      "text/plain": [
       "(object,)"
      ]
     },
     "execution_count": 333,
     "metadata": {},
     "output_type": "execute_result"
    }
   ],
   "source": [
    "TempVirus.__bases__"
   ]
  },
  {
   "cell_type": "code",
   "execution_count": 334,
   "metadata": {},
   "outputs": [
    {
     "data": {
      "text/plain": [
       "(__main__.Virus,)"
      ]
     },
     "execution_count": 334,
     "metadata": {},
     "output_type": "execute_result"
    }
   ],
   "source": [
    "RNAVirus.__bases__"
   ]
  },
  {
   "cell_type": "code",
   "execution_count": 335,
   "metadata": {},
   "outputs": [
    {
     "data": {
      "text/plain": [
       "(__main__.RNAVirus,)"
      ]
     },
     "execution_count": 335,
     "metadata": {},
     "output_type": "execute_result"
    }
   ],
   "source": [
    "Coronavirus.__bases__"
   ]
  },
  {
   "attachments": {},
   "cell_type": "markdown",
   "metadata": {},
   "source": [
    "# __mro__ --> method resolution order"
   ]
  },
  {
   "cell_type": "code",
   "execution_count": 336,
   "metadata": {},
   "outputs": [
    {
     "data": {
      "text/plain": [
       "(__main__.RNAVirus, __main__.Virus, object)"
      ]
     },
     "execution_count": 336,
     "metadata": {},
     "output_type": "execute_result"
    }
   ],
   "source": [
    "RNAVirus.__mro__"
   ]
  },
  {
   "cell_type": "code",
   "execution_count": 337,
   "metadata": {},
   "outputs": [
    {
     "data": {
      "text/plain": [
       "(__main__.Coronavirus, __main__.RNAVirus, __main__.Virus, object)"
      ]
     },
     "execution_count": 337,
     "metadata": {},
     "output_type": "execute_result"
    }
   ],
   "source": [
    "Coronavirus.__mro__"
   ]
  },
  {
   "attachments": {},
   "cell_type": "markdown",
   "metadata": {},
   "source": [
    "# Subclass Overrides"
   ]
  },
  {
   "cell_type": "code",
   "execution_count": 338,
   "metadata": {},
   "outputs": [],
   "source": [
    "from random import getrandbits"
   ]
  },
  {
   "cell_type": "code",
   "execution_count": 339,
   "metadata": {},
   "outputs": [
    {
     "name": "stdout",
     "output_type": "stream",
     "text": [
      "1\n",
      "1\n",
      "0\n",
      "0\n"
     ]
    }
   ],
   "source": [
    "for i in range(4):\n",
    "    print(getrandbits(1))"
   ]
  },
  {
   "cell_type": "code",
   "execution_count": 340,
   "metadata": {},
   "outputs": [],
   "source": [
    "class Virus:\n",
    "    def __init__(self, name, reproduction_rate, resistance):\n",
    "        self.name = name\n",
    "        self.reproduction_rate = reproduction_rate\n",
    "        self.load = 1\n",
    "        self.host = None\n",
    "    \n",
    "    def infect(self, host):\n",
    "        self.host = host\n",
    "\n",
    "    def reproduce(self):\n",
    "        if self.host is not None:\n",
    "            self.load *= (1 + self.reproduction_rate)\n",
    "\n",
    "            should_mutate = getrandbits(1)\n",
    "            print(f\"Should mutate: {should_mutate}.\")\n",
    "            \n",
    "            if should_mutate:\n",
    "                try:\n",
    "                    self.mutate()\n",
    "                except AttributeError:\n",
    "                    pass\n",
    "\n",
    "            return True, f\"Virus reproduced in {self.host}. Viral load: {int(self.load)}.\"\n",
    "        raise AttributeError(\"Virus needs to infect a host before being able to reproduce.\")\n",
    "\n",
    "class RNAVirus(Virus):\n",
    "    genome = \"ribonucleic\"\n",
    "\n",
    "    def reproduce(self):\n",
    "        success, status = Virus.reproduce(self)\n",
    "\n",
    "        if success:\n",
    "            print(f\"{self.name} just replicated in the cytoplasm of {self.host} cells.\")\n",
    "\n",
    "class DNAVirus(Virus):\n",
    "    genome = 'deoxyribonucleic'\n",
    "\n",
    "    def reproduce(self):\n",
    "        success, status = Virus.reproduce(self)\n",
    "\n",
    "        if success:\n",
    "            print(f\"{self.name} just relicated in the nucleus of {self.host} cells.\")"
   ]
  },
  {
   "cell_type": "code",
   "execution_count": 341,
   "metadata": {},
   "outputs": [],
   "source": [
    "class CoronaVirus(RNAVirus):\n",
    "    def infect(self):\n",
    "        print(\"A coronavirus specific method with a different signature from the parent's.\")\n",
    "\n",
    "        raise NotImplementedError()\n"
   ]
  },
  {
   "cell_type": "code",
   "execution_count": 342,
   "metadata": {},
   "outputs": [],
   "source": [
    "cv = CoronaVirus(\"MERS\", .1, .2)"
   ]
  },
  {
   "attachments": {},
   "cell_type": "markdown",
   "metadata": {},
   "source": [
    "```python\n",
    "cv.infect()\n",
    "\n",
    "A coronavirus specific method with a different signature from the parent\\'s.\n",
    "---------------------------------------------------------------------------\n",
    "NotImplementedError                       Traceback (most recent call last)\n",
    "Cell In[83], line 1\n",
    "----> 1 cv.infect()\n",
    "\n",
    "Cell In[81], line 5, in CoronaVirus.infect(self)\n",
    "      2 def infect(self):\n",
    "      3     print(\"A coronavirus specific method with a different signature from the parent's.\")\n",
    "----> 5     raise NotImplementedError()\n",
    "\n",
    "NotImplementedError: \n",
    "\n",
    "```"
   ]
  },
  {
   "cell_type": "code",
   "execution_count": 343,
   "metadata": {},
   "outputs": [
    {
     "data": {
      "text/plain": [
       "(__main__.CoronaVirus, __main__.RNAVirus, __main__.Virus, object)"
      ]
     },
     "execution_count": 343,
     "metadata": {},
     "output_type": "execute_result"
    }
   ],
   "source": [
    "CoronaVirus.__mro__"
   ]
  },
  {
   "cell_type": "code",
   "execution_count": 344,
   "metadata": {},
   "outputs": [],
   "source": [
    "class CoronaVirus(RNAVirus):\n",
    "    pass"
   ]
  },
  {
   "cell_type": "code",
   "execution_count": 345,
   "metadata": {},
   "outputs": [],
   "source": [
    "class SARSCov2(CoronaVirus):\n",
    "    def mutate(self):\n",
    "        print(f\"The {self.name} virus just mutated its spike protein.\")"
   ]
  },
  {
   "cell_type": "code",
   "execution_count": 346,
   "metadata": {},
   "outputs": [],
   "source": [
    "cv = SARSCov2(\"Oryginal\", 2.9, 1.2)"
   ]
  },
  {
   "cell_type": "code",
   "execution_count": 347,
   "metadata": {},
   "outputs": [],
   "source": [
    "cv.infect(\"Tobi\")"
   ]
  },
  {
   "cell_type": "code",
   "execution_count": 348,
   "metadata": {},
   "outputs": [
    {
     "name": "stdout",
     "output_type": "stream",
     "text": [
      "Should mutate: 0.\n",
      "Oryginal just replicated in the cytoplasm of Tobi cells.\n",
      "None \n",
      "\n",
      "Should mutate: 0.\n",
      "Oryginal just replicated in the cytoplasm of Tobi cells.\n",
      "None \n",
      "\n",
      "Should mutate: 1.\n",
      "The Oryginal virus just mutated its spike protein.\n",
      "Oryginal just replicated in the cytoplasm of Tobi cells.\n",
      "None \n",
      "\n",
      "Should mutate: 1.\n",
      "The Oryginal virus just mutated its spike protein.\n",
      "Oryginal just replicated in the cytoplasm of Tobi cells.\n",
      "None \n",
      "\n",
      "Should mutate: 1.\n",
      "The Oryginal virus just mutated its spike protein.\n",
      "Oryginal just replicated in the cytoplasm of Tobi cells.\n",
      "None \n",
      "\n",
      "Should mutate: 0.\n",
      "Oryginal just replicated in the cytoplasm of Tobi cells.\n",
      "None \n",
      "\n"
     ]
    }
   ],
   "source": [
    "for _ in range(6):\n",
    "    print(cv.reproduce(), \"\\n\")"
   ]
  },
  {
   "attachments": {},
   "cell_type": "markdown",
   "metadata": {},
   "source": [
    "# Better Parent Delegation: super()"
   ]
  },
  {
   "cell_type": "code",
   "execution_count": 366,
   "metadata": {},
   "outputs": [],
   "source": [
    "class Virus:\n",
    "    def __init__(self, name, reproduction_rate, resistance):\n",
    "        self.name = name\n",
    "        self.reproduction_rate = reproduction_rate\n",
    "        self.load = 1 \n",
    "        self.host = None\n",
    "\n",
    "    def infect(self, host):\n",
    "        self.host = host\n",
    "\n",
    "    def reproduce(self):\n",
    "        if self.host is not None:\n",
    "            self.load *= (1 + self.reproduction_rate)\n",
    "\n",
    "            should_mutate = getrandbits(1)\n",
    "            print(f\"Should mutate: {should_mutate}\")\n",
    "\n",
    "            if should_mutate:\n",
    "                try:\n",
    "                    self.mutate()\n",
    "                except AttributeError:\n",
    "                    pass\n",
    "            \n",
    "            return True, f\"Virus reproduced in {self.host}. Viral load: {int(self.load)}.\"\n",
    "\n",
    "        raise AttributeError(\"Virus needs to infect a host before being able to reproduce.\")"
   ]
  },
  {
   "cell_type": "code",
   "execution_count": 367,
   "metadata": {},
   "outputs": [],
   "source": [
    "class RNAVirus(Virus):\n",
    "    genome = \"ribonucleic\"\n",
    "\n",
    "    def reproduce(self):\n",
    "        # success, status = Virus.reproduce(self)\n",
    "        success, status = super().reproduce()\n",
    "\n",
    "        if success:\n",
    "            print(f\"{self.name} just relicated in the cytoplasm of {self.host} cells.\")"
   ]
  },
  {
   "cell_type": "code",
   "execution_count": 368,
   "metadata": {},
   "outputs": [],
   "source": [
    "class DNAVirus(Virus):\n",
    "    genome = \"deoxyribonucleic\"\n",
    "\n",
    "    def reproduce(self):\n",
    "        success, status = Virus.reproduce(self)\n",
    "\n",
    "        if success:\n",
    "            print(f\"{self.name} just replicated in the nucleus of {self.host} cells.\")\n",
    "\n",
    "class CoronaVirus(RNAVirus):\n",
    "    pass\n",
    "\n",
    "class SARCov2(CoronaVirus):\n",
    "    def mutate(self):\n",
    "        print(f\"The {self.name} virus just mutated its spike protein.\")"
   ]
  },
  {
   "cell_type": "code",
   "execution_count": 369,
   "metadata": {},
   "outputs": [],
   "source": [
    "rv = RNAVirus(\"a\", 1.1, 1.2)\n",
    "dv = DNAVirus(\"dv\", 1.3, 1.2)"
   ]
  },
  {
   "cell_type": "code",
   "execution_count": 370,
   "metadata": {},
   "outputs": [],
   "source": [
    "rv.infect(\"Andrew\")\n",
    "dv.infect(\"Tobi\")"
   ]
  },
  {
   "cell_type": "code",
   "execution_count": 371,
   "metadata": {},
   "outputs": [
    {
     "name": "stdout",
     "output_type": "stream",
     "text": [
      "Should mutate: 1\n",
      "a just relicated in the cytoplasm of Andrew cells.\n"
     ]
    }
   ],
   "source": [
    "rv.reproduce()"
   ]
  },
  {
   "cell_type": "code",
   "execution_count": 372,
   "metadata": {},
   "outputs": [
    {
     "name": "stdout",
     "output_type": "stream",
     "text": [
      "Should mutate: 0\n",
      "dv just replicated in the nucleus of Tobi cells.\n"
     ]
    }
   ],
   "source": [
    "dv.reproduce()"
   ]
  },
  {
   "cell_type": "code",
   "execution_count": null,
   "metadata": {},
   "outputs": [],
   "source": []
  }
 ],
 "metadata": {
  "kernelspec": {
   "display_name": "Python 3",
   "language": "python",
   "name": "python3"
  },
  "language_info": {
   "codemirror_mode": {
    "name": "ipython",
    "version": 3
   },
   "file_extension": ".py",
   "mimetype": "text/x-python",
   "name": "python",
   "nbconvert_exporter": "python",
   "pygments_lexer": "ipython3",
   "version": "3.11.3"
  },
  "orig_nbformat": 4
 },
 "nbformat": 4,
 "nbformat_minor": 2
}
