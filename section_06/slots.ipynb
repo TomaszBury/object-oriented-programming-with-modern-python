{
 "cells": [
  {
   "attachments": {},
   "cell_type": "markdown",
   "metadata": {},
   "source": [
    "# Instance Data Storage Review"
   ]
  },
  {
   "cell_type": "code",
   "execution_count": 166,
   "metadata": {},
   "outputs": [],
   "source": [
    "class Employee(object):\n",
    "    def __init__(self, name, surname, age, status, salary) -> None:\n",
    "        self.name = name\n",
    "        self.surname = surname\n",
    "        self.age = age\n",
    "        self.status = status\n",
    "        self.salary = salary"
   ]
  },
  {
   "cell_type": "code",
   "execution_count": 167,
   "metadata": {},
   "outputs": [],
   "source": [
    "e1 = Employee(\"Andrew\", \"Doerte\", 42, \"FT\", 46000)"
   ]
  },
  {
   "cell_type": "code",
   "execution_count": 168,
   "metadata": {},
   "outputs": [
    {
     "data": {
      "text/plain": [
       "<__main__.Employee at 0x19e6bafd990>"
      ]
     },
     "execution_count": 168,
     "metadata": {},
     "output_type": "execute_result"
    }
   ],
   "source": [
    "e1"
   ]
  },
  {
   "cell_type": "code",
   "execution_count": 169,
   "metadata": {},
   "outputs": [],
   "source": [
    "class Employee(object):\n",
    "    def __init__(self, name, surname, age, status, salary) -> None:\n",
    "        self.name = name\n",
    "        self.surname = surname\n",
    "        self.age = age\n",
    "        self.status = status\n",
    "        self.salary = salary\n",
    "\n",
    "    def __repr__(self) -> str:\n",
    "        return f\"Employee name: {self.name}, surname: {self.surname}, age: {self.age}, status: {self.status}, salary: {self.salary:,.2f}\""
   ]
  },
  {
   "cell_type": "code",
   "execution_count": 170,
   "metadata": {},
   "outputs": [
    {
     "data": {
      "text/plain": [
       "'Andrew'"
      ]
     },
     "execution_count": 170,
     "metadata": {},
     "output_type": "execute_result"
    }
   ],
   "source": [
    "e1.name"
   ]
  },
  {
   "cell_type": "code",
   "execution_count": 171,
   "metadata": {},
   "outputs": [
    {
     "data": {
      "text/plain": [
       "<__main__.Employee at 0x19e6bafd990>"
      ]
     },
     "execution_count": 171,
     "metadata": {},
     "output_type": "execute_result"
    }
   ],
   "source": [
    "e1"
   ]
  },
  {
   "cell_type": "code",
   "execution_count": 172,
   "metadata": {},
   "outputs": [],
   "source": [
    "e1 = Employee(\"Andrew\", \"Doerte\", 42, \"FT\", 46000)"
   ]
  },
  {
   "cell_type": "code",
   "execution_count": 173,
   "metadata": {},
   "outputs": [
    {
     "data": {
      "text/plain": [
       "Employee name: Andrew, surname: Doerte, age: 42, status: FT, salary: 46,000.00"
      ]
     },
     "execution_count": 173,
     "metadata": {},
     "output_type": "execute_result"
    }
   ],
   "source": [
    "e1"
   ]
  },
  {
   "cell_type": "code",
   "execution_count": 174,
   "metadata": {},
   "outputs": [
    {
     "data": {
      "text/plain": [
       "'Doerte'"
      ]
     },
     "execution_count": 174,
     "metadata": {},
     "output_type": "execute_result"
    }
   ],
   "source": [
    "e1.surname"
   ]
  },
  {
   "cell_type": "code",
   "execution_count": 175,
   "metadata": {},
   "outputs": [
    {
     "data": {
      "text/plain": [
       "{'name': 'Andrew',\n",
       " 'surname': 'Doerte',\n",
       " 'age': 42,\n",
       " 'status': 'FT',\n",
       " 'salary': 46000}"
      ]
     },
     "execution_count": 175,
     "metadata": {},
     "output_type": "execute_result"
    }
   ],
   "source": [
    "e1.__dict__"
   ]
  },
  {
   "attachments": {},
   "cell_type": "markdown",
   "metadata": {},
   "source": [
    "# Instance namespace"
   ]
  },
  {
   "cell_type": "code",
   "execution_count": 176,
   "metadata": {},
   "outputs": [
    {
     "data": {
      "text/plain": [
       "dict"
      ]
     },
     "execution_count": 176,
     "metadata": {},
     "output_type": "execute_result"
    }
   ],
   "source": [
    "type(e1.__dict__)"
   ]
  },
  {
   "attachments": {},
   "cell_type": "markdown",
   "metadata": {},
   "source": [
    "# Class name space // mappingpoxy"
   ]
  },
  {
   "cell_type": "code",
   "execution_count": 177,
   "metadata": {},
   "outputs": [
    {
     "data": {
      "text/plain": [
       "mappingproxy"
      ]
     },
     "execution_count": 177,
     "metadata": {},
     "output_type": "execute_result"
    }
   ],
   "source": [
    "type(e1.__class__.__dict__)"
   ]
  },
  {
   "cell_type": "code",
   "execution_count": 178,
   "metadata": {},
   "outputs": [],
   "source": [
    "e1.__dict__[\"pension\"] = \"DB\""
   ]
  },
  {
   "cell_type": "code",
   "execution_count": 179,
   "metadata": {},
   "outputs": [
    {
     "data": {
      "text/plain": [
       "'DB'"
      ]
     },
     "execution_count": 179,
     "metadata": {},
     "output_type": "execute_result"
    }
   ],
   "source": [
    "e1.pension # type: ignore"
   ]
  },
  {
   "cell_type": "code",
   "execution_count": 180,
   "metadata": {},
   "outputs": [
    {
     "data": {
      "text/plain": [
       "{'name': 'Andrew',\n",
       " 'surname': 'Doerte',\n",
       " 'age': 42,\n",
       " 'status': 'FT',\n",
       " 'salary': 46000,\n",
       " 'pension': 'DB'}"
      ]
     },
     "execution_count": 180,
     "metadata": {},
     "output_type": "execute_result"
    }
   ],
   "source": [
    "e1.__dict__"
   ]
  },
  {
   "attachments": {},
   "cell_type": "markdown",
   "metadata": {},
   "source": [
    "# Flexibility -> cost\n",
    "\n",
    "* Cost?\n",
    "* memeory cost\n",
    "* execution\n",
    "\n",
    "# Slots to the rescue!"
   ]
  },
  {
   "attachments": {},
   "cell_type": "markdown",
   "metadata": {},
   "source": [
    "# 85. Slots"
   ]
  },
  {
   "cell_type": "code",
   "execution_count": 181,
   "metadata": {},
   "outputs": [],
   "source": [
    "class Employee(object):\n",
    "    __slots__ = ('name', 'surname', 'age', 'status', 'salary')\n",
    "    \n",
    "    def __init__(self, name, surname, age, status, salary) -> None:\n",
    "        self.name = name\n",
    "        self.surname = surname\n",
    "        self.age = age\n",
    "        self.status = status\n",
    "        self.salary = salary\n",
    "\n",
    "    def __repr__(self) -> str:\n",
    "        return f\"Employee name: {self.name}, surname: {self.surname}, age: {self.age}, status: {self.status}, salary: {self.salary:,.2f}\""
   ]
  },
  {
   "cell_type": "code",
   "execution_count": 182,
   "metadata": {},
   "outputs": [],
   "source": [
    "e1 = Employee(\"Andrew\", \"Doerte\", 42, \"FT\", 46000)"
   ]
  },
  {
   "cell_type": "code",
   "execution_count": 183,
   "metadata": {},
   "outputs": [
    {
     "data": {
      "text/plain": [
       "('Andrew', 42, 'FT')"
      ]
     },
     "execution_count": 183,
     "metadata": {},
     "output_type": "execute_result"
    }
   ],
   "source": [
    "e1.name, e1.age, e1.status"
   ]
  },
  {
   "attachments": {},
   "cell_type": "markdown",
   "metadata": {},
   "source": [
    "```python\n",
    "e1.__dict__\n",
    "```"
   ]
  },
  {
   "attachments": {},
   "cell_type": "markdown",
   "metadata": {},
   "source": [
    "```python\n",
    "\n",
    "---------------------------------------------------------------------------\n",
    "AttributeError                            Traceback (most recent call last)\n",
    "Cell In[78], line 1\n",
    "----> 1 e1.__dict__\n",
    "\n",
    "AttributeError: 'Employee' object has no attribute '__dict__'\n",
    "```"
   ]
  },
  {
   "attachments": {},
   "cell_type": "markdown",
   "metadata": {},
   "source": [
    "# __slots__ == dict -> fixed-size array"
   ]
  },
  {
   "attachments": {},
   "cell_type": "markdown",
   "metadata": {},
   "source": [
    "### dictionary eats up a loto memory -> RAM\n",
    "### dictionary is a hash map -> O(n)\n",
    "### compared to O(1) for arrays\n",
    "\n",
    "## hash map -> fixed-lenght array"
   ]
  },
  {
   "attachments": {},
   "cell_type": "markdown",
   "metadata": {},
   "source": [
    "# 86. Class Residents"
   ]
  },
  {
   "cell_type": "code",
   "execution_count": 184,
   "metadata": {},
   "outputs": [],
   "source": [
    "class Employee(object):\n",
    "    __slots__ = ('name', 'surname', 'age', 'status', 'salary')\n",
    "    \n",
    "    def __init__(self, name, surname, age, status, salary) -> None:\n",
    "        self.name = name\n",
    "        self.surname = surname\n",
    "        self.age = age\n",
    "        self.status = status\n",
    "        self.salary = salary\n",
    "\n",
    "    def __repr__(self) -> str:\n",
    "        return f\"Employee name: {self.name}, surname: {self.surname}, age: {self.age}, status: {self.status}, salary: {self.salary:,.2f}\""
   ]
  },
  {
   "cell_type": "code",
   "execution_count": 185,
   "metadata": {},
   "outputs": [],
   "source": [
    "e1 = Employee(\"Andrew\", \"Doere\", 42, \"FT\", 46000)"
   ]
  },
  {
   "cell_type": "code",
   "execution_count": 186,
   "metadata": {},
   "outputs": [
    {
     "data": {
      "text/plain": [
       "Employee name: Andrew, surname: Doere, age: 42, status: FT, salary: 46,000.00"
      ]
     },
     "execution_count": 186,
     "metadata": {},
     "output_type": "execute_result"
    }
   ],
   "source": [
    "e1"
   ]
  },
  {
   "attachments": {},
   "cell_type": "markdown",
   "metadata": {},
   "source": [
    "````python\n",
    "e1.__dict__\n",
    "```python"
   ]
  },
  {
   "attachments": {},
   "cell_type": "markdown",
   "metadata": {},
   "source": [
    "```python\n",
    "---------------------------------------------------------------------------\n",
    "AttributeError                            Traceback (most recent call last)\n",
    "Cell In[4], line 1\n",
    "----> 1 e1.__dict__\n",
    "\n",
    "AttributeError: 'Employee' object has no attribute '__dict__'\n",
    "```"
   ]
  },
  {
   "cell_type": "code",
   "execution_count": 187,
   "metadata": {},
   "outputs": [
    {
     "data": {
      "text/plain": [
       "mappingproxy({'__module__': '__main__',\n",
       "              '__slots__': ('name', 'surname', 'age', 'status', 'salary'),\n",
       "              '__init__': <function __main__.Employee.__init__(self, name, surname, age, status, salary) -> None>,\n",
       "              '__repr__': <function __main__.Employee.__repr__(self) -> str>,\n",
       "              'age': <member 'age' of 'Employee' objects>,\n",
       "              'name': <member 'name' of 'Employee' objects>,\n",
       "              'salary': <member 'salary' of 'Employee' objects>,\n",
       "              'status': <member 'status' of 'Employee' objects>,\n",
       "              'surname': <member 'surname' of 'Employee' objects>,\n",
       "              '__doc__': None})"
      ]
     },
     "execution_count": 187,
     "metadata": {},
     "output_type": "execute_result"
    }
   ],
   "source": [
    "Employee.__dict__"
   ]
  },
  {
   "cell_type": "code",
   "execution_count": 188,
   "metadata": {},
   "outputs": [
    {
     "data": {
      "text/plain": [
       "('name', 'surname', 'age', 'status', 'salary')"
      ]
     },
     "execution_count": 188,
     "metadata": {},
     "output_type": "execute_result"
    }
   ],
   "source": [
    "Employee.__dict__['__slots__']"
   ]
  },
  {
   "cell_type": "code",
   "execution_count": 189,
   "metadata": {},
   "outputs": [],
   "source": [
    "class Employee(object):\n",
    "    __slots__ = ('name', 'surname', 'age', 'status', 'salary')\n",
    "    \n",
    "    def __init__(self, name, surname, age, status, salary) -> None:\n",
    "        self.name = name\n",
    "        self.surname = surname\n",
    "        self.age = age\n",
    "        self.status = status\n",
    "        self.salary = salary\n",
    "\n",
    "    def __repr__(self) -> str:\n",
    "        return f\"Employee name: {self.name}, surname: {self.surname}, age: {self.age}, status: {self.status}, salary: {self.salary:,.2f}\"\n",
    "    \n",
    "    @property\n",
    "    def high_salary(self):\n",
    "        return self.salary > 40000"
   ]
  },
  {
   "cell_type": "code",
   "execution_count": 190,
   "metadata": {},
   "outputs": [
    {
     "data": {
      "text/plain": [
       "mappingproxy({'__module__': '__main__',\n",
       "              '__slots__': ('name', 'surname', 'age', 'status', 'salary'),\n",
       "              '__init__': <function __main__.Employee.__init__(self, name, surname, age, status, salary) -> None>,\n",
       "              '__repr__': <function __main__.Employee.__repr__(self) -> str>,\n",
       "              'high_salary': <property at 0x19e6be97380>,\n",
       "              'age': <member 'age' of 'Employee' objects>,\n",
       "              'name': <member 'name' of 'Employee' objects>,\n",
       "              'salary': <member 'salary' of 'Employee' objects>,\n",
       "              'status': <member 'status' of 'Employee' objects>,\n",
       "              'surname': <member 'surname' of 'Employee' objects>,\n",
       "              '__doc__': None})"
      ]
     },
     "execution_count": 190,
     "metadata": {},
     "output_type": "execute_result"
    }
   ],
   "source": [
    "Employee.__dict__"
   ]
  },
  {
   "attachments": {},
   "cell_type": "markdown",
   "metadata": {},
   "source": [
    "### both properties and slatted attributes are examples of descriptors  \n",
    "### special python objects that implement one of the 3 descriptor methods:\n",
    "* get()\n",
    "* set()\n",
    "* delete()"
   ]
  },
  {
   "attachments": {},
   "cell_type": "markdown",
   "metadata": {},
   "source": [
    "# 87. BONUS: Demonstrating the Memory Advantage"
   ]
  },
  {
   "cell_type": "code",
   "execution_count": 191,
   "metadata": {},
   "outputs": [
    {
     "name": "stdout",
     "output_type": "stream",
     "text": [
      "Requirement already satisfied: pympler in c:\\users\\werteryzmy\\appdata\\local\\programs\\python\\python311\\lib\\site-packages (1.0.1)\n"
     ]
    }
   ],
   "source": [
    "!pip install pympler"
   ]
  },
  {
   "attachments": {},
   "cell_type": "markdown",
   "metadata": {},
   "source": [
    "```python\n",
    "Collecting pympler\n",
    "  Downloading Pympler-1.0.1-py3-none-any.whl (164 kB)\n",
    "     -------------------------------------- 164.8/164.8 kB 3.3 MB/s eta 0:00:00\n",
    "Installing collected packages: pympler\n",
    "Successfully installed pympler-1.0.1\n",
    "\n",
    "[notice] A new release of pip available: 22.3.1 -> 23.1.2\n",
    "[notice] To update, run: python.exe -m pip install --upgrade pip\n",
    "```"
   ]
  },
  {
   "cell_type": "code",
   "execution_count": 192,
   "metadata": {},
   "outputs": [
    {
     "name": "stdout",
     "output_type": "stream",
     "text": [
      "Requirement already satisfied: pip in c:\\users\\werteryzmy\\appdata\\local\\programs\\python\\python311\\lib\\site-packages (23.1.2)\n",
      "Note: you may need to restart the kernel to use updated packages.\n"
     ]
    }
   ],
   "source": [
    "pip install --upgrade pip"
   ]
  },
  {
   "attachments": {},
   "cell_type": "markdown",
   "metadata": {},
   "source": [
    "```python\n",
    "Requirement already satisfied: pip in c:\\users\\werteryzmy\\appdata\\local\\programs\\python\\python311\\lib\\site-packages (22.3.1)\n",
    "Collecting pip\n",
    "  Downloading pip-23.1.2-py3-none-any.whl (2.1 MB)\n",
    "     ---------------------------------------- 2.1/2.1 MB 14.6 MB/s eta 0:00:00\n",
    "Installing collected packages: pip\n",
    "  Attempting uninstall: pip\n",
    "    Found existing installation: pip 22.3.1\n",
    "    Uninstalling pip-22.3.1:\n",
    "      Successfully uninstalled pip-22.3.1\n",
    "Successfully installed pip-23.1.2\n",
    "Note: you may need to restart the kernel to use updated packages.\n",
    "```"
   ]
  },
  {
   "cell_type": "code",
   "execution_count": 193,
   "metadata": {},
   "outputs": [],
   "source": [
    "class SlottedEmployee(object):\n",
    "    __slots__ = ('name', 'surname', 'age', 'status', 'salary')\n",
    "    \n",
    "    def __init__(self, name, surname, age, status, salary) -> None:\n",
    "        self.name = name\n",
    "        self.surname = surname\n",
    "        self.age = age\n",
    "        self.status = status\n",
    "        self.salary = salary\n",
    "\n",
    "class RegularEmployee(object):    \n",
    "    def __init__(self, name, surname, age, status, salary) -> None:\n",
    "        self.name = name\n",
    "        self.surname = surname\n",
    "        self.age = age\n",
    "        self.status = status\n",
    "        self.salary = salary"
   ]
  },
  {
   "cell_type": "code",
   "execution_count": 194,
   "metadata": {},
   "outputs": [],
   "source": [
    "e1 = SlottedEmployee(\"Andrew\", \"Doere\", 42, \"FT\", 46000)\n",
    "e2 = RegularEmployee(\"Andrew\", \"Doere\", 42, \"FT\", 46000)"
   ]
  },
  {
   "cell_type": "code",
   "execution_count": 195,
   "metadata": {},
   "outputs": [],
   "source": [
    "from pympler.asizeof import asizeof"
   ]
  },
  {
   "cell_type": "code",
   "execution_count": 196,
   "metadata": {},
   "outputs": [
    {
     "data": {
      "text/plain": [
       "304"
      ]
     },
     "execution_count": 196,
     "metadata": {},
     "output_type": "execute_result"
    }
   ],
   "source": [
    "asizeof(e1)"
   ]
  },
  {
   "cell_type": "code",
   "execution_count": 197,
   "metadata": {},
   "outputs": [
    {
     "data": {
      "text/plain": [
       "864"
      ]
     },
     "execution_count": 197,
     "metadata": {},
     "output_type": "execute_result"
    }
   ],
   "source": [
    "asizeof(e2)"
   ]
  },
  {
   "cell_type": "code",
   "execution_count": 198,
   "metadata": {},
   "outputs": [
    {
     "data": {
      "text/plain": [
       "'-0.65'"
      ]
     },
     "execution_count": 198,
     "metadata": {},
     "output_type": "execute_result"
    }
   ],
   "source": [
    "f\"{((asizeof(e1) - asizeof(e2)) / asizeof(e2)):.2f}\""
   ]
  },
  {
   "cell_type": "code",
   "execution_count": 199,
   "metadata": {},
   "outputs": [],
   "source": [
    "from sys import getsizeof"
   ]
  },
  {
   "cell_type": "code",
   "execution_count": 200,
   "metadata": {},
   "outputs": [
    {
     "data": {
      "text/plain": [
       "72"
      ]
     },
     "execution_count": 200,
     "metadata": {},
     "output_type": "execute_result"
    }
   ],
   "source": [
    "getsizeof(e1)"
   ]
  },
  {
   "cell_type": "code",
   "execution_count": 201,
   "metadata": {},
   "outputs": [
    {
     "data": {
      "text/plain": [
       "56"
      ]
     },
     "execution_count": 201,
     "metadata": {},
     "output_type": "execute_result"
    }
   ],
   "source": [
    "getsizeof(e2)"
   ]
  },
  {
   "attachments": {},
   "cell_type": "markdown",
   "metadata": {},
   "source": [
    "# sys.getsizeof -> does not account for referenced objects!"
   ]
  },
  {
   "attachments": {},
   "cell_type": "markdown",
   "metadata": {},
   "source": [
    "# 88. Inheriting Slots"
   ]
  },
  {
   "cell_type": "code",
   "execution_count": 202,
   "metadata": {},
   "outputs": [],
   "source": [
    "class Employee(object):\n",
    "    __slots__ = ('name', 'surname', 'age', 'status', 'salary')\n",
    "    \n",
    "    def __init__(self, name, surname, age, status, salary) -> None:\n",
    "        self.name = name\n",
    "        self.surname = surname\n",
    "        self.age = age\n",
    "        self.status = status\n",
    "        self.salary = salary"
   ]
  },
  {
   "cell_type": "code",
   "execution_count": 203,
   "metadata": {},
   "outputs": [],
   "source": [
    "class Developer(Employee):\n",
    "    pass"
   ]
  },
  {
   "cell_type": "code",
   "execution_count": 204,
   "metadata": {},
   "outputs": [],
   "source": [
    "d = Developer(\"Beverly\", \"Simons\", 24, \"FT\", 79000)"
   ]
  },
  {
   "cell_type": "code",
   "execution_count": 205,
   "metadata": {},
   "outputs": [
    {
     "data": {
      "text/plain": [
       "{}"
      ]
     },
     "execution_count": 205,
     "metadata": {},
     "output_type": "execute_result"
    }
   ],
   "source": [
    "d.__dict__"
   ]
  },
  {
   "cell_type": "code",
   "execution_count": 206,
   "metadata": {},
   "outputs": [],
   "source": [
    "d.favorite_language = 'python'"
   ]
  },
  {
   "cell_type": "code",
   "execution_count": 207,
   "metadata": {},
   "outputs": [
    {
     "data": {
      "text/plain": [
       "{'favorite_language': 'python'}"
      ]
     },
     "execution_count": 207,
     "metadata": {},
     "output_type": "execute_result"
    }
   ],
   "source": [
    "d.__dict__"
   ]
  },
  {
   "cell_type": "code",
   "execution_count": 208,
   "metadata": {},
   "outputs": [],
   "source": [
    "class BusinessAnalyst(Employee):\n",
    "    __slots__ = \"experience\""
   ]
  },
  {
   "cell_type": "code",
   "execution_count": 209,
   "metadata": {},
   "outputs": [],
   "source": [
    "ba = BusinessAnalyst(\"Vlad\", \"Boberts\", 29, \"PT\", 67200)"
   ]
  },
  {
   "attachments": {},
   "cell_type": "markdown",
   "metadata": {},
   "source": [
    "```python\n",
    "ba.__dict__\n",
    "```"
   ]
  },
  {
   "attachments": {},
   "cell_type": "markdown",
   "metadata": {},
   "source": [
    "```python\n",
    "---------------------------------------------------------------------------\n",
    "AttributeError                            Traceback (most recent call last)\n",
    "Cell In[126], line 1\n",
    "----> 1 ba.__dict__\n",
    "\n",
    "AttributeError: 'BusinessAnalyst' object has no attribute '__dict__'\n",
    "```"
   ]
  },
  {
   "attachments": {},
   "cell_type": "markdown",
   "metadata": {},
   "source": [
    "```python\n",
    "ba.favorite_book = 'Thinking Fast and Slow'\n",
    "```"
   ]
  },
  {
   "attachments": {},
   "cell_type": "markdown",
   "metadata": {},
   "source": [
    "```python\n",
    "---------------------------------------------------------------------------\n",
    "AttributeError                            Traceback (most recent call last)\n",
    "Cell In[128], line 1\n",
    "----> 1 ba.favorite_book = 'Thinking Fast and Slow'\n",
    "\n",
    "AttributeError: 'BusinessAnalyst' object has no attribute 'favorite_book'\n",
    "```"
   ]
  },
  {
   "cell_type": "code",
   "execution_count": 210,
   "metadata": {},
   "outputs": [],
   "source": [
    "class Employee(object):\n",
    "    # __slots__ = ('name', 'surname', 'age', 'status', 'salary')\n",
    "    \n",
    "    def __init__(self, name, surname, age, status, salary) -> None:\n",
    "        self.name = name\n",
    "        self.surname = surname\n",
    "        self.age = age\n",
    "        self.status = status\n",
    "        self.salary = salary"
   ]
  },
  {
   "cell_type": "code",
   "execution_count": 211,
   "metadata": {},
   "outputs": [],
   "source": [
    "class BusinessAnalyst(Employee):\n",
    "    __slots__ = ('name', 'surname', 'age', 'status', 'salary',\"experience\")"
   ]
  },
  {
   "cell_type": "code",
   "execution_count": 212,
   "metadata": {},
   "outputs": [],
   "source": [
    "ba = BusinessAnalyst(\"Vlad\", \"Boberts\", 29, \"PT\", 67200)"
   ]
  },
  {
   "cell_type": "code",
   "execution_count": 213,
   "metadata": {},
   "outputs": [
    {
     "data": {
      "text/plain": [
       "{}"
      ]
     },
     "execution_count": 213,
     "metadata": {},
     "output_type": "execute_result"
    }
   ],
   "source": [
    "ba.__dict__"
   ]
  },
  {
   "cell_type": "code",
   "execution_count": 214,
   "metadata": {},
   "outputs": [],
   "source": [
    "ba.favorite_book = 'Thinking Fast and Slow'"
   ]
  },
  {
   "cell_type": "code",
   "execution_count": 215,
   "metadata": {},
   "outputs": [
    {
     "data": {
      "text/plain": [
       "{'favorite_book': 'Thinking Fast and Slow'}"
      ]
     },
     "execution_count": 215,
     "metadata": {},
     "output_type": "execute_result"
    }
   ],
   "source": [
    "ba.__dict__"
   ]
  },
  {
   "cell_type": "code",
   "execution_count": 216,
   "metadata": {},
   "outputs": [
    {
     "data": {
      "text/plain": [
       "mappingproxy({'__module__': '__main__',\n",
       "              '__slots__': ('name',\n",
       "               'surname',\n",
       "               'age',\n",
       "               'status',\n",
       "               'salary',\n",
       "               'experience'),\n",
       "              'age': <member 'age' of 'BusinessAnalyst' objects>,\n",
       "              'experience': <member 'experience' of 'BusinessAnalyst' objects>,\n",
       "              'name': <member 'name' of 'BusinessAnalyst' objects>,\n",
       "              'salary': <member 'salary' of 'BusinessAnalyst' objects>,\n",
       "              'status': <member 'status' of 'BusinessAnalyst' objects>,\n",
       "              'surname': <member 'surname' of 'BusinessAnalyst' objects>,\n",
       "              '__doc__': None})"
      ]
     },
     "execution_count": 216,
     "metadata": {},
     "output_type": "execute_result"
    }
   ],
   "source": [
    "BusinessAnalyst.__dict__"
   ]
  },
  {
   "attachments": {},
   "cell_type": "markdown",
   "metadata": {},
   "source": [
    "# Somethin to Avoid"
   ]
  },
  {
   "cell_type": "code",
   "execution_count": 217,
   "metadata": {},
   "outputs": [],
   "source": [
    "class Employee(object):\n",
    "    __slots__ = ('name', 'surname', 'age', 'status', 'salary')\n",
    "    \n",
    "    def __init__(self, name, surname, age, status, salary) -> None:\n",
    "        self.name = name\n",
    "        self.surname = surname\n",
    "        self.age = age\n",
    "        self.status = status\n",
    "        self.salary = salary"
   ]
  },
  {
   "cell_type": "code",
   "execution_count": 218,
   "metadata": {},
   "outputs": [],
   "source": [
    "e = Employee(\"Andrew\", \"Doerte\", 42, \"FT\", 46000)"
   ]
  },
  {
   "cell_type": "code",
   "execution_count": 219,
   "metadata": {},
   "outputs": [
    {
     "data": {
      "text/plain": [
       "False"
      ]
     },
     "execution_count": 219,
     "metadata": {},
     "output_type": "execute_result"
    }
   ],
   "source": [
    "hasattr(e, '__dict__')"
   ]
  },
  {
   "attachments": {},
   "cell_type": "markdown",
   "metadata": {},
   "source": [
    "```pythone\n",
    "e.__dict__\n",
    "```"
   ]
  },
  {
   "attachments": {},
   "cell_type": "markdown",
   "metadata": {},
   "source": [
    "```pythone\n",
    "---------------------------------------------------------------------------\n",
    "AttributeError                            Traceback (most recent call last)\n",
    "Cell In[188], line 1\n",
    "----> 1 e.__dict__\n",
    "\n",
    "AttributeError: 'Employee' object has no attribute '__dict__'\n",
    "```"
   ]
  },
  {
   "cell_type": "code",
   "execution_count": 220,
   "metadata": {},
   "outputs": [],
   "source": [
    "class Employee(object):\n",
    "    __slots__ = ('name', 'surname', 'age', 'status', 'salary', '__dict__')\n",
    "    \n",
    "    def __init__(self, name, surname, age, status, salary) -> None:\n",
    "        self.name = name\n",
    "        self.surname = surname\n",
    "        self.age = age\n",
    "        self.status = status\n",
    "        self.salary = salary"
   ]
  },
  {
   "cell_type": "code",
   "execution_count": 221,
   "metadata": {},
   "outputs": [
    {
     "data": {
      "text/plain": [
       "True"
      ]
     },
     "execution_count": 221,
     "metadata": {},
     "output_type": "execute_result"
    }
   ],
   "source": [
    "e = Employee(\"Andrew\", \"Doerte\", 42, \"FT\", 46000)\n",
    "hasattr(e, '__dict__')"
   ]
  },
  {
   "cell_type": "code",
   "execution_count": 222,
   "metadata": {},
   "outputs": [],
   "source": [
    "e.nickname = \"Andy\""
   ]
  },
  {
   "cell_type": "code",
   "execution_count": 223,
   "metadata": {},
   "outputs": [
    {
     "data": {
      "text/plain": [
       "{'nickname': 'Andy'}"
      ]
     },
     "execution_count": 223,
     "metadata": {},
     "output_type": "execute_result"
    }
   ],
   "source": [
    "e.__dict__"
   ]
  },
  {
   "attachments": {},
   "cell_type": "markdown",
   "metadata": {},
   "source": [
    "# 90 Should We Always use slots?"
   ]
  },
  {
   "cell_type": "code",
   "execution_count": 224,
   "metadata": {},
   "outputs": [],
   "source": [
    "# __slots__ --> more lightweight and performace"
   ]
  },
  {
   "attachments": {},
   "cell_type": "markdown",
   "metadata": {},
   "source": [
    "# NO"
   ]
  },
  {
   "attachments": {},
   "cell_type": "markdown",
   "metadata": {},
   "source": [
    "We should forget about small efficies, say about 97% of the time: premature optimzation is the root of all evil. - Donald Knuth"
   ]
  },
  {
   "attachments": {},
   "cell_type": "markdown",
   "metadata": {},
   "source": [
    "# 91. Skill Challenge #9"
   ]
  },
  {
   "cell_type": "code",
   "execution_count": 236,
   "metadata": {},
   "outputs": [],
   "source": [
    "class Point3D():\n",
    "    __slots__ =(\"x\",\"y\",\"z\")\n",
    "\n",
    "    def __init__(self,x ,y ,z) -> None:\n",
    "        self.x = x\n",
    "        self.y = y\n",
    "        self.z = z\n",
    "\n",
    "    def __repr__(self) -> str:\n",
    "        return (f\"Point3D(x={self.x}, y={self.y}, z={self.z})\")\n",
    "        "
   ]
  },
  {
   "cell_type": "code",
   "execution_count": 237,
   "metadata": {},
   "outputs": [],
   "source": [
    "p = Point3D(1, 2, 3)"
   ]
  },
  {
   "attachments": {},
   "cell_type": "markdown",
   "metadata": {},
   "source": [
    "```python\n",
    "p.__dict__\n",
    "```"
   ]
  },
  {
   "attachments": {},
   "cell_type": "markdown",
   "metadata": {},
   "source": [
    "```python\n",
    "---------------------------------------------------------------------------\n",
    "AttributeError                            Traceback (most recent call last)\n",
    "Cell In[7], line 1\n",
    "----> 1 p.__dict__\n",
    "\n",
    "AttributeError: 'Point3D' object has no attribute '__dict__'\n",
    "```"
   ]
  },
  {
   "cell_type": "code",
   "execution_count": 227,
   "metadata": {},
   "outputs": [],
   "source": [
    "class ColoredPoint(Point3D):\n",
    "    __slots__ = (\"color\")\n",
    "\n",
    "    def __init__(self, x, y, z ,color) -> None:\n",
    "        super().__init__(x, y, z)\n",
    "        self.color = color\n",
    "    \n",
    "    def __repr__(self) -> str:\n",
    "        return (f\"ColoredPoint(x={self.x}, y={self.y}, z={self.z}, color={self.color})\")"
   ]
  },
  {
   "cell_type": "code",
   "execution_count": 228,
   "metadata": {},
   "outputs": [],
   "source": [
    "cp = ColoredPoint(1,3,9, color=\"blue\")"
   ]
  },
  {
   "attachments": {},
   "cell_type": "markdown",
   "metadata": {},
   "source": [
    "```python\n",
    "cp.__dict__\n",
    "```"
   ]
  },
  {
   "attachments": {},
   "cell_type": "markdown",
   "metadata": {},
   "source": [
    "```python\n",
    "---------------------------------------------------------------------------\n",
    "AttributeError                            Traceback (most recent call last)\n",
    "Cell In[11], line 1\n",
    "----> 1 cp.__dict__\n",
    "\n",
    "AttributeError: 'ColordePoint' object has no attribute '__dict__'\n",
    "```"
   ]
  },
  {
   "cell_type": "code",
   "execution_count": 229,
   "metadata": {},
   "outputs": [],
   "source": [
    "class ShapedPoint(Point3D):\n",
    "    __slots__ = (\"shape\")\n",
    "\n",
    "    def __init__(self, x, y, z, shape) -> None:\n",
    "        super().__init__(x, y, z)\n",
    "        self.shape = shape\n",
    "\n",
    "    def __repr__(self) -> str:\n",
    "        return (f\"ShapedPoint(x={self.x}, y={self.y}, z={self.z} , shape={self.shape})\")"
   ]
  },
  {
   "cell_type": "code",
   "execution_count": 230,
   "metadata": {},
   "outputs": [],
   "source": [
    "sp = ShapedPoint(1,2,9, shape=\"sphere\")"
   ]
  },
  {
   "attachments": {},
   "cell_type": "markdown",
   "metadata": {},
   "source": [
    "```python\n",
    "sp.__dict__\n",
    "```"
   ]
  },
  {
   "attachments": {},
   "cell_type": "markdown",
   "metadata": {},
   "source": [
    "```python\n",
    "---------------------------------------------------------------------------\n",
    "AttributeError                            Traceback (most recent call last)\n",
    "Cell In[16], line 1\n",
    "----> 1 sp.__dict__\n",
    "\n",
    "AttributeError: 'ShapedPoint' object has no attribute '__dict__'\n",
    "```"
   ]
  },
  {
   "attachments": {},
   "cell_type": "markdown",
   "metadata": {},
   "source": [
    "```python\n",
    "sp.name = \"shpere\"\n",
    "```"
   ]
  },
  {
   "attachments": {},
   "cell_type": "markdown",
   "metadata": {},
   "source": [
    "```python\n",
    "---------------------------------------------------------------------------\n",
    "AttributeError                            Traceback (most recent call last)\n",
    "Cell In[18], line 1\n",
    "----> 1 sp.name = \"shpere\"\n",
    "\n",
    "AttributeError: 'ShapedPoint' object has no attribute 'name'\n",
    "```"
   ]
  },
  {
   "cell_type": "code",
   "execution_count": 231,
   "metadata": {},
   "outputs": [],
   "source": [
    "sp.shape = \"cube\""
   ]
  },
  {
   "cell_type": "code",
   "execution_count": 232,
   "metadata": {},
   "outputs": [
    {
     "data": {
      "text/plain": [
       "ShapedPoint(x=1, y=2, z=9 , shape=cube)"
      ]
     },
     "execution_count": 232,
     "metadata": {},
     "output_type": "execute_result"
    }
   ],
   "source": [
    "sp"
   ]
  },
  {
   "cell_type": "code",
   "execution_count": 234,
   "metadata": {},
   "outputs": [
    {
     "data": {
      "text/plain": [
       "ColoredPoint(x=1, y=3, z=9, color=blue)"
      ]
     },
     "execution_count": 234,
     "metadata": {},
     "output_type": "execute_result"
    }
   ],
   "source": [
    "cp"
   ]
  },
  {
   "cell_type": "code",
   "execution_count": 238,
   "metadata": {},
   "outputs": [
    {
     "data": {
      "text/plain": [
       "Point3D(x=1, y=2, z=3)"
      ]
     },
     "execution_count": 238,
     "metadata": {},
     "output_type": "execute_result"
    }
   ],
   "source": [
    "p"
   ]
  },
  {
   "cell_type": "code",
   "execution_count": null,
   "metadata": {},
   "outputs": [],
   "source": []
  }
 ],
 "metadata": {
  "kernelspec": {
   "display_name": "Python 3",
   "language": "python",
   "name": "python3"
  },
  "language_info": {
   "codemirror_mode": {
    "name": "ipython",
    "version": 3
   },
   "file_extension": ".py",
   "mimetype": "text/x-python",
   "name": "python",
   "nbconvert_exporter": "python",
   "pygments_lexer": "ipython3",
   "version": "3.11.3"
  },
  "orig_nbformat": 4
 },
 "nbformat": 4,
 "nbformat_minor": 2
}
