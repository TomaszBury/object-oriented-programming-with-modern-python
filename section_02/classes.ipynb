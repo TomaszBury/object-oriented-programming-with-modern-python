{
 "cells": [
  {
   "attachments": {},
   "cell_type": "markdown",
   "metadata": {},
   "source": [
    "Or firs class"
   ]
  },
  {
   "cell_type": "code",
   "execution_count": 406,
   "metadata": {},
   "outputs": [],
   "source": [
    "class MercedezBenz:\n",
    "    pass"
   ]
  },
  {
   "cell_type": "code",
   "execution_count": 407,
   "metadata": {},
   "outputs": [
    {
     "data": {
      "text/plain": [
       "__main__.MercedezBenz"
      ]
     },
     "execution_count": 407,
     "metadata": {},
     "output_type": "execute_result"
    }
   ],
   "source": [
    "MercedezBenz"
   ]
  },
  {
   "cell_type": "code",
   "execution_count": 408,
   "metadata": {},
   "outputs": [
    {
     "data": {
      "text/plain": [
       "type"
      ]
     },
     "execution_count": 408,
     "metadata": {},
     "output_type": "execute_result"
    }
   ],
   "source": [
    "type(MercedezBenz)"
   ]
  },
  {
   "cell_type": "code",
   "execution_count": 409,
   "metadata": {},
   "outputs": [
    {
     "data": {
      "text/plain": [
       "(object,)"
      ]
     },
     "execution_count": 409,
     "metadata": {},
     "output_type": "execute_result"
    }
   ],
   "source": [
    "MercedezBenz.__bases__"
   ]
  },
  {
   "cell_type": "code",
   "execution_count": 410,
   "metadata": {},
   "outputs": [
    {
     "data": {
      "text/plain": [
       "'MercedezBenz'"
      ]
     },
     "execution_count": 410,
     "metadata": {},
     "output_type": "execute_result"
    }
   ],
   "source": [
    "MercedezBenz.__name__"
   ]
  },
  {
   "cell_type": "code",
   "execution_count": 411,
   "metadata": {},
   "outputs": [
    {
     "data": {
      "text/plain": [
       "<__main__.MercedezBenz at 0x11105ac10>"
      ]
     },
     "execution_count": 411,
     "metadata": {},
     "output_type": "execute_result"
    }
   ],
   "source": [
    "MercedezBenz()"
   ]
  },
  {
   "cell_type": "code",
   "execution_count": 412,
   "metadata": {},
   "outputs": [],
   "source": [
    "w140 = MercedezBenz()\n",
    "w223 = MercedezBenz()"
   ]
  },
  {
   "cell_type": "code",
   "execution_count": 413,
   "metadata": {},
   "outputs": [
    {
     "data": {
      "text/plain": [
       "<__main__.MercedezBenz at 0x11102f050>"
      ]
     },
     "execution_count": 413,
     "metadata": {},
     "output_type": "execute_result"
    }
   ],
   "source": [
    "w223"
   ]
  },
  {
   "cell_type": "code",
   "execution_count": 414,
   "metadata": {},
   "outputs": [
    {
     "data": {
      "text/plain": [
       "<__main__.MercedezBenz at 0x11102f650>"
      ]
     },
     "execution_count": 414,
     "metadata": {},
     "output_type": "execute_result"
    }
   ],
   "source": [
    "w140"
   ]
  },
  {
   "cell_type": "code",
   "execution_count": 415,
   "metadata": {},
   "outputs": [
    {
     "data": {
      "text/plain": [
       "False"
      ]
     },
     "execution_count": 415,
     "metadata": {},
     "output_type": "execute_result"
    }
   ],
   "source": [
    "w140 == w223"
   ]
  },
  {
   "attachments": {},
   "cell_type": "markdown",
   "metadata": {},
   "source": [
    "# Class State"
   ]
  },
  {
   "cell_type": "code",
   "execution_count": 416,
   "metadata": {},
   "outputs": [],
   "source": [
    "class MercedezBenz:\n",
    "    doors = 2\n",
    "    wheels = 4"
   ]
  },
  {
   "cell_type": "code",
   "execution_count": 417,
   "metadata": {},
   "outputs": [
    {
     "data": {
      "text/plain": [
       "\"\\n---------------------------------------------------------------------------\\nNameError                                 Traceback (most recent call last)\\nCell In[22], line 1\\n----> 1 __dict__\\n\\nNameError: name '__dict__' is not defined\\n\""
      ]
     },
     "execution_count": 417,
     "metadata": {},
     "output_type": "execute_result"
    }
   ],
   "source": [
    "# __dict__\n",
    "'''\n",
    "---------------------------------------------------------------------------\n",
    "NameError                                 Traceback (most recent call last)\n",
    "Cell In[22], line 1\n",
    "----> 1 __dict__\n",
    "\n",
    "NameError: name '__dict__' is not defined\n",
    "'''"
   ]
  },
  {
   "cell_type": "code",
   "execution_count": 418,
   "metadata": {},
   "outputs": [
    {
     "data": {
      "text/plain": [
       "mappingproxy({'__module__': '__main__',\n",
       "              'doors': 2,\n",
       "              'wheels': 4,\n",
       "              '__dict__': <attribute '__dict__' of 'MercedezBenz' objects>,\n",
       "              '__weakref__': <attribute '__weakref__' of 'MercedezBenz' objects>,\n",
       "              '__doc__': None})"
      ]
     },
     "execution_count": 418,
     "metadata": {},
     "output_type": "execute_result"
    }
   ],
   "source": [
    "MercedezBenz.__dict__"
   ]
  },
  {
   "cell_type": "code",
   "execution_count": 419,
   "metadata": {},
   "outputs": [],
   "source": [
    "MercedezBenz.doors = 4"
   ]
  },
  {
   "cell_type": "code",
   "execution_count": 420,
   "metadata": {},
   "outputs": [],
   "source": [
    "MercedezBenz.model = 'S'"
   ]
  },
  {
   "cell_type": "code",
   "execution_count": 421,
   "metadata": {},
   "outputs": [
    {
     "data": {
      "text/plain": [
       "mappingproxy({'__module__': '__main__',\n",
       "              'doors': 4,\n",
       "              'wheels': 4,\n",
       "              '__dict__': <attribute '__dict__' of 'MercedezBenz' objects>,\n",
       "              '__weakref__': <attribute '__weakref__' of 'MercedezBenz' objects>,\n",
       "              '__doc__': None,\n",
       "              'model': 'S'})"
      ]
     },
     "execution_count": 421,
     "metadata": {},
     "output_type": "execute_result"
    }
   ],
   "source": [
    "MercedezBenz.__dict__"
   ]
  },
  {
   "cell_type": "code",
   "execution_count": 422,
   "metadata": {},
   "outputs": [],
   "source": [
    "w223 = MercedezBenz()\n",
    "w222 = MercedezBenz()"
   ]
  },
  {
   "cell_type": "code",
   "execution_count": 423,
   "metadata": {},
   "outputs": [
    {
     "data": {
      "text/plain": [
       "4"
      ]
     },
     "execution_count": 423,
     "metadata": {},
     "output_type": "execute_result"
    }
   ],
   "source": [
    "w222.doors"
   ]
  },
  {
   "cell_type": "code",
   "execution_count": 424,
   "metadata": {},
   "outputs": [
    {
     "data": {
      "text/plain": [
       "4"
      ]
     },
     "execution_count": 424,
     "metadata": {},
     "output_type": "execute_result"
    }
   ],
   "source": [
    "w222.doors"
   ]
  },
  {
   "cell_type": "code",
   "execution_count": 425,
   "metadata": {},
   "outputs": [
    {
     "data": {
      "text/plain": [
       "'S'"
      ]
     },
     "execution_count": 425,
     "metadata": {},
     "output_type": "execute_result"
    }
   ],
   "source": [
    "w222.model"
   ]
  },
  {
   "cell_type": "code",
   "execution_count": 426,
   "metadata": {},
   "outputs": [
    {
     "data": {
      "text/plain": [
       "'S'"
      ]
     },
     "execution_count": 426,
     "metadata": {},
     "output_type": "execute_result"
    }
   ],
   "source": [
    "w223.model"
   ]
  },
  {
   "attachments": {},
   "cell_type": "markdown",
   "metadata": {},
   "source": [
    "# Methods and Behaviour"
   ]
  },
  {
   "cell_type": "code",
   "execution_count": 427,
   "metadata": {},
   "outputs": [],
   "source": [
    "class MercedezBenz:\n",
    "    doors = 4\n",
    "    wheels = 4\n",
    "\n",
    "MercedezBenz.doors = 5\n",
    "MercedezBenz.model = 'S'\n"
   ]
  },
  {
   "cell_type": "code",
   "execution_count": 428,
   "metadata": {},
   "outputs": [],
   "source": [
    "class MercedezBenz:\n",
    "    doors = 4\n",
    "    wheels = 4\n",
    "    model = 'S'"
   ]
  },
  {
   "cell_type": "code",
   "execution_count": 429,
   "metadata": {},
   "outputs": [],
   "source": [
    "def drive():\n",
    "    return 'A car is being driven'"
   ]
  },
  {
   "cell_type": "code",
   "execution_count": 430,
   "metadata": {},
   "outputs": [
    {
     "data": {
      "text/plain": [
       "'A car is being driven'"
      ]
     },
     "execution_count": 430,
     "metadata": {},
     "output_type": "execute_result"
    }
   ],
   "source": [
    "drive()"
   ]
  },
  {
   "cell_type": "code",
   "execution_count": 431,
   "metadata": {},
   "outputs": [],
   "source": [
    "class MercedezBenz:\n",
    "    doors = 4\n",
    "    wheels = 4\n",
    "    model = \"S\"\n",
    "\n",
    "    def drive(self):\n",
    "        return self"
   ]
  },
  {
   "cell_type": "code",
   "execution_count": 432,
   "metadata": {},
   "outputs": [],
   "source": [
    "w220 =  MercedezBenz()"
   ]
  },
  {
   "cell_type": "code",
   "execution_count": 433,
   "metadata": {},
   "outputs": [
    {
     "data": {
      "text/plain": [
       "<__main__.MercedezBenz at 0x1110a1050>"
      ]
     },
     "execution_count": 433,
     "metadata": {},
     "output_type": "execute_result"
    }
   ],
   "source": [
    "w220"
   ]
  },
  {
   "cell_type": "code",
   "execution_count": 434,
   "metadata": {},
   "outputs": [
    {
     "data": {
      "text/plain": [
       "<__main__.MercedezBenz at 0x1110a1050>"
      ]
     },
     "execution_count": 434,
     "metadata": {},
     "output_type": "execute_result"
    }
   ],
   "source": [
    "w220.drive()"
   ]
  },
  {
   "cell_type": "code",
   "execution_count": 435,
   "metadata": {},
   "outputs": [
    {
     "data": {
      "text/plain": [
       "True"
      ]
     },
     "execution_count": 435,
     "metadata": {},
     "output_type": "execute_result"
    }
   ],
   "source": [
    "w220 == w220.drive()"
   ]
  },
  {
   "cell_type": "code",
   "execution_count": 436,
   "metadata": {},
   "outputs": [
    {
     "data": {
      "text/plain": [
       "True"
      ]
     },
     "execution_count": 436,
     "metadata": {},
     "output_type": "execute_result"
    }
   ],
   "source": [
    "w220 is w220.drive()"
   ]
  },
  {
   "cell_type": "code",
   "execution_count": 437,
   "metadata": {},
   "outputs": [
    {
     "data": {
      "text/plain": [
       "False"
      ]
     },
     "execution_count": 437,
     "metadata": {},
     "output_type": "execute_result"
    }
   ],
   "source": [
    "w220 == MercedezBenz"
   ]
  },
  {
   "cell_type": "code",
   "execution_count": 438,
   "metadata": {},
   "outputs": [],
   "source": [
    "class MercedezBenz:\n",
    "    doors = 4\n",
    "    wheels = 4\n",
    "    model = \"S\"\n",
    "\n",
    "    def drive(self):\n",
    "        return f'A Mercedex is driving. And is is {self}\\n'"
   ]
  },
  {
   "cell_type": "code",
   "execution_count": 439,
   "metadata": {},
   "outputs": [],
   "source": [
    "w220 = MercedezBenz()\n",
    "w223 = MercedezBenz()"
   ]
  },
  {
   "cell_type": "code",
   "execution_count": 440,
   "metadata": {},
   "outputs": [
    {
     "data": {
      "text/plain": [
       "'A Mercedex is driving. And is is <__main__.MercedezBenz object at 0x1110edad0>\\n'"
      ]
     },
     "execution_count": 440,
     "metadata": {},
     "output_type": "execute_result"
    }
   ],
   "source": [
    "w220.drive()"
   ]
  },
  {
   "cell_type": "code",
   "execution_count": 441,
   "metadata": {},
   "outputs": [
    {
     "data": {
      "text/plain": [
       "'A Mercedex is driving. And is is <__main__.MercedezBenz object at 0x1110ec510>\\n'"
      ]
     },
     "execution_count": 441,
     "metadata": {},
     "output_type": "execute_result"
    }
   ],
   "source": [
    "w223.drive()"
   ]
  },
  {
   "cell_type": "code",
   "execution_count": 442,
   "metadata": {},
   "outputs": [
    {
     "data": {
      "text/plain": [
       "False"
      ]
     },
     "execution_count": 442,
     "metadata": {},
     "output_type": "execute_result"
    }
   ],
   "source": [
    "w220 is w223"
   ]
  },
  {
   "attachments": {},
   "cell_type": "markdown",
   "metadata": {},
   "source": [
    "# Tracing drive"
   ]
  },
  {
   "cell_type": "code",
   "execution_count": 443,
   "metadata": {},
   "outputs": [
    {
     "data": {
      "text/plain": [
       "<function __main__.MercedezBenz.drive(self)>"
      ]
     },
     "execution_count": 443,
     "metadata": {},
     "output_type": "execute_result"
    }
   ],
   "source": [
    "MercedezBenz.drive"
   ]
  },
  {
   "cell_type": "code",
   "execution_count": 444,
   "metadata": {},
   "outputs": [
    {
     "data": {
      "text/plain": [
       "function"
      ]
     },
     "execution_count": 444,
     "metadata": {},
     "output_type": "execute_result"
    }
   ],
   "source": [
    "type(MercedezBenz.drive)"
   ]
  },
  {
   "cell_type": "code",
   "execution_count": 445,
   "metadata": {},
   "outputs": [
    {
     "data": {
      "text/plain": [
       "<bound method MercedezBenz.drive of <__main__.MercedezBenz object at 0x1110edad0>>"
      ]
     },
     "execution_count": 445,
     "metadata": {},
     "output_type": "execute_result"
    }
   ],
   "source": [
    "w220.drive"
   ]
  },
  {
   "cell_type": "code",
   "execution_count": 446,
   "metadata": {},
   "outputs": [
    {
     "data": {
      "text/plain": [
       "<bound method MercedezBenz.drive of <__main__.MercedezBenz object at 0x1110ec510>>"
      ]
     },
     "execution_count": 446,
     "metadata": {},
     "output_type": "execute_result"
    }
   ],
   "source": [
    "w223.drive"
   ]
  },
  {
   "cell_type": "code",
   "execution_count": 447,
   "metadata": {},
   "outputs": [
    {
     "data": {
      "text/plain": [
       "method"
      ]
     },
     "execution_count": 447,
     "metadata": {},
     "output_type": "execute_result"
    }
   ],
   "source": [
    "type(w223.drive)"
   ]
  },
  {
   "attachments": {},
   "cell_type": "markdown",
   "metadata": {},
   "source": [
    "# Instance attributes"
   ]
  },
  {
   "cell_type": "code",
   "execution_count": 448,
   "metadata": {},
   "outputs": [],
   "source": [
    "class MercedezBenz:\n",
    "    doors = 4\n",
    "    wheels = 4\n",
    "    model = \"S\"\n",
    "\n",
    "    def drive(self):\n",
    "        return f'A Mercedex is driving. And is is {self}\\n'"
   ]
  },
  {
   "cell_type": "code",
   "execution_count": 449,
   "metadata": {},
   "outputs": [
    {
     "data": {
      "text/plain": [
       "True"
      ]
     },
     "execution_count": 449,
     "metadata": {},
     "output_type": "execute_result"
    }
   ],
   "source": [
    "w223 = MercedezBenz()\n",
    "w222 = MercedezBenz()\n",
    "\n",
    "w223.doors == w222.doors"
   ]
  },
  {
   "cell_type": "code",
   "execution_count": 450,
   "metadata": {},
   "outputs": [
    {
     "data": {
      "text/plain": [
       "True"
      ]
     },
     "execution_count": 450,
     "metadata": {},
     "output_type": "execute_result"
    }
   ],
   "source": [
    "w223.model == w222.model"
   ]
  },
  {
   "cell_type": "code",
   "execution_count": 451,
   "metadata": {},
   "outputs": [],
   "source": [
    "w223.color = 'black'\n",
    "w222.color = 'red'"
   ]
  },
  {
   "cell_type": "code",
   "execution_count": 452,
   "metadata": {},
   "outputs": [
    {
     "data": {
      "text/plain": [
       "('black', 'red')"
      ]
     },
     "execution_count": 452,
     "metadata": {},
     "output_type": "execute_result"
    }
   ],
   "source": [
    "w223.color, w222.color "
   ]
  },
  {
   "cell_type": "code",
   "execution_count": 453,
   "metadata": {},
   "outputs": [],
   "source": [
    "class MercedezBenz:\n",
    "    doors = 4\n",
    "    wheels = 4\n",
    "    model = \"S\"\n",
    "\n",
    "    def __init__(self, color) -> None: # after instance creation, but before it is returned.\n",
    "        self.color = color\n",
    "\n",
    "    def drive(self):\n",
    "        return f'A Mercedex is driving. And is is {self}\\n'\n",
    "    "
   ]
  },
  {
   "cell_type": "code",
   "execution_count": 3,
   "metadata": {},
   "outputs": [],
   "source": [
    "# MercedezBenz()\n"
   ]
  },
  {
   "attachments": {},
   "cell_type": "markdown",
   "metadata": {},
   "source": [
    "```python\n",
    "---------------------------------------------------------------------------\n",
    "NameError                                 Traceback (most recent call last)\n",
    "Cell In[2], line 1\n",
    "----> 1 MercedezBenz()\n",
    "\n",
    "NameError: name 'MercedezBenz' is not defined\n",
    "```"
   ]
  },
  {
   "cell_type": "code",
   "execution_count": 455,
   "metadata": {},
   "outputs": [],
   "source": [
    "w223 = MercedezBenz('black')\n",
    "w222 = MercedezBenz('Red')"
   ]
  },
  {
   "cell_type": "code",
   "execution_count": 456,
   "metadata": {},
   "outputs": [
    {
     "data": {
      "text/plain": [
       "('black', 'Red')"
      ]
     },
     "execution_count": 456,
     "metadata": {},
     "output_type": "execute_result"
    }
   ],
   "source": [
    "w223.color, w222.color"
   ]
  },
  {
   "cell_type": "code",
   "execution_count": 457,
   "metadata": {},
   "outputs": [],
   "source": [
    "class MercedezBenz:\n",
    "    doors = 4\n",
    "    wheels = 4\n",
    "    model = \"S\"\n",
    "\n",
    "    def __init__(self, color='midnight blue') -> None: # after instance creation, but before it is returned.\n",
    "        self.color = color\n",
    "\n",
    "    def drive(self):\n",
    "        return f'A Mercedex is driving. And is is {self}\\n'\n",
    "    "
   ]
  },
  {
   "cell_type": "code",
   "execution_count": 458,
   "metadata": {},
   "outputs": [],
   "source": [
    "w223 = MercedezBenz()"
   ]
  },
  {
   "cell_type": "code",
   "execution_count": 459,
   "metadata": {},
   "outputs": [
    {
     "data": {
      "text/plain": [
       "'midnight blue'"
      ]
     },
     "execution_count": 459,
     "metadata": {},
     "output_type": "execute_result"
    }
   ],
   "source": [
    "w223.color"
   ]
  },
  {
   "cell_type": "code",
   "execution_count": 460,
   "metadata": {},
   "outputs": [],
   "source": [
    "w222 = MercedezBenz('green')"
   ]
  },
  {
   "cell_type": "code",
   "execution_count": 461,
   "metadata": {},
   "outputs": [
    {
     "data": {
      "text/plain": [
       "'green'"
      ]
     },
     "execution_count": 461,
     "metadata": {},
     "output_type": "execute_result"
    }
   ],
   "source": [
    "w222.color"
   ]
  },
  {
   "cell_type": "code",
   "execution_count": 462,
   "metadata": {},
   "outputs": [],
   "source": [
    "w140 = MercedezBenz('silver')"
   ]
  },
  {
   "attachments": {},
   "cell_type": "markdown",
   "metadata": {},
   "source": [
    "# object.attribiute syntax"
   ]
  },
  {
   "cell_type": "code",
   "execution_count": 463,
   "metadata": {},
   "outputs": [
    {
     "data": {
      "text/plain": [
       "4"
      ]
     },
     "execution_count": 463,
     "metadata": {},
     "output_type": "execute_result"
    }
   ],
   "source": [
    "MercedezBenz.doors"
   ]
  },
  {
   "cell_type": "code",
   "execution_count": 464,
   "metadata": {},
   "outputs": [
    {
     "data": {
      "text/plain": [
       "'green'"
      ]
     },
     "execution_count": 464,
     "metadata": {},
     "output_type": "execute_result"
    }
   ],
   "source": [
    "w222.color"
   ]
  },
  {
   "cell_type": "code",
   "execution_count": 465,
   "metadata": {},
   "outputs": [
    {
     "data": {
      "text/plain": [
       "4"
      ]
     },
     "execution_count": 465,
     "metadata": {},
     "output_type": "execute_result"
    }
   ],
   "source": [
    "w223.wheels"
   ]
  },
  {
   "cell_type": "code",
   "execution_count": 466,
   "metadata": {},
   "outputs": [
    {
     "data": {
      "text/plain": [
       "'midnight blue'"
      ]
     },
     "execution_count": 466,
     "metadata": {},
     "output_type": "execute_result"
    }
   ],
   "source": [
    "getattr(w223, 'color')"
   ]
  },
  {
   "cell_type": "code",
   "execution_count": 467,
   "metadata": {},
   "outputs": [
    {
     "data": {
      "text/plain": [
       "'midnight blue'"
      ]
     },
     "execution_count": 467,
     "metadata": {},
     "output_type": "execute_result"
    }
   ],
   "source": [
    "w223.color"
   ]
  },
  {
   "cell_type": "code",
   "execution_count": 468,
   "metadata": {},
   "outputs": [],
   "source": [
    "w223.color = 'white'"
   ]
  },
  {
   "cell_type": "code",
   "execution_count": 469,
   "metadata": {},
   "outputs": [],
   "source": [
    "setattr(w223, 'color', 'reddish')"
   ]
  },
  {
   "cell_type": "code",
   "execution_count": 470,
   "metadata": {},
   "outputs": [
    {
     "data": {
      "text/plain": [
       "'reddish'"
      ]
     },
     "execution_count": 470,
     "metadata": {},
     "output_type": "execute_result"
    }
   ],
   "source": [
    "w223.color"
   ]
  },
  {
   "cell_type": "code",
   "execution_count": 471,
   "metadata": {},
   "outputs": [],
   "source": [
    "objs = [w222, w223]\n",
    "\n",
    "attribs = ['color', 'doors']\n",
    "\n",
    "values = ['navyBlue', 3]"
   ]
  },
  {
   "cell_type": "code",
   "execution_count": 472,
   "metadata": {},
   "outputs": [
    {
     "name": "stdout",
     "output_type": "stream",
     "text": [
      "green\n",
      "4\n",
      "reddish\n",
      "4\n"
     ]
    }
   ],
   "source": [
    "for obj in objs:\n",
    "    for attr in attribs:\n",
    "        print(f'{getattr(obj, attr)}')"
   ]
  },
  {
   "cell_type": "code",
   "execution_count": 473,
   "metadata": {},
   "outputs": [
    {
     "data": {
      "text/plain": [
       "[<__main__.MercedezBenz at 0x110b71fd0>,\n",
       " <__main__.MercedezBenz at 0x111070910>]"
      ]
     },
     "execution_count": 473,
     "metadata": {},
     "output_type": "execute_result"
    }
   ],
   "source": [
    "objs"
   ]
  },
  {
   "cell_type": "code",
   "execution_count": 474,
   "metadata": {},
   "outputs": [
    {
     "data": {
      "text/plain": [
       "range(0, 2)"
      ]
     },
     "execution_count": 474,
     "metadata": {},
     "output_type": "execute_result"
    }
   ],
   "source": [
    "range(len(attribs))"
   ]
  },
  {
   "cell_type": "code",
   "execution_count": 475,
   "metadata": {},
   "outputs": [],
   "source": [
    "for obj in objs:\n",
    "    for i in range(len(attribs)):\n",
    "        setattr(obj, attr[i], values[i])"
   ]
  },
  {
   "cell_type": "code",
   "execution_count": 476,
   "metadata": {},
   "outputs": [
    {
     "name": "stdout",
     "output_type": "stream",
     "text": [
      "green, green\n",
      "4, 4\n",
      "reddish, reddish\n",
      "4, 4\n"
     ]
    }
   ],
   "source": [
    "for obj in objs:\n",
    "    for i in range(len(attribs)):\n",
    "        print(f'{getattr(obj, attribs[i])}, {getattr(obj, attribs[i])}')"
   ]
  },
  {
   "cell_type": "code",
   "execution_count": 477,
   "metadata": {},
   "outputs": [],
   "source": [
    "for obj in objs:\n",
    "    for attrib, val in zip(attribs, values):\n",
    "        setattr(obj, attrib, val)"
   ]
  },
  {
   "cell_type": "code",
   "execution_count": 478,
   "metadata": {},
   "outputs": [
    {
     "data": {
      "text/plain": [
       "('navyBlue', 'navyBlue')"
      ]
     },
     "execution_count": 478,
     "metadata": {},
     "output_type": "execute_result"
    }
   ],
   "source": [
    "w222.color, w223.color"
   ]
  },
  {
   "cell_type": "code",
   "execution_count": 479,
   "metadata": {},
   "outputs": [
    {
     "data": {
      "text/plain": [
       "(3, 3)"
      ]
     },
     "execution_count": 479,
     "metadata": {},
     "output_type": "execute_result"
    }
   ],
   "source": [
    "w222.doors, w223.doors"
   ]
  },
  {
   "cell_type": "code",
   "execution_count": 480,
   "metadata": {},
   "outputs": [
    {
     "data": {
      "text/plain": [
       "4"
      ]
     },
     "execution_count": 480,
     "metadata": {},
     "output_type": "execute_result"
    }
   ],
   "source": [
    "MercedezBenz.doors"
   ]
  },
  {
   "cell_type": "code",
   "execution_count": 481,
   "metadata": {},
   "outputs": [
    {
     "data": {
      "text/plain": [
       "'navyBlue'"
      ]
     },
     "execution_count": 481,
     "metadata": {},
     "output_type": "execute_result"
    }
   ],
   "source": [
    "w222.color"
   ]
  },
  {
   "cell_type": "code",
   "execution_count": 482,
   "metadata": {},
   "outputs": [
    {
     "data": {
      "text/plain": [
       "4"
      ]
     },
     "execution_count": 482,
     "metadata": {},
     "output_type": "execute_result"
    }
   ],
   "source": [
    "w223.wheels"
   ]
  },
  {
   "cell_type": "code",
   "execution_count": 483,
   "metadata": {},
   "outputs": [
    {
     "data": {
      "text/plain": [
       "4"
      ]
     },
     "execution_count": 483,
     "metadata": {},
     "output_type": "execute_result"
    }
   ],
   "source": [
    "getattr(w223, 'wheels')"
   ]
  },
  {
   "cell_type": "code",
   "execution_count": 484,
   "metadata": {},
   "outputs": [
    {
     "data": {
      "text/plain": [
       "'navyBlue'"
      ]
     },
     "execution_count": 484,
     "metadata": {},
     "output_type": "execute_result"
    }
   ],
   "source": [
    "getattr(w222, 'color')"
   ]
  },
  {
   "cell_type": "code",
   "execution_count": 485,
   "metadata": {},
   "outputs": [],
   "source": [
    "w223.color = 'white'"
   ]
  },
  {
   "cell_type": "code",
   "execution_count": 486,
   "metadata": {},
   "outputs": [
    {
     "data": {
      "text/plain": [
       "'white'"
      ]
     },
     "execution_count": 486,
     "metadata": {},
     "output_type": "execute_result"
    }
   ],
   "source": [
    "w223.color"
   ]
  },
  {
   "cell_type": "code",
   "execution_count": 487,
   "metadata": {},
   "outputs": [],
   "source": [
    "\n",
    "setattr(w223, 'color', 'navy blue')"
   ]
  },
  {
   "cell_type": "code",
   "execution_count": 488,
   "metadata": {},
   "outputs": [
    {
     "data": {
      "text/plain": [
       "'navy blue'"
      ]
     },
     "execution_count": 488,
     "metadata": {},
     "output_type": "execute_result"
    }
   ],
   "source": [
    "w223.color"
   ]
  },
  {
   "cell_type": "code",
   "execution_count": 489,
   "metadata": {},
   "outputs": [],
   "source": [
    "objs = [w222, w223]\n",
    "\n",
    "attribs = ['color', 'doors']\n",
    "\n",
    "values = ['navy blue', 3]"
   ]
  },
  {
   "cell_type": "code",
   "execution_count": 490,
   "metadata": {},
   "outputs": [],
   "source": [
    "for obj in objs:\n",
    "    for attrib, val in zip(attribs, values):\n",
    "        setattr(obj, attrib, val)"
   ]
  },
  {
   "cell_type": "code",
   "execution_count": 491,
   "metadata": {},
   "outputs": [
    {
     "data": {
      "text/plain": [
       "('navy blue', 'navy blue')"
      ]
     },
     "execution_count": 491,
     "metadata": {},
     "output_type": "execute_result"
    }
   ],
   "source": [
    "w222.color, w223.color"
   ]
  },
  {
   "cell_type": "code",
   "execution_count": 492,
   "metadata": {},
   "outputs": [
    {
     "data": {
      "text/plain": [
       "(3, 3)"
      ]
     },
     "execution_count": 492,
     "metadata": {},
     "output_type": "execute_result"
    }
   ],
   "source": [
    "w222.doors, w223.doors"
   ]
  },
  {
   "attachments": {},
   "cell_type": "markdown",
   "metadata": {},
   "source": [
    "# quick detour"
   ]
  },
  {
   "cell_type": "code",
   "execution_count": 493,
   "metadata": {},
   "outputs": [
    {
     "data": {
      "text/plain": [
       "[('color', 'navy blue'), ('doors', 3)]"
      ]
     },
     "execution_count": 493,
     "metadata": {},
     "output_type": "execute_result"
    }
   ],
   "source": [
    "list(zip(attribs, values))"
   ]
  },
  {
   "cell_type": "code",
   "execution_count": 494,
   "metadata": {},
   "outputs": [
    {
     "name": "stdout",
     "output_type": "stream",
     "text": [
      "navy blue\n",
      "3\n",
      "navy blue\n",
      "3\n"
     ]
    }
   ],
   "source": [
    "for obj in objs:\n",
    "    for attr in attribs:\n",
    "        print(f'{getattr(obj, attr)}')"
   ]
  },
  {
   "cell_type": "code",
   "execution_count": 495,
   "metadata": {},
   "outputs": [
    {
     "data": {
      "text/plain": [
       "\"\\n---------------------------------------------------------------------------\\nAttributeError                            Traceback (most recent call last)\\nCell In[94], line 1\\n----> 1 w223.wingspan\\n\\nAttributeError: 'MercedezBenz' object has no attribute 'wingspan'\\n\\n\""
      ]
     },
     "execution_count": 495,
     "metadata": {},
     "output_type": "execute_result"
    }
   ],
   "source": [
    "# w223.wingspan\n",
    "\n",
    "'''\n",
    "---------------------------------------------------------------------------\n",
    "AttributeError                            Traceback (most recent call last)\n",
    "Cell In[94], line 1\n",
    "----> 1 w223.wingspan\n",
    "\n",
    "AttributeError: 'MercedezBenz' object has no attribute 'wingspan'\n",
    "\n",
    "'''"
   ]
  },
  {
   "cell_type": "code",
   "execution_count": 496,
   "metadata": {},
   "outputs": [
    {
     "name": "stdout",
     "output_type": "stream",
     "text": [
      "'MercedezBenz' object has no attribute 'wingspan'\n"
     ]
    }
   ],
   "source": [
    "try:\n",
    "    print(w223.wingspan)\n",
    "except AttributeError as e:\n",
    "    print(e)"
   ]
  },
  {
   "cell_type": "code",
   "execution_count": 497,
   "metadata": {},
   "outputs": [
    {
     "data": {
      "text/plain": [
       "'No attribute Fount'"
      ]
     },
     "execution_count": 497,
     "metadata": {},
     "output_type": "execute_result"
    }
   ],
   "source": [
    "getattr(w223, 'wingspan', 'No attribute Fount')"
   ]
  },
  {
   "attachments": {},
   "cell_type": "markdown",
   "metadata": {},
   "source": [
    "# Revisting self"
   ]
  },
  {
   "cell_type": "code",
   "execution_count": 498,
   "metadata": {},
   "outputs": [],
   "source": [
    "class MercedezBenz:\n",
    "    doors = 4\n",
    "    wheels = 4\n",
    "    model = \"S\"\n",
    "\n",
    "    def __init__(self, color='midnight blue') -> None: # after instance creation, but before it is returned.\n",
    "        self.color = color\n",
    "\n",
    "    def drive(self):\n",
    "        return f'A Mercedex is driving. And is is {self}\\n'\n",
    "    \n",
    "    def auto_drive():\n",
    "        return 'Auto-driving for now...'\n",
    "    "
   ]
  },
  {
   "cell_type": "code",
   "execution_count": 499,
   "metadata": {},
   "outputs": [],
   "source": [
    "m123 = MercedezBenz('Pink')"
   ]
  },
  {
   "cell_type": "code",
   "execution_count": 500,
   "metadata": {},
   "outputs": [
    {
     "data": {
      "text/plain": [
       "'\\n---------------------------------------------------------------------------\\nTypeError                                 Traceback (most recent call last)\\nCell In[98], line 1\\n----> 1 m123.auto_drive()\\n\\nTypeError: MercedezBenz.auto_drive() takes 0 positional arguments but 1 was given\\n'"
      ]
     },
     "execution_count": 500,
     "metadata": {},
     "output_type": "execute_result"
    }
   ],
   "source": [
    "# m123.auto_drive()\n",
    "\n",
    "'''\n",
    "---------------------------------------------------------------------------\n",
    "TypeError                                 Traceback (most recent call last)\n",
    "Cell In[98], line 1\n",
    "----> 1 m123.auto_drive()\n",
    "\n",
    "TypeError: MercedezBenz.auto_drive() takes 0 positional arguments but 1 was given\n",
    "'''"
   ]
  },
  {
   "cell_type": "code",
   "execution_count": 501,
   "metadata": {},
   "outputs": [],
   "source": [
    "class MercedezBenz:\n",
    "    doors = 4\n",
    "    wheels = 4\n",
    "    model = \"S\"\n",
    "\n",
    "    def __init__(self, color='midnight blue') -> None: # after instance creation, but before it is returned.\n",
    "        self.color = color\n",
    "\n",
    "    def drive(self):\n",
    "        return f'A Mercedex is driving. And is is {self}\\n'\n",
    "    \n",
    "    def auto_drive(self):\n",
    "        return 'Auto-driving for now...'\n",
    "    "
   ]
  },
  {
   "cell_type": "code",
   "execution_count": 502,
   "metadata": {},
   "outputs": [],
   "source": [
    "m124 = MercedezBenz('White')"
   ]
  },
  {
   "cell_type": "code",
   "execution_count": 503,
   "metadata": {},
   "outputs": [
    {
     "data": {
      "text/plain": [
       "'Auto-driving for now...'"
      ]
     },
     "execution_count": 503,
     "metadata": {},
     "output_type": "execute_result"
    }
   ],
   "source": [
    "m124.auto_drive()"
   ]
  },
  {
   "attachments": {},
   "cell_type": "markdown",
   "metadata": {},
   "source": [
    "## C#, hjava this (reserved)"
   ]
  },
  {
   "attachments": {},
   "cell_type": "markdown",
   "metadata": {},
   "source": [
    "# 11. Skill Challenge #1"
   ]
  },
  {
   "attachments": {},
   "cell_type": "markdown",
   "metadata": {},
   "source": [
    "Define a Student class with 2 instance attributes (name, age) and 1 class attribute (education_platform), defaulting to udemy.   \n",
    "Make it so that instances of student could be created by simply specifying the name.   \n",
    "Hint: set the default age to a number   \n",
    "\n",
    "Define a greet() method which alternates between various names greetingsl. Whent invoked, the method should randomly select a greating and interpolate in the name of the sutdent:\n",
    "* Hi, I'm ...\n",
    "* Hey there, my name is ...\n",
    "* Hi, Oh, my name is ...\n",
    "\n",
    "Starting with a list of several student names, create student instances from each, and have each student introduce themselves."
   ]
  },
  {
   "cell_type": "code",
   "execution_count": 504,
   "metadata": {},
   "outputs": [],
   "source": [
    "from random import randint\n",
    "\n",
    "\n",
    "class Student:\n",
    "    education_platform = 'udemy'\n",
    "    name = ''\n",
    "    age = 0\n",
    "\n",
    "    def __init__(self, name, age=99) -> None:\n",
    "        self.name = name\n",
    "        self.age = age\n",
    "\n",
    "    def greet(self):\n",
    "         i = randint(0,2)\n",
    "         greetings = [\"Hi, I`m \", 'Hey there, my name is ', 'Hi, Oh, my name is ']\n",
    "         return f'{greetings[i]}{self.name}'"
   ]
  },
  {
   "cell_type": "code",
   "execution_count": 505,
   "metadata": {},
   "outputs": [],
   "source": [
    "Asha = Student('Asha')\n",
    "Michael = Student('Michael')\n",
    "Arjun = Student('Arjun')\n",
    "Roland = Student('Roland')\n",
    "\n",
    "students = [Asha, Michael, Arjun, Roland]"
   ]
  },
  {
   "cell_type": "code",
   "execution_count": 506,
   "metadata": {},
   "outputs": [
    {
     "name": "stdout",
     "output_type": "stream",
     "text": [
      "Hey there, my name is Asha, My age is 99\n",
      "Hi, I`m Michael, My age is 99\n",
      "Hi, Oh, my name is Arjun, My age is 99\n",
      "Hi, I`m Roland, My age is 99\n"
     ]
    }
   ],
   "source": [
    "names = ['Asha', 'Michael', 'Arjun', 'Roland', 'Alice', 'Brian', 'Clayton', 'Deirdre', 'Elon', 'Faye']\n",
    "\n",
    "for student in students:\n",
    "    print(f'{student.greet()}, My age is {student.age}')"
   ]
  },
  {
   "cell_type": "code",
   "execution_count": 507,
   "metadata": {},
   "outputs": [],
   "source": [
    "import random\n",
    "\n",
    "\n",
    "class Student:\n",
    "    education_platform = 'udemy'\n",
    "    name = ''\n",
    "    age = 0\n",
    "\n",
    "    def __init__(self, name, age = 99):\n",
    "        self.name = name\n",
    "        self.age = age\n",
    "        self.random_age()\n",
    "\n",
    "    def random_age(self):\n",
    "        self.age = random.randint(43,74)\n",
    "\n",
    "    def greet(self):\n",
    "         greetings = [\"Hi, I`m \", 'Hey there, my name is ', 'Hi, Oh, my name is ']\n",
    "         return f'{random.choice(greetings)}{self.name}'"
   ]
  },
  {
   "cell_type": "code",
   "execution_count": 508,
   "metadata": {},
   "outputs": [
    {
     "name": "stdout",
     "output_type": "stream",
     "text": [
      "Hi, I`m Asha, my age is 62.\n",
      "Hi, Oh, my name is Michael, my age is 57.\n",
      "Hi, Oh, my name is Arjun, my age is 58.\n",
      "Hi, Oh, my name is Roland, my age is 55.\n"
     ]
    }
   ],
   "source": [
    "import time\n",
    "\n",
    "Asha = Student('Asha')\n",
    "Michael = Student('Michael')\n",
    "Arjun = Student('Arjun')\n",
    "Roland = Student('Roland')\n",
    "\n",
    "students = [Asha, Michael, Arjun, Roland]\n",
    "\n",
    "for student in students:\n",
    "    print(f'{student.greet()}, my age is {student.age}.')"
   ]
  },
  {
   "cell_type": "code",
   "execution_count": 509,
   "metadata": {},
   "outputs": [
    {
     "name": "stdout",
     "output_type": "stream",
     "text": [
      "55\n",
      "\n",
      "67\n",
      "\n",
      "73\n",
      "\n",
      "48\n",
      "\n",
      "69\n",
      "\n",
      "46\n",
      "\n",
      "49\n",
      "\n",
      "49\n",
      "\n",
      "45\n",
      "\n",
      "59\n",
      "\n"
     ]
    }
   ],
   "source": [
    "for i in range(10):\n",
    "    print(f'{randint(43,74)}\\n')"
   ]
  },
  {
   "cell_type": "code",
   "execution_count": 510,
   "metadata": {},
   "outputs": [],
   "source": [
    "def class_create(student_names):\n",
    "    return [Student(name) for name in student_names]"
   ]
  },
  {
   "cell_type": "code",
   "execution_count": 511,
   "metadata": {},
   "outputs": [
    {
     "name": "stdout",
     "output_type": "stream",
     "text": [
      "Hey there, my name is Asha\n",
      "Hi, Oh, my name is Michael\n",
      "Hi, Oh, my name is Arjun\n",
      "Hi, Oh, my name is Roland\n",
      "Hi, Oh, my name is Alice\n",
      "Hi, I`m Brian\n",
      "Hey there, my name is Clayton\n",
      "Hi, I`m Deirdre\n",
      "Hi, I`m Elon\n",
      "Hi, Oh, my name is Faye\n"
     ]
    }
   ],
   "source": [
    "for student in class_create(names):\n",
    "    print(student.greet())"
   ]
  },
  {
   "attachments": {},
   "cell_type": "markdown",
   "metadata": {},
   "source": [
    "# Class and Static Methods"
   ]
  },
  {
   "cell_type": "code",
   "execution_count": 512,
   "metadata": {},
   "outputs": [],
   "source": [
    "class MercedezBenz:\n",
    "    doors = 4\n",
    "    wheels = 4\n",
    "    model = \"S\"\n",
    "\n",
    "    def __init__(self, color='midnight blue') -> None: # after instance creation, but before it is returned.\n",
    "        self.color = color\n",
    "\n",
    "    def drive(self):\n",
    "        return f'A Mercedex is driving. And is is {self}\\n'\n",
    "    \n",
    "    @staticmethod\n",
    "    def auto_drive():\n",
    "        return 'Auto-driving for now...'\n",
    "    "
   ]
  },
  {
   "cell_type": "code",
   "execution_count": 513,
   "metadata": {},
   "outputs": [],
   "source": [
    "w124 = MercedezBenz() "
   ]
  },
  {
   "cell_type": "code",
   "execution_count": 514,
   "metadata": {},
   "outputs": [
    {
     "data": {
      "text/plain": [
       "'Auto-driving for now...'"
      ]
     },
     "execution_count": 514,
     "metadata": {},
     "output_type": "execute_result"
    }
   ],
   "source": [
    "w124.auto_drive()"
   ]
  },
  {
   "cell_type": "code",
   "execution_count": 515,
   "metadata": {},
   "outputs": [
    {
     "data": {
      "text/plain": [
       "'Auto-driving for now...'"
      ]
     },
     "execution_count": 515,
     "metadata": {},
     "output_type": "execute_result"
    }
   ],
   "source": [
    "MercedezBenz.auto_drive()"
   ]
  },
  {
   "cell_type": "code",
   "execution_count": 516,
   "metadata": {},
   "outputs": [],
   "source": [
    "class MercedezBenz:\n",
    "    doors = 4\n",
    "    wheels = 4\n",
    "    model = \"S\"\n",
    "\n",
    "    def __init__(self, color='midnight blue') -> None: # after instance creation, but before it is returned.\n",
    "        self.color = color\n",
    "\n",
    "    def drive(self):\n",
    "        return f'A Mercedex is driving. And is is {self}\\n'\n",
    "    \n",
    "    @staticmethod\n",
    "    def auto_drive():\n",
    "        return 'Auto-driving for now...'\n",
    "    \n",
    "    @classmethod\n",
    "    def create_lease(cls):\n",
    "        print(f'A lease for {cls} will be created.')"
   ]
  },
  {
   "cell_type": "code",
   "execution_count": 517,
   "metadata": {},
   "outputs": [
    {
     "name": "stdout",
     "output_type": "stream",
     "text": [
      "A lease for <class '__main__.MercedezBenz'> will be created.\n"
     ]
    }
   ],
   "source": [
    "MercedezBenz.create_lease()"
   ]
  },
  {
   "cell_type": "code",
   "execution_count": 518,
   "metadata": {},
   "outputs": [
    {
     "name": "stdout",
     "output_type": "stream",
     "text": [
      "A lease for <class '__main__.MercedezBenz'> will be created.\n"
     ]
    }
   ],
   "source": [
    "w123 = MercedezBenz()\n",
    "w123.create_lease()"
   ]
  },
  {
   "attachments": {},
   "cell_type": "markdown",
   "metadata": {},
   "source": [
    "# BONUS: An Alternative syntax"
   ]
  },
  {
   "cell_type": "code",
   "execution_count": 519,
   "metadata": {},
   "outputs": [],
   "source": [
    "class MercedezBenz:\n",
    "    doors = 4\n",
    "    wheels = 4\n",
    "    model = \"S\"\n",
    "\n",
    "    def __init__(self, color='midnight blue') -> None: # after instance creation, but before it is returned.\n",
    "        self.color = color\n",
    "\n",
    "    def drive(self):\n",
    "        return f'A Mercedex is driving. And is is {self}\\n'\n",
    "    \n",
    "    #@staticmethod\n",
    "    def auto_drive():\n",
    "        return 'Auto-driving for now...'\n",
    "    \n",
    "    #@classmethod\n",
    "    def create_lease(cls):\n",
    "        print(f'A lease for {cls} will be created.')\n",
    "\n",
    "    create_lease = classmethod(create_lease)\n",
    "    auto_drive = staticmethod(auto_drive)"
   ]
  },
  {
   "cell_type": "code",
   "execution_count": 520,
   "metadata": {},
   "outputs": [
    {
     "data": {
      "text/plain": [
       "'Auto-driving for now...'"
      ]
     },
     "execution_count": 520,
     "metadata": {},
     "output_type": "execute_result"
    }
   ],
   "source": [
    "MercedezBenz.auto_drive()"
   ]
  },
  {
   "cell_type": "code",
   "execution_count": 521,
   "metadata": {},
   "outputs": [
    {
     "name": "stdout",
     "output_type": "stream",
     "text": [
      "A lease for <class '__main__.MercedezBenz'> will be created.\n"
     ]
    }
   ],
   "source": [
    "MercedezBenz.create_lease()"
   ]
  },
  {
   "cell_type": "code",
   "execution_count": 522,
   "metadata": {},
   "outputs": [
    {
     "name": "stdout",
     "output_type": "stream",
     "text": [
      "A lease for <class '__main__.MercedezBenz'> will be created.\n"
     ]
    }
   ],
   "source": [
    "w124 = MercedezBenz()\n",
    "w124.create_lease()"
   ]
  },
  {
   "attachments": {},
   "cell_type": "markdown",
   "metadata": {},
   "source": [
    "# Dunder Dict"
   ]
  },
  {
   "cell_type": "code",
   "execution_count": 523,
   "metadata": {},
   "outputs": [],
   "source": [
    "w124 = MercedezBenz('Silver')"
   ]
  },
  {
   "cell_type": "code",
   "execution_count": 524,
   "metadata": {},
   "outputs": [
    {
     "data": {
      "text/plain": [
       "'Silver'"
      ]
     },
     "execution_count": 524,
     "metadata": {},
     "output_type": "execute_result"
    }
   ],
   "source": [
    "w124.color"
   ]
  },
  {
   "cell_type": "code",
   "execution_count": 525,
   "metadata": {},
   "outputs": [
    {
     "data": {
      "text/plain": [
       "{'color': 'Silver'}"
      ]
     },
     "execution_count": 525,
     "metadata": {},
     "output_type": "execute_result"
    }
   ],
   "source": [
    "w124.__dict__"
   ]
  },
  {
   "cell_type": "code",
   "execution_count": 526,
   "metadata": {},
   "outputs": [],
   "source": [
    "w123 = MercedezBenz('Blue')"
   ]
  },
  {
   "cell_type": "code",
   "execution_count": 527,
   "metadata": {},
   "outputs": [
    {
     "data": {
      "text/plain": [
       "{'color': 'Blue'}"
      ]
     },
     "execution_count": 527,
     "metadata": {},
     "output_type": "execute_result"
    }
   ],
   "source": [
    "w123.__dict__"
   ]
  },
  {
   "cell_type": "code",
   "execution_count": 528,
   "metadata": {},
   "outputs": [],
   "source": [
    "w124.horse_power = 480"
   ]
  },
  {
   "cell_type": "code",
   "execution_count": 529,
   "metadata": {},
   "outputs": [
    {
     "data": {
      "text/plain": [
       "{'color': 'Silver', 'horse_power': 480}"
      ]
     },
     "execution_count": 529,
     "metadata": {},
     "output_type": "execute_result"
    }
   ],
   "source": [
    "w124.__dict__"
   ]
  },
  {
   "cell_type": "code",
   "execution_count": 530,
   "metadata": {},
   "outputs": [
    {
     "data": {
      "text/plain": [
       "{'color': 'Blue'}"
      ]
     },
     "execution_count": 530,
     "metadata": {},
     "output_type": "execute_result"
    }
   ],
   "source": [
    "w123.__dict__"
   ]
  },
  {
   "cell_type": "code",
   "execution_count": 531,
   "metadata": {},
   "outputs": [],
   "source": [
    "w123.__dict__['horse_power'] = 89"
   ]
  },
  {
   "cell_type": "code",
   "execution_count": 532,
   "metadata": {},
   "outputs": [
    {
     "data": {
      "text/plain": [
       "{'color': 'Blue', 'horse_power': 89}"
      ]
     },
     "execution_count": 532,
     "metadata": {},
     "output_type": "execute_result"
    }
   ],
   "source": [
    "w123.__dict__"
   ]
  },
  {
   "cell_type": "code",
   "execution_count": 533,
   "metadata": {},
   "outputs": [
    {
     "data": {
      "text/plain": [
       "{'color': 'Silver', 'horse_power': 480}"
      ]
     },
     "execution_count": 533,
     "metadata": {},
     "output_type": "execute_result"
    }
   ],
   "source": [
    "w124.__dict__"
   ]
  },
  {
   "attachments": {},
   "cell_type": "markdown",
   "metadata": {},
   "source": [
    "# Class and Static Methods"
   ]
  },
  {
   "cell_type": "code",
   "execution_count": 534,
   "metadata": {},
   "outputs": [],
   "source": [
    "class MercedezBenz:\n",
    "    doors = 4\n",
    "    wheels = 4\n",
    "    model = \"S\"\n",
    "\n",
    "    def __init__(self, color='midnight blue') -> None: # after instance creation, but before it is returned.\n",
    "        self.color = color\n",
    "\n",
    "    def drive(self):\n",
    "        return f'A Mercedex is driving. And is is {self}\\n'\n",
    "    \n",
    "    @staticmethod\n",
    "    def auto_drive():\n",
    "        return 'Auto-driving for now...'\n",
    "    \n",
    "    @classmethod\n",
    "    def create_lease(cls):\n",
    "        print(f'A lease for {cls} will be created.')"
   ]
  },
  {
   "cell_type": "code",
   "execution_count": 535,
   "metadata": {},
   "outputs": [
    {
     "data": {
      "text/plain": [
       "'Auto-driving for now...'"
      ]
     },
     "execution_count": 535,
     "metadata": {},
     "output_type": "execute_result"
    }
   ],
   "source": [
    "w124 = MercedezBenz()\n",
    "w124.auto_drive()"
   ]
  },
  {
   "cell_type": "code",
   "execution_count": 536,
   "metadata": {},
   "outputs": [
    {
     "data": {
      "text/plain": [
       "'Auto-driving for now...'"
      ]
     },
     "execution_count": 536,
     "metadata": {},
     "output_type": "execute_result"
    }
   ],
   "source": [
    "MercedezBenz.auto_drive()"
   ]
  },
  {
   "attachments": {},
   "cell_type": "markdown",
   "metadata": {},
   "source": [
    "# Class vs Instance __dict__"
   ]
  },
  {
   "cell_type": "code",
   "execution_count": 537,
   "metadata": {},
   "outputs": [],
   "source": [
    "class MercedezBenz:\n",
    "    doors = 4\n",
    "    wheels = 4\n",
    "    model = \"S\"\n",
    "\n",
    "    def __init__(self, color='midnight blue') -> None: # after instance creation, but before it is returned.\n",
    "        self.color = color\n",
    "\n",
    "    def drive(self):\n",
    "        return f'A Mercedex is driving. And is is {self}\\n'\n",
    "    \n",
    "    @staticmethod\n",
    "    def auto_drive():\n",
    "        return 'Auto-driving for now...'\n",
    "    \n",
    "    @classmethod\n",
    "    def create_lease(cls):\n",
    "        print(f'A lease for {cls} will be created.')"
   ]
  },
  {
   "cell_type": "code",
   "execution_count": 538,
   "metadata": {},
   "outputs": [
    {
     "data": {
      "text/plain": [
       "mappingproxy({'__module__': '__main__',\n",
       "              'doors': 4,\n",
       "              'wheels': 4,\n",
       "              'model': 'S',\n",
       "              '__init__': <function __main__.MercedezBenz.__init__(self, color='midnight blue') -> None>,\n",
       "              'drive': <function __main__.MercedezBenz.drive(self)>,\n",
       "              'auto_drive': <staticmethod(<function MercedezBenz.auto_drive at 0x111b39080>)>,\n",
       "              'create_lease': <classmethod(<function MercedezBenz.create_lease at 0x111b39120>)>,\n",
       "              '__dict__': <attribute '__dict__' of 'MercedezBenz' objects>,\n",
       "              '__weakref__': <attribute '__weakref__' of 'MercedezBenz' objects>,\n",
       "              '__doc__': None})"
      ]
     },
     "execution_count": 538,
     "metadata": {},
     "output_type": "execute_result"
    }
   ],
   "source": [
    "MercedezBenz.__dict__"
   ]
  },
  {
   "cell_type": "code",
   "execution_count": 539,
   "metadata": {},
   "outputs": [
    {
     "data": {
      "text/plain": [
       "mappingproxy"
      ]
     },
     "execution_count": 539,
     "metadata": {},
     "output_type": "execute_result"
    }
   ],
   "source": [
    "type(MercedezBenz.__dict__)"
   ]
  },
  {
   "attachments": {},
   "cell_type": "markdown",
   "metadata": {},
   "source": [
    "# MRO --> method resolution order"
   ]
  },
  {
   "cell_type": "code",
   "execution_count": 540,
   "metadata": {},
   "outputs": [
    {
     "data": {
      "text/plain": [
       "{'color': 'midnight blue'}"
      ]
     },
     "execution_count": 540,
     "metadata": {},
     "output_type": "execute_result"
    }
   ],
   "source": [
    "w124.__dict__"
   ]
  },
  {
   "attachments": {},
   "cell_type": "markdown",
   "metadata": {},
   "source": [
    "```\n",
    "get attribute by name of '__dict__'\n",
    "```\n",
    "python goes looking gor it in the namespace, then the class in the class, it finds it   \n",
    "the attribute name(__dict__) points to a descriptor  \n",
    "the descriptors get() is called  \n",
    "which returns a dictionary  "
   ]
  },
  {
   "attachments": {},
   "cell_type": "markdown",
   "metadata": {},
   "source": [
    "# BONUS: Careful with mutables"
   ]
  },
  {
   "cell_type": "code",
   "execution_count": 545,
   "metadata": {},
   "outputs": [],
   "source": [
    "class MercedezBenz:\n",
    "    doors = 4\n",
    "    wheels = 4\n",
    "    model = \"S\"\n",
    "\n",
    "    def __init__(self, color='midnight blue') -> None: # after instance creation, but before it is returned.\n",
    "        self.color = color\n",
    "\n",
    "    def drive(self):\n",
    "        return f'A Mercedex is driving. And is is {self}\\n'\n",
    "    \n",
    "    @staticmethod\n",
    "    def auto_drive():\n",
    "        return 'Auto-driving for now...'\n",
    "    \n",
    "    @classmethod\n",
    "    def create_lease(cls):\n",
    "        print(f'A lease for {cls} will be created.')"
   ]
  },
  {
   "cell_type": "code",
   "execution_count": 546,
   "metadata": {},
   "outputs": [
    {
     "data": {
      "text/plain": [
       "mappingproxy({'__module__': '__main__',\n",
       "              'doors': 4,\n",
       "              'wheels': 4,\n",
       "              'model': 'S',\n",
       "              '__init__': <function __main__.MercedezBenz.__init__(self, color='midnight blue') -> None>,\n",
       "              'drive': <function __main__.MercedezBenz.drive(self)>,\n",
       "              'auto_drive': <staticmethod(<function MercedezBenz.auto_drive at 0x1110b1ee0>)>,\n",
       "              'create_lease': <classmethod(<function MercedezBenz.create_lease at 0x1110b20c0>)>,\n",
       "              '__dict__': <attribute '__dict__' of 'MercedezBenz' objects>,\n",
       "              '__weakref__': <attribute '__weakref__' of 'MercedezBenz' objects>,\n",
       "              '__doc__': None})"
      ]
     },
     "execution_count": 546,
     "metadata": {},
     "output_type": "execute_result"
    }
   ],
   "source": [
    "MercedezBenz.__dict__"
   ]
  },
  {
   "cell_type": "code",
   "execution_count": 547,
   "metadata": {},
   "outputs": [],
   "source": [
    "w123 = MercedezBenz()\n",
    "w124 = MercedezBenz()"
   ]
  },
  {
   "cell_type": "code",
   "execution_count": 549,
   "metadata": {},
   "outputs": [],
   "source": [
    "w123.doors = 5\n",
    "w124.doors = 6"
   ]
  },
  {
   "cell_type": "code",
   "execution_count": 550,
   "metadata": {},
   "outputs": [
    {
     "data": {
      "text/plain": [
       "(5, 6)"
      ]
     },
     "execution_count": 550,
     "metadata": {},
     "output_type": "execute_result"
    }
   ],
   "source": [
    "w123.doors, w124.doors"
   ]
  },
  {
   "cell_type": "code",
   "execution_count": 551,
   "metadata": {},
   "outputs": [
    {
     "data": {
      "text/plain": [
       "4"
      ]
     },
     "execution_count": 551,
     "metadata": {},
     "output_type": "execute_result"
    }
   ],
   "source": [
    "w223 = MercedezBenz()\n",
    "w223.doors"
   ]
  },
  {
   "attachments": {},
   "cell_type": "markdown",
   "metadata": {},
   "source": [
    "# Immutables: booleans, ints, floats, string, tuples"
   ]
  },
  {
   "attachments": {},
   "cell_type": "markdown",
   "metadata": {},
   "source": [
    "# Mutable: list"
   ]
  },
  {
   "cell_type": "code",
   "execution_count": 553,
   "metadata": {},
   "outputs": [],
   "source": [
    "class Tire:\n",
    "    def __init__(self, kind, distance_covered) -> None:\n",
    "        self.kind = kind\n",
    "        self.distance_covered = distance_covered"
   ]
  },
  {
   "cell_type": "code",
   "execution_count": 557,
   "metadata": {},
   "outputs": [],
   "source": [
    "class MercedezBenz:\n",
    "    doors = 4\n",
    "    wheels = 4\n",
    "    model = \"S\"\n",
    "    tires = [Tire('operational', 10) for i in range(4)]\n",
    "\n",
    "    def __init__(self, color='midnight blue') -> None: # after instance creation, but before it is returned.\n",
    "        self.color = color\n",
    "\n",
    "    def drive(self):\n",
    "        return f'A Mercedex is driving. And is is {self}\\n'\n",
    "    \n",
    "    @staticmethod\n",
    "    def auto_drive():\n",
    "        return 'Auto-driving for now...'\n",
    "    \n",
    "    @classmethod\n",
    "    def create_lease(cls):\n",
    "        print(f'A lease for {cls} will be created.')"
   ]
  },
  {
   "cell_type": "code",
   "execution_count": 558,
   "metadata": {},
   "outputs": [
    {
     "data": {
      "text/plain": [
       "[<__main__.Tire at 0x110acafd0>,\n",
       " <__main__.Tire at 0x111025cd0>,\n",
       " <__main__.Tire at 0x1110c2d50>,\n",
       " <__main__.Tire at 0x111b08190>]"
      ]
     },
     "execution_count": 558,
     "metadata": {},
     "output_type": "execute_result"
    }
   ],
   "source": [
    "w223 = MercedezBenz()\n",
    "w223.tires"
   ]
  },
  {
   "cell_type": "code",
   "execution_count": 559,
   "metadata": {},
   "outputs": [
    {
     "data": {
      "text/plain": [
       "[<__main__.Tire at 0x110acafd0>,\n",
       " <__main__.Tire at 0x111025cd0>,\n",
       " <__main__.Tire at 0x1110c2d50>,\n",
       " <__main__.Tire at 0x111b08190>]"
      ]
     },
     "execution_count": 559,
     "metadata": {},
     "output_type": "execute_result"
    }
   ],
   "source": [
    "w222 = MercedezBenz()\n",
    "w222.tires"
   ]
  },
  {
   "cell_type": "code",
   "execution_count": 560,
   "metadata": {},
   "outputs": [],
   "source": [
    "w223.tires.append(Tire(kind='spare', distance_covered=100))"
   ]
  },
  {
   "cell_type": "code",
   "execution_count": 561,
   "metadata": {},
   "outputs": [
    {
     "data": {
      "text/plain": [
       "[<__main__.Tire at 0x110acafd0>,\n",
       " <__main__.Tire at 0x111025cd0>,\n",
       " <__main__.Tire at 0x1110c2d50>,\n",
       " <__main__.Tire at 0x111b08190>,\n",
       " <__main__.Tire at 0x111634b90>]"
      ]
     },
     "execution_count": 561,
     "metadata": {},
     "output_type": "execute_result"
    }
   ],
   "source": [
    "w222.tires"
   ]
  },
  {
   "cell_type": "code",
   "execution_count": 562,
   "metadata": {},
   "outputs": [
    {
     "data": {
      "text/plain": [
       "[<__main__.Tire at 0x110acafd0>,\n",
       " <__main__.Tire at 0x111025cd0>,\n",
       " <__main__.Tire at 0x1110c2d50>,\n",
       " <__main__.Tire at 0x111b08190>,\n",
       " <__main__.Tire at 0x111634b90>]"
      ]
     },
     "execution_count": 562,
     "metadata": {},
     "output_type": "execute_result"
    }
   ],
   "source": [
    "w124 = MercedezBenz()\n",
    "w124.tires"
   ]
  },
  {
   "attachments": {},
   "cell_type": "markdown",
   "metadata": {},
   "source": [
    "# Access Control"
   ]
  },
  {
   "cell_type": "code",
   "execution_count": 564,
   "metadata": {},
   "outputs": [],
   "source": [
    "w201 = MercedezBenz('Lavender')"
   ]
  },
  {
   "cell_type": "code",
   "execution_count": 565,
   "metadata": {},
   "outputs": [
    {
     "data": {
      "text/plain": [
       "5"
      ]
     },
     "execution_count": 565,
     "metadata": {},
     "output_type": "execute_result"
    }
   ],
   "source": [
    "w201.doors +=1\n",
    "w201.doors"
   ]
  },
  {
   "cell_type": "code",
   "execution_count": 566,
   "metadata": {},
   "outputs": [
    {
     "data": {
      "text/plain": [
       "'Andy'"
      ]
     },
     "execution_count": 566,
     "metadata": {},
     "output_type": "execute_result"
    }
   ],
   "source": [
    "w201.doors = 'Andy'\n",
    "w201.doors"
   ]
  },
  {
   "cell_type": "code",
   "execution_count": 567,
   "metadata": {},
   "outputs": [
    {
     "data": {
      "text/plain": [
       "1.2"
      ]
     },
     "execution_count": 567,
     "metadata": {},
     "output_type": "execute_result"
    }
   ],
   "source": [
    "w201.doors = 1.2\n",
    "w201.doors"
   ]
  },
  {
   "attachments": {},
   "cell_type": "markdown",
   "metadata": {},
   "source": [
    "# Docstrins"
   ]
  },
  {
   "cell_type": "code",
   "execution_count": 569,
   "metadata": {},
   "outputs": [
    {
     "data": {
      "text/plain": [
       "'\\n---------------------------------------------------------------------------\\nTypeError                                 Traceback (most recent call last)\\nCell In[568], line 1\\n----> 1 getattr()\\n\\nTypeError: getattr expected at least 2 arguments, got 0\\n'"
      ]
     },
     "execution_count": 569,
     "metadata": {},
     "output_type": "execute_result"
    }
   ],
   "source": [
    "# getattr()\n",
    "'''\n",
    "---------------------------------------------------------------------------\n",
    "TypeError                                 Traceback (most recent call last)\n",
    "Cell In[568], line 1\n",
    "----> 1 getattr()\n",
    "\n",
    "TypeError: getattr expected at least 2 arguments, got 0\n",
    "'''"
   ]
  },
  {
   "cell_type": "code",
   "execution_count": 572,
   "metadata": {},
   "outputs": [
    {
     "name": "stdout",
     "output_type": "stream",
     "text": [
      "Help on built-in function getattr in module builtins:\n",
      "\n",
      "getattr(...)\n",
      "    getattr(object, name[, default]) -> value\n",
      "    \n",
      "    Get a named attribute from an object; getattr(x, 'y') is equivalent to x.y.\n",
      "    When a default argument is given, it is returned when the attribute doesn't\n",
      "    exist; without it, an exception is raised in that case.\n",
      "\n"
     ]
    }
   ],
   "source": [
    "help(getattr)"
   ]
  },
  {
   "cell_type": "code",
   "execution_count": 573,
   "metadata": {},
   "outputs": [
    {
     "name": "stdout",
     "output_type": "stream",
     "text": [
      "Help on class Tire in module __main__:\n",
      "\n",
      "class Tire(builtins.object)\n",
      " |  Tire(kind, distance_covered) -> None\n",
      " |  \n",
      " |  Methods defined here:\n",
      " |  \n",
      " |  __init__(self, kind, distance_covered) -> None\n",
      " |      Initialize self.  See help(type(self)) for accurate signature.\n",
      " |  \n",
      " |  ----------------------------------------------------------------------\n",
      " |  Data descriptors defined here:\n",
      " |  \n",
      " |  __dict__\n",
      " |      dictionary for instance variables (if defined)\n",
      " |  \n",
      " |  __weakref__\n",
      " |      list of weak references to the object (if defined)\n",
      "\n"
     ]
    }
   ],
   "source": [
    "help(Tire)"
   ]
  },
  {
   "cell_type": "code",
   "execution_count": 574,
   "metadata": {},
   "outputs": [],
   "source": [
    "class Tire:\n",
    "    '''\n",
    "    Defines an automobile tire object.\n",
    "\n",
    "    :param kind: the kind of tire, e.g. operational, spare or winter\n",
    "    :param distance_covered: the distance in km the tire has covered\n",
    "    '''\n",
    "    def __init__(self, kind, distance_covered) -> None:\n",
    "        self.kind = kind\n",
    "        self.distance_covered = distance_covered"
   ]
  },
  {
   "cell_type": "code",
   "execution_count": 577,
   "metadata": {},
   "outputs": [
    {
     "name": "stdout",
     "output_type": "stream",
     "text": [
      "Help on class Tire in module __main__:\n",
      "\n",
      "class Tire(builtins.object)\n",
      " |  Tire(kind, distance_covered) -> None\n",
      " |  \n",
      " |  Defines an automobile tire object.\n",
      " |  \n",
      " |  :param kind: the kind of tire, e.g. operational, spare or winter\n",
      " |  :param distance_covered: the distance in km the tire has covered\n",
      " |  \n",
      " |  Methods defined here:\n",
      " |  \n",
      " |  __init__(self, kind, distance_covered) -> None\n",
      " |      Initialize self.  See help(type(self)) for accurate signature.\n",
      " |  \n",
      " |  ----------------------------------------------------------------------\n",
      " |  Data descriptors defined here:\n",
      " |  \n",
      " |  __dict__\n",
      " |      dictionary for instance variables (if defined)\n",
      " |  \n",
      " |  __weakref__\n",
      " |      list of weak references to the object (if defined)\n",
      "\n"
     ]
    }
   ],
   "source": [
    "help(Tire)"
   ]
  },
  {
   "cell_type": "code",
   "execution_count": 576,
   "metadata": {},
   "outputs": [
    {
     "data": {
      "text/plain": [
       "mappingproxy({'__module__': '__main__',\n",
       "              '__doc__': '\\n    Defines an automobile tire object.\\n\\n    :param kind: the kind of tire, e.g. operational, spare or winter\\n    :param distance_covered: the distance in km the tire has covered\\n    ',\n",
       "              '__init__': <function __main__.Tire.__init__(self, kind, distance_covered) -> None>,\n",
       "              '__dict__': <attribute '__dict__' of 'Tire' objects>,\n",
       "              '__weakref__': <attribute '__weakref__' of 'Tire' objects>})"
      ]
     },
     "execution_count": 576,
     "metadata": {},
     "output_type": "execute_result"
    }
   ],
   "source": [
    "Tire.__dict__"
   ]
  },
  {
   "attachments": {},
   "cell_type": "markdown",
   "metadata": {},
   "source": [
    "# Skill Challenge"
   ]
  },
  {
   "cell_type": "code",
   "execution_count": 580,
   "metadata": {},
   "outputs": [
    {
     "data": {
      "text/plain": [
       "('abcdefghijklmnopqrstuvwxyzABCDEFGHIJKLMNOPQRSTUVWXYZ',\n",
       " '0123456789',\n",
       " '!\"#$%&\\'()*+,-./:;<=>?@[\\\\]^_`{|}~')"
      ]
     },
     "execution_count": 580,
     "metadata": {},
     "output_type": "execute_result"
    }
   ],
   "source": [
    "import string\n",
    "string.ascii_letters, string.digits , string.punctuation"
   ]
  },
  {
   "cell_type": "code",
   "execution_count": 584,
   "metadata": {},
   "outputs": [
    {
     "data": {
      "text/plain": [
       "['a',\n",
       " 'b',\n",
       " 'c',\n",
       " 'd',\n",
       " 'e',\n",
       " 'f',\n",
       " 'g',\n",
       " 'h',\n",
       " 'i',\n",
       " 'j',\n",
       " 'k',\n",
       " 'l',\n",
       " 'm',\n",
       " 'n',\n",
       " 'o',\n",
       " 'p',\n",
       " 'q',\n",
       " 'r',\n",
       " 's',\n",
       " 't',\n",
       " 'u',\n",
       " 'v',\n",
       " 'w',\n",
       " 'x',\n",
       " 'y',\n",
       " 'z',\n",
       " 'A',\n",
       " 'B',\n",
       " 'C',\n",
       " 'D',\n",
       " 'E',\n",
       " 'F',\n",
       " 'G',\n",
       " 'H',\n",
       " 'I',\n",
       " 'J',\n",
       " 'K',\n",
       " 'L',\n",
       " 'M',\n",
       " 'N',\n",
       " 'O',\n",
       " 'P',\n",
       " 'Q',\n",
       " 'R',\n",
       " 'S',\n",
       " 'T',\n",
       " 'U',\n",
       " 'V',\n",
       " 'W',\n",
       " 'X',\n",
       " 'Y',\n",
       " 'Z']"
      ]
     },
     "execution_count": 584,
     "metadata": {},
     "output_type": "execute_result"
    }
   ],
   "source": [
    "letters = [s for s in string.ascii_letters]\n",
    "letters"
   ]
  },
  {
   "cell_type": "code",
   "execution_count": 592,
   "metadata": {},
   "outputs": [],
   "source": [
    "letters = [l for l in string.ascii_letters]\n",
    "numbers = [d for d in string.digits]\n",
    "punctuation = [p for p in string.punctuation]"
   ]
  },
  {
   "cell_type": "code",
   "execution_count": 594,
   "metadata": {},
   "outputs": [
    {
     "data": {
      "text/plain": [
       "['a',\n",
       " 'b',\n",
       " 'c',\n",
       " 'd',\n",
       " 'e',\n",
       " 'f',\n",
       " 'g',\n",
       " 'h',\n",
       " 'i',\n",
       " 'j',\n",
       " 'k',\n",
       " 'l',\n",
       " 'm',\n",
       " 'n',\n",
       " 'o',\n",
       " 'p',\n",
       " 'q',\n",
       " 'r',\n",
       " 's',\n",
       " 't',\n",
       " 'u',\n",
       " 'v',\n",
       " 'w',\n",
       " 'x',\n",
       " 'y',\n",
       " 'z',\n",
       " 'A',\n",
       " 'B',\n",
       " 'C',\n",
       " 'D',\n",
       " 'E',\n",
       " 'F',\n",
       " 'G',\n",
       " 'H',\n",
       " 'I',\n",
       " 'J',\n",
       " 'K',\n",
       " 'L',\n",
       " 'M',\n",
       " 'N',\n",
       " 'O',\n",
       " 'P',\n",
       " 'Q',\n",
       " 'R',\n",
       " 'S',\n",
       " 'T',\n",
       " 'U',\n",
       " 'V',\n",
       " 'W',\n",
       " 'X',\n",
       " 'Y',\n",
       " 'Z']"
      ]
     },
     "execution_count": 594,
     "metadata": {},
     "output_type": "execute_result"
    }
   ],
   "source": [
    "pool_of_characters = {'letters':letters,\n",
    "                          'numbers':numbers,\n",
    "                          'punctuation':punctuation}\n",
    "pool_of_characters.get('letters')"
   ]
  },
  {
   "cell_type": "code",
   "execution_count": 687,
   "metadata": {},
   "outputs": [],
   "source": [
    "class Password:\n",
    "    password = ''\n",
    "    letters = [l for l in string.ascii_letters]\n",
    "    numbers = [d for d in string.digits]\n",
    "    punctuation = [p for p in string.punctuation]\n",
    "\n",
    "    pool_of_characters = {}\n",
    "\n",
    "    def __init__(self, strength='mid', length=12) -> None:   \n",
    "        self.strength = strength\n",
    "        self.length = length\n",
    "\n",
    "        if self.strength == 'low':\n",
    "            pool_of_characters = {'letters':letters}\n",
    "        elif self.strength == 'mid':\n",
    "            pool_of_characters = {'letters':letters,\n",
    "                                  'numbers':numbers}\n",
    "        else:\n",
    "            pool_of_characters = {'letters':letters,\n",
    "                                    'numbers':numbers,\n",
    "                                    'punctuation':punctuation}\n",
    "    \n",
    "        self.generate_password()\n",
    "    \n",
    "    def generate_password(self):\n",
    "        characters = []\n",
    "        match self.strength:\n",
    "            case 'low':\n",
    "                characters.extend(letters)\n",
    "            case 'mid':\n",
    "                characters.extend(letters)\n",
    "                characters.extend(numbers)\n",
    "            case 'high':\n",
    "                characters.extend(letters)\n",
    "                characters.extend(numbers)\n",
    "                characters.extend(punctuation)\n",
    "                \n",
    "        self.password = ''.join(random.choices(characters, k=self.length))\n",
    "\n",
    "    def show_input_universe(self):\n",
    "        return pool_of_characters\n"
   ]
  },
  {
   "cell_type": "code",
   "execution_count": 688,
   "metadata": {},
   "outputs": [],
   "source": [
    "secret = Password()"
   ]
  },
  {
   "cell_type": "code",
   "execution_count": 689,
   "metadata": {},
   "outputs": [
    {
     "data": {
      "text/plain": [
       "{'letters': ['a',\n",
       "  'b',\n",
       "  'c',\n",
       "  'd',\n",
       "  'e',\n",
       "  'f',\n",
       "  'g',\n",
       "  'h',\n",
       "  'i',\n",
       "  'j',\n",
       "  'k',\n",
       "  'l',\n",
       "  'm',\n",
       "  'n',\n",
       "  'o',\n",
       "  'p',\n",
       "  'q',\n",
       "  'r',\n",
       "  's',\n",
       "  't',\n",
       "  'u',\n",
       "  'v',\n",
       "  'w',\n",
       "  'x',\n",
       "  'y',\n",
       "  'z',\n",
       "  'A',\n",
       "  'B',\n",
       "  'C',\n",
       "  'D',\n",
       "  'E',\n",
       "  'F',\n",
       "  'G',\n",
       "  'H',\n",
       "  'I',\n",
       "  'J',\n",
       "  'K',\n",
       "  'L',\n",
       "  'M',\n",
       "  'N',\n",
       "  'O',\n",
       "  'P',\n",
       "  'Q',\n",
       "  'R',\n",
       "  'S',\n",
       "  'T',\n",
       "  'U',\n",
       "  'V',\n",
       "  'W',\n",
       "  'X',\n",
       "  'Y',\n",
       "  'Z'],\n",
       " 'numbers': ['0', '1', '2', '3', '4', '5', '6', '7', '8', '9'],\n",
       " 'punctuation': ['!',\n",
       "  '\"',\n",
       "  '#',\n",
       "  '$',\n",
       "  '%',\n",
       "  '&',\n",
       "  \"'\",\n",
       "  '(',\n",
       "  ')',\n",
       "  '*',\n",
       "  '+',\n",
       "  ',',\n",
       "  '-',\n",
       "  '.',\n",
       "  '/',\n",
       "  ':',\n",
       "  ';',\n",
       "  '<',\n",
       "  '=',\n",
       "  '>',\n",
       "  '?',\n",
       "  '@',\n",
       "  '[',\n",
       "  '\\\\',\n",
       "  ']',\n",
       "  '^',\n",
       "  '_',\n",
       "  '`',\n",
       "  '{',\n",
       "  '|',\n",
       "  '}',\n",
       "  '~']}"
      ]
     },
     "execution_count": 689,
     "metadata": {},
     "output_type": "execute_result"
    }
   ],
   "source": [
    "secret.show_input_universe()"
   ]
  },
  {
   "cell_type": "code",
   "execution_count": 690,
   "metadata": {},
   "outputs": [],
   "source": [
    "secret = Password()"
   ]
  },
  {
   "cell_type": "code",
   "execution_count": 691,
   "metadata": {},
   "outputs": [
    {
     "data": {
      "text/plain": [
       "'9xkmAs8dthOW'"
      ]
     },
     "execution_count": 691,
     "metadata": {},
     "output_type": "execute_result"
    }
   ],
   "source": [
    "secret.password"
   ]
  },
  {
   "cell_type": "code",
   "execution_count": 692,
   "metadata": {},
   "outputs": [
    {
     "data": {
      "text/plain": [
       "{'letters': ['a',\n",
       "  'b',\n",
       "  'c',\n",
       "  'd',\n",
       "  'e',\n",
       "  'f',\n",
       "  'g',\n",
       "  'h',\n",
       "  'i',\n",
       "  'j',\n",
       "  'k',\n",
       "  'l',\n",
       "  'm',\n",
       "  'n',\n",
       "  'o',\n",
       "  'p',\n",
       "  'q',\n",
       "  'r',\n",
       "  's',\n",
       "  't',\n",
       "  'u',\n",
       "  'v',\n",
       "  'w',\n",
       "  'x',\n",
       "  'y',\n",
       "  'z',\n",
       "  'A',\n",
       "  'B',\n",
       "  'C',\n",
       "  'D',\n",
       "  'E',\n",
       "  'F',\n",
       "  'G',\n",
       "  'H',\n",
       "  'I',\n",
       "  'J',\n",
       "  'K',\n",
       "  'L',\n",
       "  'M',\n",
       "  'N',\n",
       "  'O',\n",
       "  'P',\n",
       "  'Q',\n",
       "  'R',\n",
       "  'S',\n",
       "  'T',\n",
       "  'U',\n",
       "  'V',\n",
       "  'W',\n",
       "  'X',\n",
       "  'Y',\n",
       "  'Z'],\n",
       " 'numbers': ['0', '1', '2', '3', '4', '5', '6', '7', '8', '9'],\n",
       " 'punctuation': ['!',\n",
       "  '\"',\n",
       "  '#',\n",
       "  '$',\n",
       "  '%',\n",
       "  '&',\n",
       "  \"'\",\n",
       "  '(',\n",
       "  ')',\n",
       "  '*',\n",
       "  '+',\n",
       "  ',',\n",
       "  '-',\n",
       "  '.',\n",
       "  '/',\n",
       "  ':',\n",
       "  ';',\n",
       "  '<',\n",
       "  '=',\n",
       "  '>',\n",
       "  '?',\n",
       "  '@',\n",
       "  '[',\n",
       "  '\\\\',\n",
       "  ']',\n",
       "  '^',\n",
       "  '_',\n",
       "  '`',\n",
       "  '{',\n",
       "  '|',\n",
       "  '}',\n",
       "  '~']}"
      ]
     },
     "execution_count": 692,
     "metadata": {},
     "output_type": "execute_result"
    }
   ],
   "source": [
    "secret.show_input_universe()"
   ]
  },
  {
   "cell_type": "code",
   "execution_count": 693,
   "metadata": {},
   "outputs": [
    {
     "name": "stdout",
     "output_type": "stream",
     "text": [
      "ldCK4cglnoSK\n",
      "nlrkUtHYDq34\n",
      "vH7Dnd6XxGFr\n",
      "9OoaDxXSLjjt\n",
      "q1FN9qHjVaY0\n",
      "YfqSgDD7K1sW\n",
      "z4fZmHGjZtte\n"
     ]
    }
   ],
   "source": [
    "for i in range(7):\n",
    "    print(Password().password)"
   ]
  },
  {
   "cell_type": "code",
   "execution_count": 694,
   "metadata": {},
   "outputs": [
    {
     "name": "stdout",
     "output_type": "stream",
     "text": [
      "mid\n",
      "9PeeiPPUWhB1\n",
      "high\n",
      "%w1Ra~.t5BJY\n",
      "mid\n",
      "7UIflxgtqDNB\n",
      "mid\n",
      "fifQRlyZKfoj\n",
      "low\n",
      "wOrQWhkhJzVG\n",
      "high\n",
      "L$}-!5bFG9jJ\n",
      "high\n",
      "FBj&xYCv5W1s\n"
     ]
    }
   ],
   "source": [
    "for i in range(7):\n",
    "    strength = random.choice(['low','mid','high'])\n",
    "    print(strength)\n",
    "    print(Password(strength).password)"
   ]
  },
  {
   "cell_type": "code",
   "execution_count": 695,
   "metadata": {},
   "outputs": [
    {
     "name": "stdout",
     "output_type": "stream",
     "text": [
      "Strength of password:high, length:8\n",
      "1c9,mSNF\n",
      "Strength of password:low, length:13\n",
      "nTxLmDCdViMUr\n",
      "Strength of password:low, length:5\n",
      "WaJsN\n",
      "Strength of password:mid, length:7\n",
      "lHebl96\n",
      "Strength of password:high, length:6\n",
      "C\"(J3.\n",
      "Strength of password:low, length:7\n",
      "kyhuDjB\n",
      "Strength of password:mid, length:9\n",
      "JuNcPi7LD\n",
      "Strength of password:mid, length:21\n",
      "4Jzr3C4QZhh6uGAb4sMAx\n",
      "Strength of password:mid, length:11\n",
      "22p0p28Dg4H\n",
      "Strength of password:high, length:14\n",
      "_?~'>IZ1p9NlgW\n",
      "Strength of password:low, length:5\n",
      "TDxpL\n",
      "Strength of password:low, length:12\n",
      "iwxBhJmpxqqh\n",
      "Strength of password:mid, length:8\n",
      "m1Qdt13a\n"
     ]
    }
   ],
   "source": [
    "for i in range(13):\n",
    "    strength = random.choice(['low','mid','high'])\n",
    "    length = random.randint(2,23)\n",
    "    print(f'Strength of password:{strength}, length:{length}')\n",
    "    print(Password(strength=strength, length=length).password)"
   ]
  },
  {
   "attachments": {},
   "cell_type": "markdown",
   "metadata": {},
   "source": [
    "# Solution"
   ]
  },
  {
   "cell_type": "code",
   "execution_count": 736,
   "metadata": {},
   "outputs": [],
   "source": [
    "from copy import copy\n",
    "\n",
    "class Password:\n",
    "    '''\n",
    "    A password of customize srength and lenght.\n",
    "    Encapsulate arandomly generate pasword dependding on the user-specified strength and length, \n",
    "    where the latter is optional an automatically set depending on the strength (low -> 8, mid-> 12, high -> 12). \n",
    "    If a length is user-specified these presets are overridden regardles of the strength.   \n",
    "\n",
    "    :param strength: a measure of the password's effectiveness against brute-force quessing\n",
    "    :type length: int, optionl\n",
    "\n",
    "    :param length: the length of the password\n",
    "    :type length: int, optional\n",
    "\n",
    "    '''\n",
    "\n",
    "    INPUT_UNIVERS ={\n",
    "        'numbers': list(range(10)),\n",
    "        'letters':list(string.ascii_letters),\n",
    "        'punctuation':list(string.punctuation)\n",
    "    }\n",
    "\n",
    "    DEFAULT_LENGHT = {\n",
    "        'low':8,\n",
    "        'mid':12,\n",
    "        'high':16\n",
    "    }\n",
    "\n",
    "    @classmethod\n",
    "    def show_input_universe(cls):\n",
    "        '''\n",
    "        Return the complete imput univers from which characters are sampled\n",
    "        :return: The universe of characters from which random sampling is done to generate passwords\n",
    "        :rtype: dict (of list-s)\n",
    "        return slc. INPUT_UNIVERS\n",
    "        '''\n",
    "\n",
    "    def __init__(self, strength='mid', length=None):\n",
    "        '''Constructor method'''\n",
    "        self.strength = strength\n",
    "        self.lenght = length\n",
    "        self._generate()\n",
    "\n",
    "    def _generate(self):\n",
    "        '''\n",
    "        Generates the password according to the strength and length specified at initailization\n",
    "\n",
    "        :return: the randomly generated password\n",
    "        :rtype: str\n",
    "        '''\n",
    "        population = copy(self.INPUT_UNIVERS['letters'])\n",
    "        length = self.lenght or self.DEFAULT_LENGHT.get(self.strength)\n",
    "\n",
    "        if self.strength == 'high':\n",
    "            population += self.INPUT_UNIVERS['numbers'] + self.INPUT_UNIVERS['punctuation']\n",
    "        else:\n",
    "            population += self.INPUT_UNIVERS['numbers']\n",
    "\n",
    "        self.password = ''.join(list(map(str, random.choices(population , k=length))))"
   ]
  },
  {
   "cell_type": "code",
   "execution_count": 737,
   "metadata": {},
   "outputs": [
    {
     "data": {
      "text/plain": [
       "'mwHXz4Z1'"
      ]
     },
     "execution_count": 737,
     "metadata": {},
     "output_type": "execute_result"
    }
   ],
   "source": [
    "p_weak = Password(strength='low')\n",
    "p_weak.password"
   ]
  },
  {
   "cell_type": "code",
   "execution_count": 738,
   "metadata": {},
   "outputs": [
    {
     "data": {
      "text/plain": [
       "'keB1OnSziJPnr1BZI32Aj2qJqytfmIIjaVPauiW9'"
      ]
     },
     "execution_count": 738,
     "metadata": {},
     "output_type": "execute_result"
    }
   ],
   "source": [
    "p_mid = Password(strength='mid', length=40)\n",
    "p_mid.password"
   ]
  },
  {
   "cell_type": "code",
   "execution_count": 739,
   "metadata": {},
   "outputs": [
    {
     "data": {
      "text/plain": [
       "'MdH00u5:xrBx.1_e'"
      ]
     },
     "execution_count": 739,
     "metadata": {},
     "output_type": "execute_result"
    }
   ],
   "source": [
    "p_high = Password(strength='high')\n",
    "p_high.password"
   ]
  },
  {
   "cell_type": "code",
   "execution_count": 740,
   "metadata": {},
   "outputs": [
    {
     "data": {
      "text/plain": [
       "'16HPqbId'"
      ]
     },
     "execution_count": 740,
     "metadata": {},
     "output_type": "execute_result"
    }
   ],
   "source": [
    "p_weak = Password(strength='low')\n",
    "p_weak.password"
   ]
  },
  {
   "cell_type": "code",
   "execution_count": null,
   "metadata": {},
   "outputs": [],
   "source": []
  }
 ],
 "metadata": {
  "kernelspec": {
   "display_name": "Python 3",
   "language": "python",
   "name": "python3"
  },
  "language_info": {
   "codemirror_mode": {
    "name": "ipython",
    "version": 3
   },
   "file_extension": ".py",
   "mimetype": "text/x-python",
   "name": "python",
   "nbconvert_exporter": "python",
   "pygments_lexer": "ipython3",
   "version": "3.11.2"
  },
  "orig_nbformat": 4,
  "vscode": {
   "interpreter": {
    "hash": "aee8b7b246df8f9039afb4144a1f6fd8d2ca17a180786b69acc140d282b71a49"
   }
  }
 },
 "nbformat": 4,
 "nbformat_minor": 2
}
