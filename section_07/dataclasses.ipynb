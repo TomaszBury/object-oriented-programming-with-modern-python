{
 "cells": [
  {
   "attachments": {},
   "cell_type": "markdown",
   "metadata": {},
   "source": [
    "# The Why?\n",
    "\n",
    "How to encapsulate data?"
   ]
  },
  {
   "attachments": {},
   "cell_type": "markdown",
   "metadata": {},
   "source": [
    "EV -> sore several instances of EVs"
   ]
  },
  {
   "cell_type": "markdown",
   "metadata": {},
   "source": [
    "range -> how long the car would go on a sigle charege  \n",
    "make -> the mnaufacturere  \n",
    "price -> how much does it cost  "
   ]
  },
  {
   "cell_type": "code",
   "execution_count": 377,
   "metadata": {},
   "outputs": [],
   "source": [
    "bolt = [417, \"Chevrolet\", 42000]\n",
    "model_s = [520, \"Tesla\", 84000]\n",
    "mx30 = [100, \"Mazda\", 35000]"
   ]
  },
  {
   "cell_type": "code",
   "execution_count": 378,
   "metadata": {},
   "outputs": [],
   "source": [
    "#immutable?\n",
    "bolt = (417, \"Chevrolet\", 42000)\n",
    "model_s = (520, \"Tesla\", 84000)\n",
    "mx30 = (100, \"Mazda\", 35000)"
   ]
  },
  {
   "cell_type": "code",
   "execution_count": 379,
   "metadata": {},
   "outputs": [
    {
     "data": {
      "text/plain": [
       "417"
      ]
     },
     "execution_count": 379,
     "metadata": {},
     "output_type": "execute_result"
    }
   ],
   "source": [
    "bolt[0]"
   ]
  },
  {
   "cell_type": "code",
   "execution_count": 380,
   "metadata": {},
   "outputs": [
    {
     "data": {
      "text/plain": [
       "'Tesla'"
      ]
     },
     "execution_count": 380,
     "metadata": {},
     "output_type": "execute_result"
    }
   ],
   "source": [
    "model_s[1]"
   ]
  },
  {
   "cell_type": "code",
   "execution_count": 381,
   "metadata": {},
   "outputs": [
    {
     "data": {
      "text/plain": [
       "417"
      ]
     },
     "execution_count": 381,
     "metadata": {},
     "output_type": "execute_result"
    }
   ],
   "source": [
    "bolt[0] #this is range for the bolt!"
   ]
  },
  {
   "cell_type": "code",
   "execution_count": 382,
   "metadata": {},
   "outputs": [],
   "source": [
    "bolt = {\"range\":417, \"make\":\"Chevrolet\", \"price\":42000}\n",
    "model_s = {\"range\":520, \"make\":\"Tesla\", \"price\":84000}\n",
    "mx30 = {\"range\":100, \"make\":\"Mazda\", \"price\":35000}"
   ]
  },
  {
   "cell_type": "code",
   "execution_count": 383,
   "metadata": {},
   "outputs": [
    {
     "data": {
      "text/plain": [
       "'Tesla'"
      ]
     },
     "execution_count": 383,
     "metadata": {},
     "output_type": "execute_result"
    }
   ],
   "source": [
    "model_s.get(\"make\")"
   ]
  },
  {
   "cell_type": "code",
   "execution_count": 384,
   "metadata": {},
   "outputs": [],
   "source": [
    "#create a new class!"
   ]
  },
  {
   "cell_type": "code",
   "execution_count": 385,
   "metadata": {},
   "outputs": [],
   "source": [
    "class EV:\n",
    "    def __init__(self, _range, make, price) -> None:\n",
    "        self.range = _range\n",
    "        self.make = make\n",
    "        self.price = price\n"
   ]
  },
  {
   "cell_type": "code",
   "execution_count": 386,
   "metadata": {},
   "outputs": [],
   "source": [
    "bolt = EV(417, \"Chevrolet\", 42000)"
   ]
  },
  {
   "cell_type": "code",
   "execution_count": 387,
   "metadata": {},
   "outputs": [
    {
     "data": {
      "text/plain": [
       "<__main__.EV at 0x249e44ab230>"
      ]
     },
     "execution_count": 387,
     "metadata": {},
     "output_type": "execute_result"
    }
   ],
   "source": [
    "bolt"
   ]
  },
  {
   "cell_type": "code",
   "execution_count": 388,
   "metadata": {},
   "outputs": [
    {
     "data": {
      "text/plain": [
       "'Chevrolet'"
      ]
     },
     "execution_count": 388,
     "metadata": {},
     "output_type": "execute_result"
    }
   ],
   "source": [
    "bolt.make"
   ]
  },
  {
   "cell_type": "code",
   "execution_count": 389,
   "metadata": {},
   "outputs": [
    {
     "data": {
      "text/plain": [
       "417"
      ]
     },
     "execution_count": 389,
     "metadata": {},
     "output_type": "execute_result"
    }
   ],
   "source": [
    "bolt.range"
   ]
  },
  {
   "cell_type": "markdown",
   "metadata": {},
   "source": [
    "# 96. An Alternative: namdtuple"
   ]
  },
  {
   "cell_type": "code",
   "execution_count": 390,
   "metadata": {},
   "outputs": [],
   "source": [
    "from collections import namedtuple"
   ]
  },
  {
   "cell_type": "code",
   "execution_count": 391,
   "metadata": {},
   "outputs": [],
   "source": [
    "EV = namedtuple(\"ElectricVehicle\", [\"range\", \"make\", \"price\"])"
   ]
  },
  {
   "cell_type": "code",
   "execution_count": 392,
   "metadata": {},
   "outputs": [],
   "source": [
    "ev1 = EV(417, \"Chevrolet\", 42000)"
   ]
  },
  {
   "cell_type": "code",
   "execution_count": 393,
   "metadata": {},
   "outputs": [
    {
     "data": {
      "text/plain": [
       "ElectricVehicle(range=417, make='Chevrolet', price=42000)"
      ]
     },
     "execution_count": 393,
     "metadata": {},
     "output_type": "execute_result"
    }
   ],
   "source": [
    "ev1"
   ]
  },
  {
   "cell_type": "code",
   "execution_count": 394,
   "metadata": {},
   "outputs": [
    {
     "data": {
      "text/plain": [
       "417"
      ]
     },
     "execution_count": 394,
     "metadata": {},
     "output_type": "execute_result"
    }
   ],
   "source": [
    "ev1.range"
   ]
  },
  {
   "cell_type": "code",
   "execution_count": 395,
   "metadata": {},
   "outputs": [],
   "source": [
    "EV_defaults = namedtuple(\"ElectricVehicle\", [\"range\", \"make\", \"price\"], defaults=[100, \"Tesla\" , \"49000\"])"
   ]
  },
  {
   "cell_type": "code",
   "execution_count": 396,
   "metadata": {},
   "outputs": [
    {
     "data": {
      "text/plain": [
       "ElectricVehicle(range=200, make='Tesla', price='49000')"
      ]
     },
     "execution_count": 396,
     "metadata": {},
     "output_type": "execute_result"
    }
   ],
   "source": [
    "EV_defaults(200)"
   ]
  },
  {
   "cell_type": "markdown",
   "metadata": {},
   "source": [
    "```python\n",
    "def funny_function(a=None, b):\n",
    "    pass\n",
    "```\n",
    "```bash\n",
    " Cell In[8], line 1\n",
    "    def funny_function(a=None, b):\n",
    "                               ^\n",
    "SyntaxError: non-default argument follows default argument\n",
    "```"
   ]
  },
  {
   "cell_type": "code",
   "execution_count": 397,
   "metadata": {},
   "outputs": [],
   "source": [
    "EV_defaults_non = namedtuple(\"ElectricVehicle\", [\"range\", \"make\", \"price\"], defaults=(\"49000\",))"
   ]
  },
  {
   "cell_type": "code",
   "execution_count": 398,
   "metadata": {},
   "outputs": [
    {
     "data": {
      "text/plain": [
       "ElectricVehicle(range=100, make='Tesla', price='49000')"
      ]
     },
     "execution_count": 398,
     "metadata": {},
     "output_type": "execute_result"
    }
   ],
   "source": [
    "EV_defaults_non(100,\"Tesla\")"
   ]
  },
  {
   "cell_type": "markdown",
   "metadata": {},
   "source": [
    "```python\n",
    "EV_defaults_non(\"Tesla\")\n",
    "```"
   ]
  },
  {
   "cell_type": "markdown",
   "metadata": {},
   "source": [
    "```python\n",
    "---------------------------------------------------------------------------\n",
    "TypeError                                 Traceback (most recent call last)\n",
    "Cell In[12], line 1\n",
    "----> 1 EV_defaults_non(\"Tesla\")\n",
    "\n",
    "TypeError: ElectricVehicle.__new__() missing 1 required positional argument: 'make'\n",
    "```"
   ]
  },
  {
   "cell_type": "code",
   "execution_count": 399,
   "metadata": {},
   "outputs": [
    {
     "data": {
      "text/plain": [
       "{'range': 417, 'make': 'Chevrolet', 'price': 42000}"
      ]
     },
     "execution_count": 399,
     "metadata": {},
     "output_type": "execute_result"
    }
   ],
   "source": [
    "ev1._asdict()"
   ]
  },
  {
   "cell_type": "code",
   "execution_count": 400,
   "metadata": {},
   "outputs": [],
   "source": [
    "EV_4 = namedtuple(\"ElectricVehicle\", \"range make price\", defaults=(\"49000\",))"
   ]
  },
  {
   "cell_type": "code",
   "execution_count": 401,
   "metadata": {},
   "outputs": [],
   "source": [
    "other_tesla = EV_4(100, \"Telsa\")"
   ]
  },
  {
   "cell_type": "code",
   "execution_count": 402,
   "metadata": {},
   "outputs": [
    {
     "data": {
      "text/plain": [
       "ElectricVehicle(range=100, make='Telsa', price='49000')"
      ]
     },
     "execution_count": 402,
     "metadata": {},
     "output_type": "execute_result"
    }
   ],
   "source": [
    "other_tesla"
   ]
  },
  {
   "cell_type": "markdown",
   "metadata": {},
   "source": [
    "# BONUS: A Quick point on immutability"
   ]
  },
  {
   "cell_type": "code",
   "execution_count": 403,
   "metadata": {},
   "outputs": [],
   "source": [
    "EV = namedtuple(\"ElectricVehicle\", [\"range\", \"make\", \"price\"])"
   ]
  },
  {
   "cell_type": "code",
   "execution_count": 404,
   "metadata": {},
   "outputs": [],
   "source": [
    "ev = EV(200, \"Chevy\", 49000)"
   ]
  },
  {
   "cell_type": "markdown",
   "metadata": {},
   "source": [
    "# Immutable"
   ]
  },
  {
   "cell_type": "code",
   "execution_count": 405,
   "metadata": {},
   "outputs": [
    {
     "data": {
      "text/plain": [
       "200"
      ]
     },
     "execution_count": 405,
     "metadata": {},
     "output_type": "execute_result"
    }
   ],
   "source": [
    "ev.range"
   ]
  },
  {
   "cell_type": "markdown",
   "metadata": {},
   "source": [
    "```python\n",
    "evrange = 300\n",
    "```"
   ]
  },
  {
   "cell_type": "markdown",
   "metadata": {},
   "source": [
    "```python\n",
    "---------------------------------------------------------------------------\n",
    "AttributeError                            Traceback (most recent call last)\n",
    "Cell In[30], line 1\n",
    "----> 1 evrange = 300\n",
    "\n",
    "AttributeError: can't set attribute\n",
    "```"
   ]
  },
  {
   "cell_type": "code",
   "execution_count": 406,
   "metadata": {},
   "outputs": [],
   "source": [
    "ev2 = EV([200,300], \"Chevy\", 49000)"
   ]
  },
  {
   "cell_type": "code",
   "execution_count": 407,
   "metadata": {},
   "outputs": [
    {
     "data": {
      "text/plain": [
       "list"
      ]
     },
     "execution_count": 407,
     "metadata": {},
     "output_type": "execute_result"
    }
   ],
   "source": [
    "type(ev2.range)"
   ]
  },
  {
   "cell_type": "code",
   "execution_count": 408,
   "metadata": {},
   "outputs": [
    {
     "data": {
      "text/plain": [
       "2516385366272"
      ]
     },
     "execution_count": 408,
     "metadata": {},
     "output_type": "execute_result"
    }
   ],
   "source": [
    "id(ev2.range)"
   ]
  },
  {
   "cell_type": "code",
   "execution_count": 409,
   "metadata": {},
   "outputs": [],
   "source": [
    "ev2.range[0] = 250"
   ]
  },
  {
   "cell_type": "code",
   "execution_count": 410,
   "metadata": {},
   "outputs": [
    {
     "data": {
      "text/plain": [
       "[250, 300]"
      ]
     },
     "execution_count": 410,
     "metadata": {},
     "output_type": "execute_result"
    }
   ],
   "source": [
    "ev2.range"
   ]
  },
  {
   "cell_type": "code",
   "execution_count": 411,
   "metadata": {},
   "outputs": [
    {
     "data": {
      "text/plain": [
       "2516385366272"
      ]
     },
     "execution_count": 411,
     "metadata": {},
     "output_type": "execute_result"
    }
   ],
   "source": [
    "id(ev2.range)"
   ]
  },
  {
   "cell_type": "code",
   "execution_count": 412,
   "metadata": {},
   "outputs": [],
   "source": [
    "ev3 = EV((200,300), \"Chevy\", 49000)"
   ]
  },
  {
   "cell_type": "code",
   "execution_count": 413,
   "metadata": {},
   "outputs": [
    {
     "data": {
      "text/plain": [
       "tuple"
      ]
     },
     "execution_count": 413,
     "metadata": {},
     "output_type": "execute_result"
    }
   ],
   "source": [
    "type(ev3.range)"
   ]
  },
  {
   "cell_type": "markdown",
   "metadata": {},
   "source": [
    "```python\n",
    "ev3range[0] = 250\n",
    "```"
   ]
  },
  {
   "cell_type": "markdown",
   "metadata": {},
   "source": [
    "```python\n",
    "---------------------------------------------------------------------------\n",
    "TypeError                                 Traceback (most recent call last)\n",
    "Cell In[43], line 1\n",
    "----> 1 ev3range[0] = 250\n",
    "\n",
    "TypeError: 'tuple' object does not support item assignment\n",
    "```"
   ]
  },
  {
   "cell_type": "markdown",
   "metadata": {},
   "source": [
    "# 98. BONUS: Typed NamedTuple"
   ]
  },
  {
   "cell_type": "markdown",
   "metadata": {},
   "source": [
    "since 3.6 --> Tyed namedtuples"
   ]
  },
  {
   "cell_type": "code",
   "execution_count": 414,
   "metadata": {},
   "outputs": [],
   "source": [
    "from typing import NamedTuple"
   ]
  },
  {
   "cell_type": "code",
   "execution_count": 415,
   "metadata": {},
   "outputs": [],
   "source": [
    "class EVehicle(NamedTuple):\n",
    "    range: int\n",
    "    make: str\n",
    "    price: int"
   ]
  },
  {
   "cell_type": "code",
   "execution_count": 416,
   "metadata": {},
   "outputs": [],
   "source": [
    "ev = EVehicle(100, \"Tesla\", 12000)"
   ]
  },
  {
   "cell_type": "code",
   "execution_count": 417,
   "metadata": {},
   "outputs": [
    {
     "data": {
      "text/plain": [
       "(100, 'Tesla', 12000)"
      ]
     },
     "execution_count": 417,
     "metadata": {},
     "output_type": "execute_result"
    }
   ],
   "source": [
    "ev.range, ev.make, ev.price"
   ]
  },
  {
   "cell_type": "code",
   "execution_count": 418,
   "metadata": {},
   "outputs": [
    {
     "data": {
      "text/plain": [
       "(100, 'Tesla', 12000)"
      ]
     },
     "execution_count": 418,
     "metadata": {},
     "output_type": "execute_result"
    }
   ],
   "source": [
    "ev[0], ev[1], ev[2]"
   ]
  },
  {
   "cell_type": "code",
   "execution_count": 419,
   "metadata": {},
   "outputs": [
    {
     "name": "stdout",
     "output_type": "stream",
     "text": [
      "100\n",
      "Tesla\n",
      "12000\n"
     ]
    },
    {
     "data": {
      "text/plain": [
       "[None, None, None]"
      ]
     },
     "execution_count": 419,
     "metadata": {},
     "output_type": "execute_result"
    }
   ],
   "source": [
    "[print(x) for x in ev]"
   ]
  },
  {
   "cell_type": "markdown",
   "metadata": {},
   "source": [
    "```python\n",
    "evrange = 6000\n",
    "```"
   ]
  },
  {
   "cell_type": "markdown",
   "metadata": {},
   "source": [
    "```python\n",
    "---------------------------------------------------------------------------\n",
    "AttributeError                            Traceback (most recent call last)\n",
    "Cell In[12], line 1\n",
    "----> 1 evrange = 6000\n",
    "\n",
    "AttributeError: can't set attribute\n",
    "```"
   ]
  },
  {
   "cell_type": "code",
   "execution_count": 420,
   "metadata": {},
   "outputs": [
    {
     "name": "stdout",
     "output_type": "stream",
     "text": [
      "EVehicle(range=100, make='Tesla', price=12000)\n"
     ]
    }
   ],
   "source": [
    "print(ev)"
   ]
  },
  {
   "cell_type": "code",
   "execution_count": 421,
   "metadata": {},
   "outputs": [],
   "source": [
    "class EVehicle(NamedTuple):\n",
    "    range: int\n",
    "    make: str\n",
    "    price: int = 39000"
   ]
  },
  {
   "cell_type": "code",
   "execution_count": 422,
   "metadata": {},
   "outputs": [],
   "source": [
    "ev = EVehicle(100, \"Tesla\")"
   ]
  },
  {
   "cell_type": "code",
   "execution_count": 423,
   "metadata": {},
   "outputs": [
    {
     "data": {
      "text/plain": [
       "EVehicle(range=100, make='Tesla', price=39000)"
      ]
     },
     "execution_count": 423,
     "metadata": {},
     "output_type": "execute_result"
    }
   ],
   "source": [
    "ev"
   ]
  },
  {
   "cell_type": "markdown",
   "metadata": {},
   "source": [
    "# Dataclasses\n",
    "\n",
    "* added to 3.7\n",
    "* fine tuned for staring state"
   ]
  },
  {
   "cell_type": "code",
   "execution_count": 424,
   "metadata": {},
   "outputs": [],
   "source": [
    "from dataclasses import dataclass"
   ]
  },
  {
   "cell_type": "code",
   "execution_count": 425,
   "metadata": {},
   "outputs": [],
   "source": [
    "@dataclass\n",
    "class ElectricVehicle:\n",
    "    range: int\n",
    "    make: str\n",
    "    price: int"
   ]
  },
  {
   "cell_type": "code",
   "execution_count": 426,
   "metadata": {},
   "outputs": [],
   "source": [
    "class RegElectricVehicle:\n",
    "    def __init__(self, _range, price, make) -> None:\n",
    "        self._range = _range\n",
    "        self.price = price\n",
    "        self.make = make\n",
    "        "
   ]
  },
  {
   "cell_type": "code",
   "execution_count": 427,
   "metadata": {},
   "outputs": [],
   "source": [
    "ev = ElectricVehicle(100, \"Tesla\", 3900)"
   ]
  },
  {
   "cell_type": "code",
   "execution_count": 428,
   "metadata": {},
   "outputs": [
    {
     "data": {
      "text/plain": [
       "(100, 'Tesla', 3900)"
      ]
     },
     "execution_count": 428,
     "metadata": {},
     "output_type": "execute_result"
    }
   ],
   "source": [
    "ev.range, ev.make, ev.price"
   ]
  },
  {
   "cell_type": "code",
   "execution_count": 429,
   "metadata": {},
   "outputs": [],
   "source": [
    "eev = RegElectricVehicle(99, \"GM\", 98989898)"
   ]
  },
  {
   "cell_type": "code",
   "execution_count": 430,
   "metadata": {},
   "outputs": [
    {
     "data": {
      "text/plain": [
       "(98989898, 'GM', 99)"
      ]
     },
     "execution_count": 430,
     "metadata": {},
     "output_type": "execute_result"
    }
   ],
   "source": [
    "eev.make, eev.price, eev._range"
   ]
  },
  {
   "cell_type": "markdown",
   "metadata": {},
   "source": [
    "# 100. Batteries Inclueded"
   ]
  },
  {
   "cell_type": "code",
   "execution_count": 431,
   "metadata": {},
   "outputs": [],
   "source": [
    "@dataclass\n",
    "class ElectricVehicle:\n",
    "    range: int\n",
    "    make: str\n",
    "    price: int"
   ]
  },
  {
   "cell_type": "code",
   "execution_count": 432,
   "metadata": {},
   "outputs": [],
   "source": [
    "class RegularElectricVehicle:\n",
    "    def __init__(self, range, make , price) -> None:\n",
    "        self.range = range\n",
    "        self.make = make\n",
    "        self.price = price"
   ]
  },
  {
   "cell_type": "code",
   "execution_count": 433,
   "metadata": {},
   "outputs": [],
   "source": [
    "ev1 = ElectricVehicle(240, \"Mazda\", 34000)"
   ]
  },
  {
   "cell_type": "code",
   "execution_count": 434,
   "metadata": {},
   "outputs": [],
   "source": [
    "rev1 = RegularElectricVehicle(140, \"Jeep\", 54000)"
   ]
  },
  {
   "cell_type": "code",
   "execution_count": 435,
   "metadata": {},
   "outputs": [
    {
     "data": {
      "text/plain": [
       "ElectricVehicle(range=240, make='Mazda', price=34000)"
      ]
     },
     "execution_count": 435,
     "metadata": {},
     "output_type": "execute_result"
    }
   ],
   "source": [
    "ev1"
   ]
  },
  {
   "cell_type": "code",
   "execution_count": 436,
   "metadata": {},
   "outputs": [
    {
     "data": {
      "text/plain": [
       "ElectricVehicle(range=240, make='Mazda', price=34000)"
      ]
     },
     "execution_count": 436,
     "metadata": {},
     "output_type": "execute_result"
    }
   ],
   "source": [
    "eval(repr(ev1))"
   ]
  },
  {
   "cell_type": "code",
   "execution_count": 437,
   "metadata": {},
   "outputs": [
    {
     "data": {
      "text/plain": [
       "<__main__.RegularElectricVehicle at 0x249e4456900>"
      ]
     },
     "execution_count": 437,
     "metadata": {},
     "output_type": "execute_result"
    }
   ],
   "source": [
    "rev1 # object's __reprp__"
   ]
  },
  {
   "cell_type": "code",
   "execution_count": 438,
   "metadata": {},
   "outputs": [],
   "source": [
    "class RegularElectricVehicle:\n",
    "    def __init__(self, range, make , price) -> None:\n",
    "        self.range = range\n",
    "        self.make = make\n",
    "        self.price = price\n",
    "    \n",
    "    def __repr__(self) -> str:\n",
    "        return f\"{type(self).__name__} (range={self.range}, make='{self.make}', price={self.price})\""
   ]
  },
  {
   "cell_type": "code",
   "execution_count": 439,
   "metadata": {},
   "outputs": [],
   "source": [
    "rev1 = RegularElectricVehicle(140, \"Jeep\", 54000)"
   ]
  },
  {
   "cell_type": "code",
   "execution_count": 440,
   "metadata": {},
   "outputs": [],
   "source": [
    "rev2 = RegularElectricVehicle(140, \"Jeep\", 54000)"
   ]
  },
  {
   "cell_type": "code",
   "execution_count": 441,
   "metadata": {},
   "outputs": [
    {
     "data": {
      "text/plain": [
       "RegularElectricVehicle (range=140, make='Jeep', price=54000)"
      ]
     },
     "execution_count": 441,
     "metadata": {},
     "output_type": "execute_result"
    }
   ],
   "source": [
    "rev1"
   ]
  },
  {
   "cell_type": "code",
   "execution_count": 442,
   "metadata": {},
   "outputs": [],
   "source": [
    "ev2 = ElectricVehicle(240, \"Mazda\", 34000)\n",
    "ev3 = ElectricVehicle(241, \"Mazda\", 34000)"
   ]
  },
  {
   "cell_type": "markdown",
   "metadata": {},
   "source": [
    "## Equality"
   ]
  },
  {
   "cell_type": "code",
   "execution_count": 443,
   "metadata": {},
   "outputs": [
    {
     "data": {
      "text/plain": [
       "True"
      ]
     },
     "execution_count": 443,
     "metadata": {},
     "output_type": "execute_result"
    }
   ],
   "source": [
    "ev1 == ev2"
   ]
  },
  {
   "cell_type": "code",
   "execution_count": 444,
   "metadata": {},
   "outputs": [
    {
     "data": {
      "text/plain": [
       "False"
      ]
     },
     "execution_count": 444,
     "metadata": {},
     "output_type": "execute_result"
    }
   ],
   "source": [
    "ev2 == ev3"
   ]
  },
  {
   "cell_type": "code",
   "execution_count": 445,
   "metadata": {},
   "outputs": [
    {
     "data": {
      "text/plain": [
       "False"
      ]
     },
     "execution_count": 445,
     "metadata": {},
     "output_type": "execute_result"
    }
   ],
   "source": [
    "rev1 == rev2 # object's __eq__"
   ]
  },
  {
   "cell_type": "code",
   "execution_count": 446,
   "metadata": {},
   "outputs": [
    {
     "data": {
      "text/plain": [
       "(2516385628128, 2516385619392)"
      ]
     },
     "execution_count": 446,
     "metadata": {},
     "output_type": "execute_result"
    }
   ],
   "source": [
    "id(rev1), id(rev2)"
   ]
  },
  {
   "cell_type": "code",
   "execution_count": 447,
   "metadata": {},
   "outputs": [],
   "source": [
    "class RegularElectricVehicle:\n",
    "    def __init__(self, range, make , price) -> None:\n",
    "        self.range = range\n",
    "        self.make = make\n",
    "        self.price = price\n",
    "    \n",
    "    def __repr__(self) -> str:\n",
    "        return f\"{type(self).__name__} (range={self.range}, make='{self.make}', price={self.price})\"\n",
    "    \n",
    "    def __eq__(self, other) -> bool:\n",
    "        if not type(other) == type(self):\n",
    "            return False\n",
    "        return self.range == other.range and self.make == other.make and self.price == other.price"
   ]
  },
  {
   "cell_type": "code",
   "execution_count": 448,
   "metadata": {},
   "outputs": [],
   "source": [
    "rev1 = RegularElectricVehicle(140, \"Jeep\", 54000)\n",
    "rev2 = RegularElectricVehicle(140, \"Jeep\", 54000)"
   ]
  },
  {
   "cell_type": "code",
   "execution_count": 449,
   "metadata": {},
   "outputs": [
    {
     "data": {
      "text/plain": [
       "True"
      ]
     },
     "execution_count": 449,
     "metadata": {},
     "output_type": "execute_result"
    }
   ],
   "source": [
    "rev1 == rev2"
   ]
  },
  {
   "cell_type": "markdown",
   "metadata": {},
   "source": [
    "## Comparison operators"
   ]
  },
  {
   "cell_type": "markdown",
   "metadata": {},
   "source": [
    "```python\n",
    "ev1 > ev2\n",
    "```"
   ]
  },
  {
   "cell_type": "markdown",
   "metadata": {},
   "source": [
    "```python\n",
    "---------------------------------------------------------------------------\n",
    "TypeError                                 Traceback (most recent call last)\n",
    "Cell In[219], line 1\n",
    "----> 1 ev1 > ev2\n",
    "\n",
    "TypeError: '>' not supported between instances of 'ElectricVehicle' and 'ElectricVehicle'\n",
    "```"
   ]
  },
  {
   "cell_type": "code",
   "execution_count": 450,
   "metadata": {},
   "outputs": [],
   "source": [
    "@dataclass(order=True)\n",
    "class ElectricVehicle:\n",
    "    range: int\n",
    "    make: str\n",
    "    price: int"
   ]
  },
  {
   "cell_type": "code",
   "execution_count": 451,
   "metadata": {},
   "outputs": [],
   "source": [
    "ev1 = ElectricVehicle(240, \"Mazda\", 34000)\n",
    "ev2 = ElectricVehicle(240, \"Mazda\", 34000)\n",
    "ev3 = ElectricVehicle(241, \"Mazda\", 34000)"
   ]
  },
  {
   "cell_type": "code",
   "execution_count": 452,
   "metadata": {},
   "outputs": [
    {
     "data": {
      "text/plain": [
       "False"
      ]
     },
     "execution_count": 452,
     "metadata": {},
     "output_type": "execute_result"
    }
   ],
   "source": [
    "ev1 > ev2"
   ]
  },
  {
   "cell_type": "code",
   "execution_count": 453,
   "metadata": {},
   "outputs": [
    {
     "data": {
      "text/plain": [
       "True"
      ]
     },
     "execution_count": 453,
     "metadata": {},
     "output_type": "execute_result"
    }
   ],
   "source": [
    "ev3 > ev2"
   ]
  },
  {
   "cell_type": "markdown",
   "metadata": {},
   "source": [
    "```python\n",
    "rev1 > rev2\n",
    "```"
   ]
  },
  {
   "cell_type": "markdown",
   "metadata": {},
   "source": [
    "```python\n",
    "---------------------------------------------------------------------------\n",
    "TypeError                                 Traceback (most recent call last)\n",
    "Cell In[225], line 1\n",
    "----> 1 rev1 > rev2\n",
    "\n",
    "TypeError: '>' not supported between instances of 'RegularElectricVehicle' and 'RegularElectricVehicle'\n",
    "```"
   ]
  },
  {
   "cell_type": "code",
   "execution_count": 454,
   "metadata": {},
   "outputs": [],
   "source": [
    "class RegularElectricVehicle:\n",
    "    def __init__(self, range, make , price) -> None:\n",
    "        self.range = range\n",
    "        self.make = make\n",
    "        self.price = price\n",
    "    \n",
    "    def __repr__(self) -> str:\n",
    "        return f\"{type(self).__name__} (range={self.range}, make='{self.make}', price={self.price})\"\n",
    "    \n",
    "    def __eq__(self, other) -> bool:\n",
    "        if not type(other) == type(self):\n",
    "            return False\n",
    "        return self.range == other.range and self.make == other.make and self.price == other.price\n",
    "    \n",
    "    def __gt__(self, other):\n",
    "        if not type(other) == type(self):\n",
    "            raise TypeError(\"Only operations between REV are supported.\")\n",
    "        return self.range > other.range"
   ]
  },
  {
   "cell_type": "code",
   "execution_count": 455,
   "metadata": {},
   "outputs": [],
   "source": [
    "rev1 = RegularElectricVehicle(140, \"Jeep\", 54000)\n",
    "rev2 = RegularElectricVehicle(140, \"Jeep\", 54000)\n",
    "rev3 = RegularElectricVehicle(141, \"Jeep\", 54000)"
   ]
  },
  {
   "cell_type": "code",
   "execution_count": 456,
   "metadata": {},
   "outputs": [
    {
     "data": {
      "text/plain": [
       "False"
      ]
     },
     "execution_count": 456,
     "metadata": {},
     "output_type": "execute_result"
    }
   ],
   "source": [
    "rev1 > rev3"
   ]
  },
  {
   "cell_type": "code",
   "execution_count": 457,
   "metadata": {},
   "outputs": [
    {
     "data": {
      "text/plain": [
       "True"
      ]
     },
     "execution_count": 457,
     "metadata": {},
     "output_type": "execute_result"
    }
   ],
   "source": [
    "rev3 > rev1"
   ]
  },
  {
   "cell_type": "code",
   "execution_count": 458,
   "metadata": {},
   "outputs": [
    {
     "data": {
      "text/plain": [
       "True"
      ]
     },
     "execution_count": 458,
     "metadata": {},
     "output_type": "execute_result"
    }
   ],
   "source": [
    "rev1 < rev3"
   ]
  },
  {
   "cell_type": "code",
   "execution_count": 459,
   "metadata": {},
   "outputs": [],
   "source": [
    "class RegularElectricVehicle:\n",
    "    def __init__(self, _range, make , price) -> None:\n",
    "        self.range = _range\n",
    "        self.make = make\n",
    "        self.price = price\n",
    "    \n",
    "    def __repr__(self) -> str:\n",
    "        return f\"{type(self).__name__} (range={self.range}, make='{self.make}', price={self.price})\"\n",
    "    \n",
    "    def __eq__(self, other) -> bool:\n",
    "        if not type(other) == type(self):\n",
    "            return False\n",
    "        return self.range == other.range and self.make == other.make and self.price == other.price\n",
    "    \n",
    "    def __gt__(self, other):\n",
    "        if not type(other) == type(self):\n",
    "            raise TypeError(\"Only operations between REV are supported.\")\n",
    "        return self.range > other.range\n",
    "    \n",
    "    def __ge__(self, other):\n",
    "        if not type(other) == type(self):\n",
    "            raise TypeError(\"Only operations between REV are supported.\")\n",
    "        return self.range >= other.range"
   ]
  },
  {
   "cell_type": "code",
   "execution_count": 460,
   "metadata": {},
   "outputs": [],
   "source": [
    "rev1 = RegularElectricVehicle(140, \"Jeep\", 54000)\n",
    "rev2 = RegularElectricVehicle(140, \"Jeep\", 54000)\n",
    "rev3 = RegularElectricVehicle(141, \"Jeep\", 54000)"
   ]
  },
  {
   "cell_type": "code",
   "execution_count": 461,
   "metadata": {},
   "outputs": [
    {
     "data": {
      "text/plain": [
       "True"
      ]
     },
     "execution_count": 461,
     "metadata": {},
     "output_type": "execute_result"
    }
   ],
   "source": [
    "rev1 == rev2"
   ]
  },
  {
   "cell_type": "code",
   "execution_count": 462,
   "metadata": {},
   "outputs": [],
   "source": [
    "class RegularElectricVehicle:\n",
    "    def __init__(self, _range, make , price) -> None:\n",
    "        self.range = _range\n",
    "        self.make = make\n",
    "        self.price = price\n",
    "    \n",
    "    def __repr__(self) -> str:\n",
    "        return f\"{type(self).__name__} (range={self.range}, make='{self.make}', price={self.price})\"\n",
    "    \n",
    "    def __eq__(self, other) -> bool:\n",
    "        if not type(other) == type(self):\n",
    "            return False\n",
    "        return self.range == other.range and self.make == other.make and self.price == other.price\n",
    "    \n",
    "    def __gt__(self, other):\n",
    "        if not type(other) == type(self):\n",
    "            raise TypeError(\"Only operations between REV are supported.\")\n",
    "        return (other.range, other.make, other.price) < (self.range, self.make, self.price)\n",
    "    \n",
    "    def __ge__(self, other):\n",
    "        if not type(other) == type(self):\n",
    "            raise TypeError(\"Only operations between REV are supported.\")\n",
    "        return self.range >= other.range"
   ]
  },
  {
   "cell_type": "code",
   "execution_count": 463,
   "metadata": {},
   "outputs": [],
   "source": [
    "ev1 = ElectricVehicle(240, \"Mazda\", 34000)\n",
    "ev2 = ElectricVehicle(240, \"Mazda\", 34000)\n",
    "ev3 = ElectricVehicle(241, \"Mazda\", 34000)"
   ]
  },
  {
   "cell_type": "code",
   "execution_count": 464,
   "metadata": {},
   "outputs": [
    {
     "data": {
      "text/plain": [
       "True"
      ]
     },
     "execution_count": 464,
     "metadata": {},
     "output_type": "execute_result"
    }
   ],
   "source": [
    "ev3 > ev1"
   ]
  },
  {
   "cell_type": "markdown",
   "metadata": {},
   "source": [
    "# Type Hints"
   ]
  },
  {
   "cell_type": "code",
   "execution_count": 465,
   "metadata": {},
   "outputs": [],
   "source": [
    "@dataclass(order=True)\n",
    "class ElectricVehicle:\n",
    "    range: int\n",
    "    make: str\n",
    "    price: int"
   ]
  },
  {
   "cell_type": "markdown",
   "metadata": {},
   "source": [
    "```python\n",
    "Argument of type \"Literal['Andrew']\" cannot be assigned to parameter \"range\" of type \"int\" in function \"__init__\"\n",
    "  \"Literal['Andrew']\" is incompatible with \"int\"PylancereportGeneralTypeIssues\n",
    "```"
   ]
  },
  {
   "cell_type": "code",
   "execution_count": 466,
   "metadata": {},
   "outputs": [],
   "source": [
    "ec = ElectricVehicle(\"Andrew\", 10, 230000)"
   ]
  },
  {
   "cell_type": "code",
   "execution_count": 467,
   "metadata": {},
   "outputs": [
    {
     "data": {
      "text/plain": [
       "'Andrew'"
      ]
     },
     "execution_count": 467,
     "metadata": {},
     "output_type": "execute_result"
    }
   ],
   "source": [
    "ec.range"
   ]
  },
  {
   "cell_type": "code",
   "execution_count": 468,
   "metadata": {},
   "outputs": [],
   "source": [
    "from typing import Any"
   ]
  },
  {
   "cell_type": "code",
   "execution_count": 469,
   "metadata": {},
   "outputs": [],
   "source": [
    "from dataclasses import dataclass"
   ]
  },
  {
   "cell_type": "code",
   "execution_count": 470,
   "metadata": {},
   "outputs": [],
   "source": [
    "@dataclass(order=True)\n",
    "class ElectricVehicle:\n",
    "    range: Any\n",
    "    make: str\n",
    "    price: int"
   ]
  },
  {
   "cell_type": "code",
   "execution_count": 471,
   "metadata": {},
   "outputs": [],
   "source": [
    "ec = ElectricVehicle(\"Andrew\", \"Tesla\", 230000)"
   ]
  },
  {
   "cell_type": "code",
   "execution_count": 472,
   "metadata": {},
   "outputs": [],
   "source": [
    "@dataclass(order=True)\n",
    "class ElectricVehicle:\n",
    "    range: object\n",
    "    make: object\n",
    "    price: object"
   ]
  },
  {
   "cell_type": "code",
   "execution_count": 473,
   "metadata": {},
   "outputs": [],
   "source": [
    "@dataclass(order=True)\n",
    "class ElectricVehicle:\n",
    "    range: ...\n",
    "    make: ...\n",
    "    price: ..."
   ]
  },
  {
   "cell_type": "code",
   "execution_count": 474,
   "metadata": {},
   "outputs": [],
   "source": [
    "ec = ElectricVehicle(\"Andrew\", \"Tesla\", 230000)"
   ]
  },
  {
   "cell_type": "markdown",
   "metadata": {},
   "source": [
    "# Customizing Fields"
   ]
  },
  {
   "cell_type": "code",
   "execution_count": 475,
   "metadata": {},
   "outputs": [],
   "source": [
    "@dataclass(order=True)\n",
    "class ElectricVehicle:\n",
    "    range: int\n",
    "    make: str\n",
    "    price: int"
   ]
  },
  {
   "cell_type": "code",
   "execution_count": 476,
   "metadata": {},
   "outputs": [],
   "source": [
    "# fields"
   ]
  },
  {
   "cell_type": "code",
   "execution_count": 477,
   "metadata": {},
   "outputs": [],
   "source": [
    "@dataclass(order=True)\n",
    "class ElectricVehicle:\n",
    "    range: int\n",
    "    make: str = \"Tesla\"\n",
    "    price: int = 56000"
   ]
  },
  {
   "cell_type": "code",
   "execution_count": 478,
   "metadata": {},
   "outputs": [],
   "source": [
    "ev = ElectricVehicle(420)"
   ]
  },
  {
   "cell_type": "code",
   "execution_count": 479,
   "metadata": {},
   "outputs": [
    {
     "data": {
      "text/plain": [
       "'Tesla'"
      ]
     },
     "execution_count": 479,
     "metadata": {},
     "output_type": "execute_result"
    }
   ],
   "source": [
    "ev.make"
   ]
  },
  {
   "cell_type": "code",
   "execution_count": 480,
   "metadata": {},
   "outputs": [
    {
     "data": {
      "text/plain": [
       "ElectricVehicle(range=420, make='Tesla', price=56000)"
      ]
     },
     "execution_count": 480,
     "metadata": {},
     "output_type": "execute_result"
    }
   ],
   "source": [
    "ev"
   ]
  },
  {
   "cell_type": "code",
   "execution_count": 481,
   "metadata": {},
   "outputs": [
    {
     "data": {
      "text/plain": [
       "{'range': 420, 'make': 'Tesla', 'price': 56000}"
      ]
     },
     "execution_count": 481,
     "metadata": {},
     "output_type": "execute_result"
    }
   ],
   "source": [
    "ev.__dict__"
   ]
  },
  {
   "cell_type": "code",
   "execution_count": 482,
   "metadata": {},
   "outputs": [],
   "source": [
    "from dataclasses import field"
   ]
  },
  {
   "cell_type": "code",
   "execution_count": 483,
   "metadata": {},
   "outputs": [],
   "source": [
    "@dataclass(order=True)\n",
    "class ElectricVehicle:\n",
    "    range: int = field(compare=True)\n",
    "    make: str = field(default=\"Tesla\", compare=False)\n",
    "    price: int = field(default=56000, repr=False, compare=False)"
   ]
  },
  {
   "cell_type": "code",
   "execution_count": 484,
   "metadata": {},
   "outputs": [
    {
     "data": {
      "text/plain": [
       "{'range': 420, 'make': 'Tesla', 'price': 56000}"
      ]
     },
     "execution_count": 484,
     "metadata": {},
     "output_type": "execute_result"
    }
   ],
   "source": [
    "ev = ElectricVehicle(420)\n",
    "ev2 = ElectricVehicle(421)\n",
    "ev.__dict__"
   ]
  },
  {
   "cell_type": "code",
   "execution_count": 485,
   "metadata": {},
   "outputs": [
    {
     "data": {
      "text/plain": [
       "ElectricVehicle(range=420, make='Tesla')"
      ]
     },
     "execution_count": 485,
     "metadata": {},
     "output_type": "execute_result"
    }
   ],
   "source": [
    "ev"
   ]
  },
  {
   "cell_type": "code",
   "execution_count": 486,
   "metadata": {},
   "outputs": [
    {
     "data": {
      "text/plain": [
       "False"
      ]
     },
     "execution_count": 486,
     "metadata": {},
     "output_type": "execute_result"
    }
   ],
   "source": [
    "ev > ev2"
   ]
  },
  {
   "cell_type": "code",
   "execution_count": 487,
   "metadata": {},
   "outputs": [
    {
     "data": {
      "text/plain": [
       "True"
      ]
     },
     "execution_count": 487,
     "metadata": {},
     "output_type": "execute_result"
    }
   ],
   "source": [
    "ev2 > ev"
   ]
  },
  {
   "cell_type": "code",
   "execution_count": 488,
   "metadata": {},
   "outputs": [],
   "source": [
    "from functools import total_ordering\n",
    "\n",
    "@total_ordering\n",
    "@dataclass\n",
    "class ElectricVehicle:\n",
    "    range: int = field()\n",
    "    make: str = field(default=\"Tesla\")\n",
    "    price: int = field(default=56000, repr=False)\n",
    "\n",
    "    def __gt__(self, other):\n",
    "        if not type(self) == type(other):\n",
    "            return NotImplemented\n",
    "        \n",
    "        return self.price < other.price"
   ]
  },
  {
   "cell_type": "code",
   "execution_count": 489,
   "metadata": {},
   "outputs": [],
   "source": [
    "ev = ElectricVehicle(range=420)\n",
    "ev2 = ElectricVehicle(range=421, price=56001)"
   ]
  },
  {
   "cell_type": "code",
   "execution_count": 490,
   "metadata": {},
   "outputs": [
    {
     "data": {
      "text/plain": [
       "True"
      ]
     },
     "execution_count": 490,
     "metadata": {},
     "output_type": "execute_result"
    }
   ],
   "source": [
    "ev > ev2"
   ]
  },
  {
   "cell_type": "code",
   "execution_count": 491,
   "metadata": {},
   "outputs": [
    {
     "data": {
      "text/plain": [
       "False"
      ]
     },
     "execution_count": 491,
     "metadata": {},
     "output_type": "execute_result"
    }
   ],
   "source": [
    "ev2 > ev"
   ]
  },
  {
   "cell_type": "code",
   "execution_count": 492,
   "metadata": {},
   "outputs": [
    {
     "data": {
      "text/plain": [
       "(ElectricVehicle(range=420, make='Tesla'),\n",
       " ElectricVehicle(range=421, make='Tesla'))"
      ]
     },
     "execution_count": 492,
     "metadata": {},
     "output_type": "execute_result"
    }
   ],
   "source": [
    "ev, ev2"
   ]
  },
  {
   "cell_type": "code",
   "execution_count": 493,
   "metadata": {},
   "outputs": [
    {
     "data": {
      "text/plain": [
       "True"
      ]
     },
     "execution_count": 493,
     "metadata": {},
     "output_type": "execute_result"
    }
   ],
   "source": [
    "ev >= ev2"
   ]
  },
  {
   "cell_type": "code",
   "execution_count": 494,
   "metadata": {},
   "outputs": [
    {
     "data": {
      "text/plain": [
       "False"
      ]
     },
     "execution_count": 494,
     "metadata": {},
     "output_type": "execute_result"
    }
   ],
   "source": [
    "ev <= ev2"
   ]
  },
  {
   "cell_type": "code",
   "execution_count": 495,
   "metadata": {},
   "outputs": [
    {
     "data": {
      "text/plain": [
       "False"
      ]
     },
     "execution_count": 495,
     "metadata": {},
     "output_type": "execute_result"
    }
   ],
   "source": [
    "ev == ev2"
   ]
  },
  {
   "cell_type": "markdown",
   "metadata": {},
   "source": [
    "# BONUS: Further Customization"
   ]
  },
  {
   "cell_type": "code",
   "execution_count": 496,
   "metadata": {},
   "outputs": [],
   "source": [
    "@dataclass(order=True)\n",
    "class ElectricVehicle:\n",
    "    range: int = field(compare=True)\n",
    "    make: str = field(default=\"Tesla\", compare=False)\n",
    "    price: int = field(default=56000, repr=False, compare=False)\n",
    "    luxury: bool = field(default=False)"
   ]
  },
  {
   "cell_type": "markdown",
   "metadata": {},
   "source": [
    "What is luxury?\n",
    "\n",
    "* a price that is greater than 80k and\n",
    "* a make that is BMW, Mercedez or Tesla"
   ]
  },
  {
   "cell_type": "code",
   "execution_count": 497,
   "metadata": {},
   "outputs": [],
   "source": [
    "ev_1 = ElectricVehicle(100, \"Tesla\" , 40000, False)\n",
    "ev_2 = ElectricVehicle(100, \"BMW\" , 140000, False)\n",
    "ev_3 = ElectricVehicle(100, \"Audi\" , 30000, False)"
   ]
  },
  {
   "cell_type": "code",
   "execution_count": 498,
   "metadata": {},
   "outputs": [],
   "source": [
    "@dataclass(order=True)\n",
    "class ElectricVehicle:\n",
    "    range: int = field(compare=True)\n",
    "    make: str = field(default=\"Tesla\", compare=False)\n",
    "    price: int = field(default=56000, repr=False, compare=False)\n",
    "    luxury: bool = False\n",
    "\n",
    "    def __post_init__(self):\n",
    "        luxury_brands = [\"BMW\", \"Mercedes\", \"Tesla\"]\n",
    "        self.luxury = self.make in luxury_brands and self.price > 80000\n"
   ]
  },
  {
   "cell_type": "code",
   "execution_count": 499,
   "metadata": {},
   "outputs": [
    {
     "data": {
      "text/plain": [
       "{'range': 100, 'make': 'Tesla', 'price': 80001, 'luxury': True}"
      ]
     },
     "execution_count": 499,
     "metadata": {},
     "output_type": "execute_result"
    }
   ],
   "source": [
    "ev_5 = ElectricVehicle(100, \"Tesla\" , 80001)\n",
    "ev_5.__dict__"
   ]
  },
  {
   "cell_type": "code",
   "execution_count": 500,
   "metadata": {},
   "outputs": [
    {
     "data": {
      "text/plain": [
       "True"
      ]
     },
     "execution_count": 500,
     "metadata": {},
     "output_type": "execute_result"
    }
   ],
   "source": [
    "ev_2 = ElectricVehicle(100, \"BMW\" , 140000, False)\n",
    "ev_2.luxury"
   ]
  },
  {
   "cell_type": "code",
   "execution_count": 501,
   "metadata": {},
   "outputs": [],
   "source": [
    "@dataclass(order=True)\n",
    "class ElectricVehicle:\n",
    "    range: int = field(compare=True)\n",
    "    make: str = field(default=\"Tesla\", compare=False)\n",
    "    price: int = field(default=56000, repr=False, compare=False)\n",
    "    luxury: bool = None\n",
    "\n",
    "    def __post_init__(self):\n",
    "        luxury_brands = [\"BMW\", \"Mercedes\", \"Tesla\"]\n",
    "        if self.luxury is None:\n",
    "            self.luxury = self.make in luxury_brands and self.price > 80000\n"
   ]
  },
  {
   "cell_type": "code",
   "execution_count": 502,
   "metadata": {},
   "outputs": [
    {
     "data": {
      "text/plain": [
       "False"
      ]
     },
     "execution_count": 502,
     "metadata": {},
     "output_type": "execute_result"
    }
   ],
   "source": [
    "ev_2 = ElectricVehicle(100, \"BMW\" , 140000, False)\n",
    "ev_2.luxury"
   ]
  },
  {
   "cell_type": "code",
   "execution_count": 503,
   "metadata": {},
   "outputs": [
    {
     "data": {
      "text/plain": [
       "{'range': 100, 'make': 'BMW', 'price': 140000, 'luxury': False}"
      ]
     },
     "execution_count": 503,
     "metadata": {},
     "output_type": "execute_result"
    }
   ],
   "source": [
    "ev_2.__dict__"
   ]
  },
  {
   "cell_type": "code",
   "execution_count": 504,
   "metadata": {},
   "outputs": [],
   "source": [
    "@dataclass(order=True)\n",
    "class ElectricVehicle:\n",
    "    LUXURY_BRANDS = (\"BMW\", \"Mercedes\", \"Tesla\")\n",
    "\n",
    "    range: int = field(compare=True)\n",
    "    make: str = field(default=\"Tesla\", compare=False)\n",
    "    price: int = field(default=56000, repr=False, compare=False)\n",
    "    luxury: bool = None\n",
    "\n",
    "    def __post_init__(self):\n",
    "        if self.luxury is None:\n",
    "            self.luxury = self.make in self.LUXURY_BRANDS and self.price > 80000\n"
   ]
  },
  {
   "cell_type": "code",
   "execution_count": 505,
   "metadata": {},
   "outputs": [
    {
     "data": {
      "text/plain": [
       "False"
      ]
     },
     "execution_count": 505,
     "metadata": {},
     "output_type": "execute_result"
    }
   ],
   "source": [
    "ev_2 = ElectricVehicle(100, \"BMW\" , 140000, False)\n",
    "ev_2.luxury"
   ]
  },
  {
   "cell_type": "code",
   "execution_count": 506,
   "metadata": {},
   "outputs": [
    {
     "data": {
      "text/plain": [
       "{'range': 100, 'make': 'Tesla', 'price': 80001, 'luxury': True}"
      ]
     },
     "execution_count": 506,
     "metadata": {},
     "output_type": "execute_result"
    }
   ],
   "source": [
    "ev_5 = ElectricVehicle(100, \"Tesla\" , 80001)\n",
    "ev_5.__dict__"
   ]
  },
  {
   "cell_type": "markdown",
   "metadata": {},
   "source": [
    "# Immutavility"
   ]
  },
  {
   "cell_type": "code",
   "execution_count": 507,
   "metadata": {},
   "outputs": [],
   "source": [
    "@dataclass(order=True)\n",
    "class ElectricVehicle:\n",
    "    range: int = field(compare=True)\n",
    "    make: str = field(default=\"Tesla\", compare=False)\n",
    "    price: int = field(default=56000, repr=False, compare=False)"
   ]
  },
  {
   "cell_type": "code",
   "execution_count": 508,
   "metadata": {},
   "outputs": [],
   "source": [
    "ev = ElectricVehicle(100, \"Tesla\", 140000)"
   ]
  },
  {
   "cell_type": "code",
   "execution_count": 509,
   "metadata": {},
   "outputs": [],
   "source": [
    "ev.range = 200"
   ]
  },
  {
   "cell_type": "code",
   "execution_count": 510,
   "metadata": {},
   "outputs": [],
   "source": [
    "# read-nly rporperty"
   ]
  },
  {
   "cell_type": "code",
   "execution_count": 511,
   "metadata": {},
   "outputs": [],
   "source": [
    "class ElectricVehicle2:\n",
    "    def __init__(self, _range, make, price) -> None:\n",
    "        self.__range = _range\n",
    "        self.__make = make\n",
    "        self.__price = price\n",
    "\n",
    "    @property\n",
    "    def range(self):\n",
    "        return self.__range\n",
    "    \n",
    "    @property\n",
    "    def make(self):\n",
    "        return self.__make\n",
    "    \n",
    "    @property\n",
    "    def price(self):\n",
    "        return self.__price\n"
   ]
  },
  {
   "cell_type": "code",
   "execution_count": 512,
   "metadata": {},
   "outputs": [],
   "source": [
    "ev = ElectricVehicle2(100 , \"BMW\", 140000)"
   ]
  },
  {
   "cell_type": "code",
   "execution_count": 513,
   "metadata": {},
   "outputs": [
    {
     "data": {
      "text/plain": [
       "{'_ElectricVehicle2__range': 100,\n",
       " '_ElectricVehicle2__make': 'BMW',\n",
       " '_ElectricVehicle2__price': 140000}"
      ]
     },
     "execution_count": 513,
     "metadata": {},
     "output_type": "execute_result"
    }
   ],
   "source": [
    "ev.__dict__"
   ]
  },
  {
   "cell_type": "markdown",
   "metadata": {},
   "source": [
    "'''python\n",
    "ev.make = \"Weee\"\n",
    "'''"
   ]
  },
  {
   "cell_type": "markdown",
   "metadata": {},
   "source": [
    "```python\n",
    "---------------------------------------------------------------------------\n",
    "AttributeError                            Traceback (most recent call last)\n",
    "Cell In[140], line 1\n",
    "----> 1 ev.make = \"Weee\"\n",
    "\n",
    "AttributeError: property 'make' of 'ElectricVehicle2' object has no setter\n",
    "```"
   ]
  },
  {
   "cell_type": "code",
   "execution_count": 514,
   "metadata": {},
   "outputs": [],
   "source": [
    "@dataclass(order=True, frozen=True)\n",
    "class ElectricVehicle:\n",
    "    range: int = field(compare=True, hash=False)\n",
    "    make: str = field(default=\"Tesla\", compare=False)\n",
    "    price: int = field(default=56000, repr=False, compare=False)"
   ]
  },
  {
   "cell_type": "code",
   "execution_count": 515,
   "metadata": {},
   "outputs": [],
   "source": [
    "ev = ElectricVehicle(100 , \"BMW\", 140000)"
   ]
  },
  {
   "cell_type": "markdown",
   "metadata": {},
   "source": [
    "```python\n",
    "ev.make = \"Weee\"\n",
    "```"
   ]
  },
  {
   "cell_type": "markdown",
   "metadata": {},
   "source": [
    "```python\n",
    "\n",
    "---------------------------------------------------------------------------\n",
    "FrozenInstanceError                       Traceback (most recent call last)\n",
    "Cell In[286], line 1\n",
    "----> 1 ev.make = \"Weee\"\n",
    "\n",
    "File :4, in __setattr__(self, name, value)\n",
    "\n",
    "FrozenInstanceError: cannot assign to field 'make'\n",
    "```"
   ]
  },
  {
   "cell_type": "markdown",
   "metadata": {},
   "source": [
    "frozen = True -> immutable + hashable"
   ]
  },
  {
   "cell_type": "code",
   "execution_count": 516,
   "metadata": {},
   "outputs": [
    {
     "data": {
      "text/plain": [
       "{ElectricVehicle(range=100, make='BMW'): {'customers': 10,\n",
       "  'tags': ['dream car', 'superb']}}"
      ]
     },
     "execution_count": 516,
     "metadata": {},
     "output_type": "execute_result"
    }
   ],
   "source": [
    "{\n",
    "    ElectricVehicle(100, \"BMW\", 140000):{\n",
    "        \"customers\":10,\n",
    "        \"tags\":['dream car', \"superb\"]\n",
    "    }\n",
    "}"
   ]
  },
  {
   "cell_type": "code",
   "execution_count": 517,
   "metadata": {},
   "outputs": [],
   "source": [
    "ev = ElectricVehicle(100 , \"BMW\", 140000)\n",
    "ev2 = ElectricVehicle(120 , \"BMW\", 140000)"
   ]
  },
  {
   "cell_type": "code",
   "execution_count": 518,
   "metadata": {},
   "outputs": [
    {
     "data": {
      "text/plain": [
       "(5740354900026072187, 5740354900026072187)"
      ]
     },
     "execution_count": 518,
     "metadata": {},
     "output_type": "execute_result"
    }
   ],
   "source": [
    "hash(ev), hash(ev2)"
   ]
  },
  {
   "cell_type": "markdown",
   "metadata": {},
   "source": [
    "# Inheritance"
   ]
  },
  {
   "cell_type": "code",
   "execution_count": 519,
   "metadata": {},
   "outputs": [],
   "source": [
    "@dataclass(order=True)\n",
    "class ElectricVehicle:\n",
    "    range: int = field(compare=True, hash=False)\n",
    "    make: str = field(default=\"Tesla\", compare=False)\n",
    "    price: int = field(default=56000, repr=False, compare=False)"
   ]
  },
  {
   "cell_type": "code",
   "execution_count": 520,
   "metadata": {},
   "outputs": [],
   "source": [
    "@dataclass\n",
    "class LuxuriousElectricVehicle(ElectricVehicle): #LEV\n",
    "    displays: int = 3\n",
    "    scent_system: bool = True\n",
    "    internet: bool = True\n"
   ]
  },
  {
   "cell_type": "code",
   "execution_count": 521,
   "metadata": {},
   "outputs": [],
   "source": [
    "lev = LuxuriousElectricVehicle(100)"
   ]
  },
  {
   "cell_type": "code",
   "execution_count": 522,
   "metadata": {},
   "outputs": [
    {
     "data": {
      "text/plain": [
       "LuxuriousElectricVehicle(range=100, make='Tesla', displays=3, scent_system=True, internet=True)"
      ]
     },
     "execution_count": 522,
     "metadata": {},
     "output_type": "execute_result"
    }
   ],
   "source": [
    "lev"
   ]
  },
  {
   "cell_type": "code",
   "execution_count": 523,
   "metadata": {},
   "outputs": [
    {
     "data": {
      "text/plain": [
       "{'range': 100,\n",
       " 'make': 'Tesla',\n",
       " 'price': 56000,\n",
       " 'displays': 3,\n",
       " 'scent_system': True,\n",
       " 'internet': True}"
      ]
     },
     "execution_count": 523,
     "metadata": {},
     "output_type": "execute_result"
    }
   ],
   "source": [
    "lev.__dict__"
   ]
  },
  {
   "cell_type": "code",
   "execution_count": 524,
   "metadata": {},
   "outputs": [],
   "source": [
    "@dataclass(order=True)\n",
    "class ElectricVehicle:\n",
    "    range: int = field(compare=True, hash=False)\n",
    "    make: str = field(default=\"Tesla\", compare=False)\n",
    "    price: int = field(default=56000, repr=False, compare=False)"
   ]
  },
  {
   "cell_type": "code",
   "execution_count": 525,
   "metadata": {},
   "outputs": [],
   "source": [
    "@dataclass\n",
    "class LuxuriousElectricVehicle(ElectricVehicle): #LEV\n",
    "    displays: int = 3\n",
    "    scent_system: bool = True\n",
    "    internet: bool = True\n",
    "    price: int = 100000"
   ]
  },
  {
   "cell_type": "code",
   "execution_count": 526,
   "metadata": {},
   "outputs": [],
   "source": [
    "lev = LuxuriousElectricVehicle(100)"
   ]
  },
  {
   "cell_type": "code",
   "execution_count": 527,
   "metadata": {},
   "outputs": [
    {
     "data": {
      "text/plain": [
       "LuxuriousElectricVehicle(range=100, make='Tesla', price=100000, displays=3, scent_system=True, internet=True)"
      ]
     },
     "execution_count": 527,
     "metadata": {},
     "output_type": "execute_result"
    }
   ],
   "source": [
    "lev"
   ]
  },
  {
   "cell_type": "markdown",
   "metadata": {},
   "source": [
    "# Why Not just Namdetuples?"
   ]
  },
  {
   "cell_type": "code",
   "execution_count": 528,
   "metadata": {},
   "outputs": [],
   "source": [
    "from collections import namedtuple"
   ]
  },
  {
   "cell_type": "code",
   "execution_count": 529,
   "metadata": {},
   "outputs": [],
   "source": [
    "EVNT =namedtuple(\"ElectricVehicle\", ['range','make','price'])"
   ]
  },
  {
   "cell_type": "code",
   "execution_count": 530,
   "metadata": {},
   "outputs": [],
   "source": [
    "from dataclasses import make_dataclass"
   ]
  },
  {
   "cell_type": "code",
   "execution_count": 531,
   "metadata": {},
   "outputs": [],
   "source": [
    "EVDC = make_dataclass(\"ElectricVehicle\", ['range','make','price'])"
   ]
  },
  {
   "cell_type": "code",
   "execution_count": 532,
   "metadata": {},
   "outputs": [
    {
     "data": {
      "text/plain": [
       "ElectricVehicle(range=100, make='BMD', price=74000)"
      ]
     },
     "execution_count": 532,
     "metadata": {},
     "output_type": "execute_result"
    }
   ],
   "source": [
    "EVNT(100,\"BMD\",74000)"
   ]
  },
  {
   "cell_type": "code",
   "execution_count": 533,
   "metadata": {},
   "outputs": [],
   "source": [
    "LEVNT = namedtuple(\"LuxuriousElectricVehicle\", [\"mini_displays\",'scent_system','internet'])"
   ]
  },
  {
   "cell_type": "code",
   "execution_count": 534,
   "metadata": {},
   "outputs": [
    {
     "data": {
      "text/plain": [
       "LuxuriousElectricVehicle(mini_displays=100, scent_system='BMD', internet=74000)"
      ]
     },
     "execution_count": 534,
     "metadata": {},
     "output_type": "execute_result"
    }
   ],
   "source": [
    "LEVNT(100,\"BMD\",74000)"
   ]
  },
  {
   "cell_type": "code",
   "execution_count": 535,
   "metadata": {},
   "outputs": [
    {
     "data": {
      "text/plain": [
       "False"
      ]
     },
     "execution_count": 535,
     "metadata": {},
     "output_type": "execute_result"
    }
   ],
   "source": [
    "EVNT == LEVNT"
   ]
  },
  {
   "cell_type": "code",
   "execution_count": 536,
   "metadata": {},
   "outputs": [
    {
     "data": {
      "text/plain": [
       "True"
      ]
     },
     "execution_count": 536,
     "metadata": {},
     "output_type": "execute_result"
    }
   ],
   "source": [
    "(100,\"BMD\",74000) == (100,\"BMD\",74000)"
   ]
  },
  {
   "cell_type": "code",
   "execution_count": 537,
   "metadata": {},
   "outputs": [],
   "source": [
    "@dataclass\n",
    "class ElectricVehicle:\n",
    "    range: int\n",
    "    make: str\n",
    "    price: int\n",
    "\n",
    "@dataclass\n",
    "class LuxuriousElectricVehicle:\n",
    "    mini_displays: int\n",
    "    scent_system: str\n",
    "    internet: int"
   ]
  },
  {
   "cell_type": "code",
   "execution_count": 538,
   "metadata": {},
   "outputs": [
    {
     "data": {
      "text/plain": [
       "False"
      ]
     },
     "execution_count": 538,
     "metadata": {},
     "output_type": "execute_result"
    }
   ],
   "source": [
    "ElectricVehicle(100,\"BMW\",74000) == LuxuriousElectricVehicle(100,\"BMW\",74000)"
   ]
  },
  {
   "cell_type": "code",
   "execution_count": 539,
   "metadata": {},
   "outputs": [
    {
     "data": {
      "text/plain": [
       "LuxuriousElectricVehicle(mini_displays=100, scent_system='BMW', internet=74000)"
      ]
     },
     "execution_count": 539,
     "metadata": {},
     "output_type": "execute_result"
    }
   ],
   "source": [
    "LEVNT(100,\"BMW\",74000)"
   ]
  },
  {
   "cell_type": "code",
   "execution_count": 540,
   "metadata": {},
   "outputs": [],
   "source": [
    "LEVNT = namedtuple(\"LuxuriousElectricVehicle\", [\"mini_displays\",'scent_system','internet'] , defaults=(100,))"
   ]
  },
  {
   "cell_type": "code",
   "execution_count": 541,
   "metadata": {},
   "outputs": [
    {
     "data": {
      "text/plain": [
       "LuxuriousElectricVehicle(mini_displays='BMW', scent_system=74000, internet=100)"
      ]
     },
     "execution_count": 541,
     "metadata": {},
     "output_type": "execute_result"
    }
   ],
   "source": [
    "LEVNT(\"BMW\",74000)"
   ]
  },
  {
   "cell_type": "markdown",
   "metadata": {},
   "source": [
    "# Skill Challange #10"
   ]
  },
  {
   "cell_type": "code",
   "execution_count": 542,
   "metadata": {},
   "outputs": [],
   "source": [
    "@dataclass(frozen=True)\n",
    "class Stock:\n",
    "    ticker: str\n",
    "    price: float\n",
    "    dividend: float = 0\n",
    "    dividend_frequency: int = 4\n",
    "\n",
    "    @property\n",
    "    def annual_dividend(self):\n",
    "        return self.dividend * self.dividend_frequency\n"
   ]
  },
  {
   "cell_type": "code",
   "execution_count": 543,
   "metadata": {},
   "outputs": [],
   "source": [
    "from functools import total_ordering\n",
    "\n",
    "@dataclass\n",
    "@total_ordering\n",
    "class Position:\n",
    "    stock: Stock\n",
    "    shares: int\n",
    "\n",
    "    def __lt__(self, other):\n",
    "        if type(other) != Position:\n",
    "            raise TypeError(\"Can only compare instance of Position\")\n",
    "\n",
    "        return self.stock.price * self.shares < other.stock.price * other.shares\n",
    "\n",
    "    def __eq__(self, other):\n",
    "        if type(other) != Position:\n",
    "            raise TypeError(\"Can only compare instance of Position\")\n",
    "\n",
    "        return self.stock.price * self.shares == other.stock.price * other.shares"
   ]
  },
  {
   "cell_type": "code",
   "execution_count": 544,
   "metadata": {},
   "outputs": [],
   "source": [
    "\n",
    "from typing import List\n",
    "\n",
    "@dataclass\n",
    "class Portfolio:\n",
    "    holdings: List[Position]\n",
    "\n",
    "    @property\n",
    "    def value(self):\n",
    "        total_value = sum([position.stock.price * position.shares for position in self.holdings])\n",
    "        return total_value\n",
    "\n",
    "    @property\n",
    "    def portfolio_yield(self):\n",
    "        total_dividends = sum([position.stock.annual_dividend * position.shares for position in self.holdings])\n",
    "\n",
    "        return round((total_dividends / self.value), 6)"
   ]
  },
  {
   "cell_type": "code",
   "execution_count": 545,
   "metadata": {},
   "outputs": [],
   "source": [
    "MSFT = Stock(ticker='MSFT', price=360, dividend=0.62, dividend_frequency=4)"
   ]
  },
  {
   "cell_type": "code",
   "execution_count": 546,
   "metadata": {},
   "outputs": [],
   "source": [
    "LMT = Stock(\"LMT\",360,2.8,4)"
   ]
  },
  {
   "cell_type": "code",
   "execution_count": 547,
   "metadata": {},
   "outputs": [],
   "source": [
    "GOOGL = Stock(\"GOOGL\", 2200, 0 ,0)"
   ]
  },
  {
   "cell_type": "code",
   "execution_count": 548,
   "metadata": {},
   "outputs": [
    {
     "data": {
      "text/plain": [
       "Stock(ticker='LMT', price=360, dividend=2.8, dividend_frequency=4)"
      ]
     },
     "execution_count": 548,
     "metadata": {},
     "output_type": "execute_result"
    }
   ],
   "source": [
    "LMT"
   ]
  },
  {
   "cell_type": "code",
   "execution_count": 549,
   "metadata": {},
   "outputs": [
    {
     "data": {
      "text/plain": [
       "Stock(ticker='MSFT', price=360, dividend=0.62, dividend_frequency=4)"
      ]
     },
     "execution_count": 549,
     "metadata": {},
     "output_type": "execute_result"
    }
   ],
   "source": [
    "MSFT"
   ]
  },
  {
   "cell_type": "code",
   "execution_count": 550,
   "metadata": {},
   "outputs": [
    {
     "data": {
      "text/plain": [
       "Stock(ticker='GOOGL', price=2200, dividend=0, dividend_frequency=0)"
      ]
     },
     "execution_count": 550,
     "metadata": {},
     "output_type": "execute_result"
    }
   ],
   "source": [
    "GOOGL"
   ]
  },
  {
   "cell_type": "code",
   "execution_count": 551,
   "metadata": {},
   "outputs": [
    {
     "data": {
      "text/plain": [
       "11.2"
      ]
     },
     "execution_count": 551,
     "metadata": {},
     "output_type": "execute_result"
    }
   ],
   "source": [
    "LMT.annual_dividend"
   ]
  },
  {
   "cell_type": "code",
   "execution_count": 552,
   "metadata": {},
   "outputs": [
    {
     "data": {
      "text/plain": [
       "2.48"
      ]
     },
     "execution_count": 552,
     "metadata": {},
     "output_type": "execute_result"
    }
   ],
   "source": [
    "MSFT.annual_dividend"
   ]
  },
  {
   "cell_type": "code",
   "execution_count": 553,
   "metadata": {},
   "outputs": [
    {
     "data": {
      "text/plain": [
       "0"
      ]
     },
     "execution_count": 553,
     "metadata": {},
     "output_type": "execute_result"
    }
   ],
   "source": [
    "GOOGL.annual_dividend"
   ]
  },
  {
   "cell_type": "code",
   "execution_count": 554,
   "metadata": {},
   "outputs": [],
   "source": [
    "p1 = Position(MSFT, 100)\n",
    "p2 = Position(LMT, 100)\n",
    "p3 = Position(GOOGL, 10)"
   ]
  },
  {
   "cell_type": "code",
   "execution_count": 555,
   "metadata": {},
   "outputs": [
    {
     "data": {
      "text/plain": [
       "Position(stock=Stock(ticker='MSFT', price=360, dividend=0.62, dividend_frequency=4), shares=100)"
      ]
     },
     "execution_count": 555,
     "metadata": {},
     "output_type": "execute_result"
    }
   ],
   "source": [
    "p1"
   ]
  },
  {
   "cell_type": "code",
   "execution_count": 556,
   "metadata": {},
   "outputs": [
    {
     "data": {
      "text/plain": [
       "Position(stock=Stock(ticker='LMT', price=360, dividend=2.8, dividend_frequency=4), shares=100)"
      ]
     },
     "execution_count": 556,
     "metadata": {},
     "output_type": "execute_result"
    }
   ],
   "source": [
    "p2"
   ]
  },
  {
   "cell_type": "code",
   "execution_count": 557,
   "metadata": {},
   "outputs": [
    {
     "data": {
      "text/plain": [
       "Position(stock=Stock(ticker='GOOGL', price=2200, dividend=0, dividend_frequency=0), shares=10)"
      ]
     },
     "execution_count": 557,
     "metadata": {},
     "output_type": "execute_result"
    }
   ],
   "source": [
    "p3"
   ]
  },
  {
   "cell_type": "code",
   "execution_count": 558,
   "metadata": {},
   "outputs": [
    {
     "data": {
      "text/plain": [
       "True"
      ]
     },
     "execution_count": 558,
     "metadata": {},
     "output_type": "execute_result"
    }
   ],
   "source": [
    "p1 == p2"
   ]
  },
  {
   "cell_type": "code",
   "execution_count": 559,
   "metadata": {},
   "outputs": [
    {
     "data": {
      "text/plain": [
       "False"
      ]
     },
     "execution_count": 559,
     "metadata": {},
     "output_type": "execute_result"
    }
   ],
   "source": [
    "p1 <= p3"
   ]
  },
  {
   "cell_type": "code",
   "execution_count": 560,
   "metadata": {},
   "outputs": [],
   "source": [
    "portfolio = Portfolio(holdings=[p1,p2,p3])"
   ]
  },
  {
   "cell_type": "code",
   "execution_count": 561,
   "metadata": {},
   "outputs": [
    {
     "data": {
      "text/plain": [
       "0.014553"
      ]
     },
     "execution_count": 561,
     "metadata": {},
     "output_type": "execute_result"
    }
   ],
   "source": [
    "portfolio.portfolio_yield"
   ]
  },
  {
   "cell_type": "code",
   "execution_count": 562,
   "metadata": {},
   "outputs": [
    {
     "data": {
      "text/plain": [
       "'1.46%'"
      ]
     },
     "execution_count": 562,
     "metadata": {},
     "output_type": "execute_result"
    }
   ],
   "source": [
    "f\"{portfolio.portfolio_yield:.2%}\""
   ]
  },
  {
   "cell_type": "code",
   "execution_count": 563,
   "metadata": {},
   "outputs": [
    {
     "data": {
      "text/plain": [
       "94000"
      ]
     },
     "execution_count": 563,
     "metadata": {},
     "output_type": "execute_result"
    }
   ],
   "source": [
    "portfolio.value"
   ]
  },
  {
   "cell_type": "code",
   "execution_count": 564,
   "metadata": {},
   "outputs": [
    {
     "data": {
      "text/plain": [
       "'94,000.00'"
      ]
     },
     "execution_count": 564,
     "metadata": {},
     "output_type": "execute_result"
    }
   ],
   "source": [
    "f\"{portfolio.value:,.2f}\""
   ]
  },
  {
   "cell_type": "code",
   "execution_count": null,
   "metadata": {},
   "outputs": [],
   "source": []
  }
 ],
 "metadata": {
  "kernelspec": {
   "display_name": "Python 3",
   "language": "python",
   "name": "python3"
  },
  "language_info": {
   "codemirror_mode": {
    "name": "ipython",
    "version": 3
   },
   "file_extension": ".py",
   "mimetype": "text/x-python",
   "name": "python",
   "nbconvert_exporter": "python",
   "pygments_lexer": "ipython3",
   "version": "3.12.1"
  },
  "orig_nbformat": 4
 },
 "nbformat": 4,
 "nbformat_minor": 2
}
