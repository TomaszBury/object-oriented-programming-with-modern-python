{
 "cells": [
  {
   "attachments": {},
   "cell_type": "markdown",
   "metadata": {},
   "source": [
    "# The Why?\n",
    "\n",
    "How to encapsulate data?"
   ]
  },
  {
   "attachments": {},
   "cell_type": "markdown",
   "metadata": {},
   "source": [
    "EV -> sore several instances of EVs"
   ]
  },
  {
   "cell_type": "markdown",
   "metadata": {},
   "source": [
    "range -> how long the car would go on a sigle charege  \n",
    "make -> the mnaufacturere  \n",
    "price -> how much does it cost  "
   ]
  },
  {
   "cell_type": "code",
   "execution_count": 1,
   "metadata": {},
   "outputs": [],
   "source": [
    "bolt = [417, \"Chevrolet\", 42000]\n",
    "model_s = [520, \"Tesla\", 84000]\n",
    "mx30 = [100, \"Mazda\", 35000]"
   ]
  },
  {
   "cell_type": "code",
   "execution_count": 2,
   "metadata": {},
   "outputs": [],
   "source": [
    "#immutable?\n",
    "bolt = (417, \"Chevrolet\", 42000)\n",
    "model_s = (520, \"Tesla\", 84000)\n",
    "mx30 = (100, \"Mazda\", 35000)"
   ]
  },
  {
   "cell_type": "code",
   "execution_count": 3,
   "metadata": {},
   "outputs": [
    {
     "data": {
      "text/plain": [
       "417"
      ]
     },
     "execution_count": 3,
     "metadata": {},
     "output_type": "execute_result"
    }
   ],
   "source": [
    "bolt[0]"
   ]
  },
  {
   "cell_type": "code",
   "execution_count": 4,
   "metadata": {},
   "outputs": [
    {
     "data": {
      "text/plain": [
       "'Tesla'"
      ]
     },
     "execution_count": 4,
     "metadata": {},
     "output_type": "execute_result"
    }
   ],
   "source": [
    "model_s[1]"
   ]
  },
  {
   "cell_type": "code",
   "execution_count": 5,
   "metadata": {},
   "outputs": [
    {
     "data": {
      "text/plain": [
       "417"
      ]
     },
     "execution_count": 5,
     "metadata": {},
     "output_type": "execute_result"
    }
   ],
   "source": [
    "bolt[0] #this is range for the bolt!"
   ]
  },
  {
   "cell_type": "code",
   "execution_count": 6,
   "metadata": {},
   "outputs": [],
   "source": [
    "bolt = {\"range\":417, \"make\":\"Chevrolet\", \"price\":42000}\n",
    "model_s = {\"range\":520, \"make\":\"Tesla\", \"price\":84000}\n",
    "mx30 = {\"range\":100, \"make\":\"Mazda\", \"price\":35000}"
   ]
  },
  {
   "cell_type": "code",
   "execution_count": 7,
   "metadata": {},
   "outputs": [
    {
     "data": {
      "text/plain": [
       "'Tesla'"
      ]
     },
     "execution_count": 7,
     "metadata": {},
     "output_type": "execute_result"
    }
   ],
   "source": [
    "model_s.get(\"make\")"
   ]
  },
  {
   "cell_type": "code",
   "execution_count": 8,
   "metadata": {},
   "outputs": [],
   "source": [
    "#create a new class!"
   ]
  },
  {
   "cell_type": "code",
   "execution_count": 9,
   "metadata": {},
   "outputs": [],
   "source": [
    "class EV:\n",
    "    def __init__(self, _range, make, price) -> None:\n",
    "        self.range = _range\n",
    "        self.make = make\n",
    "        self.price = price\n"
   ]
  },
  {
   "cell_type": "code",
   "execution_count": 10,
   "metadata": {},
   "outputs": [],
   "source": [
    "bolt = EV(417, \"Chevrolet\", 42000)"
   ]
  },
  {
   "cell_type": "code",
   "execution_count": 11,
   "metadata": {},
   "outputs": [
    {
     "data": {
      "text/plain": [
       "<__main__.EV at 0x20b68a19650>"
      ]
     },
     "execution_count": 11,
     "metadata": {},
     "output_type": "execute_result"
    }
   ],
   "source": [
    "bolt"
   ]
  },
  {
   "cell_type": "code",
   "execution_count": 12,
   "metadata": {},
   "outputs": [
    {
     "data": {
      "text/plain": [
       "'Chevrolet'"
      ]
     },
     "execution_count": 12,
     "metadata": {},
     "output_type": "execute_result"
    }
   ],
   "source": [
    "bolt.make"
   ]
  },
  {
   "cell_type": "code",
   "execution_count": 13,
   "metadata": {},
   "outputs": [
    {
     "data": {
      "text/plain": [
       "417"
      ]
     },
     "execution_count": 13,
     "metadata": {},
     "output_type": "execute_result"
    }
   ],
   "source": [
    "bolt.range"
   ]
  },
  {
   "cell_type": "markdown",
   "metadata": {},
   "source": [
    "# 96. An Alternative: namdtuple"
   ]
  },
  {
   "cell_type": "code",
   "execution_count": 14,
   "metadata": {},
   "outputs": [],
   "source": [
    "from collections import namedtuple"
   ]
  },
  {
   "cell_type": "code",
   "execution_count": 15,
   "metadata": {},
   "outputs": [],
   "source": [
    "EV = namedtuple(\"ElectricVehicle\", [\"range\", \"make\", \"price\"])"
   ]
  },
  {
   "cell_type": "code",
   "execution_count": 16,
   "metadata": {},
   "outputs": [],
   "source": [
    "ev1 = EV(417, \"Chevrolet\", 42000)"
   ]
  },
  {
   "cell_type": "code",
   "execution_count": 17,
   "metadata": {},
   "outputs": [
    {
     "data": {
      "text/plain": [
       "ElectricVehicle(range=417, make='Chevrolet', price=42000)"
      ]
     },
     "execution_count": 17,
     "metadata": {},
     "output_type": "execute_result"
    }
   ],
   "source": [
    "ev1"
   ]
  },
  {
   "cell_type": "code",
   "execution_count": 18,
   "metadata": {},
   "outputs": [
    {
     "data": {
      "text/plain": [
       "417"
      ]
     },
     "execution_count": 18,
     "metadata": {},
     "output_type": "execute_result"
    }
   ],
   "source": [
    "ev1.range"
   ]
  },
  {
   "cell_type": "code",
   "execution_count": 19,
   "metadata": {},
   "outputs": [],
   "source": [
    "EV_defaults = namedtuple(\"ElectricVehicle\", [\"range\", \"make\", \"price\"], defaults=[100, \"Tesla\" , \"49000\"])"
   ]
  },
  {
   "cell_type": "code",
   "execution_count": 20,
   "metadata": {},
   "outputs": [
    {
     "data": {
      "text/plain": [
       "ElectricVehicle(range=200, make='Tesla', price='49000')"
      ]
     },
     "execution_count": 20,
     "metadata": {},
     "output_type": "execute_result"
    }
   ],
   "source": [
    "EV_defaults(200)"
   ]
  },
  {
   "cell_type": "markdown",
   "metadata": {},
   "source": [
    "```python\n",
    "def funny_function(a=None, b):\n",
    "    pass\n",
    "```\n",
    "```bash\n",
    " Cell In[8], line 1\n",
    "    def funny_function(a=None, b):\n",
    "                               ^\n",
    "SyntaxError: non-default argument follows default argument\n",
    "```"
   ]
  },
  {
   "cell_type": "code",
   "execution_count": 21,
   "metadata": {},
   "outputs": [],
   "source": [
    "EV_defaults_non = namedtuple(\"ElectricVehicle\", [\"range\", \"make\", \"price\"], defaults=(\"49000\",))"
   ]
  },
  {
   "cell_type": "code",
   "execution_count": 22,
   "metadata": {},
   "outputs": [
    {
     "data": {
      "text/plain": [
       "ElectricVehicle(range=100, make='Tesla', price='49000')"
      ]
     },
     "execution_count": 22,
     "metadata": {},
     "output_type": "execute_result"
    }
   ],
   "source": [
    "EV_defaults_non(100,\"Tesla\")"
   ]
  },
  {
   "cell_type": "markdown",
   "metadata": {},
   "source": [
    "```python\n",
    "EV_defaults_non(\"Tesla\")\n",
    "```"
   ]
  },
  {
   "cell_type": "markdown",
   "metadata": {},
   "source": [
    "```python\n",
    "---------------------------------------------------------------------------\n",
    "TypeError                                 Traceback (most recent call last)\n",
    "Cell In[12], line 1\n",
    "----> 1 EV_defaults_non(\"Tesla\")\n",
    "\n",
    "TypeError: ElectricVehicle.__new__() missing 1 required positional argument: 'make'\n",
    "```"
   ]
  },
  {
   "cell_type": "code",
   "execution_count": 23,
   "metadata": {},
   "outputs": [
    {
     "data": {
      "text/plain": [
       "{'range': 417, 'make': 'Chevrolet', 'price': 42000}"
      ]
     },
     "execution_count": 23,
     "metadata": {},
     "output_type": "execute_result"
    }
   ],
   "source": [
    "ev1._asdict()"
   ]
  },
  {
   "cell_type": "code",
   "execution_count": 24,
   "metadata": {},
   "outputs": [],
   "source": [
    "EV_4 = namedtuple(\"ElectricVehicle\", \"range make price\", defaults=(\"49000\",))"
   ]
  },
  {
   "cell_type": "code",
   "execution_count": 25,
   "metadata": {},
   "outputs": [],
   "source": [
    "other_tesla = EV_4(100, \"Telsa\")"
   ]
  },
  {
   "cell_type": "code",
   "execution_count": 26,
   "metadata": {},
   "outputs": [
    {
     "data": {
      "text/plain": [
       "ElectricVehicle(range=100, make='Telsa', price='49000')"
      ]
     },
     "execution_count": 26,
     "metadata": {},
     "output_type": "execute_result"
    }
   ],
   "source": [
    "other_tesla"
   ]
  },
  {
   "cell_type": "markdown",
   "metadata": {},
   "source": [
    "# BONUS: A Quick point on immutability"
   ]
  },
  {
   "cell_type": "code",
   "execution_count": 27,
   "metadata": {},
   "outputs": [],
   "source": [
    "EV = namedtuple(\"ElectricVehicle\", [\"range\", \"make\", \"price\"])"
   ]
  },
  {
   "cell_type": "code",
   "execution_count": 28,
   "metadata": {},
   "outputs": [],
   "source": [
    "ev = EV(200, \"Chevy\", 49000)"
   ]
  },
  {
   "cell_type": "markdown",
   "metadata": {},
   "source": [
    "# Immutable"
   ]
  },
  {
   "cell_type": "code",
   "execution_count": 29,
   "metadata": {},
   "outputs": [
    {
     "data": {
      "text/plain": [
       "200"
      ]
     },
     "execution_count": 29,
     "metadata": {},
     "output_type": "execute_result"
    }
   ],
   "source": [
    "ev.range"
   ]
  },
  {
   "cell_type": "markdown",
   "metadata": {},
   "source": [
    "```python\n",
    "evrange = 300\n",
    "```"
   ]
  },
  {
   "cell_type": "markdown",
   "metadata": {},
   "source": [
    "```python\n",
    "---------------------------------------------------------------------------\n",
    "AttributeError                            Traceback (most recent call last)\n",
    "Cell In[30], line 1\n",
    "----> 1 evrange = 300\n",
    "\n",
    "AttributeError: can't set attribute\n",
    "```"
   ]
  },
  {
   "cell_type": "code",
   "execution_count": 30,
   "metadata": {},
   "outputs": [],
   "source": [
    "ev2 = EV([200,300], \"Chevy\", 49000)"
   ]
  },
  {
   "cell_type": "code",
   "execution_count": 31,
   "metadata": {},
   "outputs": [
    {
     "data": {
      "text/plain": [
       "list"
      ]
     },
     "execution_count": 31,
     "metadata": {},
     "output_type": "execute_result"
    }
   ],
   "source": [
    "type(ev2.range)"
   ]
  },
  {
   "cell_type": "code",
   "execution_count": 32,
   "metadata": {},
   "outputs": [
    {
     "data": {
      "text/plain": [
       "2248023384448"
      ]
     },
     "execution_count": 32,
     "metadata": {},
     "output_type": "execute_result"
    }
   ],
   "source": [
    "id(ev2.range)"
   ]
  },
  {
   "cell_type": "code",
   "execution_count": 33,
   "metadata": {},
   "outputs": [],
   "source": [
    "ev2.range[0] = 250"
   ]
  },
  {
   "cell_type": "code",
   "execution_count": 34,
   "metadata": {},
   "outputs": [
    {
     "data": {
      "text/plain": [
       "[250, 300]"
      ]
     },
     "execution_count": 34,
     "metadata": {},
     "output_type": "execute_result"
    }
   ],
   "source": [
    "ev2.range"
   ]
  },
  {
   "cell_type": "code",
   "execution_count": 35,
   "metadata": {},
   "outputs": [
    {
     "data": {
      "text/plain": [
       "2248023384448"
      ]
     },
     "execution_count": 35,
     "metadata": {},
     "output_type": "execute_result"
    }
   ],
   "source": [
    "id(ev2.range)"
   ]
  },
  {
   "cell_type": "code",
   "execution_count": 36,
   "metadata": {},
   "outputs": [],
   "source": [
    "ev3 = EV((200,300), \"Chevy\", 49000)"
   ]
  },
  {
   "cell_type": "code",
   "execution_count": 37,
   "metadata": {},
   "outputs": [
    {
     "data": {
      "text/plain": [
       "tuple"
      ]
     },
     "execution_count": 37,
     "metadata": {},
     "output_type": "execute_result"
    }
   ],
   "source": [
    "type(ev3.range)"
   ]
  },
  {
   "cell_type": "markdown",
   "metadata": {},
   "source": [
    "```python\n",
    "ev3range[0] = 250\n",
    "```"
   ]
  },
  {
   "cell_type": "markdown",
   "metadata": {},
   "source": [
    "```python\n",
    "---------------------------------------------------------------------------\n",
    "TypeError                                 Traceback (most recent call last)\n",
    "Cell In[43], line 1\n",
    "----> 1 ev3range[0] = 250\n",
    "\n",
    "TypeError: 'tuple' object does not support item assignment\n",
    "```"
   ]
  },
  {
   "cell_type": "markdown",
   "metadata": {},
   "source": [
    "# 98. BONUS: Typed NamedTuple"
   ]
  },
  {
   "cell_type": "markdown",
   "metadata": {},
   "source": [
    "since 3.6 --> Tyed namedtuples"
   ]
  },
  {
   "cell_type": "code",
   "execution_count": 38,
   "metadata": {},
   "outputs": [],
   "source": [
    "from typing import NamedTuple"
   ]
  },
  {
   "cell_type": "code",
   "execution_count": 39,
   "metadata": {},
   "outputs": [],
   "source": [
    "class EVehicle(NamedTuple):\n",
    "    range: int\n",
    "    make: str\n",
    "    price: int"
   ]
  },
  {
   "cell_type": "code",
   "execution_count": 40,
   "metadata": {},
   "outputs": [],
   "source": [
    "ev = EVehicle(100, \"Tesla\", 12000)"
   ]
  },
  {
   "cell_type": "code",
   "execution_count": 41,
   "metadata": {},
   "outputs": [
    {
     "data": {
      "text/plain": [
       "(100, 'Tesla', 12000)"
      ]
     },
     "execution_count": 41,
     "metadata": {},
     "output_type": "execute_result"
    }
   ],
   "source": [
    "ev.range, ev.make, ev.price"
   ]
  },
  {
   "cell_type": "code",
   "execution_count": 42,
   "metadata": {},
   "outputs": [
    {
     "data": {
      "text/plain": [
       "(100, 'Tesla', 12000)"
      ]
     },
     "execution_count": 42,
     "metadata": {},
     "output_type": "execute_result"
    }
   ],
   "source": [
    "ev[0], ev[1], ev[2]"
   ]
  },
  {
   "cell_type": "code",
   "execution_count": 43,
   "metadata": {},
   "outputs": [
    {
     "name": "stdout",
     "output_type": "stream",
     "text": [
      "100\n",
      "Tesla\n",
      "12000\n"
     ]
    },
    {
     "data": {
      "text/plain": [
       "[None, None, None]"
      ]
     },
     "execution_count": 43,
     "metadata": {},
     "output_type": "execute_result"
    }
   ],
   "source": [
    "[print(x) for x in ev]"
   ]
  },
  {
   "cell_type": "markdown",
   "metadata": {},
   "source": [
    "```python\n",
    "evrange = 6000\n",
    "```"
   ]
  },
  {
   "cell_type": "markdown",
   "metadata": {},
   "source": [
    "```python\n",
    "---------------------------------------------------------------------------\n",
    "AttributeError                            Traceback (most recent call last)\n",
    "Cell In[12], line 1\n",
    "----> 1 evrange = 6000\n",
    "\n",
    "AttributeError: can't set attribute\n",
    "```"
   ]
  },
  {
   "cell_type": "code",
   "execution_count": 44,
   "metadata": {},
   "outputs": [
    {
     "name": "stdout",
     "output_type": "stream",
     "text": [
      "EVehicle(range=100, make='Tesla', price=12000)\n"
     ]
    }
   ],
   "source": [
    "print(ev)"
   ]
  },
  {
   "cell_type": "code",
   "execution_count": 45,
   "metadata": {},
   "outputs": [],
   "source": [
    "class EVehicle(NamedTuple):\n",
    "    range: int\n",
    "    make: str\n",
    "    price: int = 39000"
   ]
  },
  {
   "cell_type": "code",
   "execution_count": 46,
   "metadata": {},
   "outputs": [],
   "source": [
    "ev = EVehicle(100, \"Tesla\")"
   ]
  },
  {
   "cell_type": "code",
   "execution_count": 47,
   "metadata": {},
   "outputs": [
    {
     "data": {
      "text/plain": [
       "EVehicle(range=100, make='Tesla', price=39000)"
      ]
     },
     "execution_count": 47,
     "metadata": {},
     "output_type": "execute_result"
    }
   ],
   "source": [
    "ev"
   ]
  },
  {
   "cell_type": "markdown",
   "metadata": {},
   "source": [
    "# Dataclasses\n",
    "\n",
    "* added to 3.7\n",
    "* fine tuned for staring state"
   ]
  },
  {
   "cell_type": "code",
   "execution_count": 48,
   "metadata": {},
   "outputs": [],
   "source": [
    "from dataclasses import dataclass"
   ]
  },
  {
   "cell_type": "code",
   "execution_count": 49,
   "metadata": {},
   "outputs": [],
   "source": [
    "@dataclass\n",
    "class ElectricVehicle:\n",
    "    range: int\n",
    "    make: str\n",
    "    price: int"
   ]
  },
  {
   "cell_type": "code",
   "execution_count": 50,
   "metadata": {},
   "outputs": [],
   "source": [
    "class RegElectricVehicle:\n",
    "    def __init__(self, _range, price, make) -> None:\n",
    "        self._range = _range\n",
    "        self.price = price\n",
    "        self.make = make\n",
    "        "
   ]
  },
  {
   "cell_type": "code",
   "execution_count": 51,
   "metadata": {},
   "outputs": [],
   "source": [
    "ev = ElectricVehicle(100, \"Tesla\", 3900)"
   ]
  },
  {
   "cell_type": "code",
   "execution_count": 52,
   "metadata": {},
   "outputs": [
    {
     "data": {
      "text/plain": [
       "(100, 'Tesla', 3900)"
      ]
     },
     "execution_count": 52,
     "metadata": {},
     "output_type": "execute_result"
    }
   ],
   "source": [
    "ev.range, ev.make, ev.price"
   ]
  },
  {
   "cell_type": "code",
   "execution_count": 53,
   "metadata": {},
   "outputs": [],
   "source": [
    "eev = RegElectricVehicle(99, \"GM\", 98989898)"
   ]
  },
  {
   "cell_type": "code",
   "execution_count": 54,
   "metadata": {},
   "outputs": [
    {
     "data": {
      "text/plain": [
       "(98989898, 'GM', 99)"
      ]
     },
     "execution_count": 54,
     "metadata": {},
     "output_type": "execute_result"
    }
   ],
   "source": [
    "eev.make, eev.price, eev._range"
   ]
  },
  {
   "cell_type": "markdown",
   "metadata": {},
   "source": [
    "# 100. Batteries Inclueded"
   ]
  },
  {
   "cell_type": "code",
   "execution_count": 55,
   "metadata": {},
   "outputs": [],
   "source": [
    "@dataclass\n",
    "class ElectricVehicle:\n",
    "    range: int\n",
    "    make: str\n",
    "    price: int"
   ]
  },
  {
   "cell_type": "code",
   "execution_count": 56,
   "metadata": {},
   "outputs": [],
   "source": [
    "class RegularElectricVehicle:\n",
    "    def __init__(self, range, make , price) -> None:\n",
    "        self.range = range\n",
    "        self.make = make\n",
    "        self.price = price"
   ]
  },
  {
   "cell_type": "code",
   "execution_count": 57,
   "metadata": {},
   "outputs": [],
   "source": [
    "ev1 = ElectricVehicle(240, \"Mazda\", 34000)"
   ]
  },
  {
   "cell_type": "code",
   "execution_count": 58,
   "metadata": {},
   "outputs": [],
   "source": [
    "rev1 = RegularElectricVehicle(140, \"Jeep\", 54000)"
   ]
  },
  {
   "cell_type": "code",
   "execution_count": 59,
   "metadata": {},
   "outputs": [
    {
     "data": {
      "text/plain": [
       "ElectricVehicle(range=240, make='Mazda', price=34000)"
      ]
     },
     "execution_count": 59,
     "metadata": {},
     "output_type": "execute_result"
    }
   ],
   "source": [
    "ev1"
   ]
  },
  {
   "cell_type": "code",
   "execution_count": 60,
   "metadata": {},
   "outputs": [
    {
     "data": {
      "text/plain": [
       "ElectricVehicle(range=240, make='Mazda', price=34000)"
      ]
     },
     "execution_count": 60,
     "metadata": {},
     "output_type": "execute_result"
    }
   ],
   "source": [
    "eval(repr(ev1))"
   ]
  },
  {
   "cell_type": "code",
   "execution_count": 61,
   "metadata": {},
   "outputs": [
    {
     "data": {
      "text/plain": [
       "<__main__.RegularElectricVehicle at 0x20b68a33610>"
      ]
     },
     "execution_count": 61,
     "metadata": {},
     "output_type": "execute_result"
    }
   ],
   "source": [
    "rev1 # object's __reprp__"
   ]
  },
  {
   "cell_type": "code",
   "execution_count": 62,
   "metadata": {},
   "outputs": [],
   "source": [
    "class RegularElectricVehicle:\n",
    "    def __init__(self, range, make , price) -> None:\n",
    "        self.range = range\n",
    "        self.make = make\n",
    "        self.price = price\n",
    "    \n",
    "    def __repr__(self) -> str:\n",
    "        return f\"{type(self).__name__} (range={self.range}, make='{self.make}', price={self.price})\""
   ]
  },
  {
   "cell_type": "code",
   "execution_count": 63,
   "metadata": {},
   "outputs": [],
   "source": [
    "rev1 = RegularElectricVehicle(140, \"Jeep\", 54000)"
   ]
  },
  {
   "cell_type": "code",
   "execution_count": 64,
   "metadata": {},
   "outputs": [],
   "source": [
    "rev2 = RegularElectricVehicle(140, \"Jeep\", 54000)"
   ]
  },
  {
   "cell_type": "code",
   "execution_count": 65,
   "metadata": {},
   "outputs": [
    {
     "data": {
      "text/plain": [
       "RegularElectricVehicle (range=140, make='Jeep', price=54000)"
      ]
     },
     "execution_count": 65,
     "metadata": {},
     "output_type": "execute_result"
    }
   ],
   "source": [
    "rev1"
   ]
  },
  {
   "cell_type": "code",
   "execution_count": 66,
   "metadata": {},
   "outputs": [],
   "source": [
    "ev2 = ElectricVehicle(240, \"Mazda\", 34000)\n",
    "ev3 = ElectricVehicle(241, \"Mazda\", 34000)"
   ]
  },
  {
   "cell_type": "markdown",
   "metadata": {},
   "source": [
    "## Equality"
   ]
  },
  {
   "cell_type": "code",
   "execution_count": 67,
   "metadata": {},
   "outputs": [
    {
     "data": {
      "text/plain": [
       "True"
      ]
     },
     "execution_count": 67,
     "metadata": {},
     "output_type": "execute_result"
    }
   ],
   "source": [
    "ev1 == ev2"
   ]
  },
  {
   "cell_type": "code",
   "execution_count": 68,
   "metadata": {},
   "outputs": [
    {
     "data": {
      "text/plain": [
       "False"
      ]
     },
     "execution_count": 68,
     "metadata": {},
     "output_type": "execute_result"
    }
   ],
   "source": [
    "ev2 == ev3"
   ]
  },
  {
   "cell_type": "code",
   "execution_count": 69,
   "metadata": {},
   "outputs": [
    {
     "data": {
      "text/plain": [
       "False"
      ]
     },
     "execution_count": 69,
     "metadata": {},
     "output_type": "execute_result"
    }
   ],
   "source": [
    "rev1 == rev2 # object's __eq__"
   ]
  },
  {
   "cell_type": "code",
   "execution_count": 70,
   "metadata": {},
   "outputs": [
    {
     "data": {
      "text/plain": [
       "(2248023422672, 2248022933456)"
      ]
     },
     "execution_count": 70,
     "metadata": {},
     "output_type": "execute_result"
    }
   ],
   "source": [
    "id(rev1), id(rev2)"
   ]
  },
  {
   "cell_type": "code",
   "execution_count": 71,
   "metadata": {},
   "outputs": [],
   "source": [
    "class RegularElectricVehicle:\n",
    "    def __init__(self, range, make , price) -> None:\n",
    "        self.range = range\n",
    "        self.make = make\n",
    "        self.price = price\n",
    "    \n",
    "    def __repr__(self) -> str:\n",
    "        return f\"{type(self).__name__} (range={self.range}, make='{self.make}', price={self.price})\"\n",
    "    \n",
    "    def __eq__(self, other) -> bool:\n",
    "        if not type(other) == type(self):\n",
    "            return False\n",
    "        return self.range == other.range and self.make == other.make and self.price == other.price"
   ]
  },
  {
   "cell_type": "code",
   "execution_count": 72,
   "metadata": {},
   "outputs": [],
   "source": [
    "rev1 = RegularElectricVehicle(140, \"Jeep\", 54000)\n",
    "rev2 = RegularElectricVehicle(140, \"Jeep\", 54000)"
   ]
  },
  {
   "cell_type": "code",
   "execution_count": 73,
   "metadata": {},
   "outputs": [
    {
     "data": {
      "text/plain": [
       "True"
      ]
     },
     "execution_count": 73,
     "metadata": {},
     "output_type": "execute_result"
    }
   ],
   "source": [
    "rev1 == rev2"
   ]
  },
  {
   "cell_type": "markdown",
   "metadata": {},
   "source": [
    "## Comparison operators"
   ]
  },
  {
   "cell_type": "markdown",
   "metadata": {},
   "source": [
    "```python\n",
    "ev1 > ev2\n",
    "```"
   ]
  },
  {
   "cell_type": "markdown",
   "metadata": {},
   "source": [
    "```python\n",
    "---------------------------------------------------------------------------\n",
    "TypeError                                 Traceback (most recent call last)\n",
    "Cell In[219], line 1\n",
    "----> 1 ev1 > ev2\n",
    "\n",
    "TypeError: '>' not supported between instances of 'ElectricVehicle' and 'ElectricVehicle'\n",
    "```"
   ]
  },
  {
   "cell_type": "code",
   "execution_count": 74,
   "metadata": {},
   "outputs": [],
   "source": [
    "@dataclass(order=True)\n",
    "class ElectricVehicle:\n",
    "    range: int\n",
    "    make: str\n",
    "    price: int"
   ]
  },
  {
   "cell_type": "code",
   "execution_count": 75,
   "metadata": {},
   "outputs": [],
   "source": [
    "ev1 = ElectricVehicle(240, \"Mazda\", 34000)\n",
    "ev2 = ElectricVehicle(240, \"Mazda\", 34000)\n",
    "ev3 = ElectricVehicle(241, \"Mazda\", 34000)"
   ]
  },
  {
   "cell_type": "code",
   "execution_count": 76,
   "metadata": {},
   "outputs": [
    {
     "data": {
      "text/plain": [
       "False"
      ]
     },
     "execution_count": 76,
     "metadata": {},
     "output_type": "execute_result"
    }
   ],
   "source": [
    "ev1 > ev2"
   ]
  },
  {
   "cell_type": "code",
   "execution_count": 77,
   "metadata": {},
   "outputs": [
    {
     "data": {
      "text/plain": [
       "True"
      ]
     },
     "execution_count": 77,
     "metadata": {},
     "output_type": "execute_result"
    }
   ],
   "source": [
    "ev3 > ev2"
   ]
  },
  {
   "cell_type": "markdown",
   "metadata": {},
   "source": [
    "```python\n",
    "rev1 > rev2\n",
    "```"
   ]
  },
  {
   "cell_type": "markdown",
   "metadata": {},
   "source": [
    "```python\n",
    "---------------------------------------------------------------------------\n",
    "TypeError                                 Traceback (most recent call last)\n",
    "Cell In[225], line 1\n",
    "----> 1 rev1 > rev2\n",
    "\n",
    "TypeError: '>' not supported between instances of 'RegularElectricVehicle' and 'RegularElectricVehicle'\n",
    "```"
   ]
  },
  {
   "cell_type": "code",
   "execution_count": 78,
   "metadata": {},
   "outputs": [],
   "source": [
    "class RegularElectricVehicle:\n",
    "    def __init__(self, range, make , price) -> None:\n",
    "        self.range = range\n",
    "        self.make = make\n",
    "        self.price = price\n",
    "    \n",
    "    def __repr__(self) -> str:\n",
    "        return f\"{type(self).__name__} (range={self.range}, make='{self.make}', price={self.price})\"\n",
    "    \n",
    "    def __eq__(self, other) -> bool:\n",
    "        if not type(other) == type(self):\n",
    "            return False\n",
    "        return self.range == other.range and self.make == other.make and self.price == other.price\n",
    "    \n",
    "    def __gt__(self, other):\n",
    "        if not type(other) == type(self):\n",
    "            raise TypeError(\"Only operations between REV are supported.\")\n",
    "        return self.range > other.range"
   ]
  },
  {
   "cell_type": "code",
   "execution_count": 79,
   "metadata": {},
   "outputs": [],
   "source": [
    "rev1 = RegularElectricVehicle(140, \"Jeep\", 54000)\n",
    "rev2 = RegularElectricVehicle(140, \"Jeep\", 54000)\n",
    "rev3 = RegularElectricVehicle(141, \"Jeep\", 54000)"
   ]
  },
  {
   "cell_type": "code",
   "execution_count": 80,
   "metadata": {},
   "outputs": [
    {
     "data": {
      "text/plain": [
       "False"
      ]
     },
     "execution_count": 80,
     "metadata": {},
     "output_type": "execute_result"
    }
   ],
   "source": [
    "rev1 > rev3"
   ]
  },
  {
   "cell_type": "code",
   "execution_count": 81,
   "metadata": {},
   "outputs": [
    {
     "data": {
      "text/plain": [
       "True"
      ]
     },
     "execution_count": 81,
     "metadata": {},
     "output_type": "execute_result"
    }
   ],
   "source": [
    "rev3 > rev1"
   ]
  },
  {
   "cell_type": "code",
   "execution_count": 82,
   "metadata": {},
   "outputs": [
    {
     "data": {
      "text/plain": [
       "True"
      ]
     },
     "execution_count": 82,
     "metadata": {},
     "output_type": "execute_result"
    }
   ],
   "source": [
    "rev1 < rev3"
   ]
  },
  {
   "cell_type": "code",
   "execution_count": 83,
   "metadata": {},
   "outputs": [],
   "source": [
    "class RegularElectricVehicle:\n",
    "    def __init__(self, _range, make , price) -> None:\n",
    "        self.range = _range\n",
    "        self.make = make\n",
    "        self.price = price\n",
    "    \n",
    "    def __repr__(self) -> str:\n",
    "        return f\"{type(self).__name__} (range={self.range}, make='{self.make}', price={self.price})\"\n",
    "    \n",
    "    def __eq__(self, other) -> bool:\n",
    "        if not type(other) == type(self):\n",
    "            return False\n",
    "        return self.range == other.range and self.make == other.make and self.price == other.price\n",
    "    \n",
    "    def __gt__(self, other):\n",
    "        if not type(other) == type(self):\n",
    "            raise TypeError(\"Only operations between REV are supported.\")\n",
    "        return self.range > other.range\n",
    "    \n",
    "    def __ge__(self, other):\n",
    "        if not type(other) == type(self):\n",
    "            raise TypeError(\"Only operations between REV are supported.\")\n",
    "        return self.range >= other.range"
   ]
  },
  {
   "cell_type": "code",
   "execution_count": 84,
   "metadata": {},
   "outputs": [],
   "source": [
    "rev1 = RegularElectricVehicle(140, \"Jeep\", 54000)\n",
    "rev2 = RegularElectricVehicle(140, \"Jeep\", 54000)\n",
    "rev3 = RegularElectricVehicle(141, \"Jeep\", 54000)"
   ]
  },
  {
   "cell_type": "code",
   "execution_count": 85,
   "metadata": {},
   "outputs": [
    {
     "data": {
      "text/plain": [
       "True"
      ]
     },
     "execution_count": 85,
     "metadata": {},
     "output_type": "execute_result"
    }
   ],
   "source": [
    "rev1 == rev2"
   ]
  },
  {
   "cell_type": "code",
   "execution_count": 86,
   "metadata": {},
   "outputs": [],
   "source": [
    "class RegularElectricVehicle:\n",
    "    def __init__(self, _range, make , price) -> None:\n",
    "        self.range = _range\n",
    "        self.make = make\n",
    "        self.price = price\n",
    "    \n",
    "    def __repr__(self) -> str:\n",
    "        return f\"{type(self).__name__} (range={self.range}, make='{self.make}', price={self.price})\"\n",
    "    \n",
    "    def __eq__(self, other) -> bool:\n",
    "        if not type(other) == type(self):\n",
    "            return False\n",
    "        return self.range == other.range and self.make == other.make and self.price == other.price\n",
    "    \n",
    "    def __gt__(self, other):\n",
    "        if not type(other) == type(self):\n",
    "            raise TypeError(\"Only operations between REV are supported.\")\n",
    "        return (other.range, other.make, other.price) < (self.range, self.make, self.price)\n",
    "    \n",
    "    def __ge__(self, other):\n",
    "        if not type(other) == type(self):\n",
    "            raise TypeError(\"Only operations between REV are supported.\")\n",
    "        return self.range >= other.range"
   ]
  },
  {
   "cell_type": "code",
   "execution_count": 87,
   "metadata": {},
   "outputs": [],
   "source": [
    "ev1 = ElectricVehicle(240, \"Mazda\", 34000)\n",
    "ev2 = ElectricVehicle(240, \"Mazda\", 34000)\n",
    "ev3 = ElectricVehicle(241, \"Mazda\", 34000)"
   ]
  },
  {
   "cell_type": "code",
   "execution_count": 88,
   "metadata": {},
   "outputs": [
    {
     "data": {
      "text/plain": [
       "True"
      ]
     },
     "execution_count": 88,
     "metadata": {},
     "output_type": "execute_result"
    }
   ],
   "source": [
    "ev3 > ev1"
   ]
  },
  {
   "cell_type": "markdown",
   "metadata": {},
   "source": [
    "# Type Hints"
   ]
  },
  {
   "cell_type": "code",
   "execution_count": 89,
   "metadata": {},
   "outputs": [],
   "source": [
    "@dataclass(order=True)\n",
    "class ElectricVehicle:\n",
    "    range: int\n",
    "    make: str\n",
    "    price: int"
   ]
  },
  {
   "cell_type": "markdown",
   "metadata": {},
   "source": [
    "```python\n",
    "Argument of type \"Literal['Andrew']\" cannot be assigned to parameter \"range\" of type \"int\" in function \"__init__\"\n",
    "  \"Literal['Andrew']\" is incompatible with \"int\"PylancereportGeneralTypeIssues\n",
    "```"
   ]
  },
  {
   "cell_type": "code",
   "execution_count": 90,
   "metadata": {},
   "outputs": [],
   "source": [
    "ec = ElectricVehicle(\"Andrew\", 10, 230000)"
   ]
  },
  {
   "cell_type": "code",
   "execution_count": 91,
   "metadata": {},
   "outputs": [
    {
     "data": {
      "text/plain": [
       "'Andrew'"
      ]
     },
     "execution_count": 91,
     "metadata": {},
     "output_type": "execute_result"
    }
   ],
   "source": [
    "ec.range"
   ]
  },
  {
   "cell_type": "code",
   "execution_count": 92,
   "metadata": {},
   "outputs": [],
   "source": [
    "from typing import Any"
   ]
  },
  {
   "cell_type": "code",
   "execution_count": 93,
   "metadata": {},
   "outputs": [],
   "source": [
    "from dataclasses import dataclass"
   ]
  },
  {
   "cell_type": "code",
   "execution_count": 94,
   "metadata": {},
   "outputs": [],
   "source": [
    "@dataclass(order=True)\n",
    "class ElectricVehicle:\n",
    "    range: Any\n",
    "    make: str\n",
    "    price: int"
   ]
  },
  {
   "cell_type": "code",
   "execution_count": 95,
   "metadata": {},
   "outputs": [],
   "source": [
    "ec = ElectricVehicle(\"Andrew\", \"Tesla\", 230000)"
   ]
  },
  {
   "cell_type": "code",
   "execution_count": 96,
   "metadata": {},
   "outputs": [],
   "source": [
    "@dataclass(order=True)\n",
    "class ElectricVehicle:\n",
    "    range: object\n",
    "    make: object\n",
    "    price: object"
   ]
  },
  {
   "cell_type": "code",
   "execution_count": 97,
   "metadata": {},
   "outputs": [],
   "source": [
    "@dataclass(order=True)\n",
    "class ElectricVehicle:\n",
    "    range: ...\n",
    "    make: ...\n",
    "    price: ..."
   ]
  },
  {
   "cell_type": "code",
   "execution_count": 98,
   "metadata": {},
   "outputs": [],
   "source": [
    "ec = ElectricVehicle(\"Andrew\", \"Tesla\", 230000)"
   ]
  },
  {
   "cell_type": "markdown",
   "metadata": {},
   "source": [
    "# Customizing Fields"
   ]
  },
  {
   "cell_type": "code",
   "execution_count": 99,
   "metadata": {},
   "outputs": [],
   "source": [
    "@dataclass(order=True)\n",
    "class ElectricVehicle:\n",
    "    range: int\n",
    "    make: str\n",
    "    price: int"
   ]
  },
  {
   "cell_type": "code",
   "execution_count": 100,
   "metadata": {},
   "outputs": [],
   "source": [
    "# fields"
   ]
  },
  {
   "cell_type": "code",
   "execution_count": 101,
   "metadata": {},
   "outputs": [],
   "source": [
    "@dataclass(order=True)\n",
    "class ElectricVehicle:\n",
    "    range: int\n",
    "    make: str = \"Tesla\"\n",
    "    price: int = 56000"
   ]
  },
  {
   "cell_type": "code",
   "execution_count": 102,
   "metadata": {},
   "outputs": [],
   "source": [
    "ev = ElectricVehicle(420)"
   ]
  },
  {
   "cell_type": "code",
   "execution_count": 103,
   "metadata": {},
   "outputs": [
    {
     "data": {
      "text/plain": [
       "'Tesla'"
      ]
     },
     "execution_count": 103,
     "metadata": {},
     "output_type": "execute_result"
    }
   ],
   "source": [
    "ev.make"
   ]
  },
  {
   "cell_type": "code",
   "execution_count": 104,
   "metadata": {},
   "outputs": [
    {
     "data": {
      "text/plain": [
       "ElectricVehicle(range=420, make='Tesla', price=56000)"
      ]
     },
     "execution_count": 104,
     "metadata": {},
     "output_type": "execute_result"
    }
   ],
   "source": [
    "ev"
   ]
  },
  {
   "cell_type": "code",
   "execution_count": 105,
   "metadata": {},
   "outputs": [
    {
     "data": {
      "text/plain": [
       "{'range': 420, 'make': 'Tesla', 'price': 56000}"
      ]
     },
     "execution_count": 105,
     "metadata": {},
     "output_type": "execute_result"
    }
   ],
   "source": [
    "ev.__dict__"
   ]
  },
  {
   "cell_type": "code",
   "execution_count": 106,
   "metadata": {},
   "outputs": [],
   "source": [
    "from dataclasses import field"
   ]
  },
  {
   "cell_type": "code",
   "execution_count": 107,
   "metadata": {},
   "outputs": [],
   "source": [
    "@dataclass(order=True)\n",
    "class ElectricVehicle:\n",
    "    range: int = field(compare=True)\n",
    "    make: str = field(default=\"Tesla\", compare=False)\n",
    "    price: int = field(default=56000, repr=False, compare=False)"
   ]
  },
  {
   "cell_type": "code",
   "execution_count": 108,
   "metadata": {},
   "outputs": [
    {
     "data": {
      "text/plain": [
       "{'range': 420, 'make': 'Tesla', 'price': 56000}"
      ]
     },
     "execution_count": 108,
     "metadata": {},
     "output_type": "execute_result"
    }
   ],
   "source": [
    "ev = ElectricVehicle(420)\n",
    "ev2 = ElectricVehicle(421)\n",
    "ev.__dict__"
   ]
  },
  {
   "cell_type": "code",
   "execution_count": 109,
   "metadata": {},
   "outputs": [
    {
     "data": {
      "text/plain": [
       "ElectricVehicle(range=420, make='Tesla')"
      ]
     },
     "execution_count": 109,
     "metadata": {},
     "output_type": "execute_result"
    }
   ],
   "source": [
    "ev"
   ]
  },
  {
   "cell_type": "code",
   "execution_count": 110,
   "metadata": {},
   "outputs": [
    {
     "data": {
      "text/plain": [
       "False"
      ]
     },
     "execution_count": 110,
     "metadata": {},
     "output_type": "execute_result"
    }
   ],
   "source": [
    "ev > ev2"
   ]
  },
  {
   "cell_type": "code",
   "execution_count": 111,
   "metadata": {},
   "outputs": [
    {
     "data": {
      "text/plain": [
       "True"
      ]
     },
     "execution_count": 111,
     "metadata": {},
     "output_type": "execute_result"
    }
   ],
   "source": [
    "ev2 > ev"
   ]
  },
  {
   "cell_type": "code",
   "execution_count": 112,
   "metadata": {},
   "outputs": [],
   "source": [
    "from functools import total_ordering\n",
    "\n",
    "@total_ordering\n",
    "@dataclass\n",
    "class ElectricVehicle:\n",
    "    range: int = field()\n",
    "    make: str = field(default=\"Tesla\")\n",
    "    price: int = field(default=56000, repr=False)\n",
    "\n",
    "    def __gt__(self, other):\n",
    "        if not type(self) == type(other):\n",
    "            return NotImplemented\n",
    "        \n",
    "        return self.price < other.price"
   ]
  },
  {
   "cell_type": "code",
   "execution_count": 113,
   "metadata": {},
   "outputs": [],
   "source": [
    "ev = ElectricVehicle(range=420)\n",
    "ev2 = ElectricVehicle(range=421, price=56001)"
   ]
  },
  {
   "cell_type": "code",
   "execution_count": 114,
   "metadata": {},
   "outputs": [
    {
     "data": {
      "text/plain": [
       "True"
      ]
     },
     "execution_count": 114,
     "metadata": {},
     "output_type": "execute_result"
    }
   ],
   "source": [
    "ev > ev2"
   ]
  },
  {
   "cell_type": "code",
   "execution_count": 115,
   "metadata": {},
   "outputs": [
    {
     "data": {
      "text/plain": [
       "False"
      ]
     },
     "execution_count": 115,
     "metadata": {},
     "output_type": "execute_result"
    }
   ],
   "source": [
    "ev2 > ev"
   ]
  },
  {
   "cell_type": "code",
   "execution_count": 116,
   "metadata": {},
   "outputs": [
    {
     "data": {
      "text/plain": [
       "(ElectricVehicle(range=420, make='Tesla'),\n",
       " ElectricVehicle(range=421, make='Tesla'))"
      ]
     },
     "execution_count": 116,
     "metadata": {},
     "output_type": "execute_result"
    }
   ],
   "source": [
    "ev, ev2"
   ]
  },
  {
   "cell_type": "code",
   "execution_count": 117,
   "metadata": {},
   "outputs": [
    {
     "data": {
      "text/plain": [
       "True"
      ]
     },
     "execution_count": 117,
     "metadata": {},
     "output_type": "execute_result"
    }
   ],
   "source": [
    "ev >= ev2"
   ]
  },
  {
   "cell_type": "code",
   "execution_count": 118,
   "metadata": {},
   "outputs": [
    {
     "data": {
      "text/plain": [
       "False"
      ]
     },
     "execution_count": 118,
     "metadata": {},
     "output_type": "execute_result"
    }
   ],
   "source": [
    "ev <= ev2"
   ]
  },
  {
   "cell_type": "code",
   "execution_count": 119,
   "metadata": {},
   "outputs": [
    {
     "data": {
      "text/plain": [
       "False"
      ]
     },
     "execution_count": 119,
     "metadata": {},
     "output_type": "execute_result"
    }
   ],
   "source": [
    "ev == ev2"
   ]
  },
  {
   "cell_type": "markdown",
   "metadata": {},
   "source": [
    "# BONUS: Further Customization"
   ]
  },
  {
   "cell_type": "code",
   "execution_count": 120,
   "metadata": {},
   "outputs": [],
   "source": [
    "@dataclass(order=True)\n",
    "class ElectricVehicle:\n",
    "    range: int = field(compare=True)\n",
    "    make: str = field(default=\"Tesla\", compare=False)\n",
    "    price: int = field(default=56000, repr=False, compare=False)\n",
    "    luxury: bool = field(default=False)"
   ]
  },
  {
   "cell_type": "markdown",
   "metadata": {},
   "source": [
    "What is luxury?\n",
    "\n",
    "* a price that is greater than 80k and\n",
    "* a make that is BMW, Mercedez or Tesla"
   ]
  },
  {
   "cell_type": "code",
   "execution_count": 121,
   "metadata": {},
   "outputs": [],
   "source": [
    "ev_1 = ElectricVehicle(100, \"Tesla\" , 40000, False)\n",
    "ev_2 = ElectricVehicle(100, \"BMW\" , 140000, False)\n",
    "ev_3 = ElectricVehicle(100, \"Audi\" , 30000, False)"
   ]
  },
  {
   "cell_type": "code",
   "execution_count": 122,
   "metadata": {},
   "outputs": [],
   "source": [
    "@dataclass(order=True)\n",
    "class ElectricVehicle:\n",
    "    range: int = field(compare=True)\n",
    "    make: str = field(default=\"Tesla\", compare=False)\n",
    "    price: int = field(default=56000, repr=False, compare=False)\n",
    "    luxury: bool = False\n",
    "\n",
    "    def __post_init__(self):\n",
    "        luxury_brands = [\"BMW\", \"Mercedes\", \"Tesla\"]\n",
    "        self.luxury = self.make in luxury_brands and self.price > 80000\n"
   ]
  },
  {
   "cell_type": "code",
   "execution_count": 123,
   "metadata": {},
   "outputs": [
    {
     "data": {
      "text/plain": [
       "{'range': 100, 'make': 'Tesla', 'price': 80001, 'luxury': True}"
      ]
     },
     "execution_count": 123,
     "metadata": {},
     "output_type": "execute_result"
    }
   ],
   "source": [
    "ev_5 = ElectricVehicle(100, \"Tesla\" , 80001)\n",
    "ev_5.__dict__"
   ]
  },
  {
   "cell_type": "code",
   "execution_count": 124,
   "metadata": {},
   "outputs": [
    {
     "data": {
      "text/plain": [
       "True"
      ]
     },
     "execution_count": 124,
     "metadata": {},
     "output_type": "execute_result"
    }
   ],
   "source": [
    "ev_2 = ElectricVehicle(100, \"BMW\" , 140000, False)\n",
    "ev_2.luxury"
   ]
  },
  {
   "cell_type": "code",
   "execution_count": 125,
   "metadata": {},
   "outputs": [],
   "source": [
    "@dataclass(order=True)\n",
    "class ElectricVehicle:\n",
    "    range: int = field(compare=True)\n",
    "    make: str = field(default=\"Tesla\", compare=False)\n",
    "    price: int = field(default=56000, repr=False, compare=False)\n",
    "    luxury: bool = None\n",
    "\n",
    "    def __post_init__(self):\n",
    "        luxury_brands = [\"BMW\", \"Mercedes\", \"Tesla\"]\n",
    "        if self.luxury is None:\n",
    "            self.luxury = self.make in luxury_brands and self.price > 80000\n"
   ]
  },
  {
   "cell_type": "code",
   "execution_count": 126,
   "metadata": {},
   "outputs": [
    {
     "data": {
      "text/plain": [
       "False"
      ]
     },
     "execution_count": 126,
     "metadata": {},
     "output_type": "execute_result"
    }
   ],
   "source": [
    "ev_2 = ElectricVehicle(100, \"BMW\" , 140000, False)\n",
    "ev_2.luxury"
   ]
  },
  {
   "cell_type": "code",
   "execution_count": 127,
   "metadata": {},
   "outputs": [
    {
     "data": {
      "text/plain": [
       "{'range': 100, 'make': 'BMW', 'price': 140000, 'luxury': False}"
      ]
     },
     "execution_count": 127,
     "metadata": {},
     "output_type": "execute_result"
    }
   ],
   "source": [
    "ev_2.__dict__"
   ]
  },
  {
   "cell_type": "code",
   "execution_count": 128,
   "metadata": {},
   "outputs": [],
   "source": [
    "@dataclass(order=True)\n",
    "class ElectricVehicle:\n",
    "    LUXURY_BRANDS = (\"BMW\", \"Mercedes\", \"Tesla\")\n",
    "\n",
    "    range: int = field(compare=True)\n",
    "    make: str = field(default=\"Tesla\", compare=False)\n",
    "    price: int = field(default=56000, repr=False, compare=False)\n",
    "    luxury: bool = None\n",
    "\n",
    "    def __post_init__(self):\n",
    "        if self.luxury is None:\n",
    "            self.luxury = self.make in self.LUXURY_BRANDS and self.price > 80000\n"
   ]
  },
  {
   "cell_type": "code",
   "execution_count": 129,
   "metadata": {},
   "outputs": [
    {
     "data": {
      "text/plain": [
       "False"
      ]
     },
     "execution_count": 129,
     "metadata": {},
     "output_type": "execute_result"
    }
   ],
   "source": [
    "ev_2 = ElectricVehicle(100, \"BMW\" , 140000, False)\n",
    "ev_2.luxury"
   ]
  },
  {
   "cell_type": "code",
   "execution_count": 130,
   "metadata": {},
   "outputs": [
    {
     "data": {
      "text/plain": [
       "{'range': 100, 'make': 'Tesla', 'price': 80001, 'luxury': True}"
      ]
     },
     "execution_count": 130,
     "metadata": {},
     "output_type": "execute_result"
    }
   ],
   "source": [
    "ev_5 = ElectricVehicle(100, \"Tesla\" , 80001)\n",
    "ev_5.__dict__"
   ]
  },
  {
   "cell_type": "markdown",
   "metadata": {},
   "source": [
    "# Immutavility"
   ]
  },
  {
   "cell_type": "code",
   "execution_count": 131,
   "metadata": {},
   "outputs": [],
   "source": [
    "@dataclass(order=True)\n",
    "class ElectricVehicle:\n",
    "    range: int = field(compare=True)\n",
    "    make: str = field(default=\"Tesla\", compare=False)\n",
    "    price: int = field(default=56000, repr=False, compare=False)"
   ]
  },
  {
   "cell_type": "code",
   "execution_count": 132,
   "metadata": {},
   "outputs": [],
   "source": [
    "ev = ElectricVehicle(100, \"Tesla\", 140000)"
   ]
  },
  {
   "cell_type": "code",
   "execution_count": 133,
   "metadata": {},
   "outputs": [],
   "source": [
    "ev.range = 200"
   ]
  },
  {
   "cell_type": "code",
   "execution_count": 134,
   "metadata": {},
   "outputs": [],
   "source": [
    "# read-nly rporperty"
   ]
  },
  {
   "cell_type": "code",
   "execution_count": 135,
   "metadata": {},
   "outputs": [],
   "source": [
    "class ElectricVehicle2:\n",
    "    def __init__(self, _range, make, price) -> None:\n",
    "        self.__range = _range\n",
    "        self.__make = make\n",
    "        self.__price = price\n",
    "\n",
    "    @property\n",
    "    def range(self):\n",
    "        return self.__range\n",
    "    \n",
    "    @property\n",
    "    def make(self):\n",
    "        return self.__make\n",
    "    \n",
    "    @property\n",
    "    def price(self):\n",
    "        return self.__price\n"
   ]
  },
  {
   "cell_type": "code",
   "execution_count": 136,
   "metadata": {},
   "outputs": [],
   "source": [
    "ev = ElectricVehicle2(100 , \"BMW\", 140000)"
   ]
  },
  {
   "cell_type": "code",
   "execution_count": 137,
   "metadata": {},
   "outputs": [
    {
     "data": {
      "text/plain": [
       "{'_ElectricVehicle2__range': 100,\n",
       " '_ElectricVehicle2__make': 'BMW',\n",
       " '_ElectricVehicle2__price': 140000}"
      ]
     },
     "execution_count": 137,
     "metadata": {},
     "output_type": "execute_result"
    }
   ],
   "source": [
    "ev.__dict__"
   ]
  },
  {
   "cell_type": "markdown",
   "metadata": {},
   "source": [
    "'''python\n",
    "ev.make = \"Weee\"\n",
    "'''"
   ]
  },
  {
   "cell_type": "markdown",
   "metadata": {},
   "source": [
    "```python\n",
    "---------------------------------------------------------------------------\n",
    "AttributeError                            Traceback (most recent call last)\n",
    "Cell In[140], line 1\n",
    "----> 1 ev.make = \"Weee\"\n",
    "\n",
    "AttributeError: property 'make' of 'ElectricVehicle2' object has no setter\n",
    "```"
   ]
  },
  {
   "cell_type": "code",
   "execution_count": 138,
   "metadata": {},
   "outputs": [],
   "source": [
    "@dataclass(order=True, frozen=True)\n",
    "class ElectricVehicle:\n",
    "    range: int = field(compare=True, hash=False)\n",
    "    make: str = field(default=\"Tesla\", compare=False)\n",
    "    price: int = field(default=56000, repr=False, compare=False)"
   ]
  },
  {
   "cell_type": "code",
   "execution_count": 139,
   "metadata": {},
   "outputs": [],
   "source": [
    "ev = ElectricVehicle(100 , \"BMW\", 140000)"
   ]
  },
  {
   "cell_type": "markdown",
   "metadata": {},
   "source": [
    "```python\n",
    "ev.make = \"Weee\"\n",
    "```"
   ]
  },
  {
   "cell_type": "markdown",
   "metadata": {},
   "source": [
    "```python\n",
    "\n",
    "---------------------------------------------------------------------------\n",
    "FrozenInstanceError                       Traceback (most recent call last)\n",
    "Cell In[286], line 1\n",
    "----> 1 ev.make = \"Weee\"\n",
    "\n",
    "File :4, in __setattr__(self, name, value)\n",
    "\n",
    "FrozenInstanceError: cannot assign to field 'make'\n",
    "```"
   ]
  },
  {
   "cell_type": "markdown",
   "metadata": {},
   "source": [
    "frozen = True -> immutable + hashable"
   ]
  },
  {
   "cell_type": "code",
   "execution_count": 140,
   "metadata": {},
   "outputs": [
    {
     "data": {
      "text/plain": [
       "{ElectricVehicle(range=100, make='BMW'): {'customers': 10,\n",
       "  'tags': ['dream car', 'superb']}}"
      ]
     },
     "execution_count": 140,
     "metadata": {},
     "output_type": "execute_result"
    }
   ],
   "source": [
    "{\n",
    "    ElectricVehicle(100, \"BMW\", 140000):{\n",
    "        \"customers\":10,\n",
    "        \"tags\":['dream car', \"superb\"]\n",
    "    }\n",
    "}"
   ]
  },
  {
   "cell_type": "code",
   "execution_count": 141,
   "metadata": {},
   "outputs": [],
   "source": [
    "ev = ElectricVehicle(100 , \"BMW\", 140000)\n",
    "ev2 = ElectricVehicle(120 , \"BMW\", 140000)"
   ]
  },
  {
   "cell_type": "code",
   "execution_count": 142,
   "metadata": {},
   "outputs": [
    {
     "data": {
      "text/plain": [
       "(5740354900026072187, 5740354900026072187)"
      ]
     },
     "execution_count": 142,
     "metadata": {},
     "output_type": "execute_result"
    }
   ],
   "source": [
    "hash(ev), hash(ev2)"
   ]
  },
  {
   "cell_type": "markdown",
   "metadata": {},
   "source": [
    "# Inheritance"
   ]
  },
  {
   "cell_type": "code",
   "execution_count": 151,
   "metadata": {},
   "outputs": [],
   "source": [
    "@dataclass(order=True)\n",
    "class ElectricVehicle:\n",
    "    range: int = field(compare=True, hash=False)\n",
    "    make: str = field(default=\"Tesla\", compare=False)\n",
    "    price: int = field(default=56000, repr=False, compare=False)"
   ]
  },
  {
   "cell_type": "code",
   "execution_count": 152,
   "metadata": {},
   "outputs": [],
   "source": [
    "@dataclass\n",
    "class LuxuriousElectricVehicle(ElectricVehicle): #LEV\n",
    "    displays: int = 3\n",
    "    scent_system: bool = True\n",
    "    internet: bool = True\n"
   ]
  },
  {
   "cell_type": "code",
   "execution_count": 153,
   "metadata": {},
   "outputs": [],
   "source": [
    "lev = LuxuriousElectricVehicle(100)"
   ]
  },
  {
   "cell_type": "code",
   "execution_count": 154,
   "metadata": {},
   "outputs": [
    {
     "data": {
      "text/plain": [
       "LuxuriousElectricVehicle(range=100, make='Tesla', displays=3, scent_system=True, internet=True)"
      ]
     },
     "execution_count": 154,
     "metadata": {},
     "output_type": "execute_result"
    }
   ],
   "source": [
    "lev"
   ]
  },
  {
   "cell_type": "code",
   "execution_count": 155,
   "metadata": {},
   "outputs": [
    {
     "data": {
      "text/plain": [
       "{'range': 100,\n",
       " 'make': 'Tesla',\n",
       " 'price': 56000,\n",
       " 'displays': 3,\n",
       " 'scent_system': True,\n",
       " 'internet': True}"
      ]
     },
     "execution_count": 155,
     "metadata": {},
     "output_type": "execute_result"
    }
   ],
   "source": [
    "lev.__dict__"
   ]
  },
  {
   "cell_type": "code",
   "execution_count": 156,
   "metadata": {},
   "outputs": [],
   "source": [
    "@dataclass(order=True)\n",
    "class ElectricVehicle:\n",
    "    range: int = field(compare=True, hash=False)\n",
    "    make: str = field(default=\"Tesla\", compare=False)\n",
    "    price: int = field(default=56000, repr=False, compare=False)"
   ]
  },
  {
   "cell_type": "code",
   "execution_count": 157,
   "metadata": {},
   "outputs": [],
   "source": [
    "@dataclass\n",
    "class LuxuriousElectricVehicle(ElectricVehicle): #LEV\n",
    "    displays: int = 3\n",
    "    scent_system: bool = True\n",
    "    internet: bool = True\n",
    "    price: int = 100000"
   ]
  },
  {
   "cell_type": "code",
   "execution_count": 158,
   "metadata": {},
   "outputs": [],
   "source": [
    "lev = LuxuriousElectricVehicle(100)"
   ]
  },
  {
   "cell_type": "code",
   "execution_count": 159,
   "metadata": {},
   "outputs": [
    {
     "data": {
      "text/plain": [
       "LuxuriousElectricVehicle(range=100, make='Tesla', price=100000, displays=3, scent_system=True, internet=True)"
      ]
     },
     "execution_count": 159,
     "metadata": {},
     "output_type": "execute_result"
    }
   ],
   "source": [
    "lev"
   ]
  },
  {
   "cell_type": "markdown",
   "metadata": {},
   "source": [
    "# Why Not just Namdetuples?"
   ]
  },
  {
   "cell_type": "code",
   "execution_count": 160,
   "metadata": {},
   "outputs": [],
   "source": [
    "from collections import namedtuple"
   ]
  },
  {
   "cell_type": "code",
   "execution_count": 161,
   "metadata": {},
   "outputs": [],
   "source": [
    "EVNT =namedtuple(\"ElectricVehicle\", ['range','make','price'])"
   ]
  },
  {
   "cell_type": "code",
   "execution_count": 163,
   "metadata": {},
   "outputs": [],
   "source": [
    "from dataclasses import make_dataclass"
   ]
  },
  {
   "cell_type": "code",
   "execution_count": 164,
   "metadata": {},
   "outputs": [],
   "source": [
    "EVDC = make_dataclass(\"ElectricVehicle\", ['range','make','price'])"
   ]
  },
  {
   "cell_type": "code",
   "execution_count": 165,
   "metadata": {},
   "outputs": [
    {
     "data": {
      "text/plain": [
       "ElectricVehicle(range=100, make='BMD', price=74000)"
      ]
     },
     "execution_count": 165,
     "metadata": {},
     "output_type": "execute_result"
    }
   ],
   "source": [
    "EVNT(100,\"BMD\",74000)"
   ]
  },
  {
   "cell_type": "code",
   "execution_count": 166,
   "metadata": {},
   "outputs": [],
   "source": [
    "LEVNT = namedtuple(\"LuxuriousElectricVehicle\", [\"mini_displays\",'scent_system','internet'])"
   ]
  },
  {
   "cell_type": "code",
   "execution_count": 167,
   "metadata": {},
   "outputs": [
    {
     "data": {
      "text/plain": [
       "LuxuriousElectricVehicle(mini_displays=100, scent_system='BMD', internet=74000)"
      ]
     },
     "execution_count": 167,
     "metadata": {},
     "output_type": "execute_result"
    }
   ],
   "source": [
    "LEVNT(100,\"BMD\",74000)"
   ]
  },
  {
   "cell_type": "code",
   "execution_count": 168,
   "metadata": {},
   "outputs": [
    {
     "data": {
      "text/plain": [
       "False"
      ]
     },
     "execution_count": 168,
     "metadata": {},
     "output_type": "execute_result"
    }
   ],
   "source": [
    "EVNT == LEVNT"
   ]
  },
  {
   "cell_type": "code",
   "execution_count": 169,
   "metadata": {},
   "outputs": [
    {
     "data": {
      "text/plain": [
       "True"
      ]
     },
     "execution_count": 169,
     "metadata": {},
     "output_type": "execute_result"
    }
   ],
   "source": [
    "(100,\"BMD\",74000) == (100,\"BMD\",74000)"
   ]
  },
  {
   "cell_type": "code",
   "execution_count": 176,
   "metadata": {},
   "outputs": [],
   "source": [
    "@dataclass\n",
    "class ElectricVehicle:\n",
    "    range: int\n",
    "    make: str\n",
    "    price: int\n",
    "\n",
    "@dataclass\n",
    "class LuxuriousElectricVehicle:\n",
    "    mini_displays: int\n",
    "    scent_system: str\n",
    "    internet: int"
   ]
  },
  {
   "cell_type": "code",
   "execution_count": 180,
   "metadata": {},
   "outputs": [
    {
     "data": {
      "text/plain": [
       "False"
      ]
     },
     "execution_count": 180,
     "metadata": {},
     "output_type": "execute_result"
    }
   ],
   "source": [
    "ElectricVehicle(100,\"BMW\",74000) == LuxuriousElectricVehicle(100,\"BMW\",74000)"
   ]
  },
  {
   "cell_type": "code",
   "execution_count": 182,
   "metadata": {},
   "outputs": [
    {
     "data": {
      "text/plain": [
       "LuxuriousElectricVehicle(mini_displays=100, scent_system='BMW', internet=74000)"
      ]
     },
     "execution_count": 182,
     "metadata": {},
     "output_type": "execute_result"
    }
   ],
   "source": [
    "LEVNT(100,\"BMW\",74000)"
   ]
  },
  {
   "cell_type": "code",
   "execution_count": 183,
   "metadata": {},
   "outputs": [],
   "source": [
    "LEVNT = namedtuple(\"LuxuriousElectricVehicle\", [\"mini_displays\",'scent_system','internet'] , defaults=(100,))"
   ]
  },
  {
   "cell_type": "code",
   "execution_count": 184,
   "metadata": {},
   "outputs": [
    {
     "data": {
      "text/plain": [
       "LuxuriousElectricVehicle(mini_displays='BMW', scent_system=74000, internet=100)"
      ]
     },
     "execution_count": 184,
     "metadata": {},
     "output_type": "execute_result"
    }
   ],
   "source": [
    "LEVNT(\"BMW\",74000)"
   ]
  },
  {
   "cell_type": "markdown",
   "metadata": {},
   "source": [
    "# Skill Challange #10"
   ]
  },
  {
   "cell_type": "code",
   "execution_count": 185,
   "metadata": {},
   "outputs": [],
   "source": [
    "@dataclass(frozen=True)\n",
    "class Stock:\n",
    "    ticker: str\n",
    "    price: float\n",
    "    dividend: float = 0\n",
    "    dividend_frequency: int = 4\n",
    "\n",
    "    @property\n",
    "    def annual_dividend(self):\n",
    "        return self.dividend * self.dividend_frequency\n"
   ]
  },
  {
   "cell_type": "code",
   "execution_count": 189,
   "metadata": {},
   "outputs": [],
   "source": [
    "from functools import total_ordering\n",
    "\n",
    "@dataclass\n",
    "@total_ordering\n",
    "class Position:\n",
    "    stock: Stock\n",
    "    shares: int\n",
    "\n",
    "    def __lt__(self, other):\n",
    "        if type(other) != Position:\n",
    "            raise TypeError(\"Can only compare instance of Position\")\n",
    "\n",
    "        return self.stock.price * self.shares < other.stock.price * other.shares\n",
    "\n",
    "    def __eq__(self, other):\n",
    "        if type(other) != Position:\n",
    "            raise TypeError(\"Can only compare instance of Position\")\n",
    "\n",
    "        return self.stock.price * self.shares == other.stock.price * other.shares"
   ]
  },
  {
   "cell_type": "code",
   "execution_count": 190,
   "metadata": {},
   "outputs": [],
   "source": [
    "\n",
    "from typing import List\n",
    "\n",
    "@dataclass\n",
    "class Portfolio:\n",
    "    holdings: List[Position]\n",
    "\n",
    "    @property\n",
    "    def value(self):\n",
    "        total_value = sum([position.stock.price * position.shares for position in self.holdings])\n",
    "        return total_value\n",
    "\n",
    "    @property\n",
    "    def portfolio_yield(self):\n",
    "        total_dividends = sum([position.stock.annual_dividend * position.shares for position in self.holdings])\n",
    "\n",
    "        return round((total_dividends / self.value), 6)"
   ]
  },
  {
   "cell_type": "code",
   "execution_count": 191,
   "metadata": {},
   "outputs": [],
   "source": [
    "MSFT = Stock(ticker='MSFT', price=360, dividend=0.62, dividend_frequency=4)"
   ]
  },
  {
   "cell_type": "code",
   "execution_count": 192,
   "metadata": {},
   "outputs": [],
   "source": [
    "LMT = Stock(\"LMT\",360,2.8,4)"
   ]
  },
  {
   "cell_type": "code",
   "execution_count": 193,
   "metadata": {},
   "outputs": [],
   "source": [
    "GOOGL = Stock(\"GOOGL\", 2200, 0 ,0)"
   ]
  },
  {
   "cell_type": "code",
   "execution_count": 194,
   "metadata": {},
   "outputs": [
    {
     "data": {
      "text/plain": [
       "Stock(ticker='LMT', price=360, dividend=2.8, dividend_frequency=4)"
      ]
     },
     "execution_count": 194,
     "metadata": {},
     "output_type": "execute_result"
    }
   ],
   "source": [
    "LMT"
   ]
  },
  {
   "cell_type": "code",
   "execution_count": 195,
   "metadata": {},
   "outputs": [
    {
     "data": {
      "text/plain": [
       "Stock(ticker='MSFT', price=360, dividend=0.62, dividend_frequency=4)"
      ]
     },
     "execution_count": 195,
     "metadata": {},
     "output_type": "execute_result"
    }
   ],
   "source": [
    "MSFT"
   ]
  },
  {
   "cell_type": "code",
   "execution_count": 196,
   "metadata": {},
   "outputs": [
    {
     "data": {
      "text/plain": [
       "Stock(ticker='GOOGL', price=2200, dividend=0, dividend_frequency=0)"
      ]
     },
     "execution_count": 196,
     "metadata": {},
     "output_type": "execute_result"
    }
   ],
   "source": [
    "GOOGL"
   ]
  },
  {
   "cell_type": "code",
   "execution_count": 197,
   "metadata": {},
   "outputs": [
    {
     "data": {
      "text/plain": [
       "11.2"
      ]
     },
     "execution_count": 197,
     "metadata": {},
     "output_type": "execute_result"
    }
   ],
   "source": [
    "LMT.annual_dividend"
   ]
  },
  {
   "cell_type": "code",
   "execution_count": 198,
   "metadata": {},
   "outputs": [
    {
     "data": {
      "text/plain": [
       "2.48"
      ]
     },
     "execution_count": 198,
     "metadata": {},
     "output_type": "execute_result"
    }
   ],
   "source": [
    "MSFT.annual_dividend"
   ]
  },
  {
   "cell_type": "code",
   "execution_count": 199,
   "metadata": {},
   "outputs": [
    {
     "data": {
      "text/plain": [
       "0"
      ]
     },
     "execution_count": 199,
     "metadata": {},
     "output_type": "execute_result"
    }
   ],
   "source": [
    "GOOGL.annual_dividend"
   ]
  },
  {
   "cell_type": "code",
   "execution_count": 207,
   "metadata": {},
   "outputs": [],
   "source": [
    "p1 = Position(MSFT, 100)\n",
    "p2 = Position(LMT, 100)\n",
    "p3 = Position(GOOGL, 10)"
   ]
  },
  {
   "cell_type": "code",
   "execution_count": 208,
   "metadata": {},
   "outputs": [
    {
     "data": {
      "text/plain": [
       "Position(stock=Stock(ticker='MSFT', price=360, dividend=0.62, dividend_frequency=4), shares=100)"
      ]
     },
     "execution_count": 208,
     "metadata": {},
     "output_type": "execute_result"
    }
   ],
   "source": [
    "p1"
   ]
  },
  {
   "cell_type": "code",
   "execution_count": 209,
   "metadata": {},
   "outputs": [
    {
     "data": {
      "text/plain": [
       "Position(stock=Stock(ticker='LMT', price=360, dividend=2.8, dividend_frequency=4), shares=100)"
      ]
     },
     "execution_count": 209,
     "metadata": {},
     "output_type": "execute_result"
    }
   ],
   "source": [
    "p2"
   ]
  },
  {
   "cell_type": "code",
   "execution_count": 210,
   "metadata": {},
   "outputs": [
    {
     "data": {
      "text/plain": [
       "Position(stock=Stock(ticker='GOOGL', price=2200, dividend=0, dividend_frequency=0), shares=10)"
      ]
     },
     "execution_count": 210,
     "metadata": {},
     "output_type": "execute_result"
    }
   ],
   "source": [
    "p3"
   ]
  },
  {
   "cell_type": "code",
   "execution_count": 211,
   "metadata": {},
   "outputs": [
    {
     "data": {
      "text/plain": [
       "True"
      ]
     },
     "execution_count": 211,
     "metadata": {},
     "output_type": "execute_result"
    }
   ],
   "source": [
    "p1 == p2"
   ]
  },
  {
   "cell_type": "code",
   "execution_count": 212,
   "metadata": {},
   "outputs": [
    {
     "data": {
      "text/plain": [
       "False"
      ]
     },
     "execution_count": 212,
     "metadata": {},
     "output_type": "execute_result"
    }
   ],
   "source": [
    "p1 <= p3"
   ]
  },
  {
   "cell_type": "code",
   "execution_count": 213,
   "metadata": {},
   "outputs": [],
   "source": [
    "portfolio = Portfolio(holdings=[p1,p2,p3])"
   ]
  },
  {
   "cell_type": "code",
   "execution_count": 214,
   "metadata": {},
   "outputs": [
    {
     "data": {
      "text/plain": [
       "0.014553"
      ]
     },
     "execution_count": 214,
     "metadata": {},
     "output_type": "execute_result"
    }
   ],
   "source": [
    "portfolio.portfolio_yield"
   ]
  },
  {
   "cell_type": "code",
   "execution_count": 215,
   "metadata": {},
   "outputs": [
    {
     "data": {
      "text/plain": [
       "'1.46%'"
      ]
     },
     "execution_count": 215,
     "metadata": {},
     "output_type": "execute_result"
    }
   ],
   "source": [
    "f\"{portfolio.portfolio_yield:.2%}\""
   ]
  },
  {
   "cell_type": "code",
   "execution_count": 216,
   "metadata": {},
   "outputs": [
    {
     "data": {
      "text/plain": [
       "94000"
      ]
     },
     "execution_count": 216,
     "metadata": {},
     "output_type": "execute_result"
    }
   ],
   "source": [
    "portfolio.value"
   ]
  },
  {
   "cell_type": "code",
   "execution_count": 217,
   "metadata": {},
   "outputs": [
    {
     "data": {
      "text/plain": [
       "'94,000.00'"
      ]
     },
     "execution_count": 217,
     "metadata": {},
     "output_type": "execute_result"
    }
   ],
   "source": [
    "f\"{portfolio.value:,.2f}\""
   ]
  },
  {
   "cell_type": "code",
   "execution_count": null,
   "metadata": {},
   "outputs": [],
   "source": []
  }
 ],
 "metadata": {
  "kernelspec": {
   "display_name": "Python 3",
   "language": "python",
   "name": "python3"
  },
  "language_info": {
   "codemirror_mode": {
    "name": "ipython",
    "version": 3
   },
   "file_extension": ".py",
   "mimetype": "text/x-python",
   "name": "python",
   "nbconvert_exporter": "python",
   "pygments_lexer": "ipython3",
   "version": "3.11.3"
  },
  "orig_nbformat": 4
 },
 "nbformat": 4,
 "nbformat_minor": 2
}
