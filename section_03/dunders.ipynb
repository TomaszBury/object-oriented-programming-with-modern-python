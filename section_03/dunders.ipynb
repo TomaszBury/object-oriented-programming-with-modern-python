{
 "cells": [
  {
   "attachments": {},
   "cell_type": "markdown",
   "metadata": {},
   "source": [
    "# Let's Add A __repr__ "
   ]
  },
  {
   "cell_type": "code",
   "execution_count": 1,
   "metadata": {},
   "outputs": [],
   "source": [
    "class Book:\n",
    "    def __init__(self, title, author, book_type, pages):\n",
    "        self.title = title\n",
    "        self.author = author\n",
    "        self.book_type = book_type\n",
    "        self.pages = pages"
   ]
  },
  {
   "cell_type": "code",
   "execution_count": 2,
   "metadata": {},
   "outputs": [],
   "source": [
    "b = Book('Antyfragile', 'Nassim Taleb', 'Non-fiction', 519)"
   ]
  },
  {
   "cell_type": "code",
   "execution_count": 3,
   "metadata": {},
   "outputs": [
    {
     "data": {
      "text/plain": [
       "<__main__.Book at 0x107e64e10>"
      ]
     },
     "execution_count": 3,
     "metadata": {},
     "output_type": "execute_result"
    }
   ],
   "source": [
    "b"
   ]
  },
  {
   "cell_type": "code",
   "execution_count": 4,
   "metadata": {},
   "outputs": [
    {
     "data": {
      "text/plain": [
       "'<__main__.Book object at 0x107e64e10>'"
      ]
     },
     "execution_count": 4,
     "metadata": {},
     "output_type": "execute_result"
    }
   ],
   "source": [
    "repr(b)"
   ]
  },
  {
   "cell_type": "code",
   "execution_count": 5,
   "metadata": {},
   "outputs": [],
   "source": [
    "class Book:\n",
    "    def __init__(self, title, author, book_type, pages):\n",
    "        self.title = title\n",
    "        self.author = author\n",
    "        self.book_type = book_type\n",
    "        self.pages = pages\n",
    "\n",
    "    def __repr__(self) -> str:\n",
    "        return f'The title is: {self.title}'"
   ]
  },
  {
   "cell_type": "code",
   "execution_count": 6,
   "metadata": {},
   "outputs": [],
   "source": [
    "b = Book('Antyfragile', 'Nassim Taleb', 'Non-fiction', 519)"
   ]
  },
  {
   "cell_type": "code",
   "execution_count": 7,
   "metadata": {},
   "outputs": [
    {
     "data": {
      "text/plain": [
       "The title is: Antyfragile"
      ]
     },
     "execution_count": 7,
     "metadata": {},
     "output_type": "execute_result"
    }
   ],
   "source": [
    "b"
   ]
  },
  {
   "cell_type": "code",
   "execution_count": 8,
   "metadata": {},
   "outputs": [
    {
     "data": {
      "text/plain": [
       "'The title is: Antyfragile'"
      ]
     },
     "execution_count": 8,
     "metadata": {},
     "output_type": "execute_result"
    }
   ],
   "source": [
    "repr(b)"
   ]
  },
  {
   "cell_type": "code",
   "execution_count": 9,
   "metadata": {},
   "outputs": [],
   "source": [
    "b_2 = Book(\"America's Bank\", 'Roger Lowenstein', 'Paperback', 368)"
   ]
  },
  {
   "cell_type": "code",
   "execution_count": 10,
   "metadata": {},
   "outputs": [
    {
     "data": {
      "text/plain": [
       "The title is: America's Bank"
      ]
     },
     "execution_count": 10,
     "metadata": {},
     "output_type": "execute_result"
    }
   ],
   "source": [
    "b_2"
   ]
  },
  {
   "cell_type": "code",
   "execution_count": 11,
   "metadata": {},
   "outputs": [
    {
     "name": "stdout",
     "output_type": "stream",
     "text": [
      "The title is: America's Bank\n"
     ]
    }
   ],
   "source": [
    "print(b_2)"
   ]
  },
  {
   "cell_type": "code",
   "execution_count": 12,
   "metadata": {},
   "outputs": [
    {
     "name": "stdout",
     "output_type": "stream",
     "text": [
      "The title is: Antyfragile\n"
     ]
    }
   ],
   "source": [
    "print(b)"
   ]
  },
  {
   "attachments": {},
   "cell_type": "markdown",
   "metadata": {},
   "source": [
    "# __repr__ vs __str__"
   ]
  },
  {
   "cell_type": "code",
   "execution_count": 13,
   "metadata": {},
   "outputs": [],
   "source": [
    "class Book:\n",
    "    def __init__(self, title, author, book_type, pages):\n",
    "        self.title = title\n",
    "        self.author = author\n",
    "        self.book_type = book_type\n",
    "        self.pages = pages\n",
    "\n",
    "    def __repr__(self) -> str:\n",
    "        return f'The title is: {self.title}'\n",
    "    \n",
    "    def __str__(self) -> str:\n",
    "        return f\"{self.title}, by {self.author}, in {self.book_type}\""
   ]
  },
  {
   "cell_type": "code",
   "execution_count": 14,
   "metadata": {},
   "outputs": [],
   "source": [
    "b = Book('Antyfragile', 'Nassim Taleb', 'Non-fiction', 519)"
   ]
  },
  {
   "cell_type": "code",
   "execution_count": 15,
   "metadata": {},
   "outputs": [
    {
     "data": {
      "text/plain": [
       "'Antyfragile, by Nassim Taleb, in Non-fiction'"
      ]
     },
     "execution_count": 15,
     "metadata": {},
     "output_type": "execute_result"
    }
   ],
   "source": [
    "str(b)"
   ]
  },
  {
   "cell_type": "code",
   "execution_count": 16,
   "metadata": {},
   "outputs": [
    {
     "name": "stdout",
     "output_type": "stream",
     "text": [
      "Antyfragile, by Nassim Taleb, in Non-fiction\n"
     ]
    }
   ],
   "source": [
    "print(b)"
   ]
  },
  {
   "cell_type": "code",
   "execution_count": 17,
   "metadata": {},
   "outputs": [
    {
     "data": {
      "text/plain": [
       "'The title is: Antyfragile'"
      ]
     },
     "execution_count": 17,
     "metadata": {},
     "output_type": "execute_result"
    }
   ],
   "source": [
    "repr(b)"
   ]
  },
  {
   "attachments": {},
   "cell_type": "markdown",
   "metadata": {},
   "source": [
    "## __str__ --> informal for end user\n",
    "## __repr__ --> more dev/code user oriented"
   ]
  },
  {
   "cell_type": "code",
   "execution_count": 18,
   "metadata": {},
   "outputs": [],
   "source": [
    "class Book:\n",
    "    def __init__(self, title, author, book_type, pages):\n",
    "        self.title = title\n",
    "        self.author = author\n",
    "        self.book_type = book_type\n",
    "        self.pages = pages\n",
    "\n",
    "    def __repr__(self) -> str:\n",
    "        return f'Attributes: {self.title}, {self.author}, {self.book_type}, {self.pages}'\n",
    "    \n",
    "    def __str__(self) -> str:\n",
    "        return f\"{self.title}, by {self.author}, in {self.book_type}\""
   ]
  },
  {
   "cell_type": "code",
   "execution_count": 19,
   "metadata": {},
   "outputs": [],
   "source": [
    "b = Book('Antyfragile', 'Nassim Taleb', 'Non-fiction', 519)"
   ]
  },
  {
   "cell_type": "code",
   "execution_count": 20,
   "metadata": {},
   "outputs": [
    {
     "data": {
      "text/plain": [
       "{'title': 'Antyfragile',\n",
       " 'author': 'Nassim Taleb',\n",
       " 'book_type': 'Non-fiction',\n",
       " 'pages': 519}"
      ]
     },
     "execution_count": 20,
     "metadata": {},
     "output_type": "execute_result"
    }
   ],
   "source": [
    "b.__dict__"
   ]
  },
  {
   "cell_type": "code",
   "execution_count": 21,
   "metadata": {},
   "outputs": [
    {
     "data": {
      "text/plain": [
       "'Attributes: Antyfragile, Nassim Taleb, Non-fiction, 519'"
      ]
     },
     "execution_count": 21,
     "metadata": {},
     "output_type": "execute_result"
    }
   ],
   "source": [
    "repr(b)"
   ]
  },
  {
   "attachments": {},
   "cell_type": "markdown",
   "metadata": {},
   "source": [
    "## evaluate as valid pthon cod into a new instance"
   ]
  },
  {
   "cell_type": "code",
   "execution_count": 22,
   "metadata": {},
   "outputs": [
    {
     "data": {
      "text/plain": [
       "4"
      ]
     },
     "execution_count": 22,
     "metadata": {},
     "output_type": "execute_result"
    }
   ],
   "source": [
    "eval('2+2')"
   ]
  },
  {
   "cell_type": "code",
   "execution_count": 23,
   "metadata": {},
   "outputs": [],
   "source": [
    "eval(\"None\")"
   ]
  },
  {
   "cell_type": "code",
   "execution_count": 24,
   "metadata": {},
   "outputs": [
    {
     "name": "stdout",
     "output_type": "stream",
     "text": [
      "Do nothing\n"
     ]
    }
   ],
   "source": [
    "eval(\"print('Do nothing')\")"
   ]
  },
  {
   "cell_type": "code",
   "execution_count": 25,
   "metadata": {},
   "outputs": [
    {
     "data": {
      "text/plain": [
       "'\\nTraceback (most recent call last):\\n\\n  File ~/Library/Python/3.11/lib/python/site-packages/IPython/core/interactiveshell.py:3442 in run_code\\n    exec(code_obj, self.user_global_ns, self.user_ns)\\n\\n  Cell In[39], line 1\\n    eval(repr(b))\\n\\n  File <string>:1\\n    Attributes: Antyfragile, Nassim Taleb, Non-fiction, 519\\n              ^\\nSyntaxError: invalid syntax\\n'"
      ]
     },
     "execution_count": 25,
     "metadata": {},
     "output_type": "execute_result"
    }
   ],
   "source": [
    "# eval(repr(b))\n",
    "'''\n",
    "Traceback (most recent call last):\n",
    "\n",
    "  File ~/Library/Python/3.11/lib/python/site-packages/IPython/core/interactiveshell.py:3442 in run_code\n",
    "    exec(code_obj, self.user_global_ns, self.user_ns)\n",
    "\n",
    "  Cell In[39], line 1\n",
    "    eval(repr(b))\n",
    "\n",
    "  File <string>:1\n",
    "    Attributes: Antyfragile, Nassim Taleb, Non-fiction, 519\n",
    "              ^\n",
    "SyntaxError: invalid syntax\n",
    "'''"
   ]
  },
  {
   "cell_type": "code",
   "execution_count": 26,
   "metadata": {},
   "outputs": [],
   "source": [
    "class Book:\n",
    "    def __init__(self, title, author, book_type, pages):\n",
    "        self.title = title\n",
    "        self.author = author\n",
    "        self.book_type = book_type\n",
    "        self.pages = pages\n",
    "\n",
    "    def __repr__(self) -> str:\n",
    "        return f\"Book('{self.title}', '{self.author}', '{self.book_type}', {self.pages})\"\n",
    "    \n",
    "    def __str__(self) -> str:\n",
    "        return f\"{self.title}, by {self.author}, in {self.book_type}\""
   ]
  },
  {
   "cell_type": "code",
   "execution_count": 27,
   "metadata": {},
   "outputs": [],
   "source": [
    "b = Book('Antyfragile', 'Nassim Taleb', 'Non-fiction', 519)"
   ]
  },
  {
   "cell_type": "code",
   "execution_count": 28,
   "metadata": {},
   "outputs": [
    {
     "data": {
      "text/plain": [
       "Book('Antyfragile', 'Nassim Taleb', 'Non-fiction', 519)"
      ]
     },
     "execution_count": 28,
     "metadata": {},
     "output_type": "execute_result"
    }
   ],
   "source": [
    "eval(repr(b))"
   ]
  },
  {
   "cell_type": "code",
   "execution_count": 29,
   "metadata": {},
   "outputs": [
    {
     "data": {
      "text/plain": [
       "Book('Antyfragile', 'Nassim Taleb', 'Non-fiction', 519)"
      ]
     },
     "execution_count": 29,
     "metadata": {},
     "output_type": "execute_result"
    }
   ],
   "source": [
    "b"
   ]
  },
  {
   "cell_type": "code",
   "execution_count": 30,
   "metadata": {},
   "outputs": [
    {
     "data": {
      "text/plain": [
       "'Antyfragile, by Nassim Taleb, in Non-fiction'"
      ]
     },
     "execution_count": 30,
     "metadata": {},
     "output_type": "execute_result"
    }
   ],
   "source": [
    "str(b)"
   ]
  },
  {
   "cell_type": "code",
   "execution_count": 31,
   "metadata": {},
   "outputs": [],
   "source": [
    "class Book:\n",
    "    def __init__(self, title, author, book_type, pages):\n",
    "        self.title = title\n",
    "        self.author = author\n",
    "        self.book_type = book_type\n",
    "        self.pages = pages\n",
    "\n",
    "    def __repr__(self) -> str:\n",
    "        return f\"Book('{self.title}', '{self.author}', '{self.book_type}', {self.pages})\"\n",
    "    \n",
    "#    def __str__(self) -> str:\n",
    "#        return f\"{self.title}, by {self.author}, in {self.book_type}\""
   ]
  },
  {
   "cell_type": "code",
   "execution_count": 32,
   "metadata": {},
   "outputs": [],
   "source": [
    "b = Book('Antyfragile', 'Nassim Taleb', 'Non-fiction', 519)"
   ]
  },
  {
   "cell_type": "code",
   "execution_count": 33,
   "metadata": {},
   "outputs": [
    {
     "data": {
      "text/plain": [
       "\"Book('Antyfragile', 'Nassim Taleb', 'Non-fiction', 519)\""
      ]
     },
     "execution_count": 33,
     "metadata": {},
     "output_type": "execute_result"
    }
   ],
   "source": [
    "str(b)"
   ]
  },
  {
   "attachments": {},
   "cell_type": "markdown",
   "metadata": {},
   "source": [
    "# __format__"
   ]
  },
  {
   "cell_type": "code",
   "execution_count": 34,
   "metadata": {},
   "outputs": [],
   "source": [
    "class Book:\n",
    "    def __init__(self, title, author, book_type, pages):\n",
    "        self.title = title\n",
    "        self.author = author\n",
    "        self.book_type = book_type\n",
    "        self.pages = pages\n",
    "\n",
    "    def __repr__(self) -> str:\n",
    "        return f\"Book('{self.title}', '{self.author}', '{self.book_type}', {self.pages})\"\n",
    "    \n",
    "b = Book('Antyfragile', 'Nassim Taleb', 'Non-fiction', 519)"
   ]
  },
  {
   "cell_type": "code",
   "execution_count": 35,
   "metadata": {},
   "outputs": [
    {
     "data": {
      "text/plain": [
       "Book('Antyfragile', 'Nassim Taleb', 'Non-fiction', 519)"
      ]
     },
     "execution_count": 35,
     "metadata": {},
     "output_type": "execute_result"
    }
   ],
   "source": [
    "b"
   ]
  },
  {
   "cell_type": "code",
   "execution_count": 36,
   "metadata": {},
   "outputs": [
    {
     "data": {
      "text/plain": [
       "\"Book('Antyfragile', 'Nassim Taleb', 'Non-fiction', 519)\""
      ]
     },
     "execution_count": 36,
     "metadata": {},
     "output_type": "execute_result"
    }
   ],
   "source": [
    "f\"{b}\""
   ]
  },
  {
   "cell_type": "code",
   "execution_count": 37,
   "metadata": {},
   "outputs": [
    {
     "data": {
      "text/plain": [
       "'100'"
      ]
     },
     "execution_count": 37,
     "metadata": {},
     "output_type": "execute_result"
    }
   ],
   "source": [
    "f\"{100}\""
   ]
  },
  {
   "cell_type": "code",
   "execution_count": 38,
   "metadata": {},
   "outputs": [
    {
     "data": {
      "text/plain": [
       "'100.000'"
      ]
     },
     "execution_count": 38,
     "metadata": {},
     "output_type": "execute_result"
    }
   ],
   "source": [
    "f\"{100:.3f}\""
   ]
  },
  {
   "cell_type": "code",
   "execution_count": 39,
   "metadata": {},
   "outputs": [
    {
     "data": {
      "text/plain": [
       "'100.00'"
      ]
     },
     "execution_count": 39,
     "metadata": {},
     "output_type": "execute_result"
    }
   ],
   "source": [
    "format(100, '.2f')"
   ]
  },
  {
   "cell_type": "code",
   "execution_count": 40,
   "metadata": {},
   "outputs": [
    {
     "data": {
      "text/plain": [
       "'100.000'"
      ]
     },
     "execution_count": 40,
     "metadata": {},
     "output_type": "execute_result"
    }
   ],
   "source": [
    "\"{:.3f}\".format(100)"
   ]
  },
  {
   "cell_type": "code",
   "execution_count": 41,
   "metadata": {},
   "outputs": [],
   "source": [
    "class Book:\n",
    "    def __init__(self, title, author, book_type, pages):\n",
    "        self.title = title\n",
    "        self.author = author\n",
    "        self.book_type = book_type\n",
    "        self.pages = pages\n",
    "\n",
    "    def __repr__(self) -> str:\n",
    "        return f\"Book('{self.title}', '{self.author}', '{self.book_type}', {self.pages})\"\n",
    "    \n",
    "    def __format__(self, __format_spec: str) -> str:\n",
    "        if __format_spec == 'short':\n",
    "            return f\"{self.title} - {self.author}\"\n",
    "        elif __format_spec == 'stealth':\n",
    "            return f\"A book containing exacly: {self.pages}. Guess?\"\n",
    "        \n",
    "        return repr(self)\n",
    "\n",
    "b = Book('Antyfragile', 'Nassim Taleb', 'Non-fiction', 519)"
   ]
  },
  {
   "cell_type": "code",
   "execution_count": 42,
   "metadata": {},
   "outputs": [
    {
     "data": {
      "text/plain": [
       "\"Book('Antyfragile', 'Nassim Taleb', 'Non-fiction', 519)\""
      ]
     },
     "execution_count": 42,
     "metadata": {},
     "output_type": "execute_result"
    }
   ],
   "source": [
    "f\"{b}\""
   ]
  },
  {
   "cell_type": "code",
   "execution_count": 43,
   "metadata": {},
   "outputs": [
    {
     "data": {
      "text/plain": [
       "'Antyfragile - Nassim Taleb'"
      ]
     },
     "execution_count": 43,
     "metadata": {},
     "output_type": "execute_result"
    }
   ],
   "source": [
    "f\"{b:short}\""
   ]
  },
  {
   "cell_type": "code",
   "execution_count": 44,
   "metadata": {},
   "outputs": [
    {
     "data": {
      "text/plain": [
       "'A book containing exacly: 519. Guess?'"
      ]
     },
     "execution_count": 44,
     "metadata": {},
     "output_type": "execute_result"
    }
   ],
   "source": [
    "f\"{b:stealth}\""
   ]
  },
  {
   "cell_type": "code",
   "execution_count": 45,
   "metadata": {},
   "outputs": [
    {
     "data": {
      "text/plain": [
       "\"Book('Antyfragile', 'Nassim Taleb', 'Non-fiction', 519)\""
      ]
     },
     "execution_count": 45,
     "metadata": {},
     "output_type": "execute_result"
    }
   ],
   "source": [
    "\"{}\".format(b)"
   ]
  },
  {
   "cell_type": "code",
   "execution_count": 46,
   "metadata": {},
   "outputs": [
    {
     "data": {
      "text/plain": [
       "'Antyfragile - Nassim Taleb'"
      ]
     },
     "execution_count": 46,
     "metadata": {},
     "output_type": "execute_result"
    }
   ],
   "source": [
    "\"{:short}\".format(b)"
   ]
  },
  {
   "cell_type": "code",
   "execution_count": 47,
   "metadata": {},
   "outputs": [
    {
     "data": {
      "text/plain": [
       "'A book containing exacly: 519. Guess?'"
      ]
     },
     "execution_count": 47,
     "metadata": {},
     "output_type": "execute_result"
    }
   ],
   "source": [
    "\"{:stealth}\".format(b)"
   ]
  },
  {
   "cell_type": "code",
   "execution_count": 48,
   "metadata": {},
   "outputs": [
    {
     "data": {
      "text/plain": [
       "'A book containing exacly: 519. Guess?'"
      ]
     },
     "execution_count": 48,
     "metadata": {},
     "output_type": "execute_result"
    }
   ],
   "source": [
    "format(b, \"stealth\")"
   ]
  },
  {
   "attachments": {},
   "cell_type": "markdown",
   "metadata": {},
   "source": [
    "# Object Equality"
   ]
  },
  {
   "cell_type": "code",
   "execution_count": 49,
   "metadata": {},
   "outputs": [],
   "source": [
    "class Book:\n",
    "    def __init__(self, title, author, book_type, pages):\n",
    "        self.title = title\n",
    "        self.author = author\n",
    "        self.book_type = book_type\n",
    "        self.pages = pages\n",
    "\n",
    "    def __repr__(self) -> str:\n",
    "        return f\"Book('{self.title}', '{self.author}', '{self.book_type}', {self.pages})\"\n",
    "    \n",
    "    def __eq__(self, __o: object) -> bool:\n",
    "        if not isinstance(__o, Book):\n",
    "            return False\n",
    "        \n",
    "        return self.title == __o.title and self.author == __o.author"
   ]
  },
  {
   "cell_type": "code",
   "execution_count": 50,
   "metadata": {},
   "outputs": [],
   "source": [
    "b_v1 = Book('Antyfragile', 'Nassim Taleb', 'Non-fiction', 519)\n",
    "b_v2 = Book('Antyfragile', 'Nassim Taleb', 'Non-fiction', 519)\n",
    "b_v3 = Book('Antyfragile', 'Nassim Taleb The II', 'Non-fiction', 519)"
   ]
  },
  {
   "cell_type": "code",
   "execution_count": 51,
   "metadata": {},
   "outputs": [
    {
     "data": {
      "text/plain": [
       "True"
      ]
     },
     "execution_count": 51,
     "metadata": {},
     "output_type": "execute_result"
    }
   ],
   "source": [
    "b_v2 == b_v1"
   ]
  },
  {
   "cell_type": "code",
   "execution_count": 52,
   "metadata": {},
   "outputs": [
    {
     "data": {
      "text/plain": [
       "False"
      ]
     },
     "execution_count": 52,
     "metadata": {},
     "output_type": "execute_result"
    }
   ],
   "source": [
    "b_v1 == b_v3"
   ]
  },
  {
   "cell_type": "code",
   "execution_count": 53,
   "metadata": {},
   "outputs": [
    {
     "data": {
      "text/plain": [
       "(4427662224, 4426337424)"
      ]
     },
     "execution_count": 53,
     "metadata": {},
     "output_type": "execute_result"
    }
   ],
   "source": [
    "id(b_v1), id(b_v2)"
   ]
  },
  {
   "cell_type": "code",
   "execution_count": 54,
   "metadata": {},
   "outputs": [],
   "source": [
    "class Book:\n",
    "    def __init__(self, title, author, book_type, pages):\n",
    "        self.title = title\n",
    "        self.author = author\n",
    "        self.book_type = book_type\n",
    "        self.pages = pages\n",
    "\n",
    "    def __repr__(self) -> str:\n",
    "        return f\"Book('{self.title}', '{self.author}', '{self.book_type}', {self.pages})\"\n",
    "    \n",
    "    def __eq__(self, __o: object) -> bool:\n",
    "        return self.title == __o.title and self.author == __o.author"
   ]
  },
  {
   "cell_type": "code",
   "execution_count": 55,
   "metadata": {},
   "outputs": [],
   "source": [
    "from collections import namedtuple"
   ]
  },
  {
   "cell_type": "code",
   "execution_count": 56,
   "metadata": {},
   "outputs": [],
   "source": [
    "essay = namedtuple('essay', ['title', 'author'])"
   ]
  },
  {
   "cell_type": "code",
   "execution_count": 57,
   "metadata": {},
   "outputs": [],
   "source": [
    "e = essay('Antyfragile','Nassim Taleb')"
   ]
  },
  {
   "cell_type": "code",
   "execution_count": 58,
   "metadata": {},
   "outputs": [
    {
     "data": {
      "text/plain": [
       "__main__.essay"
      ]
     },
     "execution_count": 58,
     "metadata": {},
     "output_type": "execute_result"
    }
   ],
   "source": [
    "type(e)"
   ]
  },
  {
   "cell_type": "code",
   "execution_count": 59,
   "metadata": {},
   "outputs": [
    {
     "data": {
      "text/plain": [
       "('title', 'author')"
      ]
     },
     "execution_count": 59,
     "metadata": {},
     "output_type": "execute_result"
    }
   ],
   "source": [
    "tuple(['title', 'author'])"
   ]
  },
  {
   "cell_type": "code",
   "execution_count": 60,
   "metadata": {},
   "outputs": [
    {
     "data": {
      "text/plain": [
       "('Nassim Taleb', 'Antyfragile')"
      ]
     },
     "execution_count": 60,
     "metadata": {},
     "output_type": "execute_result"
    }
   ],
   "source": [
    "e.author, e.title"
   ]
  },
  {
   "cell_type": "code",
   "execution_count": 61,
   "metadata": {},
   "outputs": [
    {
     "data": {
      "text/plain": [
       "('Nassim Taleb', 'Antyfragile')"
      ]
     },
     "execution_count": 61,
     "metadata": {},
     "output_type": "execute_result"
    }
   ],
   "source": [
    "b.author , b.title"
   ]
  },
  {
   "cell_type": "code",
   "execution_count": 62,
   "metadata": {},
   "outputs": [],
   "source": [
    "b_v4 = Book('Antyfragile', 'Nassim Taleb', 'Non-fiction', 519)"
   ]
  },
  {
   "cell_type": "code",
   "execution_count": 63,
   "metadata": {},
   "outputs": [
    {
     "data": {
      "text/plain": [
       "True"
      ]
     },
     "execution_count": 63,
     "metadata": {},
     "output_type": "execute_result"
    }
   ],
   "source": [
    "b_v4 == e"
   ]
  },
  {
   "cell_type": "code",
   "execution_count": 64,
   "metadata": {},
   "outputs": [],
   "source": [
    "class Book:\n",
    "    def __init__(self, title, author, book_type, pages):\n",
    "        self.title = title\n",
    "        self.author = author\n",
    "        self.book_type = book_type\n",
    "        self.pages = pages\n",
    "\n",
    "    def __repr__(self) -> str:\n",
    "        return f\"Book('{self.title}', '{self.author}', '{self.book_type}', {self.pages})\"\n",
    "    \n",
    "    def __eq__(self, __o: object) -> bool:\n",
    "        if not isinstance(__o, Book):\n",
    "            return False\n",
    "        \n",
    "        return self.title == __o.title and self.author == __o.author"
   ]
  },
  {
   "cell_type": "code",
   "execution_count": 65,
   "metadata": {},
   "outputs": [],
   "source": [
    "b_v5 = Book('Antyfragile', 'Nassim Taleb', 'Non-fiction', 519)"
   ]
  },
  {
   "cell_type": "code",
   "execution_count": 66,
   "metadata": {},
   "outputs": [
    {
     "data": {
      "text/plain": [
       "False"
      ]
     },
     "execution_count": 66,
     "metadata": {},
     "output_type": "execute_result"
    }
   ],
   "source": [
    "e == b_v5"
   ]
  },
  {
   "attachments": {},
   "cell_type": "markdown",
   "metadata": {},
   "source": [
    "# BONUS: NON-Equality"
   ]
  },
  {
   "cell_type": "code",
   "execution_count": 67,
   "metadata": {},
   "outputs": [],
   "source": [
    "class Book:\n",
    "    def __init__(self, title, author, book_type, pages):\n",
    "        self.title = title\n",
    "        self.author = author\n",
    "        self.book_type = book_type\n",
    "        self.pages = pages\n",
    "\n",
    "    def __repr__(self) -> str:\n",
    "        return f\"Book('{self.title}', '{self.author}', '{self.book_type}', {self.pages})\"\n",
    "    \n",
    "    def __eq__(self, __o: object) -> bool:\n",
    "        if not isinstance(__o, Book):\n",
    "            return False\n",
    "        \n",
    "        return self.title == __o.title and self.author == __o.author\n",
    "    \n",
    "    def __ne__(self, __o: object) -> bool:\n",
    "        print(\"Comparint non-equality....\")\n",
    "\n",
    "        if not isinstance(__o, Book):\n",
    "            return False\n",
    "        \n",
    "        return self.title != __o.title and self.author != __o.author\n",
    "    "
   ]
  },
  {
   "cell_type": "code",
   "execution_count": 68,
   "metadata": {},
   "outputs": [],
   "source": [
    "b_v6 = Book('Antyfragile', 'Nassim Taleb', 'Non-fiction', 519)\n",
    "b_v7 = Book('Antyfragile', 'Nassim Taleb', 'Non-fiction', 519)"
   ]
  },
  {
   "cell_type": "code",
   "execution_count": 69,
   "metadata": {},
   "outputs": [
    {
     "data": {
      "text/plain": [
       "True"
      ]
     },
     "execution_count": 69,
     "metadata": {},
     "output_type": "execute_result"
    }
   ],
   "source": [
    "b_v7 == b_v6"
   ]
  },
  {
   "cell_type": "code",
   "execution_count": 70,
   "metadata": {},
   "outputs": [
    {
     "name": "stdout",
     "output_type": "stream",
     "text": [
      "Comparint non-equality....\n"
     ]
    },
    {
     "data": {
      "text/plain": [
       "False"
      ]
     },
     "execution_count": 70,
     "metadata": {},
     "output_type": "execute_result"
    }
   ],
   "source": [
    "b_v7 != b_v6"
   ]
  },
  {
   "attachments": {},
   "cell_type": "markdown",
   "metadata": {},
   "source": [
    "# Inhertiance of built-ins"
   ]
  },
  {
   "attachments": {},
   "cell_type": "markdown",
   "metadata": {},
   "source": [
    "# Hashing and Mutability"
   ]
  },
  {
   "cell_type": "code",
   "execution_count": 71,
   "metadata": {},
   "outputs": [],
   "source": [
    "# unhashable type!\n",
    "l = ['Andy', 7]"
   ]
  },
  {
   "cell_type": "code",
   "execution_count": 72,
   "metadata": {},
   "outputs": [
    {
     "data": {
      "text/plain": [
       "\"\\n---------------------------------------------------------------------------\\nTypeError                                 Traceback (most recent call last)\\nCell In[138], line 1\\n----> 1 {\\n      2     l: 'Bek'\\n      3 }\\n\\nTypeError: unhashable type: 'list' \\n\\n\""
      ]
     },
     "execution_count": 72,
     "metadata": {},
     "output_type": "execute_result"
    }
   ],
   "source": [
    "# {\n",
    "#     l: 'Bek'\n",
    "# }\n",
    "\n",
    "'''\n",
    "---------------------------------------------------------------------------\n",
    "TypeError                                 Traceback (most recent call last)\n",
    "Cell In[138], line 1\n",
    "----> 1 {\n",
    "      2     l: 'Bek'\n",
    "      3 }\n",
    "\n",
    "TypeError: unhashable type: 'list' \n",
    "\n",
    "'''"
   ]
  },
  {
   "cell_type": "code",
   "execution_count": 73,
   "metadata": {},
   "outputs": [
    {
     "data": {
      "text/plain": [
       "\" \\n---------------------------------------------------------------------------\\nTypeError                                 Traceback (most recent call last)\\nCell In[139], line 1\\n----> 1 hash(l)\\n\\nTypeError: unhashable type: 'list'\\n\""
      ]
     },
     "execution_count": 73,
     "metadata": {},
     "output_type": "execute_result"
    }
   ],
   "source": [
    "# hash(l)\n",
    "''' \n",
    "---------------------------------------------------------------------------\n",
    "TypeError                                 Traceback (most recent call last)\n",
    "Cell In[139], line 1\n",
    "----> 1 hash(l)\n",
    "\n",
    "TypeError: unhashable type: 'list'\n",
    "'''"
   ]
  },
  {
   "cell_type": "code",
   "execution_count": 74,
   "metadata": {},
   "outputs": [],
   "source": [
    "name_str = 'Andy'\n",
    "num_int = 7\n",
    "both_tuple = (name_str, num_int)"
   ]
  },
  {
   "cell_type": "code",
   "execution_count": 75,
   "metadata": {},
   "outputs": [
    {
     "data": {
      "text/plain": [
       "(-1614311519424114409, 7, -7423023055729339390)"
      ]
     },
     "execution_count": 75,
     "metadata": {},
     "output_type": "execute_result"
    }
   ],
   "source": [
    "hash(name_str), hash(num_int), hash(both_tuple)"
   ]
  },
  {
   "attachments": {},
   "cell_type": "markdown",
   "metadata": {},
   "source": [
    "### Hashable object\n",
    "* could be compared to other objects, \n",
    "* if it compares equal, shares the same hash with the other object\n",
    "* hash a hash value that never changes over its life"
   ]
  },
  {
   "cell_type": "code",
   "execution_count": 76,
   "metadata": {},
   "outputs": [
    {
     "data": {
      "text/plain": [
       "4427611184"
      ]
     },
     "execution_count": 76,
     "metadata": {},
     "output_type": "execute_result"
    }
   ],
   "source": [
    "id(name_str)"
   ]
  },
  {
   "cell_type": "code",
   "execution_count": 77,
   "metadata": {},
   "outputs": [],
   "source": [
    "name_str = 'Andy B'"
   ]
  },
  {
   "cell_type": "code",
   "execution_count": 78,
   "metadata": {},
   "outputs": [
    {
     "data": {
      "text/plain": [
       "4427728752"
      ]
     },
     "execution_count": 78,
     "metadata": {},
     "output_type": "execute_result"
    }
   ],
   "source": [
    "id(name_str)"
   ]
  },
  {
   "cell_type": "markdown",
   "metadata": {},
   "source": [
    "GC -> garbage collector"
   ]
  },
  {
   "attachments": {},
   "cell_type": "markdown",
   "metadata": {},
   "source": [
    "Hashable Book"
   ]
  },
  {
   "cell_type": "code",
   "execution_count": 79,
   "metadata": {},
   "outputs": [],
   "source": [
    "class Book:\n",
    "    def __init__(self, title, author, book_type, pages):\n",
    "        self.title = title\n",
    "        self.author = author\n",
    "        self.book_type = book_type\n",
    "        self.pages = pages\n",
    "\n",
    "    def __repr__(self) -> str:\n",
    "        return f\"Book('{self.title}', '{self.author}', '{self.book_type}', {self.pages})\"\n",
    "    \n",
    "    def __eq__(self, __o: object) -> bool:\n",
    "        if not isinstance(__o, Book):\n",
    "            return False\n",
    "        \n",
    "        return self.title == __o.title and self.author == __o.author\n",
    "    \n",
    "    def __ne__(self, __o: object) -> bool:\n",
    "        print(\"Comparint non-equality....\")\n",
    "\n",
    "        if not isinstance(__o, Book):\n",
    "            return False\n",
    "        \n",
    "        return self.title != __o.title and self.author != __o.author\n",
    "    \n",
    "    def __hash__(self):\n",
    "        return hash((self.title, self.author))\n",
    "    "
   ]
  },
  {
   "cell_type": "code",
   "execution_count": 80,
   "metadata": {},
   "outputs": [],
   "source": [
    "b = Book('Antyfragile', 'Nassim Taleb', 'Non-fiction', 519)"
   ]
  },
  {
   "cell_type": "code",
   "execution_count": 81,
   "metadata": {},
   "outputs": [
    {
     "data": {
      "text/plain": [
       "\" \\n---------------------------------------------------------------------------\\nTypeError                                 Traceback (most recent call last)\\nCell In[152], line 1\\n----> 1 hash(b)\\n\\nTypeError: unhashable type: 'Book'\\n\""
      ]
     },
     "execution_count": 81,
     "metadata": {},
     "output_type": "execute_result"
    }
   ],
   "source": [
    "# hash(b)\n",
    "\n",
    "''' \n",
    "---------------------------------------------------------------------------\n",
    "TypeError                                 Traceback (most recent call last)\n",
    "Cell In[152], line 1\n",
    "----> 1 hash(b)\n",
    "\n",
    "TypeError: unhashable type: 'Book'\n",
    "'''"
   ]
  },
  {
   "cell_type": "code",
   "execution_count": 82,
   "metadata": {},
   "outputs": [],
   "source": [
    "class Magazine:\n",
    "    pass"
   ]
  },
  {
   "cell_type": "code",
   "execution_count": 83,
   "metadata": {},
   "outputs": [
    {
     "data": {
      "text/plain": [
       "276733385"
      ]
     },
     "execution_count": 83,
     "metadata": {},
     "output_type": "execute_result"
    }
   ],
   "source": [
    "m = Magazine()\n",
    "hash(m)"
   ]
  },
  {
   "cell_type": "code",
   "execution_count": 84,
   "metadata": {},
   "outputs": [],
   "source": [
    "b_v1 = Book('Antyfragile', 'Nassim Taleb THE II', 'Non-fiction', 519)\n",
    "b_v2 = Book('Antyfragile', 'Nassim Taleb', 'Non-fiction', 519)"
   ]
  },
  {
   "cell_type": "code",
   "execution_count": 85,
   "metadata": {},
   "outputs": [
    {
     "data": {
      "text/plain": [
       "(-3153341800585228742, -1327325436374042075, -3153341800585228742)"
      ]
     },
     "execution_count": 85,
     "metadata": {},
     "output_type": "execute_result"
    }
   ],
   "source": [
    "hash(b), hash(b_v1), hash(b_v2)"
   ]
  },
  {
   "cell_type": "code",
   "execution_count": 86,
   "metadata": {},
   "outputs": [
    {
     "data": {
      "text/plain": [
       "False"
      ]
     },
     "execution_count": 86,
     "metadata": {},
     "output_type": "execute_result"
    }
   ],
   "source": [
    "hash(b) == hash(b_v1)"
   ]
  },
  {
   "cell_type": "code",
   "execution_count": 87,
   "metadata": {},
   "outputs": [
    {
     "data": {
      "text/plain": [
       "True"
      ]
     },
     "execution_count": 87,
     "metadata": {},
     "output_type": "execute_result"
    }
   ],
   "source": [
    "hash(b) == hash(b_v2)"
   ]
  },
  {
   "attachments": {},
   "cell_type": "markdown",
   "metadata": {},
   "source": [
    "# BONUS: Hashing Gotcha   \n",
    "* has a hash value that never changes over its life\n",
    "* could be conpared to other objects, and  \n",
    "* if it compares equal, shares the smae hash with the other object"
   ]
  },
  {
   "cell_type": "code",
   "execution_count": 88,
   "metadata": {},
   "outputs": [],
   "source": [
    "b = Book('Antyfragile', 'Nassim Taleb', 'Non-fiction', 519)"
   ]
  },
  {
   "cell_type": "code",
   "execution_count": 89,
   "metadata": {},
   "outputs": [
    {
     "data": {
      "text/plain": [
       "-3153341800585228742"
      ]
     },
     "execution_count": 89,
     "metadata": {},
     "output_type": "execute_result"
    }
   ],
   "source": [
    "hash(b)"
   ]
  },
  {
   "cell_type": "code",
   "execution_count": 90,
   "metadata": {},
   "outputs": [],
   "source": [
    "b.author = \"Andy\""
   ]
  },
  {
   "cell_type": "code",
   "execution_count": 91,
   "metadata": {},
   "outputs": [
    {
     "data": {
      "text/plain": [
       "3830452953830247259"
      ]
     },
     "execution_count": 91,
     "metadata": {},
     "output_type": "execute_result"
    }
   ],
   "source": [
    "hash(b)"
   ]
  },
  {
   "attachments": {},
   "cell_type": "markdown",
   "metadata": {},
   "source": [
    "__hash__ --> hash(tuple(self.author, self.title))"
   ]
  },
  {
   "cell_type": "code",
   "execution_count": 92,
   "metadata": {},
   "outputs": [],
   "source": [
    "d = {}"
   ]
  },
  {
   "cell_type": "code",
   "execution_count": 93,
   "metadata": {},
   "outputs": [],
   "source": [
    "d[b] = 'value'"
   ]
  },
  {
   "cell_type": "code",
   "execution_count": 94,
   "metadata": {},
   "outputs": [
    {
     "data": {
      "text/plain": [
       "True"
      ]
     },
     "execution_count": 94,
     "metadata": {},
     "output_type": "execute_result"
    }
   ],
   "source": [
    "b in d"
   ]
  },
  {
   "cell_type": "code",
   "execution_count": 95,
   "metadata": {},
   "outputs": [
    {
     "data": {
      "text/plain": [
       "(Book('Antyfragile', 'Andy', 'Non-fiction', 519),\n",
       " dict_keys([Book('Antyfragile', 'Andy', 'Non-fiction', 519)]),\n",
       " dict_values(['value']))"
      ]
     },
     "execution_count": 95,
     "metadata": {},
     "output_type": "execute_result"
    }
   ],
   "source": [
    "b, d.keys(), d.values()"
   ]
  },
  {
   "cell_type": "code",
   "execution_count": 96,
   "metadata": {},
   "outputs": [
    {
     "data": {
      "text/plain": [
       "(3830452953830247259, 8046562962701735904)"
      ]
     },
     "execution_count": 96,
     "metadata": {},
     "output_type": "execute_result"
    }
   ],
   "source": [
    "bb = Book('Antyfragile', 'Andy', 'Non-fiction', 519)\n",
    "hash(b), hash(d[bb])"
   ]
  },
  {
   "cell_type": "code",
   "execution_count": 97,
   "metadata": {},
   "outputs": [],
   "source": [
    "b.title = \"Untitled\""
   ]
  },
  {
   "cell_type": "code",
   "execution_count": 98,
   "metadata": {},
   "outputs": [
    {
     "data": {
      "text/plain": [
       "(Book('Untitled', 'Andy', 'Non-fiction', 519),\n",
       " dict_keys([Book('Untitled', 'Andy', 'Non-fiction', 519)]))"
      ]
     },
     "execution_count": 98,
     "metadata": {},
     "output_type": "execute_result"
    }
   ],
   "source": [
    "b, d.keys()"
   ]
  },
  {
   "cell_type": "code",
   "execution_count": 99,
   "metadata": {},
   "outputs": [
    {
     "data": {
      "text/plain": [
       "False"
      ]
     },
     "execution_count": 99,
     "metadata": {},
     "output_type": "execute_result"
    }
   ],
   "source": [
    "b in d"
   ]
  },
  {
   "cell_type": "code",
   "execution_count": 100,
   "metadata": {},
   "outputs": [
    {
     "data": {
      "text/plain": [
       "(Book('Antyfragile', 'Andy', 'Non-fiction', 519),\n",
       " {Book('Antyfragile', 'Andy', 'Non-fiction', 519): 'value'})"
      ]
     },
     "execution_count": 100,
     "metadata": {},
     "output_type": "execute_result"
    }
   ],
   "source": [
    "b.title = 'Antyfragile'\n",
    "b , d"
   ]
  },
  {
   "cell_type": "code",
   "execution_count": 101,
   "metadata": {},
   "outputs": [
    {
     "data": {
      "text/plain": [
       "True"
      ]
     },
     "execution_count": 101,
     "metadata": {},
     "output_type": "execute_result"
    }
   ],
   "source": [
    "b in d"
   ]
  },
  {
   "cell_type": "code",
   "execution_count": 102,
   "metadata": {},
   "outputs": [
    {
     "data": {
      "text/plain": [
       "(3830452953830247259, 8046562962701735904)"
      ]
     },
     "execution_count": 102,
     "metadata": {},
     "output_type": "execute_result"
    }
   ],
   "source": [
    "hash(b), hash(d[b])"
   ]
  },
  {
   "cell_type": "code",
   "execution_count": 103,
   "metadata": {},
   "outputs": [
    {
     "data": {
      "text/plain": [
       "(dict_keys([Book('Antyfragile', 'Andy', 'Non-fiction', 519)]),\n",
       " Book('Antyfragile', 'Andy', 'Non-fiction', 519))"
      ]
     },
     "execution_count": 103,
     "metadata": {},
     "output_type": "execute_result"
    }
   ],
   "source": [
    "d.keys(), b "
   ]
  },
  {
   "cell_type": "code",
   "execution_count": 104,
   "metadata": {},
   "outputs": [
    {
     "data": {
      "text/plain": [
       "[Book('Antyfragile', 'Andy', 'Non-fiction', 519)]"
      ]
     },
     "execution_count": 104,
     "metadata": {},
     "output_type": "execute_result"
    }
   ],
   "source": [
    "list(d)"
   ]
  },
  {
   "cell_type": "code",
   "execution_count": 105,
   "metadata": {},
   "outputs": [],
   "source": [
    "b.author = \"Andy\""
   ]
  },
  {
   "cell_type": "code",
   "execution_count": 106,
   "metadata": {},
   "outputs": [
    {
     "data": {
      "text/plain": [
       "[Book('Antyfragile', 'Andy', 'Non-fiction', 519)]"
      ]
     },
     "execution_count": 106,
     "metadata": {},
     "output_type": "execute_result"
    }
   ],
   "source": [
    "list(d)"
   ]
  },
  {
   "cell_type": "code",
   "execution_count": 107,
   "metadata": {},
   "outputs": [
    {
     "data": {
      "text/plain": [
       "True"
      ]
     },
     "execution_count": 107,
     "metadata": {},
     "output_type": "execute_result"
    }
   ],
   "source": [
    "b in d"
   ]
  },
  {
   "cell_type": "code",
   "execution_count": 108,
   "metadata": {},
   "outputs": [
    {
     "data": {
      "text/plain": [
       "3830452953830247259"
      ]
     },
     "execution_count": 108,
     "metadata": {},
     "output_type": "execute_result"
    }
   ],
   "source": [
    "hash(b)"
   ]
  },
  {
   "cell_type": "code",
   "execution_count": 109,
   "metadata": {},
   "outputs": [],
   "source": [
    "b.author = \"Andy Beck\""
   ]
  },
  {
   "cell_type": "code",
   "execution_count": 110,
   "metadata": {},
   "outputs": [
    {
     "data": {
      "text/plain": [
       "-2386452027233066232"
      ]
     },
     "execution_count": 110,
     "metadata": {},
     "output_type": "execute_result"
    }
   ],
   "source": [
    "hash(b)"
   ]
  },
  {
   "cell_type": "code",
   "execution_count": 111,
   "metadata": {},
   "outputs": [
    {
     "data": {
      "text/plain": [
       "dict_keys([Book('Antyfragile', 'Andy Beck', 'Non-fiction', 519)])"
      ]
     },
     "execution_count": 111,
     "metadata": {},
     "output_type": "execute_result"
    }
   ],
   "source": [
    "d.keys()"
   ]
  },
  {
   "cell_type": "code",
   "execution_count": 112,
   "metadata": {},
   "outputs": [
    {
     "data": {
      "text/plain": [
       "(4427676944, 4427438336)"
      ]
     },
     "execution_count": 112,
     "metadata": {},
     "output_type": "execute_result"
    }
   ],
   "source": [
    "id(b), id(d.keys())"
   ]
  },
  {
   "cell_type": "code",
   "execution_count": null,
   "metadata": {},
   "outputs": [],
   "source": []
  },
  {
   "attachments": {},
   "cell_type": "markdown",
   "metadata": {},
   "source": [
    "# Skill Challenge"
   ]
  },
  {
   "cell_type": "code",
   "execution_count": 113,
   "metadata": {},
   "outputs": [],
   "source": [
    "class Contact:\n",
    "    def __init__(self, name, last_name, phone, email=None, display_mode='masked') -> None:\n",
    "        self.name = name\n",
    "        self.last_name = last_name\n",
    "        self.phone = phone\n",
    "        self.email = email\n",
    "        self.displya_mode = display_mode\n",
    "\n",
    "    def __eq__(self, __o: object) -> bool:\n",
    "        if not isinstance(__o, Contact):\n",
    "            return False\n",
    "        \n",
    "        if (self.email is not None and self.email == __o.email) or (self.phone is not None and self.phone == __o.phone):\n",
    "            return True\n",
    "        \n",
    "        return self.name == __o.name and self.last_name == __o.last_name\n",
    "    \n",
    "    def __hash__(self) -> int:\n",
    "        return hash(self.name, self.last_name, self.phone, self.email)\n",
    "    \n",
    "    def __repr__(self) -> str:\n",
    "        if self.displya_mode == 'masked':\n",
    "            return f\"Contact(name='{self._obfuscated(self.name)}' last_name='{self._obfuscated(self.last_name)}')\"\n",
    "        \n",
    "        return f\"Contact(name='{self.name}'m last_name='{self.last_name}', phone='{self.phone}', email='{self.email}')\"\n",
    "    \n",
    "    def __str__(self) -> str:\n",
    "        return f\"{self.last_name[0]}{self.name[0]}\"\n",
    "\n",
    "    def __format__(self, __format_spec: str) -> str:\n",
    "        if __format_spec != 'masked':\n",
    "            return f\"Contact(name='{self.name}'m last_name='{self.last_name}', phone='{self.phone}', email='{self.email}')\"\n",
    "        \n",
    "        return repr(self)\n",
    "\n",
    "    @staticmethod\n",
    "    def _obfuscated(text):\n",
    "        half_length = len(text) // 2\n",
    "        return text[:half_length] + \"*\" * (half_length +1)\n",
    "    \n"
   ]
  },
  {
   "cell_type": "code",
   "execution_count": 114,
   "metadata": {},
   "outputs": [],
   "source": [
    "c_1 = Contact('Andy', 'Bek', '0909090')"
   ]
  },
  {
   "cell_type": "code",
   "execution_count": 115,
   "metadata": {},
   "outputs": [
    {
     "data": {
      "text/plain": [
       "Contact(name='An***' last_name='B**')"
      ]
     },
     "execution_count": 115,
     "metadata": {},
     "output_type": "execute_result"
    }
   ],
   "source": [
    "c_1"
   ]
  },
  {
   "cell_type": "code",
   "execution_count": 116,
   "metadata": {},
   "outputs": [
    {
     "data": {
      "text/plain": [
       "'BA'"
      ]
     },
     "execution_count": 116,
     "metadata": {},
     "output_type": "execute_result"
    }
   ],
   "source": [
    "str(c_1)"
   ]
  },
  {
   "cell_type": "code",
   "execution_count": 117,
   "metadata": {},
   "outputs": [
    {
     "data": {
      "text/plain": [
       "\"Contact(name='Andy'm last_name='Bek', phone='0909090', email='None')\""
      ]
     },
     "execution_count": 117,
     "metadata": {},
     "output_type": "execute_result"
    }
   ],
   "source": [
    "f\"{c_1:unmasked}\""
   ]
  },
  {
   "attachments": {},
   "cell_type": "markdown",
   "metadata": {},
   "source": [
    "# Other Rich Comparison"
   ]
  },
  {
   "cell_type": "code",
   "execution_count": 118,
   "metadata": {},
   "outputs": [],
   "source": [
    "class Book:\n",
    "    def __init__(self, title, author, book_type, pages):\n",
    "        self.title = title\n",
    "        self.author = author\n",
    "        self.book_type = book_type\n",
    "        self.pages = pages\n",
    "\n",
    "    def __repr__(self) -> str:\n",
    "        return f\"Book('{self.title}', '{self.author}', '{self.book_type}', {self.pages})\"\n",
    "    \n",
    "    def __eq__(self, __o: object) -> bool:\n",
    "        if not isinstance(__o, Book):\n",
    "            return False\n",
    "        \n",
    "        return self.title == __o.title and self.author == __o.author\n",
    "    \n",
    "    def __ne__(self, __o: object) -> bool:\n",
    "        # print(\"Comparint non-equality....\")\n",
    "\n",
    "        if not isinstance(__o, Book):\n",
    "            return False\n",
    "        \n",
    "        return self.title != __o.title and self.author != __o.author\n",
    "    \n",
    "    def __gt__(self, __o:object):\n",
    "        if not isinstance(__o, Book):\n",
    "            return NotImplemented\n",
    "        \n",
    "        return self.pages > __o.pages\n",
    "    \n",
    "    def __lt__(self, __o:object) -> bool:\n",
    "        if not isinstance(__o, Book):\n",
    "            return NotImplemented\n",
    "        \n",
    "        return self.pages < __o.pages\n",
    "    \n",
    "    def __le__(self, __o:object) -> bool:\n",
    "        if not isinstance(__o, Book):\n",
    "            return NotImplemented\n",
    "        \n",
    "        return self.pages <= __o.pages\n",
    "    \n",
    "    def __ge__(self, __o: object):\n",
    "        return NotImplemented\n",
    "    \n",
    "    def __hash__(self):\n",
    "        return hash((self.title, self.author))\n",
    "    "
   ]
  },
  {
   "cell_type": "code",
   "execution_count": 119,
   "metadata": {},
   "outputs": [],
   "source": [
    "b = Book('Antyfragile', 'Nassim Taleb', 'Non-fiction', 519)\n",
    "b_1 = Book('How Asia Works', 'Joe Studwell', 'Paperbak', 472)"
   ]
  },
  {
   "cell_type": "code",
   "execution_count": 120,
   "metadata": {},
   "outputs": [
    {
     "data": {
      "text/plain": [
       "False"
      ]
     },
     "execution_count": 120,
     "metadata": {},
     "output_type": "execute_result"
    }
   ],
   "source": [
    "b_1 == b"
   ]
  },
  {
   "cell_type": "code",
   "execution_count": 121,
   "metadata": {},
   "outputs": [
    {
     "data": {
      "text/plain": [
       "True"
      ]
     },
     "execution_count": 121,
     "metadata": {},
     "output_type": "execute_result"
    }
   ],
   "source": [
    "b_1 != b"
   ]
  },
  {
   "cell_type": "code",
   "execution_count": 122,
   "metadata": {},
   "outputs": [
    {
     "data": {
      "text/plain": [
       "\" \\n---------------------------------------------------------------------------\\nTypeError                                 Traceback (most recent call last)\\nCell In[800], line 1\\n----> 1 b > b_1\\n\\nTypeError: '>' not supported between instances of 'Book' and 'Book'\\n\""
      ]
     },
     "execution_count": 122,
     "metadata": {},
     "output_type": "execute_result"
    }
   ],
   "source": [
    "# b > b_1\n",
    "''' \n",
    "---------------------------------------------------------------------------\n",
    "TypeError                                 Traceback (most recent call last)\n",
    "Cell In[800], line 1\n",
    "----> 1 b > b_1\n",
    "\n",
    "TypeError: '>' not supported between instances of 'Book' and 'Book'\n",
    "'''"
   ]
  },
  {
   "cell_type": "code",
   "execution_count": 123,
   "metadata": {},
   "outputs": [
    {
     "data": {
      "text/plain": [
       "True"
      ]
     },
     "execution_count": 123,
     "metadata": {},
     "output_type": "execute_result"
    }
   ],
   "source": [
    "b > b_1"
   ]
  },
  {
   "cell_type": "code",
   "execution_count": 124,
   "metadata": {},
   "outputs": [
    {
     "data": {
      "text/plain": [
       "False"
      ]
     },
     "execution_count": 124,
     "metadata": {},
     "output_type": "execute_result"
    }
   ],
   "source": [
    "b_1 > b"
   ]
  },
  {
   "cell_type": "code",
   "execution_count": 125,
   "metadata": {},
   "outputs": [],
   "source": [
    "class MercedezBenz:\n",
    "    doors = 4\n",
    "    wheels = 4\n",
    "    model = \"S\"\n",
    "\n",
    "    def __init__(self, color='midnight blue') -> None: # after instance creation, but before it is returned.\n",
    "        self.color = color\n",
    "\n",
    "    def drive(self):\n",
    "        return f'A Mercedex is driving. And is is {self}\\n'\n",
    "    \n",
    "    def auto_drive():\n",
    "        return 'Auto-driving for now...'\n",
    "\n",
    "w124 = MercedezBenz()"
   ]
  },
  {
   "cell_type": "code",
   "execution_count": 126,
   "metadata": {},
   "outputs": [
    {
     "data": {
      "text/plain": [
       "\" \\n---------------------------------------------------------------------------\\nTypeError                                 Traceback (most recent call last)\\nCell In[819], line 1\\n----> 1 b > w124\\n\\nTypeError: '>' not supported between instances of 'Book' and 'MercedezBenz'\\n\""
      ]
     },
     "execution_count": 126,
     "metadata": {},
     "output_type": "execute_result"
    }
   ],
   "source": [
    "# b > w124\n",
    "''' \n",
    "---------------------------------------------------------------------------\n",
    "TypeError                                 Traceback (most recent call last)\n",
    "Cell In[819], line 1\n",
    "----> 1 b > w124\n",
    "\n",
    "TypeError: '>' not supported between instances of 'Book' and 'MercedezBenz'\n",
    "'''"
   ]
  },
  {
   "cell_type": "code",
   "execution_count": 127,
   "metadata": {},
   "outputs": [
    {
     "data": {
      "text/plain": [
       "\" \\n---------------------------------------------------------------------------\\nTypeError                                 Traceback (most recent call last)\\nCell In[821], line 1\\n----> 1 b >4\\n\\nTypeError: '>' not supported between instances of 'Book' and 'int'\\n\""
      ]
     },
     "execution_count": 127,
     "metadata": {},
     "output_type": "execute_result"
    }
   ],
   "source": [
    "# b > 4\n",
    "''' \n",
    "---------------------------------------------------------------------------\n",
    "TypeError                                 Traceback (most recent call last)\n",
    "Cell In[821], line 1\n",
    "----> 1 b >4\n",
    "\n",
    "TypeError: '>' not supported between instances of 'Book' and 'int'\n",
    "'''"
   ]
  },
  {
   "cell_type": "code",
   "execution_count": 128,
   "metadata": {},
   "outputs": [
    {
     "data": {
      "text/plain": [
       "False"
      ]
     },
     "execution_count": 128,
     "metadata": {},
     "output_type": "execute_result"
    }
   ],
   "source": [
    "b < b_1"
   ]
  },
  {
   "cell_type": "code",
   "execution_count": 129,
   "metadata": {},
   "outputs": [
    {
     "data": {
      "text/plain": [
       "True"
      ]
     },
     "execution_count": 129,
     "metadata": {},
     "output_type": "execute_result"
    }
   ],
   "source": [
    "b_1 < b"
   ]
  },
  {
   "cell_type": "code",
   "execution_count": 130,
   "metadata": {},
   "outputs": [
    {
     "data": {
      "text/plain": [
       "\" \\n---------------------------------------------------------------------------\\nTypeError                                 Traceback (most recent call last)\\nCell In[837], line 1\\n----> 1 b >= b_1\\n\\nTypeError: '>=' not supported between instances of 'Book' and 'Book'\\n\""
      ]
     },
     "execution_count": 130,
     "metadata": {},
     "output_type": "execute_result"
    }
   ],
   "source": [
    "# b >= b_1\n",
    "''' \n",
    "---------------------------------------------------------------------------\n",
    "TypeError                                 Traceback (most recent call last)\n",
    "Cell In[837], line 1\n",
    "----> 1 b >= b_1\n",
    "\n",
    "TypeError: '>=' not supported between instances of 'Book' and 'Book'\n",
    "'''"
   ]
  },
  {
   "cell_type": "code",
   "execution_count": 131,
   "metadata": {},
   "outputs": [
    {
     "data": {
      "text/plain": [
       "True"
      ]
     },
     "execution_count": 131,
     "metadata": {},
     "output_type": "execute_result"
    }
   ],
   "source": [
    "b >= b_1"
   ]
  },
  {
   "cell_type": "code",
   "execution_count": 132,
   "metadata": {},
   "outputs": [
    {
     "data": {
      "text/plain": [
       "False"
      ]
     },
     "execution_count": 132,
     "metadata": {},
     "output_type": "execute_result"
    }
   ],
   "source": [
    "b_1 >= b"
   ]
  },
  {
   "attachments": {},
   "cell_type": "markdown",
   "metadata": {},
   "source": [
    "# 36. A Better Way"
   ]
  },
  {
   "cell_type": "code",
   "execution_count": 133,
   "metadata": {},
   "outputs": [],
   "source": [
    "class Book:\n",
    "    def __init__(self, title, author, book_type, pages):\n",
    "        self.title = title\n",
    "        self.author = author\n",
    "        self.book_type = book_type\n",
    "        self.pages = pages\n",
    "\n",
    "    def __repr__(self) -> str:\n",
    "        return f\"Book('{self.title}', '{self.author}', '{self.book_type}', {self.pages})\"\n",
    "    \n",
    "    def __eq__(self, __o: object) -> bool:\n",
    "        if not isinstance(__o, Book):\n",
    "            return False\n",
    "        \n",
    "        return self.title == __o.title and self.author == __o.author\n",
    "    \n",
    "    def __ne__(self, __o: object) -> bool:\n",
    "        # print(\"Comparint non-equality....\")\n",
    "\n",
    "        if not isinstance(__o, Book):\n",
    "            return False\n",
    "        \n",
    "        return self.title != __o.title and self.author != __o.author\n",
    "    \n",
    "    def __gt__(self, __o:object):\n",
    "        if not isinstance(__o, Book):\n",
    "            return NotImplemented\n",
    "        \n",
    "        return self.pages > __o.pages\n",
    "    \n",
    "    def __lt__(self, __o:object) -> bool:\n",
    "        if not isinstance(__o, Book):\n",
    "            return NotImplemented\n",
    "        \n",
    "        # return self.pages < __o.pages\n",
    "        return True\n",
    "    \n",
    "    def __le__(self, __o:object) -> bool:\n",
    "        if not isinstance(__o, Book):\n",
    "            return NotImplemented\n",
    "        \n",
    "        return self.pages <= __o.pages\n",
    "    \n",
    "    def __ge__(self, __o: object):\n",
    "        return NotImplemented\n",
    "    \n",
    "    def __hash__(self):\n",
    "        return hash((self.title, self.author))\n",
    "    "
   ]
  },
  {
   "cell_type": "code",
   "execution_count": 134,
   "metadata": {},
   "outputs": [],
   "source": [
    "b = Book('Antyfragile', 'Nassim Taleb', 'Non-fiction', 519)\n",
    "b_1 = Book('How Asia Works', 'Joe Studwell', 'Paperbak', 472)"
   ]
  },
  {
   "cell_type": "code",
   "execution_count": 135,
   "metadata": {},
   "outputs": [
    {
     "data": {
      "text/plain": [
       "True"
      ]
     },
     "execution_count": 135,
     "metadata": {},
     "output_type": "execute_result"
    }
   ],
   "source": [
    "b < b_1"
   ]
  },
  {
   "cell_type": "code",
   "execution_count": 136,
   "metadata": {},
   "outputs": [
    {
     "data": {
      "text/plain": [
       "True"
      ]
     },
     "execution_count": 136,
     "metadata": {},
     "output_type": "execute_result"
    }
   ],
   "source": [
    "b > b_1"
   ]
  },
  {
   "cell_type": "code",
   "execution_count": 137,
   "metadata": {},
   "outputs": [],
   "source": [
    "from functools import total_ordering"
   ]
  },
  {
   "cell_type": "code",
   "execution_count": 138,
   "metadata": {},
   "outputs": [],
   "source": [
    "class Book:\n",
    "    def __init__(self, title, author, book_type, pages):\n",
    "        self.title = title\n",
    "        self.author = author\n",
    "        self.book_type = book_type\n",
    "        self.pages = pages\n",
    "\n",
    "    def __repr__(self) -> str:\n",
    "        return f\"Book('{self.title}', '{self.author}', '{self.book_type}', {self.pages})\"\n",
    "    \n",
    "    def __eq__(self, __o: object) -> bool:\n",
    "        if not isinstance(__o, Book):\n",
    "            return False\n",
    "        \n",
    "        return self.title == __o.title and self.author == __o.author\n",
    "    \n",
    "    def __gt__(self, __o:object):\n",
    "        if not isinstance(__o, Book):\n",
    "            return NotImplemented\n",
    "        \n",
    "        return self.pages > __o.pages\n",
    "\n",
    "    def __hash__(self):\n",
    "        return hash((self.title, self.author))"
   ]
  },
  {
   "cell_type": "code",
   "execution_count": 139,
   "metadata": {},
   "outputs": [],
   "source": [
    "Book = total_ordering(Book)"
   ]
  },
  {
   "cell_type": "code",
   "execution_count": 140,
   "metadata": {},
   "outputs": [],
   "source": [
    "b = Book('Antyfragile', 'Nassim Taleb', 'Non-fiction', 519)\n",
    "b_1 = Book('How Asia Works', 'Joe Studwell', 'Paperbak', 472)"
   ]
  },
  {
   "cell_type": "code",
   "execution_count": 141,
   "metadata": {},
   "outputs": [
    {
     "name": "stdout",
     "output_type": "stream",
     "text": [
      "False\n",
      "True\n",
      "False\n",
      "False\n",
      "True\n",
      "True\n"
     ]
    }
   ],
   "source": [
    "print(b == b_1)\n",
    "print(b != b_1)\n",
    "print(b < b_1)\n",
    "print(b <= b_1)\n",
    "print(b >= b_1)\n",
    "print(b > b_1)"
   ]
  },
  {
   "cell_type": "code",
   "execution_count": 142,
   "metadata": {},
   "outputs": [],
   "source": [
    "@total_ordering\n",
    "class Book:\n",
    "    def __init__(self, title, author, book_type, pages):\n",
    "        self.title = title\n",
    "        self.author = author\n",
    "        self.book_type = book_type\n",
    "        self.pages = pages\n",
    "\n",
    "    def __repr__(self) -> str:\n",
    "        return f\"Book('{self.title}', '{self.author}', '{self.book_type}', {self.pages})\"\n",
    "    \n",
    "    def __eq__(self, __o: object) -> bool:\n",
    "        if not isinstance(__o, Book):\n",
    "            return False\n",
    "        \n",
    "        return self.title == __o.title and self.author == __o.author\n",
    "    \n",
    "    def __gt__(self, __o:object):\n",
    "        if not isinstance(__o, Book):\n",
    "            return NotImplemented\n",
    "        \n",
    "        return self.pages > __o.pages\n",
    "\n",
    "    def __hash__(self):\n",
    "        return hash((self.title, self.author))"
   ]
  },
  {
   "cell_type": "code",
   "execution_count": 143,
   "metadata": {},
   "outputs": [],
   "source": [
    "b = Book('Antyfragile', 'Nassim Taleb', 'Non-fiction', 519)\n",
    "b_1 = Book('How Asia Works', 'Joe Studwell', 'Paperbak', 472)"
   ]
  },
  {
   "cell_type": "code",
   "execution_count": 144,
   "metadata": {},
   "outputs": [
    {
     "name": "stdout",
     "output_type": "stream",
     "text": [
      "False\n",
      "True\n",
      "False\n",
      "False\n",
      "True\n",
      "True\n"
     ]
    }
   ],
   "source": [
    "print(b == b_1)\n",
    "print(b != b_1)\n",
    "print(b < b_1)\n",
    "print(b <= b_1)\n",
    "print(b >= b_1)\n",
    "print(b > b_1)"
   ]
  },
  {
   "attachments": {},
   "cell_type": "markdown",
   "metadata": {},
   "source": [
    "# Truthiness"
   ]
  },
  {
   "cell_type": "code",
   "execution_count": 151,
   "metadata": {},
   "outputs": [],
   "source": [
    "from functools import total_ordering\n",
    "\n",
    "@total_ordering\n",
    "class Book:\n",
    "    def __init__(self, title, author, book_type, pages):\n",
    "        self.title = title\n",
    "        self.author = author\n",
    "        self.book_type = book_type\n",
    "        self.pages = pages\n",
    "\n",
    "    def __repr__(self) -> str:\n",
    "        return f\"Book('{self.title}', '{self.author}', '{self.book_type}', {self.pages})\"\n",
    "    \n",
    "    def __eq__(self, __o: object) -> bool:\n",
    "        if not isinstance(__o, Book):\n",
    "            return False\n",
    "        \n",
    "        return self.title == __o.title and self.author == __o.author\n",
    "    \n",
    "    def __gt__(self, __o:object) -> bool:\n",
    "        if not isinstance(__o, Book):\n",
    "            return NotImplemented\n",
    "        \n",
    "        return self.pages > __o.pages\n",
    "\n",
    "    def __hash__(self) -> hash:\n",
    "        return hash((self.title, self.author))\n",
    "    \n",
    "    def __bool__(self) -> bool:\n",
    "        return bool(self.pages) and not(self.pages < 1)"
   ]
  },
  {
   "cell_type": "code",
   "execution_count": 152,
   "metadata": {},
   "outputs": [],
   "source": [
    "b_0 = Book('Antyfragile', 'Nassim Taleb', 'Non-fiction', 519)\n",
    "b_1 = Book('How Asia Works', 'Joe Studwell', 'Paperbak', 472)"
   ]
  },
  {
   "cell_type": "code",
   "execution_count": 155,
   "metadata": {},
   "outputs": [
    {
     "name": "stdout",
     "output_type": "stream",
     "text": [
      "Truthy\n"
     ]
    }
   ],
   "source": [
    "if b_0:\n",
    "    print('Truthy')\n",
    "else:\n",
    "    print('Falsey')"
   ]
  },
  {
   "cell_type": "code",
   "execution_count": 156,
   "metadata": {},
   "outputs": [
    {
     "data": {
      "text/plain": [
       "True"
      ]
     },
     "execution_count": 156,
     "metadata": {},
     "output_type": "execute_result"
    }
   ],
   "source": [
    "bool(b_1)"
   ]
  },
  {
   "cell_type": "code",
   "execution_count": 157,
   "metadata": {},
   "outputs": [
    {
     "data": {
      "text/plain": [
       "False"
      ]
     },
     "execution_count": 157,
     "metadata": {},
     "output_type": "execute_result"
    }
   ],
   "source": [
    "bool(0)"
   ]
  },
  {
   "cell_type": "code",
   "execution_count": 163,
   "metadata": {},
   "outputs": [
    {
     "data": {
      "text/plain": [
       "(False, False, False, False, False)"
      ]
     },
     "execution_count": 163,
     "metadata": {},
     "output_type": "execute_result"
    }
   ],
   "source": [
    "bool({}),bool([]),bool(None),bool(set()), bool('')"
   ]
  },
  {
   "cell_type": "code",
   "execution_count": 164,
   "metadata": {},
   "outputs": [],
   "source": [
    "b_zero = Book('Antyfragile', 'Nassim Taleb', 'Non-fiction', 0)\n",
    "b_neg = Book('How Asia Works', 'Joe Studwell', 'Paperbak', -10)\n",
    "b_poz = Book('How Asia Works', 'Joe Studwell', 'Paperbak', 472)"
   ]
  },
  {
   "cell_type": "code",
   "execution_count": 165,
   "metadata": {},
   "outputs": [
    {
     "data": {
      "text/plain": [
       "(False, False, True)"
      ]
     },
     "execution_count": 165,
     "metadata": {},
     "output_type": "execute_result"
    }
   ],
   "source": [
    "bool(b_zero), bool(b_neg), bool(b_poz)"
   ]
  },
  {
   "cell_type": "code",
   "execution_count": null,
   "metadata": {},
   "outputs": [],
   "source": []
  }
 ],
 "metadata": {
  "kernelspec": {
   "display_name": "Python 3",
   "language": "python",
   "name": "python3"
  },
  "language_info": {
   "codemirror_mode": {
    "name": "ipython",
    "version": 3
   },
   "file_extension": ".py",
   "mimetype": "text/x-python",
   "name": "python",
   "nbconvert_exporter": "python",
   "pygments_lexer": "ipython3",
   "version": "3.11.2"
  },
  "orig_nbformat": 4,
  "vscode": {
   "interpreter": {
    "hash": "aee8b7b246df8f9039afb4144a1f6fd8d2ca17a180786b69acc140d282b71a49"
   }
  }
 },
 "nbformat": 4,
 "nbformat_minor": 2
}
