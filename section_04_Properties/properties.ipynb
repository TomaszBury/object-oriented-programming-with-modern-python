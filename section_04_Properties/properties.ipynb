{
 "cells": [
  {
   "attachments": {},
   "cell_type": "markdown",
   "metadata": {},
   "source": [
    "# Loyal Customers"
   ]
  },
  {
   "cell_type": "code",
   "execution_count": 2,
   "metadata": {},
   "outputs": [],
   "source": [
    "class Customer:\n",
    "    def __init__(self, loyalty) -> None:\n",
    "        self.loyalty = loyalty"
   ]
  },
  {
   "cell_type": "code",
   "execution_count": 4,
   "metadata": {},
   "outputs": [],
   "source": [
    "c1 = Customer('Bronze')\n",
    "c2 = Customer('Gold')\n",
    "c3 = Customer('Platinum')"
   ]
  },
  {
   "cell_type": "code",
   "execution_count": 5,
   "metadata": {},
   "outputs": [],
   "source": [
    "def get_discount(customer):\n",
    "    discounts = {\n",
    "        'Bronze': .1,\n",
    "        'Gold': .2,\n",
    "        'Platinum': .35\n",
    "    }\n",
    "    discount  = discounts.get(customer.loyalty, None)\n",
    "\n",
    "    if not discount:\n",
    "        return ValueError(\"Could not determine the customer's discount!\")\n",
    "    \n",
    "    return discount"
   ]
  },
  {
   "cell_type": "code",
   "execution_count": 7,
   "metadata": {},
   "outputs": [
    {
     "name": "stdout",
     "output_type": "stream",
     "text": [
      "Your discount is 10%\n",
      "Your discount is 20%\n",
      "Your discount is 35%\n"
     ]
    }
   ],
   "source": [
    "for customer in [c1, c2, c3]:\n",
    "    print(f\"Your discount is {get_discount(customer):.0%}\")"
   ]
  },
  {
   "cell_type": "code",
   "execution_count": null,
   "metadata": {},
   "outputs": [],
   "source": []
  }
 ],
 "metadata": {
  "kernelspec": {
   "display_name": "Python 3",
   "language": "python",
   "name": "python3"
  },
  "language_info": {
   "codemirror_mode": {
    "name": "ipython",
    "version": 3
   },
   "file_extension": ".py",
   "mimetype": "text/x-python",
   "name": "python",
   "nbconvert_exporter": "python",
   "pygments_lexer": "ipython3",
   "version": "3.11.2"
  },
  "orig_nbformat": 4
 },
 "nbformat": 4,
 "nbformat_minor": 2
}
