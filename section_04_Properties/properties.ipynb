{
 "cells": [
  {
   "attachments": {},
   "cell_type": "markdown",
   "metadata": {},
   "source": [
    "# Loyal Customers"
   ]
  },
  {
   "cell_type": "code",
   "execution_count": 201,
   "metadata": {},
   "outputs": [],
   "source": [
    "class Customer:\n",
    "    def __init__(self, loyalty) -> None:\n",
    "        self.loyalty = loyalty"
   ]
  },
  {
   "cell_type": "code",
   "execution_count": 202,
   "metadata": {},
   "outputs": [],
   "source": [
    "c1 = Customer('Bronze')\n",
    "c2 = Customer('Gold')\n",
    "c3 = Customer('Platinum')"
   ]
  },
  {
   "cell_type": "code",
   "execution_count": 203,
   "metadata": {},
   "outputs": [],
   "source": [
    "def get_discount(customer):\n",
    "    discounts = {\n",
    "        'Bronze': .1,\n",
    "        'Gold': .2,\n",
    "        'Platinum': .35\n",
    "    }\n",
    "    discount  = discounts.get(customer.loyalty, None)\n",
    "\n",
    "    if not discount:\n",
    "        return ValueError(\"Could not determine the customer's discount!\")\n",
    "    \n",
    "    return discount"
   ]
  },
  {
   "cell_type": "code",
   "execution_count": 204,
   "metadata": {},
   "outputs": [
    {
     "name": "stdout",
     "output_type": "stream",
     "text": [
      "Your discount is 10%\n",
      "Your discount is 20%\n",
      "Your discount is 35%\n"
     ]
    }
   ],
   "source": [
    "for customer in [c1, c2, c3]:\n",
    "    print(f\"Your discount is {get_discount(customer):.0%}\")"
   ]
  },
  {
   "attachments": {},
   "cell_type": "markdown",
   "metadata": {},
   "source": [
    "# Always Start Plain"
   ]
  },
  {
   "cell_type": "code",
   "execution_count": 205,
   "metadata": {},
   "outputs": [],
   "source": [
    "class Customer:\n",
    "    def __init__(self, loyalty) -> None:\n",
    "        self.loyalty = loyalty"
   ]
  },
  {
   "cell_type": "code",
   "execution_count": 206,
   "metadata": {},
   "outputs": [],
   "source": [
    "class Customer:\n",
    "    def __init__(self, loyalty) -> None:\n",
    "        self.loyalty = loyalty\n",
    "\n",
    "    def get_loyalty(self):\n",
    "        return self.loyalty\n",
    "    \n",
    "    def set_loyalty(self, level):\n",
    "        self.loyalty = level"
   ]
  },
  {
   "cell_type": "code",
   "execution_count": 207,
   "metadata": {},
   "outputs": [],
   "source": [
    "c = Customer('bronze')"
   ]
  },
  {
   "cell_type": "code",
   "execution_count": 208,
   "metadata": {},
   "outputs": [
    {
     "data": {
      "text/plain": [
       "'bronze'"
      ]
     },
     "execution_count": 208,
     "metadata": {},
     "output_type": "execute_result"
    }
   ],
   "source": [
    "c.get_loyalty()"
   ]
  },
  {
   "cell_type": "code",
   "execution_count": 209,
   "metadata": {},
   "outputs": [
    {
     "data": {
      "text/plain": [
       "'bronze'"
      ]
     },
     "execution_count": 209,
     "metadata": {},
     "output_type": "execute_result"
    }
   ],
   "source": [
    "c.loyalty"
   ]
  },
  {
   "cell_type": "code",
   "execution_count": 210,
   "metadata": {},
   "outputs": [],
   "source": [
    "import this"
   ]
  },
  {
   "attachments": {},
   "cell_type": "markdown",
   "metadata": {},
   "source": [
    "# A Refactor"
   ]
  },
  {
   "cell_type": "code",
   "execution_count": 211,
   "metadata": {},
   "outputs": [],
   "source": [
    "class Customer:\n",
    "    def __init__(self, loyalty) -> None:\n",
    "        self.loyalty = loyalty\n",
    "\n",
    "    def get_loyalty(self):\n",
    "        return self.loyalty\n",
    "    \n",
    "    def set_loyalty(self, level):\n",
    "        self.loyalty = level"
   ]
  },
  {
   "cell_type": "code",
   "execution_count": 212,
   "metadata": {},
   "outputs": [],
   "source": [
    "# bronze, gold, platinum"
   ]
  },
  {
   "cell_type": "code",
   "execution_count": 213,
   "metadata": {},
   "outputs": [],
   "source": [
    "c = Customer('Andy')"
   ]
  },
  {
   "cell_type": "code",
   "execution_count": 214,
   "metadata": {},
   "outputs": [
    {
     "data": {
      "text/plain": [
       "'Andy'"
      ]
     },
     "execution_count": 214,
     "metadata": {},
     "output_type": "execute_result"
    }
   ],
   "source": [
    "c.loyalty"
   ]
  },
  {
   "cell_type": "code",
   "execution_count": 215,
   "metadata": {},
   "outputs": [],
   "source": [
    "class Customer:\n",
    "    loyalty_levels = {'bronze', 'gold', 'platinum'}\n",
    "    def __init__(self, loyalty) -> None:\n",
    "        self.set_loyalty(loyalty)\n",
    "\n",
    "    def get_loyalty(self):\n",
    "        return self.loyalty\n",
    "    \n",
    "    def set_loyalty(self, level):\n",
    "        if level not in self.loyalty_levels:\n",
    "            raise ValueError(f\"Invalid loyalty {level} specified.\")\n",
    "        \n",
    "        self.loyalty = level"
   ]
  },
  {
   "cell_type": "code",
   "execution_count": 216,
   "metadata": {},
   "outputs": [],
   "source": [
    "# c = Customer('Andy')"
   ]
  },
  {
   "attachments": {},
   "cell_type": "markdown",
   "metadata": {},
   "source": [
    "```python\n",
    "---------------------------------------------------------------------------\n",
    "ValueError                                Traceback (most recent call last)\n",
    "Cell In[38], line 1\n",
    "----> 1 c = Customer('Andy')\n",
    "\n",
    "Cell In[37], line 4, in Customer.__init__(self, loyalty)\n",
    "      3 def __init__(self, loyalty) -> None:\n",
    "----> 4     self.set_loyalty(loyalty)\n",
    "\n",
    "Cell In[37], line 11, in Customer.set_loyalty(self, level)\n",
    "      9 def set_loyalty(self, level):\n",
    "     10     if level not in self.loyalty_levels:\n",
    "---> 11         raise ValueError(f\"Invalid loyalty {level} specified.\")\n",
    "     13     self.loyalty = level\n",
    "\n",
    "ValueError: Invalid loyalty Andy specified.\n",
    "```"
   ]
  },
  {
   "cell_type": "code",
   "execution_count": 217,
   "metadata": {},
   "outputs": [],
   "source": [
    "c2 = Customer('bronze')"
   ]
  },
  {
   "cell_type": "code",
   "execution_count": 218,
   "metadata": {},
   "outputs": [],
   "source": [
    "c2.loyalty = 'Andy'"
   ]
  },
  {
   "cell_type": "code",
   "execution_count": 219,
   "metadata": {},
   "outputs": [],
   "source": [
    "class Customer:\n",
    "    loyalty_levels = {'bronze', 'gold', 'platinum'}\n",
    "    def __init__(self, loyalty) -> None:\n",
    "        self.set_loyalty(loyalty)\n",
    "\n",
    "    def get_loyalty(self):\n",
    "        return self._loyalty\n",
    "    \n",
    "    def set_loyalty(self, level):\n",
    "        if level not in self.loyalty_levels:\n",
    "            raise ValueError(f\"Invalid loyalty {level} specified.\")\n",
    "        \n",
    "        self._loyalty = level"
   ]
  },
  {
   "cell_type": "code",
   "execution_count": 220,
   "metadata": {},
   "outputs": [],
   "source": [
    "c = Customer('gold')"
   ]
  },
  {
   "cell_type": "code",
   "execution_count": 221,
   "metadata": {},
   "outputs": [],
   "source": [
    "c.loyalty = \"Andy\""
   ]
  },
  {
   "cell_type": "code",
   "execution_count": 222,
   "metadata": {},
   "outputs": [
    {
     "data": {
      "text/plain": [
       "'gold'"
      ]
     },
     "execution_count": 222,
     "metadata": {},
     "output_type": "execute_result"
    }
   ],
   "source": [
    "c.get_loyalty()"
   ]
  },
  {
   "cell_type": "code",
   "execution_count": 223,
   "metadata": {},
   "outputs": [
    {
     "data": {
      "text/plain": [
       "{'_loyalty': 'gold', 'loyalty': 'Andy'}"
      ]
     },
     "execution_count": 223,
     "metadata": {},
     "output_type": "execute_result"
    }
   ],
   "source": [
    "c.__dict__"
   ]
  },
  {
   "attachments": {},
   "cell_type": "markdown",
   "metadata": {},
   "source": [
    "# Private and Mangled attributes"
   ]
  },
  {
   "cell_type": "code",
   "execution_count": 224,
   "metadata": {},
   "outputs": [],
   "source": [
    "class Customer:\n",
    "    loyalty_levels = {'bronze', 'gold', 'platinum'}\n",
    "    def __init__(self, loyalty) -> None:\n",
    "        self.set_loyalty(loyalty)\n",
    "\n",
    "    def get_loyalty(self):\n",
    "        return self._loyalty\n",
    "    \n",
    "    def set_loyalty(self, level):\n",
    "        if level not in self.loyalty_levels:\n",
    "            raise ValueError(f\"Invalid loyalty {level} specified.\")\n",
    "        \n",
    "        self._loyalty = level"
   ]
  },
  {
   "cell_type": "code",
   "execution_count": 225,
   "metadata": {},
   "outputs": [],
   "source": [
    "c = Customer('gold')"
   ]
  },
  {
   "attachments": {},
   "cell_type": "markdown",
   "metadata": {},
   "source": [
    "## _ --> protected or protected"
   ]
  },
  {
   "cell_type": "code",
   "execution_count": 226,
   "metadata": {},
   "outputs": [
    {
     "data": {
      "text/plain": [
       "'gold'"
      ]
     },
     "execution_count": 226,
     "metadata": {},
     "output_type": "execute_result"
    }
   ],
   "source": [
    "c.get_loyalty()"
   ]
  },
  {
   "cell_type": "code",
   "execution_count": 227,
   "metadata": {},
   "outputs": [],
   "source": [
    "c._loyalty = \"bronze\""
   ]
  },
  {
   "cell_type": "code",
   "execution_count": 228,
   "metadata": {},
   "outputs": [
    {
     "data": {
      "text/plain": [
       "'bronze'"
      ]
     },
     "execution_count": 228,
     "metadata": {},
     "output_type": "execute_result"
    }
   ],
   "source": [
    "c.get_loyalty()"
   ]
  },
  {
   "cell_type": "code",
   "execution_count": 229,
   "metadata": {},
   "outputs": [],
   "source": [
    "class Customer:\n",
    "    loyalty_levels = {'bronze', 'gold', 'platinum'}\n",
    "    def __init__(self, loyalty) -> None:\n",
    "        self.set_loyalty(loyalty)\n",
    "\n",
    "    def get_loyalty(self):\n",
    "        return self.__loyalty\n",
    "    \n",
    "    def set_loyalty(self, level):\n",
    "        if level not in self.loyalty_levels:\n",
    "            raise ValueError(f\"Invalid loyalty {level} specified.\")\n",
    "        \n",
    "        self.__loyalty = level"
   ]
  },
  {
   "cell_type": "code",
   "execution_count": 230,
   "metadata": {},
   "outputs": [],
   "source": [
    "c = Customer(\"bronze\")"
   ]
  },
  {
   "cell_type": "code",
   "execution_count": 231,
   "metadata": {},
   "outputs": [
    {
     "data": {
      "text/plain": [
       "'bronze'"
      ]
     },
     "execution_count": 231,
     "metadata": {},
     "output_type": "execute_result"
    }
   ],
   "source": [
    "c.get_loyalty()"
   ]
  },
  {
   "cell_type": "code",
   "execution_count": 232,
   "metadata": {},
   "outputs": [],
   "source": [
    "# c.__loyalty"
   ]
  },
  {
   "attachments": {},
   "cell_type": "markdown",
   "metadata": {},
   "source": [
    "```python\n",
    "---------------------------------------------------------------------------\n",
    "AttributeError                            Traceback (most recent call last)\n",
    "Cell In[35], line 1\n",
    "----> 1 c.__loyalty\n",
    "\n",
    "AttributeError: 'Customer' object has no attribute '__loyalty'\n",
    "```"
   ]
  },
  {
   "cell_type": "code",
   "execution_count": 233,
   "metadata": {},
   "outputs": [
    {
     "data": {
      "text/plain": [
       "{'_Customer__loyalty': 'bronze'}"
      ]
     },
     "execution_count": 233,
     "metadata": {},
     "output_type": "execute_result"
    }
   ],
   "source": [
    "c.__dict__"
   ]
  },
  {
   "attachments": {},
   "cell_type": "markdown",
   "metadata": {},
   "source": [
    "### __ --> name mangled -> mangle -> disfigure"
   ]
  },
  {
   "cell_type": "code",
   "execution_count": 234,
   "metadata": {},
   "outputs": [
    {
     "data": {
      "text/plain": [
       "'bronze'"
      ]
     },
     "execution_count": 234,
     "metadata": {},
     "output_type": "execute_result"
    }
   ],
   "source": [
    "c._Customer__loyalty"
   ]
  },
  {
   "cell_type": "code",
   "execution_count": 235,
   "metadata": {},
   "outputs": [
    {
     "data": {
      "text/plain": [
       "'bronze'"
      ]
     },
     "execution_count": 235,
     "metadata": {},
     "output_type": "execute_result"
    }
   ],
   "source": [
    "# Sefety, not restricting access\n",
    "c._Customer__loyalty"
   ]
  },
  {
   "attachments": {},
   "cell_type": "markdown",
   "metadata": {},
   "source": [
    "# Breaking changes"
   ]
  },
  {
   "cell_type": "code",
   "execution_count": 236,
   "metadata": {},
   "outputs": [],
   "source": [
    "def get_discount(customer):\n",
    "    discounts = {\n",
    "        'bronze': .1,\n",
    "        'gold': .2,\n",
    "        'platinum': .35\n",
    "    }\n",
    "\n",
    "    discount = discounts.get(customer._loyalty, None)\n",
    "\n",
    "    if not discount:\n",
    "        raise ValueError(\"Could not determine the customer's discount!\")\n",
    "    \n",
    "    return discount"
   ]
  },
  {
   "cell_type": "code",
   "execution_count": 237,
   "metadata": {},
   "outputs": [],
   "source": [
    "class Customer:\n",
    "    loyalty_levels = {'bronze', 'gold', 'platinum'}\n",
    "\n",
    "    def __init__(self, loyalty) -> None:\n",
    "        self.set_loyalty(loyalty)\n",
    "\n",
    "    def get_loyalty(self):\n",
    "        return self._loyalty\n",
    "    \n",
    "    def set_loyalty(self, level):\n",
    "        if level not in self.loyalty_levels:\n",
    "            raise ValueError(f\"Invalid loyalty {level} specified.\")\n",
    "        \n",
    "        self._loyalty = level\n",
    "\n",
    "    loyalty = property(fget=get_loyalty, fset=set_loyalty)"
   ]
  },
  {
   "cell_type": "code",
   "execution_count": 238,
   "metadata": {},
   "outputs": [],
   "source": [
    "c1 = Customer(\"bronze\")\n",
    "c2 = Customer(\"gold\")\n",
    "c3 = Customer(\"platinum\")"
   ]
  },
  {
   "cell_type": "code",
   "execution_count": 239,
   "metadata": {},
   "outputs": [],
   "source": [
    "# Customer(\"superloyal\")"
   ]
  },
  {
   "attachments": {},
   "cell_type": "markdown",
   "metadata": {},
   "source": [
    "```python\n",
    "---------------------------------------------------------------------------\n",
    "ValueError                                Traceback (most recent call last)\n",
    "Cell In[91], line 1\n",
    "----> 1 Customer(\"superloyal\")\n",
    "\n",
    "Cell In[89], line 5, in Customer.__init__(self, loyalty)\n",
    "      4 def __init__(self, loyalty) -> None:\n",
    "----> 5     self.set_loyalty(loyalty)\n",
    "\n",
    "Cell In[89], line 12, in Customer.set_loyalty(self, level)\n",
    "     10 def set_loyalty(self, level):\n",
    "     11     if level not in self.loyalty_levels:\n",
    "---> 12         raise ValueError(f\"Invalid loyalty {level} specified.\")\n",
    "     14     self._loyalty = level\n",
    "\n",
    "ValueError: Invalid loyalty superloyal specified.\n",
    "```"
   ]
  },
  {
   "cell_type": "code",
   "execution_count": 240,
   "metadata": {},
   "outputs": [
    {
     "name": "stdout",
     "output_type": "stream",
     "text": [
      "Your discount is 10%\n",
      "Your discount is 20%\n",
      "Your discount is 35%\n"
     ]
    }
   ],
   "source": [
    "for customer in [c1, c2, c3]:\n",
    "    print(f\"Your discount is {get_discount(customer):.0%}\")"
   ]
  },
  {
   "cell_type": "code",
   "execution_count": 241,
   "metadata": {},
   "outputs": [],
   "source": [
    "def get_discount(customer):\n",
    "    discounts = {\n",
    "        'bronze': .1,\n",
    "        'gold': .2,\n",
    "        'platinum': .35\n",
    "    }\n",
    "\n",
    "    # _loyalty changed to loyalty\n",
    "    discount = discounts.get(customer.loyalty, None)\n",
    "\n",
    "    if not discount:\n",
    "        raise ValueError(\"Could not determine the customer's discount!\")\n",
    "    \n",
    "    return discount"
   ]
  },
  {
   "cell_type": "code",
   "execution_count": 242,
   "metadata": {},
   "outputs": [],
   "source": [
    "# for customer in [c1, c2, c3]:\n",
    "#    print(f\"Your discount is {get_discount(customer):.0%}\")"
   ]
  },
  {
   "attachments": {},
   "cell_type": "markdown",
   "metadata": {},
   "source": [
    "```python\n",
    "---------------------------------------------------------------------------\n",
    "AttributeError                            Traceback (most recent call last)\n",
    "Cell In[101], line 2\n",
    "      1 for customer in [c1, c2, c3]:\n",
    "----> 2     print(f\"Your discount is {get_discount(customer):.0%}\")\n",
    "\n",
    "Cell In[100], line 8, in get_discount(customer)\n",
    "      1 def get_discount(customer):\n",
    "      2     discounts = {\n",
    "      3         'bronze': .1,\n",
    "      4         'gold': .2,\n",
    "      5         'platinum': .35\n",
    "      6     }\n",
    "----> 8     discount = discounts.get(customer.loyalty, None)\n",
    "     10     if not discount:\n",
    "     11         raise ValueError(\"Could not determine the customer's discount!\")\n",
    "\n",
    "AttributeError: 'Customer' object has no attribute 'loyalty'\n",
    "```"
   ]
  },
  {
   "attachments": {},
   "cell_type": "markdown",
   "metadata": {},
   "source": [
    "# Properties"
   ]
  },
  {
   "cell_type": "code",
   "execution_count": 243,
   "metadata": {},
   "outputs": [],
   "source": [
    "class Customer:\n",
    "    loyalty_levels = {'bronze', 'gold', 'platinum'}\n",
    "\n",
    "    def __init__(self, loyalty) -> None:\n",
    "        # self.set_loyalty(loyalty)\n",
    "        self.loyalty = loyalty\n",
    "\n",
    "    def get_loyalty(self):\n",
    "        return self._loyalty\n",
    "    \n",
    "    def set_loyalty(self, level):\n",
    "        if level not in self.loyalty_levels:\n",
    "            raise ValueError(f\"Invalid loyalty {level} specified.\")\n",
    "        \n",
    "        self._loyalty = level\n",
    "\n",
    "    loyalty = property(fget=get_loyalty, fset=set_loyalty)"
   ]
  },
  {
   "cell_type": "code",
   "execution_count": 244,
   "metadata": {},
   "outputs": [],
   "source": [
    "c1 = Customer(\"bronze\")\n",
    "c2 = Customer(\"gold\")\n",
    "c3 = Customer(\"platinum\")"
   ]
  },
  {
   "cell_type": "code",
   "execution_count": 245,
   "metadata": {},
   "outputs": [
    {
     "name": "stdout",
     "output_type": "stream",
     "text": [
      "Your discount is 10%\n",
      "Your discount is 20%\n",
      "Your discount is 35%\n"
     ]
    }
   ],
   "source": [
    "for customer in [c1, c2, c3]:\n",
    "    print(f\"Your discount is {get_discount(customer):.0%}\")\n"
   ]
  },
  {
   "cell_type": "code",
   "execution_count": 246,
   "metadata": {},
   "outputs": [
    {
     "data": {
      "text/plain": [
       "'gold'"
      ]
     },
     "execution_count": 246,
     "metadata": {},
     "output_type": "execute_result"
    }
   ],
   "source": [
    "c2.loyalty"
   ]
  },
  {
   "cell_type": "code",
   "execution_count": 247,
   "metadata": {},
   "outputs": [],
   "source": [
    "# c2.loyalty = 'bjorn'"
   ]
  },
  {
   "attachments": {},
   "cell_type": "markdown",
   "metadata": {},
   "source": [
    "```python\n",
    "---------------------------------------------------------------------------\n",
    "ValueError                                Traceback (most recent call last)\n",
    "Cell In[164], line 1\n",
    "----> 1 c2.loyalty = 'bjorn'\n",
    "\n",
    "Cell In[159], line 13, in Customer.set_loyalty(self, level)\n",
    "     11 def set_loyalty(self, level):\n",
    "     12     if level not in self.loyalty_levels:\n",
    "---> 13         raise ValueError(f\"Invalid loyalty {level} specified.\")\n",
    "     15     self._loyalty = level\n",
    "\n",
    "ValueError: Invalid loyalty bjorn specified.\n",
    "```"
   ]
  },
  {
   "cell_type": "code",
   "execution_count": 248,
   "metadata": {},
   "outputs": [],
   "source": [
    "class Customer:\n",
    "    loyalty_levels = {'bronze', 'gold', 'platinum'}\n",
    "\n",
    "    def __init__(self, loyalty, membership=0) -> None:\n",
    "        # self.set_loyalty(loyalty)\n",
    "        self.loyalty = loyalty\n",
    "        self.membership = membership\n",
    "\n",
    "    def get_membership(self):\n",
    "        return self._membership\n",
    "    \n",
    "    def set_membership(self, value):\n",
    "        if value < 0 or value > 34:\n",
    "            raise ValueError(\"Invalid membership years.\")\n",
    "        \n",
    "        self._membership = value\n",
    "\n",
    "    def get_loyalty(self):\n",
    "        return self._loyalty\n",
    "    \n",
    "    def set_loyalty(self, level):\n",
    "        if level not in self.loyalty_levels:\n",
    "            raise ValueError(f\"Invalid loyalty {level} specified.\")\n",
    "        \n",
    "        self._loyalty = level\n",
    "\n",
    "    loyalty = property(fget=get_loyalty, fset=set_loyalty)\n",
    "    membership = property(fget=get_membership, fset=set_membership)"
   ]
  },
  {
   "cell_type": "code",
   "execution_count": 249,
   "metadata": {},
   "outputs": [],
   "source": [
    "# c1 = Customer(\"bronze\", -12)"
   ]
  },
  {
   "attachments": {},
   "cell_type": "markdown",
   "metadata": {},
   "source": [
    "```python\n",
    "---------------------------------------------------------------------------\n",
    "ValueError                                Traceback (most recent call last)\n",
    "Cell In[148], line 1\n",
    "----> 1 c1 = Customer(\"bronze\", -12)\n",
    "\n",
    "Cell In[147], line 7, in Customer.__init__(self, loyalty, membership)\n",
    "      4 def __init__(self, loyalty, membership=0) -> None:\n",
    "      5     # self.set_loyalty(loyalty)\n",
    "      6     self.loyalty = loyalty\n",
    "----> 7     self.membership = membership\n",
    "\n",
    "Cell In[147], line 14, in Customer.set_membership(self, value)\n",
    "     12 def set_membership(self, value):\n",
    "     13     if value < 0 or value > 34:\n",
    "---> 14         raise ValueError(\"Invalid membership years.\")\n",
    "     16     self._membership = value\n",
    "\n",
    "ValueError: Invalid membership years.\n",
    "```"
   ]
  },
  {
   "cell_type": "code",
   "execution_count": 250,
   "metadata": {},
   "outputs": [],
   "source": [
    "#c2 = Customer(\"gold\", 120)"
   ]
  },
  {
   "attachments": {},
   "cell_type": "markdown",
   "metadata": {},
   "source": [
    "```python\n",
    "---------------------------------------------------------------------------\n",
    "ValueError                                Traceback (most recent call last)\n",
    "Cell In[199], line 1\n",
    "----> 1 c2 = Customer(\"gold\", 120)\n",
    "\n",
    "Cell In[197], line 7, in Customer.__init__(self, loyalty, membership)\n",
    "      4 def __init__(self, loyalty, membership=0) -> None:\n",
    "      5     # self.set_loyalty(loyalty)\n",
    "      6     self.loyalty = loyalty\n",
    "----> 7     self.membership = membership\n",
    "\n",
    "Cell In[197], line 14, in Customer.set_membership(self, value)\n",
    "     12 def set_membership(self, value):\n",
    "     13     if value < 0 or value > 34:\n",
    "---> 14         raise ValueError(\"Invalid membership years.\")\n",
    "     16     self._membership = value\n",
    "\n",
    "ValueError: Invalid membership years.\n",
    "```"
   ]
  },
  {
   "cell_type": "code",
   "execution_count": 251,
   "metadata": {},
   "outputs": [],
   "source": [
    "c3 = Customer(\"platinum\", 12)"
   ]
  },
  {
   "cell_type": "code",
   "execution_count": 252,
   "metadata": {},
   "outputs": [
    {
     "data": {
      "text/plain": [
       "12"
      ]
     },
     "execution_count": 252,
     "metadata": {},
     "output_type": "execute_result"
    }
   ],
   "source": [
    "c3.membership"
   ]
  },
  {
   "cell_type": "code",
   "execution_count": 253,
   "metadata": {},
   "outputs": [],
   "source": [
    "c3.membership += 3"
   ]
  },
  {
   "cell_type": "code",
   "execution_count": 254,
   "metadata": {},
   "outputs": [
    {
     "data": {
      "text/plain": [
       "15"
      ]
     },
     "execution_count": 254,
     "metadata": {},
     "output_type": "execute_result"
    }
   ],
   "source": [
    "c3.membership"
   ]
  },
  {
   "cell_type": "code",
   "execution_count": 255,
   "metadata": {},
   "outputs": [],
   "source": [
    "# c3.membership += 100"
   ]
  },
  {
   "attachments": {},
   "cell_type": "markdown",
   "metadata": {},
   "source": [
    "```python\n",
    "---------------------------------------------------------------------------\n",
    "ValueError                                Traceback (most recent call last)\n",
    "Cell In[175], line 1\n",
    "----> 1 c3.membership += 100\n",
    "\n",
    "Cell In[166], line 14, in Customer.set_membership(self, value)\n",
    "     12 def set_membership(self, value):\n",
    "     13     if value < 0 or value > 34:\n",
    "---> 14         raise ValueError(\"Invalid membership years.\")\n",
    "     16     self._membership = value\n",
    "\n",
    "ValueError: Invalid membership years.\n",
    "```"
   ]
  },
  {
   "attachments": {},
   "cell_type": "markdown",
   "metadata": {},
   "source": [
    "# Properties live in the class"
   ]
  },
  {
   "cell_type": "code",
   "execution_count": 256,
   "metadata": {},
   "outputs": [],
   "source": [
    "class Customer:\n",
    "    loyalty_levels = {'bronze', 'gold', 'platinum'}\n",
    "\n",
    "    def __init__(self, loyalty, membership=0) -> None:\n",
    "        # self.set_loyalty(loyalty)\n",
    "        self.loyalty = loyalty\n",
    "        self.membership = membership\n",
    "\n",
    "    def get_membership(self):\n",
    "        return self._membership\n",
    "    \n",
    "    def set_membership(self, value):\n",
    "        if value < 0 or value > 34:\n",
    "            raise ValueError(\"Invalid membership years.\")\n",
    "        \n",
    "        self._membership = value\n",
    "\n",
    "    def get_loyalty(self):\n",
    "        return self._loyalty\n",
    "    \n",
    "    def set_loyalty(self, level):\n",
    "        if level not in self.loyalty_levels:\n",
    "            raise ValueError(f\"Invalid loyalty {level} specified.\")\n",
    "        \n",
    "        self._loyalty = level\n",
    "\n",
    "    loyalty = property(fget=get_loyalty, fset=set_loyalty)\n",
    "    membership = property(fget=get_membership, fset=set_membership)"
   ]
  },
  {
   "cell_type": "code",
   "execution_count": 257,
   "metadata": {},
   "outputs": [],
   "source": [
    "c = Customer(\"bronze\")"
   ]
  },
  {
   "cell_type": "code",
   "execution_count": 258,
   "metadata": {},
   "outputs": [
    {
     "data": {
      "text/plain": [
       "{'_loyalty': 'bronze', '_membership': 0}"
      ]
     },
     "execution_count": 258,
     "metadata": {},
     "output_type": "execute_result"
    }
   ],
   "source": [
    "c.__dict__"
   ]
  },
  {
   "cell_type": "code",
   "execution_count": 259,
   "metadata": {},
   "outputs": [],
   "source": [
    "c.__dict__['_loyalty'] = 'platinum'"
   ]
  },
  {
   "cell_type": "code",
   "execution_count": 260,
   "metadata": {},
   "outputs": [
    {
     "data": {
      "text/plain": [
       "'platinum'"
      ]
     },
     "execution_count": 260,
     "metadata": {},
     "output_type": "execute_result"
    }
   ],
   "source": [
    "c.loyalty"
   ]
  },
  {
   "cell_type": "code",
   "execution_count": 261,
   "metadata": {},
   "outputs": [],
   "source": [
    "c.__dict__[\"loyalty\"] = 'gold'"
   ]
  },
  {
   "cell_type": "code",
   "execution_count": 262,
   "metadata": {},
   "outputs": [
    {
     "data": {
      "text/plain": [
       "{'_loyalty': 'platinum', '_membership': 0, 'loyalty': 'gold'}"
      ]
     },
     "execution_count": 262,
     "metadata": {},
     "output_type": "execute_result"
    }
   ],
   "source": [
    "c.__dict__"
   ]
  },
  {
   "cell_type": "code",
   "execution_count": 263,
   "metadata": {},
   "outputs": [
    {
     "data": {
      "text/plain": [
       "mappingproxy({'__module__': '__main__',\n",
       "              'loyalty_levels': {'bronze', 'gold', 'platinum'},\n",
       "              '__init__': <function __main__.Customer.__init__(self, loyalty, membership=0) -> None>,\n",
       "              'get_membership': <function __main__.Customer.get_membership(self)>,\n",
       "              'set_membership': <function __main__.Customer.set_membership(self, value)>,\n",
       "              'get_loyalty': <function __main__.Customer.get_loyalty(self)>,\n",
       "              'set_loyalty': <function __main__.Customer.set_loyalty(self, level)>,\n",
       "              'loyalty': <property at 0x10a373060>,\n",
       "              'membership': <property at 0x10a371f30>,\n",
       "              '__dict__': <attribute '__dict__' of 'Customer' objects>,\n",
       "              '__weakref__': <attribute '__weakref__' of 'Customer' objects>,\n",
       "              '__doc__': None})"
      ]
     },
     "execution_count": 263,
     "metadata": {},
     "output_type": "execute_result"
    }
   ],
   "source": [
    "Customer.__dict__"
   ]
  },
  {
   "cell_type": "code",
   "execution_count": 264,
   "metadata": {},
   "outputs": [
    {
     "data": {
      "text/plain": [
       "'platinum'"
      ]
     },
     "execution_count": 264,
     "metadata": {},
     "output_type": "execute_result"
    }
   ],
   "source": [
    "c.loyalty"
   ]
  },
  {
   "cell_type": "code",
   "execution_count": 265,
   "metadata": {},
   "outputs": [],
   "source": [
    "class DNABase:\n",
    "    def __init__(self, nucleotide):\n",
    "        self.base = nucleotide\n",
    "\n",
    "    @staticmethod\n",
    "    def _validate_and_standardize(base):\n",
    "        allowed = [('a', 'adenine'), ('c', 'cytosine'), ('g', 'guanine'), ('t', 'thymine')]\n",
    "\n",
    "        for b in allowed:\n",
    "            if base.lower().strip() in b:\n",
    "                return b[1]\n",
    "\n",
    "        return False\n",
    "\n",
    "    def set_base(self, base):\n",
    "        valid_base = self._validate_and_standardize(base)\n",
    "\n",
    "        if valid_base:\n",
    "            self._base = valid_base\n",
    "        else:\n",
    "            raise ValueError(f\"{base} is not a recognized DNA nucleotide\")\n",
    "\n",
    "    def get_base(self):\n",
    "        return self._base\n",
    "\n",
    "    base = property(fget=get_base, fset=set_base)\n",
    "\n",
    "    def __repr__(self):\n",
    "        return f\"{type(self).__name__}(nucleotide='{self.base}')\""
   ]
  },
  {
   "cell_type": "code",
   "execution_count": 266,
   "metadata": {},
   "outputs": [],
   "source": [
    "b1 = DNABase('t')"
   ]
  },
  {
   "cell_type": "code",
   "execution_count": 267,
   "metadata": {},
   "outputs": [
    {
     "data": {
      "text/plain": [
       "'thymine'"
      ]
     },
     "execution_count": 267,
     "metadata": {},
     "output_type": "execute_result"
    }
   ],
   "source": [
    "b1.base"
   ]
  },
  {
   "cell_type": "code",
   "execution_count": 268,
   "metadata": {},
   "outputs": [],
   "source": [
    "b1 = DNABase('c')"
   ]
  },
  {
   "cell_type": "code",
   "execution_count": 269,
   "metadata": {},
   "outputs": [
    {
     "data": {
      "text/plain": [
       "'cytosine'"
      ]
     },
     "execution_count": 269,
     "metadata": {},
     "output_type": "execute_result"
    }
   ],
   "source": [
    "b1.base"
   ]
  },
  {
   "cell_type": "code",
   "execution_count": 270,
   "metadata": {},
   "outputs": [],
   "source": [
    "b1.base = 't'"
   ]
  },
  {
   "cell_type": "code",
   "execution_count": 271,
   "metadata": {},
   "outputs": [
    {
     "data": {
      "text/plain": [
       "'thymine'"
      ]
     },
     "execution_count": 271,
     "metadata": {},
     "output_type": "execute_result"
    }
   ],
   "source": [
    "b1.base"
   ]
  },
  {
   "cell_type": "code",
   "execution_count": 272,
   "metadata": {},
   "outputs": [],
   "source": [
    "b1.base = 'g'"
   ]
  },
  {
   "cell_type": "code",
   "execution_count": 273,
   "metadata": {},
   "outputs": [
    {
     "data": {
      "text/plain": [
       "'guanine'"
      ]
     },
     "execution_count": 273,
     "metadata": {},
     "output_type": "execute_result"
    }
   ],
   "source": [
    "b1.base"
   ]
  },
  {
   "attachments": {},
   "cell_type": "markdown",
   "metadata": {},
   "source": [
    "# Decorator syntax"
   ]
  },
  {
   "cell_type": "code",
   "execution_count": 274,
   "metadata": {},
   "outputs": [],
   "source": [
    "class Customer:\n",
    "    loyalty_levels = {'bronze', 'gold', 'platinum'}\n",
    "\n",
    "    def __init__(self, loyalty, membership=0) -> None:\n",
    "        # self.set_loyalty(loyalty)\n",
    "        self.loyalty = loyalty\n",
    "\n",
    "    def get_loyalty(self):\n",
    "        return self._loyalty\n",
    "    \n",
    "    def set_loyalty(self, level):\n",
    "        if level not in self.loyalty_levels:\n",
    "            raise ValueError(f\"Invalid loyalty {level} specified.\")\n",
    "        \n",
    "        self._loyalty = level\n",
    "\n",
    "    loyalty = property(fget=get_loyalty, fset=set_loyalty)"
   ]
  },
  {
   "cell_type": "code",
   "execution_count": 275,
   "metadata": {},
   "outputs": [],
   "source": [
    "c_1 = Customer(\"gold\")"
   ]
  },
  {
   "cell_type": "code",
   "execution_count": 276,
   "metadata": {},
   "outputs": [
    {
     "data": {
      "text/plain": [
       "'gold'"
      ]
     },
     "execution_count": 276,
     "metadata": {},
     "output_type": "execute_result"
    }
   ],
   "source": [
    "c_1.loyalty"
   ]
  },
  {
   "cell_type": "code",
   "execution_count": 277,
   "metadata": {},
   "outputs": [],
   "source": [
    "class Customer:\n",
    "    loyalty_levels = {'bronze', 'gold', 'platinum'}\n",
    "\n",
    "    def __init__(self, loyalty, membership=0) -> None:\n",
    "        # self.set_loyalty(loyalty)\n",
    "        self.loyalty = loyalty\n",
    "\n",
    "    @property\n",
    "    def loyalty(self):\n",
    "        return self._loyalty\n",
    "    \n",
    "    @loyalty.setter\n",
    "    def loyalty(self, level):\n",
    "        if level not in self.loyalty_levels:\n",
    "            raise ValueError(f\"Invalid loyalty {level} specified.\")\n",
    "        \n",
    "        self._loyalty = level"
   ]
  },
  {
   "cell_type": "code",
   "execution_count": 278,
   "metadata": {},
   "outputs": [],
   "source": [
    "c_2 = Customer('bronze')"
   ]
  },
  {
   "cell_type": "code",
   "execution_count": 279,
   "metadata": {},
   "outputs": [
    {
     "data": {
      "text/plain": [
       "'bronze'"
      ]
     },
     "execution_count": 279,
     "metadata": {},
     "output_type": "execute_result"
    }
   ],
   "source": [
    "c_2.loyalty"
   ]
  },
  {
   "cell_type": "code",
   "execution_count": 280,
   "metadata": {},
   "outputs": [
    {
     "data": {
      "text/plain": [
       "{'_loyalty': 'platinum', '_membership': 0, 'loyalty': 'gold'}"
      ]
     },
     "execution_count": 280,
     "metadata": {},
     "output_type": "execute_result"
    }
   ],
   "source": [
    "c.__dict__"
   ]
  },
  {
   "cell_type": "code",
   "execution_count": null,
   "metadata": {},
   "outputs": [],
   "source": []
  }
 ],
 "metadata": {
  "kernelspec": {
   "display_name": "Python 3",
   "language": "python",
   "name": "python3"
  },
  "language_info": {
   "codemirror_mode": {
    "name": "ipython",
    "version": 3
   },
   "file_extension": ".py",
   "mimetype": "text/x-python",
   "name": "python",
   "nbconvert_exporter": "python",
   "pygments_lexer": "ipython3",
   "version": "3.11.2"
  },
  "orig_nbformat": 4
 },
 "nbformat": 4,
 "nbformat_minor": 2
}
