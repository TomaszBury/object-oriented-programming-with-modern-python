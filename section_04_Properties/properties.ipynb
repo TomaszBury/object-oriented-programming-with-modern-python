{
 "cells": [
  {
   "attachments": {},
   "cell_type": "markdown",
   "metadata": {},
   "source": [
    "# Loyal Customers"
   ]
  },
  {
   "cell_type": "code",
   "execution_count": 1,
   "metadata": {},
   "outputs": [],
   "source": [
    "class Customer:\n",
    "    def __init__(self, loyalty) -> None:\n",
    "        self.loyalty = loyalty"
   ]
  },
  {
   "cell_type": "code",
   "execution_count": 2,
   "metadata": {},
   "outputs": [],
   "source": [
    "c1 = Customer('Bronze')\n",
    "c2 = Customer('Gold')\n",
    "c3 = Customer('Platinum')"
   ]
  },
  {
   "cell_type": "code",
   "execution_count": 3,
   "metadata": {},
   "outputs": [],
   "source": [
    "def get_discount(customer):\n",
    "    discounts = {\n",
    "        'Bronze': .1,\n",
    "        'Gold': .2,\n",
    "        'Platinum': .35\n",
    "    }\n",
    "    discount  = discounts.get(customer.loyalty, None)\n",
    "\n",
    "    if not discount:\n",
    "        return ValueError(\"Could not determine the customer's discount!\")\n",
    "    \n",
    "    return discount"
   ]
  },
  {
   "cell_type": "code",
   "execution_count": 4,
   "metadata": {},
   "outputs": [
    {
     "name": "stdout",
     "output_type": "stream",
     "text": [
      "Your discount is 10%\n",
      "Your discount is 20%\n",
      "Your discount is 35%\n"
     ]
    }
   ],
   "source": [
    "for customer in [c1, c2, c3]:\n",
    "    print(f\"Your discount is {get_discount(customer):.0%}\")"
   ]
  },
  {
   "attachments": {},
   "cell_type": "markdown",
   "metadata": {},
   "source": [
    "# Always Start Plain"
   ]
  },
  {
   "cell_type": "code",
   "execution_count": 5,
   "metadata": {},
   "outputs": [],
   "source": [
    "class Customer:\n",
    "    def __init__(self, loyalty) -> None:\n",
    "        self.loyalty = loyalty"
   ]
  },
  {
   "cell_type": "code",
   "execution_count": 6,
   "metadata": {},
   "outputs": [],
   "source": [
    "class Customer:\n",
    "    def __init__(self, loyalty) -> None:\n",
    "        self.loyalty = loyalty\n",
    "\n",
    "    def get_loyalty(self):\n",
    "        return self.loyalty\n",
    "    \n",
    "    def set_loyalty(self, level):\n",
    "        self.loyalty = level"
   ]
  },
  {
   "cell_type": "code",
   "execution_count": 7,
   "metadata": {},
   "outputs": [],
   "source": [
    "c = Customer('bronze')"
   ]
  },
  {
   "cell_type": "code",
   "execution_count": 8,
   "metadata": {},
   "outputs": [
    {
     "data": {
      "text/plain": [
       "'bronze'"
      ]
     },
     "execution_count": 8,
     "metadata": {},
     "output_type": "execute_result"
    }
   ],
   "source": [
    "c.get_loyalty()"
   ]
  },
  {
   "cell_type": "code",
   "execution_count": 9,
   "metadata": {},
   "outputs": [
    {
     "data": {
      "text/plain": [
       "'bronze'"
      ]
     },
     "execution_count": 9,
     "metadata": {},
     "output_type": "execute_result"
    }
   ],
   "source": [
    "c.loyalty"
   ]
  },
  {
   "cell_type": "code",
   "execution_count": 10,
   "metadata": {},
   "outputs": [
    {
     "name": "stdout",
     "output_type": "stream",
     "text": [
      "The Zen of Python, by Tim Peters\n",
      "\n",
      "Beautiful is better than ugly.\n",
      "Explicit is better than implicit.\n",
      "Simple is better than complex.\n",
      "Complex is better than complicated.\n",
      "Flat is better than nested.\n",
      "Sparse is better than dense.\n",
      "Readability counts.\n",
      "Special cases aren't special enough to break the rules.\n",
      "Although practicality beats purity.\n",
      "Errors should never pass silently.\n",
      "Unless explicitly silenced.\n",
      "In the face of ambiguity, refuse the temptation to guess.\n",
      "There should be one-- and preferably only one --obvious way to do it.\n",
      "Although that way may not be obvious at first unless you're Dutch.\n",
      "Now is better than never.\n",
      "Although never is often better than *right* now.\n",
      "If the implementation is hard to explain, it's a bad idea.\n",
      "If the implementation is easy to explain, it may be a good idea.\n",
      "Namespaces are one honking great idea -- let's do more of those!\n"
     ]
    }
   ],
   "source": [
    "import this"
   ]
  },
  {
   "attachments": {},
   "cell_type": "markdown",
   "metadata": {},
   "source": [
    "# A Refactor"
   ]
  },
  {
   "cell_type": "code",
   "execution_count": 11,
   "metadata": {},
   "outputs": [],
   "source": [
    "class Customer:\n",
    "    def __init__(self, loyalty) -> None:\n",
    "        self.loyalty = loyalty\n",
    "\n",
    "    def get_loyalty(self):\n",
    "        return self.loyalty\n",
    "    \n",
    "    def set_loyalty(self, level):\n",
    "        self.loyalty = level"
   ]
  },
  {
   "cell_type": "code",
   "execution_count": 12,
   "metadata": {},
   "outputs": [],
   "source": [
    "# bronze, gold, platinum"
   ]
  },
  {
   "cell_type": "code",
   "execution_count": 13,
   "metadata": {},
   "outputs": [],
   "source": [
    "c = Customer('Andy')"
   ]
  },
  {
   "cell_type": "code",
   "execution_count": 14,
   "metadata": {},
   "outputs": [
    {
     "data": {
      "text/plain": [
       "'Andy'"
      ]
     },
     "execution_count": 14,
     "metadata": {},
     "output_type": "execute_result"
    }
   ],
   "source": [
    "c.loyalty"
   ]
  },
  {
   "cell_type": "code",
   "execution_count": 15,
   "metadata": {},
   "outputs": [],
   "source": [
    "class Customer:\n",
    "    loyalty_levels = {'bronze', 'gold', 'platinum'}\n",
    "    def __init__(self, loyalty) -> None:\n",
    "        self.set_loyalty(loyalty)\n",
    "\n",
    "    def get_loyalty(self):\n",
    "        return self.loyalty\n",
    "    \n",
    "    def set_loyalty(self, level):\n",
    "        if level not in self.loyalty_levels:\n",
    "            raise ValueError(f\"Invalid loyalty {level} specified.\")\n",
    "        \n",
    "        self.loyalty = level"
   ]
  },
  {
   "cell_type": "code",
   "execution_count": 16,
   "metadata": {},
   "outputs": [],
   "source": [
    "# c = Customer('Andy')"
   ]
  },
  {
   "attachments": {},
   "cell_type": "markdown",
   "metadata": {},
   "source": [
    "```python\n",
    "---------------------------------------------------------------------------\n",
    "ValueError                                Traceback (most recent call last)\n",
    "Cell In[38], line 1\n",
    "----> 1 c = Customer('Andy')\n",
    "\n",
    "Cell In[37], line 4, in Customer.__init__(self, loyalty)\n",
    "      3 def __init__(self, loyalty) -> None:\n",
    "----> 4     self.set_loyalty(loyalty)\n",
    "\n",
    "Cell In[37], line 11, in Customer.set_loyalty(self, level)\n",
    "      9 def set_loyalty(self, level):\n",
    "     10     if level not in self.loyalty_levels:\n",
    "---> 11         raise ValueError(f\"Invalid loyalty {level} specified.\")\n",
    "     13     self.loyalty = level\n",
    "\n",
    "ValueError: Invalid loyalty Andy specified.\n",
    "```"
   ]
  },
  {
   "cell_type": "code",
   "execution_count": 17,
   "metadata": {},
   "outputs": [],
   "source": [
    "c2 = Customer('bronze')"
   ]
  },
  {
   "cell_type": "code",
   "execution_count": 18,
   "metadata": {},
   "outputs": [],
   "source": [
    "c2.loyalty = 'Andy'"
   ]
  },
  {
   "cell_type": "code",
   "execution_count": 19,
   "metadata": {},
   "outputs": [],
   "source": [
    "class Customer:\n",
    "    loyalty_levels = {'bronze', 'gold', 'platinum'}\n",
    "    def __init__(self, loyalty) -> None:\n",
    "        self.set_loyalty(loyalty)\n",
    "\n",
    "    def get_loyalty(self):\n",
    "        return self._loyalty\n",
    "    \n",
    "    def set_loyalty(self, level):\n",
    "        if level not in self.loyalty_levels:\n",
    "            raise ValueError(f\"Invalid loyalty {level} specified.\")\n",
    "        \n",
    "        self._loyalty = level"
   ]
  },
  {
   "cell_type": "code",
   "execution_count": 20,
   "metadata": {},
   "outputs": [],
   "source": [
    "c = Customer('gold')"
   ]
  },
  {
   "cell_type": "code",
   "execution_count": 21,
   "metadata": {},
   "outputs": [],
   "source": [
    "c.loyalty = \"Andy\""
   ]
  },
  {
   "cell_type": "code",
   "execution_count": 22,
   "metadata": {},
   "outputs": [
    {
     "data": {
      "text/plain": [
       "'gold'"
      ]
     },
     "execution_count": 22,
     "metadata": {},
     "output_type": "execute_result"
    }
   ],
   "source": [
    "c.get_loyalty()"
   ]
  },
  {
   "cell_type": "code",
   "execution_count": 23,
   "metadata": {},
   "outputs": [
    {
     "data": {
      "text/plain": [
       "{'_loyalty': 'gold', 'loyalty': 'Andy'}"
      ]
     },
     "execution_count": 23,
     "metadata": {},
     "output_type": "execute_result"
    }
   ],
   "source": [
    "c.__dict__"
   ]
  },
  {
   "attachments": {},
   "cell_type": "markdown",
   "metadata": {},
   "source": [
    "# Private and Mangled attributes"
   ]
  },
  {
   "cell_type": "code",
   "execution_count": 24,
   "metadata": {},
   "outputs": [],
   "source": [
    "class Customer:\n",
    "    loyalty_levels = {'bronze', 'gold', 'platinum'}\n",
    "    def __init__(self, loyalty) -> None:\n",
    "        self.set_loyalty(loyalty)\n",
    "\n",
    "    def get_loyalty(self):\n",
    "        return self._loyalty\n",
    "    \n",
    "    def set_loyalty(self, level):\n",
    "        if level not in self.loyalty_levels:\n",
    "            raise ValueError(f\"Invalid loyalty {level} specified.\")\n",
    "        \n",
    "        self._loyalty = level"
   ]
  },
  {
   "cell_type": "code",
   "execution_count": 25,
   "metadata": {},
   "outputs": [],
   "source": [
    "c = Customer('gold')"
   ]
  },
  {
   "attachments": {},
   "cell_type": "markdown",
   "metadata": {},
   "source": [
    "## _ --> protected or protected"
   ]
  },
  {
   "cell_type": "code",
   "execution_count": 26,
   "metadata": {},
   "outputs": [
    {
     "data": {
      "text/plain": [
       "'gold'"
      ]
     },
     "execution_count": 26,
     "metadata": {},
     "output_type": "execute_result"
    }
   ],
   "source": [
    "c.get_loyalty()"
   ]
  },
  {
   "cell_type": "code",
   "execution_count": 27,
   "metadata": {},
   "outputs": [],
   "source": [
    "c._loyalty = \"bronze\""
   ]
  },
  {
   "cell_type": "code",
   "execution_count": 28,
   "metadata": {},
   "outputs": [
    {
     "data": {
      "text/plain": [
       "'bronze'"
      ]
     },
     "execution_count": 28,
     "metadata": {},
     "output_type": "execute_result"
    }
   ],
   "source": [
    "c.get_loyalty()"
   ]
  },
  {
   "cell_type": "code",
   "execution_count": 29,
   "metadata": {},
   "outputs": [],
   "source": [
    "class Customer:\n",
    "    loyalty_levels = {'bronze', 'gold', 'platinum'}\n",
    "    def __init__(self, loyalty) -> None:\n",
    "        self.set_loyalty(loyalty)\n",
    "\n",
    "    def get_loyalty(self):\n",
    "        return self.__loyalty\n",
    "    \n",
    "    def set_loyalty(self, level):\n",
    "        if level not in self.loyalty_levels:\n",
    "            raise ValueError(f\"Invalid loyalty {level} specified.\")\n",
    "        \n",
    "        self.__loyalty = level"
   ]
  },
  {
   "cell_type": "code",
   "execution_count": 30,
   "metadata": {},
   "outputs": [],
   "source": [
    "c = Customer(\"bronze\")"
   ]
  },
  {
   "cell_type": "code",
   "execution_count": 31,
   "metadata": {},
   "outputs": [
    {
     "data": {
      "text/plain": [
       "'bronze'"
      ]
     },
     "execution_count": 31,
     "metadata": {},
     "output_type": "execute_result"
    }
   ],
   "source": [
    "c.get_loyalty()"
   ]
  },
  {
   "cell_type": "code",
   "execution_count": 32,
   "metadata": {},
   "outputs": [],
   "source": [
    "# c.__loyalty"
   ]
  },
  {
   "attachments": {},
   "cell_type": "markdown",
   "metadata": {},
   "source": [
    "```python\n",
    "---------------------------------------------------------------------------\n",
    "AttributeError                            Traceback (most recent call last)\n",
    "Cell In[35], line 1\n",
    "----> 1 c.__loyalty\n",
    "\n",
    "AttributeError: 'Customer' object has no attribute '__loyalty'\n",
    "```"
   ]
  },
  {
   "cell_type": "code",
   "execution_count": 33,
   "metadata": {},
   "outputs": [
    {
     "data": {
      "text/plain": [
       "{'_Customer__loyalty': 'bronze'}"
      ]
     },
     "execution_count": 33,
     "metadata": {},
     "output_type": "execute_result"
    }
   ],
   "source": [
    "c.__dict__"
   ]
  },
  {
   "attachments": {},
   "cell_type": "markdown",
   "metadata": {},
   "source": [
    "### __ --> name mangled -> mangle -> disfigure"
   ]
  },
  {
   "cell_type": "code",
   "execution_count": 34,
   "metadata": {},
   "outputs": [
    {
     "data": {
      "text/plain": [
       "'bronze'"
      ]
     },
     "execution_count": 34,
     "metadata": {},
     "output_type": "execute_result"
    }
   ],
   "source": [
    "c._Customer__loyalty"
   ]
  },
  {
   "cell_type": "code",
   "execution_count": 35,
   "metadata": {},
   "outputs": [
    {
     "data": {
      "text/plain": [
       "'bronze'"
      ]
     },
     "execution_count": 35,
     "metadata": {},
     "output_type": "execute_result"
    }
   ],
   "source": [
    "# Sefety, not restricting access\n",
    "c._Customer__loyalty"
   ]
  },
  {
   "attachments": {},
   "cell_type": "markdown",
   "metadata": {},
   "source": [
    "# Breaking changes"
   ]
  },
  {
   "cell_type": "code",
   "execution_count": 36,
   "metadata": {},
   "outputs": [],
   "source": [
    "def get_discount(customer):\n",
    "    discounts = {\n",
    "        'bronze': .1,\n",
    "        'gold': .2,\n",
    "        'platinum': .35\n",
    "    }\n",
    "\n",
    "    discount = discounts.get(customer._loyalty, None)\n",
    "\n",
    "    if not discount:\n",
    "        raise ValueError(\"Could not determine the customer's discount!\")\n",
    "    \n",
    "    return discount"
   ]
  },
  {
   "cell_type": "code",
   "execution_count": 37,
   "metadata": {},
   "outputs": [],
   "source": [
    "class Customer:\n",
    "    loyalty_levels = {'bronze', 'gold', 'platinum'}\n",
    "\n",
    "    def __init__(self, loyalty) -> None:\n",
    "        self.set_loyalty(loyalty)\n",
    "\n",
    "    def get_loyalty(self):\n",
    "        return self._loyalty\n",
    "    \n",
    "    def set_loyalty(self, level):\n",
    "        if level not in self.loyalty_levels:\n",
    "            raise ValueError(f\"Invalid loyalty {level} specified.\")\n",
    "        \n",
    "        self._loyalty = level\n",
    "\n",
    "    loyalty = property(fget=get_loyalty, fset=set_loyalty)"
   ]
  },
  {
   "cell_type": "code",
   "execution_count": 38,
   "metadata": {},
   "outputs": [],
   "source": [
    "c1 = Customer(\"bronze\")\n",
    "c2 = Customer(\"gold\")\n",
    "c3 = Customer(\"platinum\")"
   ]
  },
  {
   "cell_type": "code",
   "execution_count": 39,
   "metadata": {},
   "outputs": [],
   "source": [
    "# Customer(\"superloyal\")"
   ]
  },
  {
   "attachments": {},
   "cell_type": "markdown",
   "metadata": {},
   "source": [
    "```python\n",
    "---------------------------------------------------------------------------\n",
    "ValueError                                Traceback (most recent call last)\n",
    "Cell In[91], line 1\n",
    "----> 1 Customer(\"superloyal\")\n",
    "\n",
    "Cell In[89], line 5, in Customer.__init__(self, loyalty)\n",
    "      4 def __init__(self, loyalty) -> None:\n",
    "----> 5     self.set_loyalty(loyalty)\n",
    "\n",
    "Cell In[89], line 12, in Customer.set_loyalty(self, level)\n",
    "     10 def set_loyalty(self, level):\n",
    "     11     if level not in self.loyalty_levels:\n",
    "---> 12         raise ValueError(f\"Invalid loyalty {level} specified.\")\n",
    "     14     self._loyalty = level\n",
    "\n",
    "ValueError: Invalid loyalty superloyal specified.\n",
    "```"
   ]
  },
  {
   "cell_type": "code",
   "execution_count": 40,
   "metadata": {},
   "outputs": [
    {
     "name": "stdout",
     "output_type": "stream",
     "text": [
      "Your discount is 10%\n",
      "Your discount is 20%\n",
      "Your discount is 35%\n"
     ]
    }
   ],
   "source": [
    "for customer in [c1, c2, c3]:\n",
    "    print(f\"Your discount is {get_discount(customer):.0%}\")"
   ]
  },
  {
   "cell_type": "code",
   "execution_count": 41,
   "metadata": {},
   "outputs": [],
   "source": [
    "def get_discount(customer):\n",
    "    discounts = {\n",
    "        'bronze': .1,\n",
    "        'gold': .2,\n",
    "        'platinum': .35\n",
    "    }\n",
    "\n",
    "    # _loyalty changed to loyalty\n",
    "    discount = discounts.get(customer.loyalty, None)\n",
    "\n",
    "    if not discount:\n",
    "        raise ValueError(\"Could not determine the customer's discount!\")\n",
    "    \n",
    "    return discount"
   ]
  },
  {
   "cell_type": "code",
   "execution_count": 42,
   "metadata": {},
   "outputs": [],
   "source": [
    "# for customer in [c1, c2, c3]:\n",
    "#    print(f\"Your discount is {get_discount(customer):.0%}\")"
   ]
  },
  {
   "attachments": {},
   "cell_type": "markdown",
   "metadata": {},
   "source": [
    "```python\n",
    "---------------------------------------------------------------------------\n",
    "AttributeError                            Traceback (most recent call last)\n",
    "Cell In[101], line 2\n",
    "      1 for customer in [c1, c2, c3]:\n",
    "----> 2     print(f\"Your discount is {get_discount(customer):.0%}\")\n",
    "\n",
    "Cell In[100], line 8, in get_discount(customer)\n",
    "      1 def get_discount(customer):\n",
    "      2     discounts = {\n",
    "      3         'bronze': .1,\n",
    "      4         'gold': .2,\n",
    "      5         'platinum': .35\n",
    "      6     }\n",
    "----> 8     discount = discounts.get(customer.loyalty, None)\n",
    "     10     if not discount:\n",
    "     11         raise ValueError(\"Could not determine the customer's discount!\")\n",
    "\n",
    "AttributeError: 'Customer' object has no attribute 'loyalty'\n",
    "```"
   ]
  },
  {
   "attachments": {},
   "cell_type": "markdown",
   "metadata": {},
   "source": [
    "# Properties"
   ]
  },
  {
   "cell_type": "code",
   "execution_count": 43,
   "metadata": {},
   "outputs": [],
   "source": [
    "class Customer:\n",
    "    loyalty_levels = {'bronze', 'gold', 'platinum'}\n",
    "\n",
    "    def __init__(self, loyalty) -> None:\n",
    "        # self.set_loyalty(loyalty)\n",
    "        self.loyalty = loyalty\n",
    "\n",
    "    def get_loyalty(self):\n",
    "        return self._loyalty\n",
    "    \n",
    "    def set_loyalty(self, level):\n",
    "        if level not in self.loyalty_levels:\n",
    "            raise ValueError(f\"Invalid loyalty {level} specified.\")\n",
    "        \n",
    "        self._loyalty = level\n",
    "\n",
    "    loyalty = property(fget=get_loyalty, fset=set_loyalty)"
   ]
  },
  {
   "cell_type": "code",
   "execution_count": 44,
   "metadata": {},
   "outputs": [],
   "source": [
    "c1 = Customer(\"bronze\")\n",
    "c2 = Customer(\"gold\")\n",
    "c3 = Customer(\"platinum\")"
   ]
  },
  {
   "cell_type": "code",
   "execution_count": 45,
   "metadata": {},
   "outputs": [
    {
     "name": "stdout",
     "output_type": "stream",
     "text": [
      "Your discount is 10%\n",
      "Your discount is 20%\n",
      "Your discount is 35%\n"
     ]
    }
   ],
   "source": [
    "for customer in [c1, c2, c3]:\n",
    "    print(f\"Your discount is {get_discount(customer):.0%}\")\n"
   ]
  },
  {
   "cell_type": "code",
   "execution_count": 46,
   "metadata": {},
   "outputs": [
    {
     "data": {
      "text/plain": [
       "'gold'"
      ]
     },
     "execution_count": 46,
     "metadata": {},
     "output_type": "execute_result"
    }
   ],
   "source": [
    "c2.loyalty"
   ]
  },
  {
   "cell_type": "code",
   "execution_count": 47,
   "metadata": {},
   "outputs": [],
   "source": [
    "# c2.loyalty = 'bjorn'"
   ]
  },
  {
   "attachments": {},
   "cell_type": "markdown",
   "metadata": {},
   "source": [
    "```python\n",
    "---------------------------------------------------------------------------\n",
    "ValueError                                Traceback (most recent call last)\n",
    "Cell In[164], line 1\n",
    "----> 1 c2.loyalty = 'bjorn'\n",
    "\n",
    "Cell In[159], line 13, in Customer.set_loyalty(self, level)\n",
    "     11 def set_loyalty(self, level):\n",
    "     12     if level not in self.loyalty_levels:\n",
    "---> 13         raise ValueError(f\"Invalid loyalty {level} specified.\")\n",
    "     15     self._loyalty = level\n",
    "\n",
    "ValueError: Invalid loyalty bjorn specified.\n",
    "```"
   ]
  },
  {
   "cell_type": "code",
   "execution_count": 48,
   "metadata": {},
   "outputs": [],
   "source": [
    "class Customer:\n",
    "    loyalty_levels = {'bronze', 'gold', 'platinum'}\n",
    "\n",
    "    def __init__(self, loyalty, membership=0) -> None:\n",
    "        # self.set_loyalty(loyalty)\n",
    "        self.loyalty = loyalty\n",
    "        self.membership = membership\n",
    "\n",
    "    def get_membership(self):\n",
    "        return self._membership\n",
    "    \n",
    "    def set_membership(self, value):\n",
    "        if value < 0 or value > 34:\n",
    "            raise ValueError(\"Invalid membership years.\")\n",
    "        \n",
    "        self._membership = value\n",
    "\n",
    "    def get_loyalty(self):\n",
    "        return self._loyalty\n",
    "    \n",
    "    def set_loyalty(self, level):\n",
    "        if level not in self.loyalty_levels:\n",
    "            raise ValueError(f\"Invalid loyalty {level} specified.\")\n",
    "        \n",
    "        self._loyalty = level\n",
    "\n",
    "    loyalty = property(fget=get_loyalty, fset=set_loyalty)\n",
    "    membership = property(fget=get_membership, fset=set_membership)"
   ]
  },
  {
   "cell_type": "code",
   "execution_count": 49,
   "metadata": {},
   "outputs": [
    {
     "ename": "ValueError",
     "evalue": "Invalid membership years.",
     "output_type": "error",
     "traceback": [
      "\u001b[0;31m---------------------------------------------------------------------------\u001b[0m",
      "\u001b[0;31mValueError\u001b[0m                                Traceback (most recent call last)",
      "Cell \u001b[0;32mIn[49], line 1\u001b[0m\n\u001b[0;32m----> 1\u001b[0m c1 \u001b[39m=\u001b[39m Customer(\u001b[39m\"\u001b[39;49m\u001b[39mbronze\u001b[39;49m\u001b[39m\"\u001b[39;49m, \u001b[39m-\u001b[39;49m\u001b[39m12\u001b[39;49m)\n",
      "Cell \u001b[0;32mIn[48], line 7\u001b[0m, in \u001b[0;36mCustomer.__init__\u001b[0;34m(self, loyalty, membership)\u001b[0m\n\u001b[1;32m      4\u001b[0m \u001b[39mdef\u001b[39;00m \u001b[39m__init__\u001b[39m(\u001b[39mself\u001b[39m, loyalty, membership\u001b[39m=\u001b[39m\u001b[39m0\u001b[39m) \u001b[39m-\u001b[39m\u001b[39m>\u001b[39m \u001b[39mNone\u001b[39;00m:\n\u001b[1;32m      5\u001b[0m     \u001b[39m# self.set_loyalty(loyalty)\u001b[39;00m\n\u001b[1;32m      6\u001b[0m     \u001b[39mself\u001b[39m\u001b[39m.\u001b[39mloyalty \u001b[39m=\u001b[39m loyalty\n\u001b[0;32m----> 7\u001b[0m     \u001b[39mself\u001b[39;49m\u001b[39m.\u001b[39;49mmembership \u001b[39m=\u001b[39m membership\n",
      "Cell \u001b[0;32mIn[48], line 14\u001b[0m, in \u001b[0;36mCustomer.set_membership\u001b[0;34m(self, value)\u001b[0m\n\u001b[1;32m     12\u001b[0m \u001b[39mdef\u001b[39;00m \u001b[39mset_membership\u001b[39m(\u001b[39mself\u001b[39m, value):\n\u001b[1;32m     13\u001b[0m     \u001b[39mif\u001b[39;00m value \u001b[39m<\u001b[39m \u001b[39m0\u001b[39m \u001b[39mor\u001b[39;00m value \u001b[39m>\u001b[39m \u001b[39m34\u001b[39m:\n\u001b[0;32m---> 14\u001b[0m         \u001b[39mraise\u001b[39;00m \u001b[39mValueError\u001b[39;00m(\u001b[39m\"\u001b[39m\u001b[39mInvalid membership years.\u001b[39m\u001b[39m\"\u001b[39m)\n\u001b[1;32m     16\u001b[0m     \u001b[39mself\u001b[39m\u001b[39m.\u001b[39m_membership \u001b[39m=\u001b[39m value\n",
      "\u001b[0;31mValueError\u001b[0m: Invalid membership years."
     ]
    }
   ],
   "source": [
    "c1 = Customer(\"bronze\", -12)"
   ]
  },
  {
   "cell_type": "code",
   "execution_count": null,
   "metadata": {},
   "outputs": [
    {
     "ename": "ValueError",
     "evalue": "Invalid membership years.",
     "output_type": "error",
     "traceback": [
      "\u001b[0;31m---------------------------------------------------------------------------\u001b[0m",
      "\u001b[0;31mValueError\u001b[0m                                Traceback (most recent call last)",
      "Cell \u001b[0;32mIn[170], line 1\u001b[0m\n\u001b[0;32m----> 1\u001b[0m c2 \u001b[39m=\u001b[39m Customer(\u001b[39m\"\u001b[39;49m\u001b[39mgold\u001b[39;49m\u001b[39m\"\u001b[39;49m, \u001b[39m120\u001b[39;49m)\n",
      "Cell \u001b[0;32mIn[166], line 7\u001b[0m, in \u001b[0;36mCustomer.__init__\u001b[0;34m(self, loyalty, membership)\u001b[0m\n\u001b[1;32m      4\u001b[0m \u001b[39mdef\u001b[39;00m \u001b[39m__init__\u001b[39m(\u001b[39mself\u001b[39m, loyalty, membership\u001b[39m=\u001b[39m\u001b[39m0\u001b[39m) \u001b[39m-\u001b[39m\u001b[39m>\u001b[39m \u001b[39mNone\u001b[39;00m:\n\u001b[1;32m      5\u001b[0m     \u001b[39m# self.set_loyalty(loyalty)\u001b[39;00m\n\u001b[1;32m      6\u001b[0m     \u001b[39mself\u001b[39m\u001b[39m.\u001b[39mloyalty \u001b[39m=\u001b[39m loyalty\n\u001b[0;32m----> 7\u001b[0m     \u001b[39mself\u001b[39;49m\u001b[39m.\u001b[39;49mmembership \u001b[39m=\u001b[39m membership\n",
      "Cell \u001b[0;32mIn[166], line 14\u001b[0m, in \u001b[0;36mCustomer.set_membership\u001b[0;34m(self, value)\u001b[0m\n\u001b[1;32m     12\u001b[0m \u001b[39mdef\u001b[39;00m \u001b[39mset_membership\u001b[39m(\u001b[39mself\u001b[39m, value):\n\u001b[1;32m     13\u001b[0m     \u001b[39mif\u001b[39;00m value \u001b[39m<\u001b[39m \u001b[39m0\u001b[39m \u001b[39mor\u001b[39;00m value \u001b[39m>\u001b[39m \u001b[39m34\u001b[39m:\n\u001b[0;32m---> 14\u001b[0m         \u001b[39mraise\u001b[39;00m \u001b[39mValueError\u001b[39;00m(\u001b[39m\"\u001b[39m\u001b[39mInvalid membership years.\u001b[39m\u001b[39m\"\u001b[39m)\n\u001b[1;32m     16\u001b[0m     \u001b[39mself\u001b[39m\u001b[39m.\u001b[39m_membership \u001b[39m=\u001b[39m value\n",
      "\u001b[0;31mValueError\u001b[0m: Invalid membership years."
     ]
    }
   ],
   "source": [
    "c2 = Customer(\"gold\", 120)"
   ]
  },
  {
   "cell_type": "code",
   "execution_count": null,
   "metadata": {},
   "outputs": [],
   "source": [
    "c3 = Customer(\"platinum\", 12)"
   ]
  },
  {
   "cell_type": "code",
   "execution_count": null,
   "metadata": {},
   "outputs": [
    {
     "data": {
      "text/plain": [
       "12"
      ]
     },
     "execution_count": 172,
     "metadata": {},
     "output_type": "execute_result"
    }
   ],
   "source": [
    "c3.membership"
   ]
  },
  {
   "cell_type": "code",
   "execution_count": null,
   "metadata": {},
   "outputs": [],
   "source": [
    "c3.membership += 3"
   ]
  },
  {
   "cell_type": "code",
   "execution_count": null,
   "metadata": {},
   "outputs": [
    {
     "data": {
      "text/plain": [
       "15"
      ]
     },
     "execution_count": 174,
     "metadata": {},
     "output_type": "execute_result"
    }
   ],
   "source": [
    "c3.membership"
   ]
  },
  {
   "cell_type": "code",
   "execution_count": null,
   "metadata": {},
   "outputs": [],
   "source": [
    "# c3.membership += 100"
   ]
  },
  {
   "attachments": {},
   "cell_type": "markdown",
   "metadata": {},
   "source": [
    "```python\n",
    "---------------------------------------------------------------------------\n",
    "ValueError                                Traceback (most recent call last)\n",
    "Cell In[175], line 1\n",
    "----> 1 c3.membership += 100\n",
    "\n",
    "Cell In[166], line 14, in Customer.set_membership(self, value)\n",
    "     12 def set_membership(self, value):\n",
    "     13     if value < 0 or value > 34:\n",
    "---> 14         raise ValueError(\"Invalid membership years.\")\n",
    "     16     self._membership = value\n",
    "\n",
    "ValueError: Invalid membership years.\n",
    "```"
   ]
  },
  {
   "attachments": {},
   "cell_type": "markdown",
   "metadata": {},
   "source": [
    "# Properties live in the class"
   ]
  },
  {
   "cell_type": "code",
   "execution_count": null,
   "metadata": {},
   "outputs": [],
   "source": [
    "class Customer:\n",
    "    loyalty_levels = {'bronze', 'gold', 'platinum'}\n",
    "\n",
    "    def __init__(self, loyalty, membership=0) -> None:\n",
    "        # self.set_loyalty(loyalty)\n",
    "        self.loyalty = loyalty\n",
    "        self.membership = membership\n",
    "\n",
    "    def get_membership(self):\n",
    "        return self._membership\n",
    "    \n",
    "    def set_membership(self, value):\n",
    "        if value < 0 or value > 34:\n",
    "            raise ValueError(\"Invalid membership years.\")\n",
    "        \n",
    "        self._membership = value\n",
    "\n",
    "    def get_loyalty(self):\n",
    "        return self._loyalty\n",
    "    \n",
    "    def set_loyalty(self, level):\n",
    "        if level not in self.loyalty_levels:\n",
    "            raise ValueError(f\"Invalid loyalty {level} specified.\")\n",
    "        \n",
    "        self._loyalty = level\n",
    "\n",
    "    loyalty = property(fget=get_loyalty, fset=set_loyalty)\n",
    "    membership = property(fget=get_membership, fset=set_membership)"
   ]
  },
  {
   "cell_type": "code",
   "execution_count": null,
   "metadata": {},
   "outputs": [],
   "source": [
    "c = Customer(\"bronze\")"
   ]
  },
  {
   "cell_type": "code",
   "execution_count": null,
   "metadata": {},
   "outputs": [
    {
     "data": {
      "text/plain": [
       "{'_loyalty': 'bronze', '_membership': 0}"
      ]
     },
     "execution_count": 199,
     "metadata": {},
     "output_type": "execute_result"
    }
   ],
   "source": [
    "c.__dict__"
   ]
  },
  {
   "cell_type": "code",
   "execution_count": null,
   "metadata": {},
   "outputs": [],
   "source": [
    "c.__dict__['_loyalty'] = 'platinum'"
   ]
  },
  {
   "cell_type": "code",
   "execution_count": null,
   "metadata": {},
   "outputs": [
    {
     "data": {
      "text/plain": [
       "'platinum'"
      ]
     },
     "execution_count": 201,
     "metadata": {},
     "output_type": "execute_result"
    }
   ],
   "source": [
    "c.loyalty"
   ]
  },
  {
   "cell_type": "code",
   "execution_count": null,
   "metadata": {},
   "outputs": [],
   "source": [
    "c.__dict__[\"loyalty\"] = 'gold'"
   ]
  },
  {
   "cell_type": "code",
   "execution_count": null,
   "metadata": {},
   "outputs": [
    {
     "data": {
      "text/plain": [
       "{'_loyalty': 'platinum', '_membership': 0, 'loyalty': 'gold'}"
      ]
     },
     "execution_count": 203,
     "metadata": {},
     "output_type": "execute_result"
    }
   ],
   "source": [
    "c.__dict__"
   ]
  },
  {
   "cell_type": "code",
   "execution_count": null,
   "metadata": {},
   "outputs": [
    {
     "data": {
      "text/plain": [
       "mappingproxy({'__module__': '__main__',\n",
       "              'loyalty_levels': {'bronze', 'gold', 'platinum'},\n",
       "              '__init__': <function __main__.Customer.__init__(self, loyalty, membership=0) -> None>,\n",
       "              'get_membership': <function __main__.Customer.get_membership(self)>,\n",
       "              'set_membership': <function __main__.Customer.set_membership(self, value)>,\n",
       "              'get_loyalty': <function __main__.Customer.get_loyalty(self)>,\n",
       "              'set_loyalty': <function __main__.Customer.set_loyalty(self, level)>,\n",
       "              'loyalty': <property at 0x107ac93a0>,\n",
       "              'membership': <property at 0x107b35f80>,\n",
       "              '__dict__': <attribute '__dict__' of 'Customer' objects>,\n",
       "              '__weakref__': <attribute '__weakref__' of 'Customer' objects>,\n",
       "              '__doc__': None})"
      ]
     },
     "execution_count": 204,
     "metadata": {},
     "output_type": "execute_result"
    }
   ],
   "source": [
    "Customer.__dict__"
   ]
  },
  {
   "cell_type": "code",
   "execution_count": null,
   "metadata": {},
   "outputs": [
    {
     "data": {
      "text/plain": [
       "'platinum'"
      ]
     },
     "execution_count": 205,
     "metadata": {},
     "output_type": "execute_result"
    }
   ],
   "source": [
    "c.loyalty"
   ]
  },
  {
   "cell_type": "code",
   "execution_count": null,
   "metadata": {},
   "outputs": [],
   "source": [
    "class DNABase:\n",
    "    def __init__(self, nucleotide):\n",
    "        self.base = nucleotide\n",
    "\n",
    "    @staticmethod\n",
    "    def _validate_and_standardize(base):\n",
    "        allowed = [('a', 'adenine'), ('c', 'cytosine'), ('g', 'guanine'), ('t', 'thymine')]\n",
    "\n",
    "        for b in allowed:\n",
    "            if base.lower().strip() in b:\n",
    "                return b[1]\n",
    "\n",
    "        return False\n",
    "\n",
    "    def set_base(self, base):\n",
    "        valid_base = self._validate_and_standardize(base)\n",
    "\n",
    "        if valid_base:\n",
    "            self._base = valid_base\n",
    "        else:\n",
    "            raise ValueError(f\"{base} is not a recognized DNA nucleotide\")\n",
    "\n",
    "    def get_base(self):\n",
    "        return self._base\n",
    "\n",
    "    base = property(fget=get_base, fset=set_base)\n",
    "\n",
    "    def __repr__(self):\n",
    "        return f\"{type(self).__name__}(nucleotide='{self.base}')\""
   ]
  },
  {
   "cell_type": "code",
   "execution_count": null,
   "metadata": {},
   "outputs": [],
   "source": [
    "b1 = DNABase('t')"
   ]
  },
  {
   "cell_type": "code",
   "execution_count": null,
   "metadata": {},
   "outputs": [
    {
     "data": {
      "text/plain": [
       "'thymine'"
      ]
     },
     "execution_count": 53,
     "metadata": {},
     "output_type": "execute_result"
    }
   ],
   "source": [
    "b1.base"
   ]
  },
  {
   "cell_type": "code",
   "execution_count": null,
   "metadata": {},
   "outputs": [],
   "source": [
    "b1 = DNABase('c')"
   ]
  },
  {
   "cell_type": "code",
   "execution_count": null,
   "metadata": {},
   "outputs": [
    {
     "data": {
      "text/plain": [
       "'cytosine'"
      ]
     },
     "execution_count": 56,
     "metadata": {},
     "output_type": "execute_result"
    }
   ],
   "source": [
    "b1.base"
   ]
  },
  {
   "cell_type": "code",
   "execution_count": null,
   "metadata": {},
   "outputs": [],
   "source": [
    "b1.base = 't'"
   ]
  },
  {
   "cell_type": "code",
   "execution_count": null,
   "metadata": {},
   "outputs": [
    {
     "data": {
      "text/plain": [
       "'thymine'"
      ]
     },
     "execution_count": 59,
     "metadata": {},
     "output_type": "execute_result"
    }
   ],
   "source": [
    "b1.base"
   ]
  },
  {
   "cell_type": "code",
   "execution_count": null,
   "metadata": {},
   "outputs": [],
   "source": [
    "b1.base = 'g'"
   ]
  },
  {
   "cell_type": "code",
   "execution_count": null,
   "metadata": {},
   "outputs": [
    {
     "data": {
      "text/plain": [
       "'guanine'"
      ]
     },
     "execution_count": 62,
     "metadata": {},
     "output_type": "execute_result"
    }
   ],
   "source": [
    "b1.base"
   ]
  },
  {
   "attachments": {},
   "cell_type": "markdown",
   "metadata": {},
   "source": [
    "# Decorator syntax"
   ]
  },
  {
   "cell_type": "code",
   "execution_count": 51,
   "metadata": {},
   "outputs": [],
   "source": [
    "class Customer:\n",
    "    loyalty_levels = {'bronze', 'gold', 'platinum'}\n",
    "\n",
    "    def __init__(self, loyalty, membership=0) -> None:\n",
    "        # self.set_loyalty(loyalty)\n",
    "        self.loyalty = loyalty\n",
    "\n",
    "    def get_loyalty(self):\n",
    "        return self._loyalty\n",
    "    \n",
    "    def set_loyalty(self, level):\n",
    "        if level not in self.loyalty_levels:\n",
    "            raise ValueError(f\"Invalid loyalty {level} specified.\")\n",
    "        \n",
    "        self._loyalty = level\n",
    "\n",
    "    loyalty = property(fget=get_loyalty, fset=set_loyalty)"
   ]
  },
  {
   "cell_type": "code",
   "execution_count": 52,
   "metadata": {},
   "outputs": [],
   "source": [
    "c_1 = Customer(\"gold\")"
   ]
  },
  {
   "cell_type": "code",
   "execution_count": 53,
   "metadata": {},
   "outputs": [
    {
     "data": {
      "text/plain": [
       "'gold'"
      ]
     },
     "execution_count": 53,
     "metadata": {},
     "output_type": "execute_result"
    }
   ],
   "source": [
    "c_1.loyalty"
   ]
  },
  {
   "cell_type": "code",
   "execution_count": 56,
   "metadata": {},
   "outputs": [],
   "source": [
    "class Customer:\n",
    "    loyalty_levels = {'bronze', 'gold', 'platinum'}\n",
    "\n",
    "    def __init__(self, loyalty, membership=0) -> None:\n",
    "        # self.set_loyalty(loyalty)\n",
    "        self.loyalty = loyalty\n",
    "\n",
    "    @property\n",
    "    def loyalty(self):\n",
    "        return self._loyalty\n",
    "    \n",
    "    @loyalty.setter\n",
    "    def loyalty(self, level):\n",
    "        if level not in self.loyalty_levels:\n",
    "            raise ValueError(f\"Invalid loyalty {level} specified.\")\n",
    "        \n",
    "        self._loyalty = level"
   ]
  },
  {
   "cell_type": "code",
   "execution_count": 59,
   "metadata": {},
   "outputs": [],
   "source": [
    "c_2 = Customer('bronze')"
   ]
  },
  {
   "cell_type": "code",
   "execution_count": 60,
   "metadata": {},
   "outputs": [
    {
     "data": {
      "text/plain": [
       "'bronze'"
      ]
     },
     "execution_count": 60,
     "metadata": {},
     "output_type": "execute_result"
    }
   ],
   "source": [
    "c_2.loyalty"
   ]
  },
  {
   "cell_type": "code",
   "execution_count": 61,
   "metadata": {},
   "outputs": [
    {
     "data": {
      "text/plain": [
       "{'_Customer__loyalty': 'bronze'}"
      ]
     },
     "execution_count": 61,
     "metadata": {},
     "output_type": "execute_result"
    }
   ],
   "source": [
    " c.__dict__"
   ]
  },
  {
   "cell_type": "code",
   "execution_count": null,
   "metadata": {},
   "outputs": [],
   "source": []
  }
 ],
 "metadata": {
  "kernelspec": {
   "display_name": "Python 3",
   "language": "python",
   "name": "python3"
  },
  "language_info": {
   "codemirror_mode": {
    "name": "ipython",
    "version": 3
   },
   "file_extension": ".py",
   "mimetype": "text/x-python",
   "name": "python",
   "nbconvert_exporter": "python",
   "pygments_lexer": "ipython3",
   "version": "3.11.2"
  },
  "orig_nbformat": 4
 },
 "nbformat": 4,
 "nbformat_minor": 2
}
