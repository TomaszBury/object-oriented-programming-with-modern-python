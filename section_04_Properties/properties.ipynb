{
 "cells": [
  {
   "attachments": {},
   "cell_type": "markdown",
   "metadata": {},
   "source": [
    "# Loyal Customers"
   ]
  },
  {
   "cell_type": "code",
   "execution_count": 166,
   "metadata": {},
   "outputs": [],
   "source": [
    "class Customer:\n",
    "    def __init__(self, loyalty) -> None:\n",
    "        self.loyalty = loyalty"
   ]
  },
  {
   "cell_type": "code",
   "execution_count": 167,
   "metadata": {},
   "outputs": [],
   "source": [
    "c1 = Customer('Bronze')\n",
    "c2 = Customer('Gold')\n",
    "c3 = Customer('Platinum')"
   ]
  },
  {
   "cell_type": "code",
   "execution_count": 168,
   "metadata": {},
   "outputs": [],
   "source": [
    "def get_discount(customer):\n",
    "    discounts = {\n",
    "        'Bronze': .1,\n",
    "        'Gold': .2,\n",
    "        'Platinum': .35\n",
    "    }\n",
    "    discount  = discounts.get(customer.loyalty, None)\n",
    "\n",
    "    if not discount:\n",
    "        return ValueError(\"Could not determine the customer's discount!\")\n",
    "    \n",
    "    return discount"
   ]
  },
  {
   "cell_type": "code",
   "execution_count": 169,
   "metadata": {},
   "outputs": [
    {
     "name": "stdout",
     "output_type": "stream",
     "text": [
      "Your discount is 10%\n",
      "Your discount is 20%\n",
      "Your discount is 35%\n"
     ]
    }
   ],
   "source": [
    "for customer in [c1, c2, c3]:\n",
    "    print(f\"Your discount is {get_discount(customer):.0%}\")"
   ]
  },
  {
   "attachments": {},
   "cell_type": "markdown",
   "metadata": {},
   "source": [
    "# Always Start Plain"
   ]
  },
  {
   "cell_type": "code",
   "execution_count": 170,
   "metadata": {},
   "outputs": [],
   "source": [
    "class Customer:\n",
    "    def __init__(self, loyalty) -> None:\n",
    "        self.loyalty = loyalty"
   ]
  },
  {
   "cell_type": "code",
   "execution_count": 171,
   "metadata": {},
   "outputs": [],
   "source": [
    "class Customer:\n",
    "    def __init__(self, loyalty) -> None:\n",
    "        self.loyalty = loyalty\n",
    "\n",
    "    def get_loyalty(self):\n",
    "        return self.loyalty\n",
    "    \n",
    "    def set_loyalty(self, level):\n",
    "        self.loyalty = level"
   ]
  },
  {
   "cell_type": "code",
   "execution_count": 172,
   "metadata": {},
   "outputs": [],
   "source": [
    "c = Customer('bronze')"
   ]
  },
  {
   "cell_type": "code",
   "execution_count": 173,
   "metadata": {},
   "outputs": [
    {
     "data": {
      "text/plain": [
       "'bronze'"
      ]
     },
     "execution_count": 173,
     "metadata": {},
     "output_type": "execute_result"
    }
   ],
   "source": [
    "c.get_loyalty()"
   ]
  },
  {
   "cell_type": "code",
   "execution_count": 174,
   "metadata": {},
   "outputs": [
    {
     "data": {
      "text/plain": [
       "'bronze'"
      ]
     },
     "execution_count": 174,
     "metadata": {},
     "output_type": "execute_result"
    }
   ],
   "source": [
    "c.loyalty"
   ]
  },
  {
   "cell_type": "code",
   "execution_count": 175,
   "metadata": {},
   "outputs": [],
   "source": [
    "import this"
   ]
  },
  {
   "attachments": {},
   "cell_type": "markdown",
   "metadata": {},
   "source": [
    "# A Refactor"
   ]
  },
  {
   "cell_type": "code",
   "execution_count": 176,
   "metadata": {},
   "outputs": [],
   "source": [
    "class Customer:\n",
    "    def __init__(self, loyalty) -> None:\n",
    "        self.loyalty = loyalty\n",
    "\n",
    "    def get_loyalty(self):\n",
    "        return self.loyalty\n",
    "    \n",
    "    def set_loyalty(self, level):\n",
    "        self.loyalty = level"
   ]
  },
  {
   "cell_type": "code",
   "execution_count": 177,
   "metadata": {},
   "outputs": [],
   "source": [
    "# bronze, gold, platinum"
   ]
  },
  {
   "cell_type": "code",
   "execution_count": 178,
   "metadata": {},
   "outputs": [],
   "source": [
    "c = Customer('Andy')"
   ]
  },
  {
   "cell_type": "code",
   "execution_count": 179,
   "metadata": {},
   "outputs": [
    {
     "data": {
      "text/plain": [
       "'Andy'"
      ]
     },
     "execution_count": 179,
     "metadata": {},
     "output_type": "execute_result"
    }
   ],
   "source": [
    "c.loyalty"
   ]
  },
  {
   "cell_type": "code",
   "execution_count": 180,
   "metadata": {},
   "outputs": [],
   "source": [
    "class Customer:\n",
    "    loyalty_levels = {'bronze', 'gold', 'platinum'}\n",
    "    def __init__(self, loyalty) -> None:\n",
    "        self.set_loyalty(loyalty)\n",
    "\n",
    "    def get_loyalty(self):\n",
    "        return self.loyalty\n",
    "    \n",
    "    def set_loyalty(self, level):\n",
    "        if level not in self.loyalty_levels:\n",
    "            raise ValueError(f\"Invalid loyalty {level} specified.\")\n",
    "        \n",
    "        self.loyalty = level"
   ]
  },
  {
   "cell_type": "code",
   "execution_count": 181,
   "metadata": {},
   "outputs": [],
   "source": [
    "# c = Customer('Andy')"
   ]
  },
  {
   "attachments": {},
   "cell_type": "markdown",
   "metadata": {},
   "source": [
    "```python\n",
    "---------------------------------------------------------------------------\n",
    "ValueError                                Traceback (most recent call last)\n",
    "Cell In[38], line 1\n",
    "----> 1 c = Customer('Andy')\n",
    "\n",
    "Cell In[37], line 4, in Customer.__init__(self, loyalty)\n",
    "      3 def __init__(self, loyalty) -> None:\n",
    "----> 4     self.set_loyalty(loyalty)\n",
    "\n",
    "Cell In[37], line 11, in Customer.set_loyalty(self, level)\n",
    "      9 def set_loyalty(self, level):\n",
    "     10     if level not in self.loyalty_levels:\n",
    "---> 11         raise ValueError(f\"Invalid loyalty {level} specified.\")\n",
    "     13     self.loyalty = level\n",
    "\n",
    "ValueError: Invalid loyalty Andy specified.\n",
    "```"
   ]
  },
  {
   "cell_type": "code",
   "execution_count": 182,
   "metadata": {},
   "outputs": [],
   "source": [
    "c2 = Customer('bronze')"
   ]
  },
  {
   "cell_type": "code",
   "execution_count": 183,
   "metadata": {},
   "outputs": [],
   "source": [
    "c2.loyalty = 'Andy'"
   ]
  },
  {
   "cell_type": "code",
   "execution_count": 184,
   "metadata": {},
   "outputs": [],
   "source": [
    "class Customer:\n",
    "    loyalty_levels = {'bronze', 'gold', 'platinum'}\n",
    "    def __init__(self, loyalty) -> None:\n",
    "        self.set_loyalty(loyalty)\n",
    "\n",
    "    def get_loyalty(self):\n",
    "        return self._loyalty\n",
    "    \n",
    "    def set_loyalty(self, level):\n",
    "        if level not in self.loyalty_levels:\n",
    "            raise ValueError(f\"Invalid loyalty {level} specified.\")\n",
    "        \n",
    "        self._loyalty = level"
   ]
  },
  {
   "cell_type": "code",
   "execution_count": 185,
   "metadata": {},
   "outputs": [],
   "source": [
    "c = Customer('gold')"
   ]
  },
  {
   "cell_type": "code",
   "execution_count": 186,
   "metadata": {},
   "outputs": [],
   "source": [
    "c.loyalty = \"Andy\""
   ]
  },
  {
   "cell_type": "code",
   "execution_count": 187,
   "metadata": {},
   "outputs": [
    {
     "data": {
      "text/plain": [
       "'gold'"
      ]
     },
     "execution_count": 187,
     "metadata": {},
     "output_type": "execute_result"
    }
   ],
   "source": [
    "c.get_loyalty()"
   ]
  },
  {
   "cell_type": "code",
   "execution_count": 188,
   "metadata": {},
   "outputs": [
    {
     "data": {
      "text/plain": [
       "{'_loyalty': 'gold', 'loyalty': 'Andy'}"
      ]
     },
     "execution_count": 188,
     "metadata": {},
     "output_type": "execute_result"
    }
   ],
   "source": [
    "c.__dict__"
   ]
  },
  {
   "attachments": {},
   "cell_type": "markdown",
   "metadata": {},
   "source": [
    "# Private and Mangled attributes"
   ]
  },
  {
   "cell_type": "code",
   "execution_count": 189,
   "metadata": {},
   "outputs": [],
   "source": [
    "class Customer:\n",
    "    loyalty_levels = {'bronze', 'gold', 'platinum'}\n",
    "    def __init__(self, loyalty) -> None:\n",
    "        self.set_loyalty(loyalty)\n",
    "\n",
    "    def get_loyalty(self):\n",
    "        return self._loyalty\n",
    "    \n",
    "    def set_loyalty(self, level):\n",
    "        if level not in self.loyalty_levels:\n",
    "            raise ValueError(f\"Invalid loyalty {level} specified.\")\n",
    "        \n",
    "        self._loyalty = level"
   ]
  },
  {
   "cell_type": "code",
   "execution_count": 190,
   "metadata": {},
   "outputs": [],
   "source": [
    "c = Customer('gold')"
   ]
  },
  {
   "attachments": {},
   "cell_type": "markdown",
   "metadata": {},
   "source": [
    "## _ --> protected or protected"
   ]
  },
  {
   "cell_type": "code",
   "execution_count": 191,
   "metadata": {},
   "outputs": [
    {
     "data": {
      "text/plain": [
       "'gold'"
      ]
     },
     "execution_count": 191,
     "metadata": {},
     "output_type": "execute_result"
    }
   ],
   "source": [
    "c.get_loyalty()"
   ]
  },
  {
   "cell_type": "code",
   "execution_count": 192,
   "metadata": {},
   "outputs": [],
   "source": [
    "c._loyalty = \"bronze\""
   ]
  },
  {
   "cell_type": "code",
   "execution_count": 193,
   "metadata": {},
   "outputs": [
    {
     "data": {
      "text/plain": [
       "'bronze'"
      ]
     },
     "execution_count": 193,
     "metadata": {},
     "output_type": "execute_result"
    }
   ],
   "source": [
    "c.get_loyalty()"
   ]
  },
  {
   "cell_type": "code",
   "execution_count": 194,
   "metadata": {},
   "outputs": [],
   "source": [
    "class Customer:\n",
    "    loyalty_levels = {'bronze', 'gold', 'platinum'}\n",
    "    def __init__(self, loyalty) -> None:\n",
    "        self.set_loyalty(loyalty)\n",
    "\n",
    "    def get_loyalty(self):\n",
    "        return self.__loyalty\n",
    "    \n",
    "    def set_loyalty(self, level):\n",
    "        if level not in self.loyalty_levels:\n",
    "            raise ValueError(f\"Invalid loyalty {level} specified.\")\n",
    "        \n",
    "        self.__loyalty = level"
   ]
  },
  {
   "cell_type": "code",
   "execution_count": 195,
   "metadata": {},
   "outputs": [],
   "source": [
    "c = Customer(\"bronze\")"
   ]
  },
  {
   "cell_type": "code",
   "execution_count": 196,
   "metadata": {},
   "outputs": [
    {
     "data": {
      "text/plain": [
       "'bronze'"
      ]
     },
     "execution_count": 196,
     "metadata": {},
     "output_type": "execute_result"
    }
   ],
   "source": [
    "c.get_loyalty()"
   ]
  },
  {
   "cell_type": "code",
   "execution_count": 197,
   "metadata": {},
   "outputs": [],
   "source": [
    "# c.__loyalty"
   ]
  },
  {
   "attachments": {},
   "cell_type": "markdown",
   "metadata": {},
   "source": [
    "```python\n",
    "---------------------------------------------------------------------------\n",
    "AttributeError                            Traceback (most recent call last)\n",
    "Cell In[35], line 1\n",
    "----> 1 c.__loyalty\n",
    "\n",
    "AttributeError: 'Customer' object has no attribute '__loyalty'\n",
    "```"
   ]
  },
  {
   "cell_type": "code",
   "execution_count": 198,
   "metadata": {},
   "outputs": [
    {
     "data": {
      "text/plain": [
       "{'_Customer__loyalty': 'bronze'}"
      ]
     },
     "execution_count": 198,
     "metadata": {},
     "output_type": "execute_result"
    }
   ],
   "source": [
    "c.__dict__"
   ]
  },
  {
   "attachments": {},
   "cell_type": "markdown",
   "metadata": {},
   "source": [
    "### __ --> name mangled -> mangle -> disfigure"
   ]
  },
  {
   "cell_type": "code",
   "execution_count": 199,
   "metadata": {},
   "outputs": [
    {
     "data": {
      "text/plain": [
       "'bronze'"
      ]
     },
     "execution_count": 199,
     "metadata": {},
     "output_type": "execute_result"
    }
   ],
   "source": [
    "c._Customer__loyalty"
   ]
  },
  {
   "cell_type": "code",
   "execution_count": 200,
   "metadata": {},
   "outputs": [
    {
     "data": {
      "text/plain": [
       "'bronze'"
      ]
     },
     "execution_count": 200,
     "metadata": {},
     "output_type": "execute_result"
    }
   ],
   "source": [
    "# Sefety, not restricting access\n",
    "c._Customer__loyalty"
   ]
  },
  {
   "attachments": {},
   "cell_type": "markdown",
   "metadata": {},
   "source": [
    "# Breaking changes"
   ]
  },
  {
   "cell_type": "code",
   "execution_count": 201,
   "metadata": {},
   "outputs": [],
   "source": [
    "def get_discount(customer):\n",
    "    discounts = {\n",
    "        'bronze': .1,\n",
    "        'gold': .2,\n",
    "        'platinum': .35\n",
    "    }\n",
    "\n",
    "    discount = discounts.get(customer._loyalty, None)\n",
    "\n",
    "    if not discount:\n",
    "        raise ValueError(\"Could not determine the customer's discount!\")\n",
    "    \n",
    "    return discount"
   ]
  },
  {
   "cell_type": "code",
   "execution_count": 202,
   "metadata": {},
   "outputs": [],
   "source": [
    "class Customer:\n",
    "    loyalty_levels = {'bronze', 'gold', 'platinum'}\n",
    "\n",
    "    def __init__(self, loyalty) -> None:\n",
    "        self.set_loyalty(loyalty)\n",
    "\n",
    "    def get_loyalty(self):\n",
    "        return self._loyalty\n",
    "    \n",
    "    def set_loyalty(self, level):\n",
    "        if level not in self.loyalty_levels:\n",
    "            raise ValueError(f\"Invalid loyalty {level} specified.\")\n",
    "        \n",
    "        self._loyalty = level\n",
    "\n",
    "    loyalty = property(fget=get_loyalty, fset=set_loyalty)"
   ]
  },
  {
   "cell_type": "code",
   "execution_count": 203,
   "metadata": {},
   "outputs": [],
   "source": [
    "c1 = Customer(\"bronze\")\n",
    "c2 = Customer(\"gold\")\n",
    "c3 = Customer(\"platinum\")"
   ]
  },
  {
   "cell_type": "code",
   "execution_count": 204,
   "metadata": {},
   "outputs": [],
   "source": [
    "# Customer(\"superloyal\")"
   ]
  },
  {
   "attachments": {},
   "cell_type": "markdown",
   "metadata": {},
   "source": [
    "```python\n",
    "---------------------------------------------------------------------------\n",
    "ValueError                                Traceback (most recent call last)\n",
    "Cell In[91], line 1\n",
    "----> 1 Customer(\"superloyal\")\n",
    "\n",
    "Cell In[89], line 5, in Customer.__init__(self, loyalty)\n",
    "      4 def __init__(self, loyalty) -> None:\n",
    "----> 5     self.set_loyalty(loyalty)\n",
    "\n",
    "Cell In[89], line 12, in Customer.set_loyalty(self, level)\n",
    "     10 def set_loyalty(self, level):\n",
    "     11     if level not in self.loyalty_levels:\n",
    "---> 12         raise ValueError(f\"Invalid loyalty {level} specified.\")\n",
    "     14     self._loyalty = level\n",
    "\n",
    "ValueError: Invalid loyalty superloyal specified.\n",
    "```"
   ]
  },
  {
   "cell_type": "code",
   "execution_count": 205,
   "metadata": {},
   "outputs": [
    {
     "name": "stdout",
     "output_type": "stream",
     "text": [
      "Your discount is 10%\n",
      "Your discount is 20%\n",
      "Your discount is 35%\n"
     ]
    }
   ],
   "source": [
    "for customer in [c1, c2, c3]:\n",
    "    print(f\"Your discount is {get_discount(customer):.0%}\")"
   ]
  },
  {
   "cell_type": "code",
   "execution_count": 206,
   "metadata": {},
   "outputs": [],
   "source": [
    "def get_discount(customer):\n",
    "    discounts = {\n",
    "        'bronze': .1,\n",
    "        'gold': .2,\n",
    "        'platinum': .35\n",
    "    }\n",
    "\n",
    "    # _loyalty changed to loyalty\n",
    "    discount = discounts.get(customer.loyalty, None)\n",
    "\n",
    "    if not discount:\n",
    "        raise ValueError(\"Could not determine the customer's discount!\")\n",
    "    \n",
    "    return discount"
   ]
  },
  {
   "cell_type": "code",
   "execution_count": 207,
   "metadata": {},
   "outputs": [],
   "source": [
    "# for customer in [c1, c2, c3]:\n",
    "#    print(f\"Your discount is {get_discount(customer):.0%}\")"
   ]
  },
  {
   "attachments": {},
   "cell_type": "markdown",
   "metadata": {},
   "source": [
    "```python\n",
    "---------------------------------------------------------------------------\n",
    "AttributeError                            Traceback (most recent call last)\n",
    "Cell In[101], line 2\n",
    "      1 for customer in [c1, c2, c3]:\n",
    "----> 2     print(f\"Your discount is {get_discount(customer):.0%}\")\n",
    "\n",
    "Cell In[100], line 8, in get_discount(customer)\n",
    "      1 def get_discount(customer):\n",
    "      2     discounts = {\n",
    "      3         'bronze': .1,\n",
    "      4         'gold': .2,\n",
    "      5         'platinum': .35\n",
    "      6     }\n",
    "----> 8     discount = discounts.get(customer.loyalty, None)\n",
    "     10     if not discount:\n",
    "     11         raise ValueError(\"Could not determine the customer's discount!\")\n",
    "\n",
    "AttributeError: 'Customer' object has no attribute 'loyalty'\n",
    "```"
   ]
  },
  {
   "attachments": {},
   "cell_type": "markdown",
   "metadata": {},
   "source": [
    "# Properties"
   ]
  },
  {
   "cell_type": "code",
   "execution_count": 208,
   "metadata": {},
   "outputs": [],
   "source": [
    "class Customer:\n",
    "    loyalty_levels = {'bronze', 'gold', 'platinum'}\n",
    "\n",
    "    def __init__(self, loyalty) -> None:\n",
    "        # self.set_loyalty(loyalty)\n",
    "        self.loyalty = loyalty\n",
    "\n",
    "    def get_loyalty(self):\n",
    "        return self._loyalty\n",
    "    \n",
    "    def set_loyalty(self, level):\n",
    "        if level not in self.loyalty_levels:\n",
    "            raise ValueError(f\"Invalid loyalty {level} specified.\")\n",
    "        \n",
    "        self._loyalty = level\n",
    "\n",
    "    loyalty = property(fget=get_loyalty, fset=set_loyalty)"
   ]
  },
  {
   "cell_type": "code",
   "execution_count": 209,
   "metadata": {},
   "outputs": [],
   "source": [
    "c1 = Customer(\"bronze\")\n",
    "c2 = Customer(\"gold\")\n",
    "c3 = Customer(\"platinum\")"
   ]
  },
  {
   "cell_type": "code",
   "execution_count": 210,
   "metadata": {},
   "outputs": [
    {
     "name": "stdout",
     "output_type": "stream",
     "text": [
      "Your discount is 10%\n",
      "Your discount is 20%\n",
      "Your discount is 35%\n"
     ]
    }
   ],
   "source": [
    "for customer in [c1, c2, c3]:\n",
    "    print(f\"Your discount is {get_discount(customer):.0%}\")\n"
   ]
  },
  {
   "cell_type": "code",
   "execution_count": 211,
   "metadata": {},
   "outputs": [
    {
     "data": {
      "text/plain": [
       "'gold'"
      ]
     },
     "execution_count": 211,
     "metadata": {},
     "output_type": "execute_result"
    }
   ],
   "source": [
    "c2.loyalty"
   ]
  },
  {
   "cell_type": "code",
   "execution_count": 212,
   "metadata": {},
   "outputs": [],
   "source": [
    "# c2.loyalty = 'bjorn'"
   ]
  },
  {
   "attachments": {},
   "cell_type": "markdown",
   "metadata": {},
   "source": [
    "```python\n",
    "---------------------------------------------------------------------------\n",
    "ValueError                                Traceback (most recent call last)\n",
    "Cell In[164], line 1\n",
    "----> 1 c2.loyalty = 'bjorn'\n",
    "\n",
    "Cell In[159], line 13, in Customer.set_loyalty(self, level)\n",
    "     11 def set_loyalty(self, level):\n",
    "     12     if level not in self.loyalty_levels:\n",
    "---> 13         raise ValueError(f\"Invalid loyalty {level} specified.\")\n",
    "     15     self._loyalty = level\n",
    "\n",
    "ValueError: Invalid loyalty bjorn specified.\n",
    "```"
   ]
  },
  {
   "cell_type": "code",
   "execution_count": 213,
   "metadata": {},
   "outputs": [],
   "source": [
    "class Customer:\n",
    "    loyalty_levels = {'bronze', 'gold', 'platinum'}\n",
    "\n",
    "    def __init__(self, loyalty, membership=0) -> None:\n",
    "        # self.set_loyalty(loyalty)\n",
    "        self.loyalty = loyalty\n",
    "        self.membership = membership\n",
    "\n",
    "    def get_membership(self):\n",
    "        return self._membership\n",
    "    \n",
    "    def set_membership(self, value):\n",
    "        if value < 0 or value > 34:\n",
    "            raise ValueError(\"Invalid membership years.\")\n",
    "        \n",
    "        self._membership = value\n",
    "\n",
    "    def get_loyalty(self):\n",
    "        return self._loyalty\n",
    "    \n",
    "    def set_loyalty(self, level):\n",
    "        if level not in self.loyalty_levels:\n",
    "            raise ValueError(f\"Invalid loyalty {level} specified.\")\n",
    "        \n",
    "        self._loyalty = level\n",
    "\n",
    "    loyalty = property(fget=get_loyalty, fset=set_loyalty)\n",
    "    membership = property(fget=get_membership, fset=set_membership)"
   ]
  },
  {
   "cell_type": "code",
   "execution_count": 214,
   "metadata": {},
   "outputs": [],
   "source": [
    "# c1 = Customer(\"bronze\", -12)"
   ]
  },
  {
   "attachments": {},
   "cell_type": "markdown",
   "metadata": {},
   "source": [
    "```python\n",
    "---------------------------------------------------------------------------\n",
    "ValueError                                Traceback (most recent call last)\n",
    "Cell In[148], line 1\n",
    "----> 1 c1 = Customer(\"bronze\", -12)\n",
    "\n",
    "Cell In[147], line 7, in Customer.__init__(self, loyalty, membership)\n",
    "      4 def __init__(self, loyalty, membership=0) -> None:\n",
    "      5     # self.set_loyalty(loyalty)\n",
    "      6     self.loyalty = loyalty\n",
    "----> 7     self.membership = membership\n",
    "\n",
    "Cell In[147], line 14, in Customer.set_membership(self, value)\n",
    "     12 def set_membership(self, value):\n",
    "     13     if value < 0 or value > 34:\n",
    "---> 14         raise ValueError(\"Invalid membership years.\")\n",
    "     16     self._membership = value\n",
    "\n",
    "ValueError: Invalid membership years.\n",
    "```"
   ]
  },
  {
   "cell_type": "code",
   "execution_count": 215,
   "metadata": {},
   "outputs": [],
   "source": [
    "#c2 = Customer(\"gold\", 120)"
   ]
  },
  {
   "attachments": {},
   "cell_type": "markdown",
   "metadata": {},
   "source": [
    "```python\n",
    "---------------------------------------------------------------------------\n",
    "ValueError                                Traceback (most recent call last)\n",
    "Cell In[199], line 1\n",
    "----> 1 c2 = Customer(\"gold\", 120)\n",
    "\n",
    "Cell In[197], line 7, in Customer.__init__(self, loyalty, membership)\n",
    "      4 def __init__(self, loyalty, membership=0) -> None:\n",
    "      5     # self.set_loyalty(loyalty)\n",
    "      6     self.loyalty = loyalty\n",
    "----> 7     self.membership = membership\n",
    "\n",
    "Cell In[197], line 14, in Customer.set_membership(self, value)\n",
    "     12 def set_membership(self, value):\n",
    "     13     if value < 0 or value > 34:\n",
    "---> 14         raise ValueError(\"Invalid membership years.\")\n",
    "     16     self._membership = value\n",
    "\n",
    "ValueError: Invalid membership years.\n",
    "```"
   ]
  },
  {
   "cell_type": "code",
   "execution_count": 216,
   "metadata": {},
   "outputs": [],
   "source": [
    "c3 = Customer(\"platinum\", 12)"
   ]
  },
  {
   "cell_type": "code",
   "execution_count": 217,
   "metadata": {},
   "outputs": [
    {
     "data": {
      "text/plain": [
       "12"
      ]
     },
     "execution_count": 217,
     "metadata": {},
     "output_type": "execute_result"
    }
   ],
   "source": [
    "c3.membership"
   ]
  },
  {
   "cell_type": "code",
   "execution_count": 218,
   "metadata": {},
   "outputs": [],
   "source": [
    "c3.membership += 3"
   ]
  },
  {
   "cell_type": "code",
   "execution_count": 219,
   "metadata": {},
   "outputs": [
    {
     "data": {
      "text/plain": [
       "15"
      ]
     },
     "execution_count": 219,
     "metadata": {},
     "output_type": "execute_result"
    }
   ],
   "source": [
    "c3.membership"
   ]
  },
  {
   "cell_type": "code",
   "execution_count": 220,
   "metadata": {},
   "outputs": [],
   "source": [
    "# c3.membership += 100"
   ]
  },
  {
   "attachments": {},
   "cell_type": "markdown",
   "metadata": {},
   "source": [
    "```python\n",
    "---------------------------------------------------------------------------\n",
    "ValueError                                Traceback (most recent call last)\n",
    "Cell In[175], line 1\n",
    "----> 1 c3.membership += 100\n",
    "\n",
    "Cell In[166], line 14, in Customer.set_membership(self, value)\n",
    "     12 def set_membership(self, value):\n",
    "     13     if value < 0 or value > 34:\n",
    "---> 14         raise ValueError(\"Invalid membership years.\")\n",
    "     16     self._membership = value\n",
    "\n",
    "ValueError: Invalid membership years.\n",
    "```"
   ]
  },
  {
   "attachments": {},
   "cell_type": "markdown",
   "metadata": {},
   "source": [
    "# Properties live in the class"
   ]
  },
  {
   "cell_type": "code",
   "execution_count": 221,
   "metadata": {},
   "outputs": [],
   "source": [
    "class Customer:\n",
    "    loyalty_levels = {'bronze', 'gold', 'platinum'}\n",
    "\n",
    "    def __init__(self, loyalty, membership=0) -> None:\n",
    "        # self.set_loyalty(loyalty)\n",
    "        self.loyalty = loyalty\n",
    "        self.membership = membership\n",
    "\n",
    "    def get_membership(self):\n",
    "        return self._membership\n",
    "    \n",
    "    def set_membership(self, value):\n",
    "        if value < 0 or value > 34:\n",
    "            raise ValueError(\"Invalid membership years.\")\n",
    "        \n",
    "        self._membership = value\n",
    "\n",
    "    def get_loyalty(self):\n",
    "        return self._loyalty\n",
    "    \n",
    "    def set_loyalty(self, level):\n",
    "        if level not in self.loyalty_levels:\n",
    "            raise ValueError(f\"Invalid loyalty {level} specified.\")\n",
    "        \n",
    "        self._loyalty = level\n",
    "\n",
    "    loyalty = property(fget=get_loyalty, fset=set_loyalty)\n",
    "    membership = property(fget=get_membership, fset=set_membership)"
   ]
  },
  {
   "cell_type": "code",
   "execution_count": 222,
   "metadata": {},
   "outputs": [],
   "source": [
    "c = Customer(\"bronze\")"
   ]
  },
  {
   "cell_type": "code",
   "execution_count": 223,
   "metadata": {},
   "outputs": [
    {
     "data": {
      "text/plain": [
       "{'_loyalty': 'bronze', '_membership': 0}"
      ]
     },
     "execution_count": 223,
     "metadata": {},
     "output_type": "execute_result"
    }
   ],
   "source": [
    "c.__dict__"
   ]
  },
  {
   "cell_type": "code",
   "execution_count": 224,
   "metadata": {},
   "outputs": [],
   "source": [
    "c.__dict__['_loyalty'] = 'platinum'"
   ]
  },
  {
   "cell_type": "code",
   "execution_count": 225,
   "metadata": {},
   "outputs": [
    {
     "data": {
      "text/plain": [
       "'platinum'"
      ]
     },
     "execution_count": 225,
     "metadata": {},
     "output_type": "execute_result"
    }
   ],
   "source": [
    "c.loyalty"
   ]
  },
  {
   "cell_type": "code",
   "execution_count": 226,
   "metadata": {},
   "outputs": [],
   "source": [
    "c.__dict__[\"loyalty\"] = 'gold'"
   ]
  },
  {
   "cell_type": "code",
   "execution_count": 227,
   "metadata": {},
   "outputs": [
    {
     "data": {
      "text/plain": [
       "{'_loyalty': 'platinum', '_membership': 0, 'loyalty': 'gold'}"
      ]
     },
     "execution_count": 227,
     "metadata": {},
     "output_type": "execute_result"
    }
   ],
   "source": [
    "c.__dict__"
   ]
  },
  {
   "cell_type": "code",
   "execution_count": 228,
   "metadata": {},
   "outputs": [
    {
     "data": {
      "text/plain": [
       "mappingproxy({'__module__': '__main__',\n",
       "              'loyalty_levels': {'bronze', 'gold', 'platinum'},\n",
       "              '__init__': <function __main__.Customer.__init__(self, loyalty, membership=0) -> None>,\n",
       "              'get_membership': <function __main__.Customer.get_membership(self)>,\n",
       "              'set_membership': <function __main__.Customer.set_membership(self, value)>,\n",
       "              'get_loyalty': <function __main__.Customer.get_loyalty(self)>,\n",
       "              'set_loyalty': <function __main__.Customer.set_loyalty(self, level)>,\n",
       "              'loyalty': <property at 0x1fc830bd3a0>,\n",
       "              'membership': <property at 0x1fc830bcf40>,\n",
       "              '__dict__': <attribute '__dict__' of 'Customer' objects>,\n",
       "              '__weakref__': <attribute '__weakref__' of 'Customer' objects>,\n",
       "              '__doc__': None})"
      ]
     },
     "execution_count": 228,
     "metadata": {},
     "output_type": "execute_result"
    }
   ],
   "source": [
    "Customer.__dict__"
   ]
  },
  {
   "cell_type": "code",
   "execution_count": 229,
   "metadata": {},
   "outputs": [
    {
     "data": {
      "text/plain": [
       "'platinum'"
      ]
     },
     "execution_count": 229,
     "metadata": {},
     "output_type": "execute_result"
    }
   ],
   "source": [
    "c.loyalty"
   ]
  },
  {
   "cell_type": "code",
   "execution_count": 230,
   "metadata": {},
   "outputs": [],
   "source": [
    "class DNABase:\n",
    "    def __init__(self, nucleotide):\n",
    "        self.base = nucleotide\n",
    "\n",
    "    @staticmethod\n",
    "    def _validate_and_standardize(base):\n",
    "        allowed = [('a', 'adenine'), ('c', 'cytosine'), ('g', 'guanine'), ('t', 'thymine')]\n",
    "\n",
    "        for b in allowed:\n",
    "            if base.lower().strip() in b:\n",
    "                return b[1]\n",
    "\n",
    "        return False\n",
    "\n",
    "    def set_base(self, base):\n",
    "        valid_base = self._validate_and_standardize(base)\n",
    "\n",
    "        if valid_base:\n",
    "            self._base = valid_base\n",
    "        else:\n",
    "            raise ValueError(f\"{base} is not a recognized DNA nucleotide\")\n",
    "\n",
    "    def get_base(self):\n",
    "        return self._base\n",
    "\n",
    "    base = property(fget=get_base, fset=set_base)\n",
    "\n",
    "    def __repr__(self):\n",
    "        return f\"{type(self).__name__}(nucleotide='{self.base}')\""
   ]
  },
  {
   "cell_type": "code",
   "execution_count": 231,
   "metadata": {},
   "outputs": [],
   "source": [
    "b1 = DNABase('t')"
   ]
  },
  {
   "cell_type": "code",
   "execution_count": 232,
   "metadata": {},
   "outputs": [
    {
     "data": {
      "text/plain": [
       "'thymine'"
      ]
     },
     "execution_count": 232,
     "metadata": {},
     "output_type": "execute_result"
    }
   ],
   "source": [
    "b1.base"
   ]
  },
  {
   "cell_type": "code",
   "execution_count": 233,
   "metadata": {},
   "outputs": [],
   "source": [
    "b1 = DNABase('c')"
   ]
  },
  {
   "cell_type": "code",
   "execution_count": 234,
   "metadata": {},
   "outputs": [
    {
     "data": {
      "text/plain": [
       "'cytosine'"
      ]
     },
     "execution_count": 234,
     "metadata": {},
     "output_type": "execute_result"
    }
   ],
   "source": [
    "b1.base"
   ]
  },
  {
   "cell_type": "code",
   "execution_count": 235,
   "metadata": {},
   "outputs": [],
   "source": [
    "b1.base = 't'"
   ]
  },
  {
   "cell_type": "code",
   "execution_count": 236,
   "metadata": {},
   "outputs": [
    {
     "data": {
      "text/plain": [
       "'thymine'"
      ]
     },
     "execution_count": 236,
     "metadata": {},
     "output_type": "execute_result"
    }
   ],
   "source": [
    "b1.base"
   ]
  },
  {
   "cell_type": "code",
   "execution_count": 237,
   "metadata": {},
   "outputs": [],
   "source": [
    "b1.base = 'g'"
   ]
  },
  {
   "cell_type": "code",
   "execution_count": 238,
   "metadata": {},
   "outputs": [
    {
     "data": {
      "text/plain": [
       "'guanine'"
      ]
     },
     "execution_count": 238,
     "metadata": {},
     "output_type": "execute_result"
    }
   ],
   "source": [
    "b1.base"
   ]
  },
  {
   "attachments": {},
   "cell_type": "markdown",
   "metadata": {},
   "source": [
    "# Decorator syntax"
   ]
  },
  {
   "cell_type": "code",
   "execution_count": 239,
   "metadata": {},
   "outputs": [],
   "source": [
    "class Customer:\n",
    "    loyalty_levels = {'bronze', 'gold', 'platinum'}\n",
    "\n",
    "    def __init__(self, loyalty, membership=0) -> None:\n",
    "        # self.set_loyalty(loyalty)\n",
    "        self.loyalty = loyalty\n",
    "\n",
    "    def get_loyalty(self):\n",
    "        return self._loyalty\n",
    "    \n",
    "    def set_loyalty(self, level):\n",
    "        if level not in self.loyalty_levels:\n",
    "            raise ValueError(f\"Invalid loyalty {level} specified.\")\n",
    "        \n",
    "        self._loyalty = level\n",
    "\n",
    "    loyalty = property(fget=get_loyalty, fset=set_loyalty)"
   ]
  },
  {
   "cell_type": "code",
   "execution_count": 240,
   "metadata": {},
   "outputs": [],
   "source": [
    "c_1 = Customer(\"gold\")"
   ]
  },
  {
   "cell_type": "code",
   "execution_count": 241,
   "metadata": {},
   "outputs": [
    {
     "data": {
      "text/plain": [
       "'gold'"
      ]
     },
     "execution_count": 241,
     "metadata": {},
     "output_type": "execute_result"
    }
   ],
   "source": [
    "c_1.loyalty"
   ]
  },
  {
   "cell_type": "code",
   "execution_count": 242,
   "metadata": {},
   "outputs": [],
   "source": [
    "class Customer:\n",
    "    loyalty_levels = {'bronze', 'gold', 'platinum'}\n",
    "\n",
    "    def __init__(self, loyalty, membership=0) -> None:\n",
    "        # self.set_loyalty(loyalty)\n",
    "        self.loyalty = loyalty\n",
    "\n",
    "    @property\n",
    "    def loyalty(self):\n",
    "        return self._loyalty\n",
    "    \n",
    "    @loyalty.setter\n",
    "    def loyalty(self, level):\n",
    "        if level not in self.loyalty_levels:\n",
    "            raise ValueError(f\"Invalid loyalty {level} specified.\")\n",
    "        \n",
    "        self._loyalty = level"
   ]
  },
  {
   "cell_type": "code",
   "execution_count": 243,
   "metadata": {},
   "outputs": [],
   "source": [
    "c_2 = Customer('bronze')"
   ]
  },
  {
   "cell_type": "code",
   "execution_count": 244,
   "metadata": {},
   "outputs": [
    {
     "data": {
      "text/plain": [
       "'bronze'"
      ]
     },
     "execution_count": 244,
     "metadata": {},
     "output_type": "execute_result"
    }
   ],
   "source": [
    "c_2.loyalty"
   ]
  },
  {
   "cell_type": "code",
   "execution_count": 245,
   "metadata": {},
   "outputs": [
    {
     "data": {
      "text/plain": [
       "{'_loyalty': 'platinum', '_membership': 0, 'loyalty': 'gold'}"
      ]
     },
     "execution_count": 245,
     "metadata": {},
     "output_type": "execute_result"
    }
   ],
   "source": [
    "c.__dict__"
   ]
  },
  {
   "attachments": {},
   "cell_type": "markdown",
   "metadata": {},
   "source": [
    "# Bonus: Decorators Refresher"
   ]
  },
  {
   "cell_type": "code",
   "execution_count": 246,
   "metadata": {},
   "outputs": [],
   "source": [
    "# loyalty = loylty.getter(loyalty_getter)\n",
    "\n",
    "# --->\n",
    "\n",
    "# @property\n",
    "# @property_name.setter"
   ]
  },
  {
   "cell_type": "code",
   "execution_count": 247,
   "metadata": {},
   "outputs": [],
   "source": [
    "# first class citizens"
   ]
  },
  {
   "cell_type": "code",
   "execution_count": 248,
   "metadata": {},
   "outputs": [],
   "source": [
    "# 1. funcs could be assigned to other variables\n",
    "\n",
    "def ten_times(x):\n",
    "    return x * 10"
   ]
  },
  {
   "cell_type": "code",
   "execution_count": 249,
   "metadata": {},
   "outputs": [],
   "source": [
    "ten_x = ten_times"
   ]
  },
  {
   "cell_type": "code",
   "execution_count": 250,
   "metadata": {},
   "outputs": [
    {
     "data": {
      "text/plain": [
       "70"
      ]
     },
     "execution_count": 250,
     "metadata": {},
     "output_type": "execute_result"
    }
   ],
   "source": [
    "ten_x(7)"
   ]
  },
  {
   "cell_type": "code",
   "execution_count": 251,
   "metadata": {},
   "outputs": [],
   "source": [
    "# 2. Could be passed as args to other func\n",
    "\n",
    "def pass_three_to(func):\n",
    "    what = 3\n",
    "\n",
    "    return func(what)"
   ]
  },
  {
   "cell_type": "code",
   "execution_count": 252,
   "metadata": {},
   "outputs": [
    {
     "data": {
      "text/plain": [
       "30"
      ]
     },
     "execution_count": 252,
     "metadata": {},
     "output_type": "execute_result"
    }
   ],
   "source": [
    "pass_three_to(ten_times)"
   ]
  },
  {
   "cell_type": "code",
   "execution_count": 253,
   "metadata": {},
   "outputs": [],
   "source": [
    "# 3. defining a func within another one\n",
    "\n",
    "def outer():\n",
    "    def inner():\n",
    "        return \"inner func\"\n",
    "    \n",
    "    s = inner()\n",
    "    \n",
    "    return s"
   ]
  },
  {
   "cell_type": "code",
   "execution_count": 254,
   "metadata": {},
   "outputs": [],
   "source": [
    "# 4. we could also return function from functionsouter()\n",
    "\n",
    "def give_me_a_new_func():\n",
    "    def new_func():\n",
    "        return \"the new function is returning\"\n",
    "    \n",
    "    return new_func"
   ]
  },
  {
   "cell_type": "code",
   "execution_count": 255,
   "metadata": {},
   "outputs": [],
   "source": [
    "f = give_me_a_new_func()"
   ]
  },
  {
   "cell_type": "code",
   "execution_count": 256,
   "metadata": {},
   "outputs": [
    {
     "data": {
      "text/plain": [
       "'the new function is returning'"
      ]
     },
     "execution_count": 256,
     "metadata": {},
     "output_type": "execute_result"
    }
   ],
   "source": [
    "f()"
   ]
  },
  {
   "attachments": {},
   "cell_type": "markdown",
   "metadata": {},
   "source": [
    "# B. closures"
   ]
  },
  {
   "cell_type": "code",
   "execution_count": 257,
   "metadata": {},
   "outputs": [],
   "source": [
    "def greet(who):\n",
    "    how = \"Good morning\"\n",
    "\n",
    "    def create_greeting():\n",
    "        print(f\"{how}, {who}!\")\n",
    "\n",
    "    return create_greeting"
   ]
  },
  {
   "cell_type": "code",
   "execution_count": 258,
   "metadata": {},
   "outputs": [],
   "source": [
    "a = greet(\"Andy\")"
   ]
  },
  {
   "cell_type": "code",
   "execution_count": 259,
   "metadata": {},
   "outputs": [
    {
     "name": "stdout",
     "output_type": "stream",
     "text": [
      "Good morning, Andy!\n"
     ]
    }
   ],
   "source": [
    "a()"
   ]
  },
  {
   "attachments": {},
   "cell_type": "markdown",
   "metadata": {},
   "source": [
    "Decorators --> design pattern built on the sholders on these two gians: first-class funcions + closures"
   ]
  },
  {
   "cell_type": "code",
   "execution_count": 260,
   "metadata": {},
   "outputs": [],
   "source": [
    "from random import randint"
   ]
  },
  {
   "cell_type": "code",
   "execution_count": 261,
   "metadata": {},
   "outputs": [],
   "source": [
    "def bingo():\n",
    "    return randint(1, 47)"
   ]
  },
  {
   "cell_type": "code",
   "execution_count": 262,
   "metadata": {},
   "outputs": [
    {
     "name": "stdout",
     "output_type": "stream",
     "text": [
      "6\n",
      "2\n",
      "2\n"
     ]
    }
   ],
   "source": [
    "for i in range(3):\n",
    "    print(bingo())"
   ]
  },
  {
   "cell_type": "code",
   "execution_count": 263,
   "metadata": {},
   "outputs": [],
   "source": [
    "def even_or_odd(func):\n",
    "    def inner():\n",
    "        num = func()\n",
    "        print(f\"The selected number is {'even' if num % 2 == 0 else 'odd'}\")\n",
    "        return num\n",
    "    return inner"
   ]
  },
  {
   "cell_type": "code",
   "execution_count": 264,
   "metadata": {},
   "outputs": [],
   "source": [
    "bingo = even_or_odd(bingo)"
   ]
  },
  {
   "cell_type": "code",
   "execution_count": 265,
   "metadata": {},
   "outputs": [
    {
     "name": "stdout",
     "output_type": "stream",
     "text": [
      "The selected number is odd\n",
      "25\n",
      "The selected number is odd\n",
      "39\n",
      "The selected number is odd\n",
      "27\n",
      "The selected number is even\n",
      "10\n"
     ]
    }
   ],
   "source": [
    "for i in range(4):    \n",
    "    print(bingo())"
   ]
  },
  {
   "attachments": {},
   "cell_type": "markdown",
   "metadata": {},
   "source": [
    "# The @ syntax -> syntactis sugar"
   ]
  },
  {
   "cell_type": "code",
   "execution_count": 266,
   "metadata": {},
   "outputs": [],
   "source": [
    "@even_or_odd\n",
    "def bingo():\n",
    "    return randint(1, 47)"
   ]
  },
  {
   "cell_type": "code",
   "execution_count": 267,
   "metadata": {},
   "outputs": [
    {
     "name": "stdout",
     "output_type": "stream",
     "text": [
      "The selected number is odd\n",
      "9\n",
      "The selected number is even\n",
      "18\n",
      "The selected number is odd\n",
      "37\n",
      "The selected number is odd\n",
      "39\n"
     ]
    }
   ],
   "source": [
    "for i in range(4):\n",
    "    print(bingo())"
   ]
  },
  {
   "attachments": {},
   "cell_type": "markdown",
   "metadata": {},
   "source": [
    "# Read or write only properties"
   ]
  },
  {
   "cell_type": "code",
   "execution_count": 268,
   "metadata": {},
   "outputs": [],
   "source": [
    "class Customer:\n",
    "    loyalty_levels = {'bronze', 'gold', 'platinum'}\n",
    "\n",
    "    def __init__(self, loyalty, membership=0) -> None:\n",
    "        self.loyalty = loyalty\n",
    "        \n",
    "    @property\n",
    "    def loyalty(self):\n",
    "        return self._loyalty\n",
    "    \n",
    "    @loyalty.setter\n",
    "    def loyalty(self, level):\n",
    "        if level not in self.loyalty_levels:\n",
    "            raise ValueError(f\"Invalid loyalty {level} specified.\")\n",
    "        \n",
    "        self._loyalty = level"
   ]
  },
  {
   "cell_type": "code",
   "execution_count": 269,
   "metadata": {},
   "outputs": [],
   "source": [
    "# property(fget=, fset=) <-- optional"
   ]
  },
  {
   "cell_type": "code",
   "execution_count": 270,
   "metadata": {},
   "outputs": [],
   "source": [
    "class Customer:\n",
    "    loyalty_levels = {'bronze', 'gold', 'platinum'}\n",
    "\n",
    "    def __init__(self, loyalty, membership=0) -> None:\n",
    "        self.loyalty = loyalty\n",
    "\n",
    "    loyalty = property()"
   ]
  },
  {
   "cell_type": "code",
   "execution_count": 271,
   "metadata": {},
   "outputs": [
    {
     "data": {
      "text/plain": [
       "mappingproxy({'__module__': '__main__',\n",
       "              'loyalty_levels': {'bronze', 'gold', 'platinum'},\n",
       "              '__init__': <function __main__.Customer.__init__(self, loyalty, membership=0) -> None>,\n",
       "              'loyalty': <property at 0x1fc830bed90>,\n",
       "              '__dict__': <attribute '__dict__' of 'Customer' objects>,\n",
       "              '__weakref__': <attribute '__weakref__' of 'Customer' objects>,\n",
       "              '__doc__': None})"
      ]
     },
     "execution_count": 271,
     "metadata": {},
     "output_type": "execute_result"
    }
   ],
   "source": [
    "Customer.__dict__"
   ]
  },
  {
   "cell_type": "code",
   "execution_count": 272,
   "metadata": {},
   "outputs": [],
   "source": [
    "class Customer:\n",
    "    loyalty_levels = {'bronze', 'gold', 'platinum'}\n",
    "\n",
    "    def __init__(self, loyalty, membership=0) -> None:\n",
    "        self.loyalty = loyalty\n",
    "\n",
    "    loyalty = property()\n",
    "        \n",
    "    # @property\n",
    "    # def loyalty(self):\n",
    "    #     return self._loyalty\n",
    "    \n",
    "    @loyalty.setter\n",
    "    def loyalty(self, level):\n",
    "        if level not in self.loyalty_levels:\n",
    "            raise ValueError(f\"Invalid loyalty {level} specified.\")\n",
    "        \n",
    "        self._loyalty = level"
   ]
  },
  {
   "cell_type": "code",
   "execution_count": 273,
   "metadata": {},
   "outputs": [
    {
     "data": {
      "text/plain": [
       "mappingproxy({'__module__': '__main__',\n",
       "              'loyalty_levels': {'bronze', 'gold', 'platinum'},\n",
       "              '__init__': <function __main__.Customer.__init__(self, loyalty, membership=0) -> None>,\n",
       "              'loyalty': <property at 0x1fc830e6570>,\n",
       "              '__dict__': <attribute '__dict__' of 'Customer' objects>,\n",
       "              '__weakref__': <attribute '__weakref__' of 'Customer' objects>,\n",
       "              '__doc__': None})"
      ]
     },
     "execution_count": 273,
     "metadata": {},
     "output_type": "execute_result"
    }
   ],
   "source": [
    "Customer.__dict__"
   ]
  },
  {
   "cell_type": "code",
   "execution_count": 274,
   "metadata": {},
   "outputs": [],
   "source": [
    "c = Customer(\"platinum\")"
   ]
  },
  {
   "cell_type": "code",
   "execution_count": 275,
   "metadata": {},
   "outputs": [],
   "source": [
    "c.loyalty = 'gold'"
   ]
  },
  {
   "cell_type": "code",
   "execution_count": 276,
   "metadata": {},
   "outputs": [],
   "source": [
    "# c.loyalty"
   ]
  },
  {
   "attachments": {},
   "cell_type": "markdown",
   "metadata": {},
   "source": [
    "```python\n",
    "---------------------------------------------------------------------------\n",
    "AttributeError                            Traceback (most recent call last)\n",
    "Cell In[122], line 1\n",
    "----> 1 c.loyalty\n",
    "\n",
    "AttributeError: property 'loyalty' of 'Customer' object has no getter\n",
    "```"
   ]
  },
  {
   "cell_type": "code",
   "execution_count": 277,
   "metadata": {},
   "outputs": [
    {
     "data": {
      "text/plain": [
       "{'_loyalty': 'gold'}"
      ]
     },
     "execution_count": 277,
     "metadata": {},
     "output_type": "execute_result"
    }
   ],
   "source": [
    "c.__dict__"
   ]
  },
  {
   "cell_type": "code",
   "execution_count": 278,
   "metadata": {},
   "outputs": [],
   "source": [
    "class Customer:\n",
    "    loyalty_levels = {'bronze', 'gold', 'platinum'}\n",
    "\n",
    "    def __init__(self, loyalty) -> None:\n",
    "        self._loyalty = loyalty\n",
    "\n",
    "    loyalty = property()\n",
    "        \n",
    "    @loyalty.getter\n",
    "    def loyalty(self):\n",
    "        return self._loyalty\n",
    "    \n",
    "    # @loyalty.setter\n",
    "    # def loyalty(self, level):\n",
    "    #     if level not in self.loyalty_levels:\n",
    "    #         raise ValueError(f\"Invalid loyalty {level} specified.\")\n",
    "        \n",
    "    #     self._loyalty = level"
   ]
  },
  {
   "cell_type": "code",
   "execution_count": 279,
   "metadata": {},
   "outputs": [],
   "source": [
    "c = Customer('platinum')"
   ]
  },
  {
   "cell_type": "code",
   "execution_count": 280,
   "metadata": {},
   "outputs": [
    {
     "data": {
      "text/plain": [
       "'platinum'"
      ]
     },
     "execution_count": 280,
     "metadata": {},
     "output_type": "execute_result"
    }
   ],
   "source": [
    "c.loyalty"
   ]
  },
  {
   "cell_type": "code",
   "execution_count": 281,
   "metadata": {},
   "outputs": [],
   "source": [
    "# c.loyalty = 'gold'"
   ]
  },
  {
   "attachments": {},
   "cell_type": "markdown",
   "metadata": {},
   "source": [
    "```python\n",
    "---------------------------------------------------------------------------\n",
    "AttributeError                            Traceback (most recent call last)\n",
    "Cell In[138], line 1\n",
    "----> 1 c.loyalty = 'gold'\n",
    "\n",
    "AttributeError: property 'loyalty' of 'Customer' object has no setter\n",
    "```"
   ]
  },
  {
   "cell_type": "code",
   "execution_count": 282,
   "metadata": {},
   "outputs": [],
   "source": [
    "class Customer:\n",
    "    loyalty_levels = {'bronze', 'gold', 'platinum'}\n",
    "\n",
    "    def __init__(self, loyalty) -> None:\n",
    "        self._loyalty = loyalty\n",
    "        \n",
    "    @property\n",
    "    def loyalty(self):\n",
    "        return self._loyalty"
   ]
  },
  {
   "cell_type": "code",
   "execution_count": 283,
   "metadata": {},
   "outputs": [],
   "source": [
    "c = Customer(\"gold\")"
   ]
  },
  {
   "cell_type": "code",
   "execution_count": 284,
   "metadata": {},
   "outputs": [],
   "source": [
    "# c.loyalty = \"bronze\""
   ]
  },
  {
   "attachments": {},
   "cell_type": "markdown",
   "metadata": {},
   "source": [
    "```python\n",
    "---------------------------------------------------------------------------\n",
    "AttributeError                            Traceback (most recent call last)\n",
    "Cell In[142], line 1\n",
    "----> 1 c.loyalty = \"bronze\"\n",
    "\n",
    "AttributeError: property 'loyalty' of 'Customer' object has no setter\n",
    "```"
   ]
  },
  {
   "attachments": {},
   "cell_type": "markdown",
   "metadata": {},
   "source": [
    "# Managed Attributes"
   ]
  },
  {
   "cell_type": "code",
   "execution_count": 285,
   "metadata": {},
   "outputs": [],
   "source": [
    "class Customer:\n",
    "    loyalty_levels = {'bronze', 'gold', 'platinum'}\n",
    "\n",
    "    def __init__(self, loyalty) -> None:\n",
    "        self.loyalty = loyalty\n",
    "        self._reviews = []\n",
    "        \n",
    "    @property\n",
    "    def loyalty(self):\n",
    "        return self._loyalty\n",
    "    \n",
    "    @loyalty.setter\n",
    "    def loyalty(self, level):\n",
    "        if level not in self.loyalty_levels:\n",
    "            raise ValueError(f\"Invalid loyalty {level} specified.\")\n",
    "        else:\n",
    "            self._loyalty = level\n",
    "\n",
    "    def add_review(self, review):\n",
    "        if not (type(review) == int or 0<= review <= 100):\n",
    "            raise ValueError(\"The review must be an int between 0 and 10, inclusive.\")\n",
    "        \n",
    "        self._reviews.append(review)\n",
    "    \n",
    "    def average_review(self):\n",
    "        return sum(self._reviews) / len(self._reviews)"
   ]
  },
  {
   "cell_type": "code",
   "execution_count": 286,
   "metadata": {},
   "outputs": [],
   "source": [
    "c = Customer(\"gold\")"
   ]
  },
  {
   "cell_type": "code",
   "execution_count": 287,
   "metadata": {},
   "outputs": [],
   "source": [
    "for i in range(3):\n",
    "    c.add_review(randint(1,10))"
   ]
  },
  {
   "cell_type": "code",
   "execution_count": 288,
   "metadata": {},
   "outputs": [
    {
     "data": {
      "text/plain": [
       "4.0"
      ]
     },
     "execution_count": 288,
     "metadata": {},
     "output_type": "execute_result"
    }
   ],
   "source": [
    "c.average_review()"
   ]
  },
  {
   "cell_type": "code",
   "execution_count": 289,
   "metadata": {},
   "outputs": [
    {
     "data": {
      "text/plain": [
       "<bound method Customer.average_review of <__main__.Customer object at 0x000001FC82AF2B10>>"
      ]
     },
     "execution_count": 289,
     "metadata": {},
     "output_type": "execute_result"
    }
   ],
   "source": [
    "c.average_review"
   ]
  },
  {
   "cell_type": "code",
   "execution_count": 290,
   "metadata": {},
   "outputs": [],
   "source": [
    "class Customer:\n",
    "    loyalty_levels = {'bronze', 'gold', 'platinum'}\n",
    "\n",
    "    def __init__(self, loyalty) -> None:\n",
    "        self.loyalty = loyalty\n",
    "        self._reviews = []\n",
    "        \n",
    "    @property\n",
    "    def loyalty(self):\n",
    "        return self._loyalty\n",
    "    \n",
    "    @loyalty.setter\n",
    "    def loyalty(self, level):\n",
    "        if level not in self.loyalty_levels:\n",
    "            raise ValueError(f\"Invalid loyalty {level} specified.\")\n",
    "        else:\n",
    "            self._loyalty = level\n",
    "\n",
    "    def add_review(self, review):\n",
    "        if not (type(review) == int or 0<= review <= 100):\n",
    "            raise ValueError(\"The review must be an int between 0 and 10, inclusive.\")\n",
    "        \n",
    "        self._reviews.append(review)\n",
    "    \n",
    "    @property\n",
    "    def average_review(self):\n",
    "        return sum(self._reviews) / len(self._reviews)"
   ]
  },
  {
   "cell_type": "code",
   "execution_count": 291,
   "metadata": {},
   "outputs": [],
   "source": [
    "c = Customer('platinum')"
   ]
  },
  {
   "cell_type": "code",
   "execution_count": 292,
   "metadata": {},
   "outputs": [],
   "source": [
    "for i in range(3):\n",
    "    c.add_review(randint(1,11))"
   ]
  },
  {
   "cell_type": "code",
   "execution_count": 293,
   "metadata": {},
   "outputs": [
    {
     "data": {
      "text/plain": [
       "4.333333333333333"
      ]
     },
     "execution_count": 293,
     "metadata": {},
     "output_type": "execute_result"
    }
   ],
   "source": [
    "c.average_review"
   ]
  },
  {
   "cell_type": "code",
   "execution_count": 294,
   "metadata": {},
   "outputs": [],
   "source": [
    "# c.average_review()"
   ]
  },
  {
   "attachments": {},
   "cell_type": "markdown",
   "metadata": {},
   "source": [
    "```python\n",
    "---------------------------------------------------------------------------\n",
    "TypeError                                 Traceback (most recent call last)\n",
    "Cell In[157], line 1\n",
    "----> 1 c.average_review()\n",
    "\n",
    "TypeError: 'float' object is not callable\n",
    "```"
   ]
  },
  {
   "attachments": {},
   "cell_type": "markdown",
   "metadata": {},
   "source": [
    "# BONUS: Caching average Review"
   ]
  },
  {
   "cell_type": "code",
   "execution_count": 295,
   "metadata": {},
   "outputs": [],
   "source": [
    "class Customer:\n",
    "    loyalty_levels = {'bronze', 'gold', 'platinum'}\n",
    "\n",
    "    def __init__(self, loyalty) -> None:\n",
    "        self.loyalty = loyalty\n",
    "        self._reviews = []\n",
    "        self._avg_review = None\n",
    "        \n",
    "    @property\n",
    "    def loyalty(self):\n",
    "        return self._loyalty\n",
    "    \n",
    "    @loyalty.setter\n",
    "    def loyalty(self, level):\n",
    "        if level not in self.loyalty_levels:\n",
    "            raise ValueError(f\"Invalid loyalty {level} specified.\")\n",
    "        else:\n",
    "            self._loyalty = level\n",
    "\n",
    "    def add_review(self, review):\n",
    "        if not (type(review) == int or 0<= review <= 100):\n",
    "            raise ValueError(\"The review must be an int between 0 and 10, inclusive.\")\n",
    "        \n",
    "        self._reviews.append(review)\n",
    "\n",
    "        self._avg_review = None\n",
    "    \n",
    "    @property\n",
    "    def average_review(self):\n",
    "        if self._avg_review is None:\n",
    "            print(\"Calculating...\")\n",
    "            self._avg_review = sum(self._reviews) / len(self._reviews)\n",
    "        \n",
    "        return self._avg_review"
   ]
  },
  {
   "cell_type": "code",
   "execution_count": 296,
   "metadata": {},
   "outputs": [],
   "source": [
    "c = Customer(\"gold\")\n",
    "\n",
    "for i in range(4):\n",
    "    c.add_review(randint(1,11))"
   ]
  },
  {
   "cell_type": "code",
   "execution_count": 297,
   "metadata": {},
   "outputs": [
    {
     "name": "stdout",
     "output_type": "stream",
     "text": [
      "Calculating...\n"
     ]
    },
    {
     "data": {
      "text/plain": [
       "7.5"
      ]
     },
     "execution_count": 297,
     "metadata": {},
     "output_type": "execute_result"
    }
   ],
   "source": [
    "c.average_review"
   ]
  },
  {
   "cell_type": "code",
   "execution_count": 298,
   "metadata": {},
   "outputs": [
    {
     "data": {
      "text/plain": [
       "7.5"
      ]
     },
     "execution_count": 298,
     "metadata": {},
     "output_type": "execute_result"
    }
   ],
   "source": [
    "c.average_review"
   ]
  },
  {
   "attachments": {},
   "cell_type": "markdown",
   "metadata": {},
   "source": [
    "# Deleting Properties"
   ]
  },
  {
   "cell_type": "code",
   "execution_count": 299,
   "metadata": {},
   "outputs": [],
   "source": [
    "class Customer:\n",
    "    loyalty_levels = {'bronze', 'gold', 'platinum'}\n",
    "\n",
    "    def __init__(self, loyalty) -> None:\n",
    "        self.loyalty = loyalty\n",
    "        self._reviews = []\n",
    "        self._avg_review = None\n",
    "        \n",
    "    @property\n",
    "    def loyalty(self):\n",
    "        return self._loyalty\n",
    "    \n",
    "    @loyalty.setter\n",
    "    def loyalty(self, level):\n",
    "        if level not in self.loyalty_levels:\n",
    "            raise ValueError(f\"Invalid loyalty {level} specified.\")\n",
    "        else:\n",
    "            self._loyalty = level"
   ]
  },
  {
   "cell_type": "code",
   "execution_count": 300,
   "metadata": {},
   "outputs": [],
   "source": [
    "c = Customer(\"gold\")"
   ]
  },
  {
   "cell_type": "code",
   "execution_count": 301,
   "metadata": {},
   "outputs": [
    {
     "data": {
      "text/plain": [
       "'gold'"
      ]
     },
     "execution_count": 301,
     "metadata": {},
     "output_type": "execute_result"
    }
   ],
   "source": [
    "c.loyalty"
   ]
  },
  {
   "cell_type": "code",
   "execution_count": 302,
   "metadata": {},
   "outputs": [],
   "source": [
    "# del c.loyalty"
   ]
  },
  {
   "attachments": {},
   "cell_type": "markdown",
   "metadata": {},
   "source": [
    "```python\n",
    "---------------------------------------------------------------------------\n",
    "AttributeError                            Traceback (most recent call last)\n",
    "Cell In[426], line 1\n",
    "----> 1 del c.loyalty\n",
    "\n",
    "AttributeError: property 'loyalty' of 'Customer' object has no deleter\n",
    "```"
   ]
  },
  {
   "cell_type": "code",
   "execution_count": 303,
   "metadata": {},
   "outputs": [],
   "source": [
    "class Customer:\n",
    "    loyalty_levels = {'bronze', 'gold', 'platinum'}\n",
    "\n",
    "    def __init__(self, loyalty) -> None:\n",
    "        self.loyalty = loyalty\n",
    "        \n",
    "    @property\n",
    "    def loyalty(self):\n",
    "        return self._loyalty\n",
    "    \n",
    "    @loyalty.setter\n",
    "    def loyalty(self, level):\n",
    "        if level not in self.loyalty_levels:\n",
    "            raise ValueError(f\"Invalid loyalty {level} specified.\")\n",
    "        else:\n",
    "            self._loyalty = level\n",
    "\n",
    "    @loyalty.deleter\n",
    "    def loyalty(self):\n",
    "        del self._loyalty"
   ]
  },
  {
   "cell_type": "code",
   "execution_count": 304,
   "metadata": {},
   "outputs": [],
   "source": [
    "b = Customer(\"bronze\")"
   ]
  },
  {
   "cell_type": "code",
   "execution_count": 305,
   "metadata": {},
   "outputs": [
    {
     "data": {
      "text/plain": [
       "'bronze'"
      ]
     },
     "execution_count": 305,
     "metadata": {},
     "output_type": "execute_result"
    }
   ],
   "source": [
    "b.loyalty"
   ]
  },
  {
   "cell_type": "code",
   "execution_count": 306,
   "metadata": {},
   "outputs": [],
   "source": [
    "del b.loyalty"
   ]
  },
  {
   "cell_type": "code",
   "execution_count": 307,
   "metadata": {},
   "outputs": [],
   "source": [
    "# b.loyalty"
   ]
  },
  {
   "attachments": {},
   "cell_type": "markdown",
   "metadata": {},
   "source": [
    "```python\n",
    "---------------------------------------------------------------------------\n",
    "AttributeError                            Traceback (most recent call last)\n",
    "Cell In[432], line 1\n",
    "----> 1 c.loyalty\n",
    "\n",
    "Cell In[428], line 11, in Customer.loyalty(self)\n",
    "      9 @property\n",
    "     10 def loyalty(self):\n",
    "---> 11     return self._loyalty\n",
    "\n",
    "AttributeError: 'Customer' object has no attribute '_loyalty'\n",
    "```"
   ]
  },
  {
   "cell_type": "code",
   "execution_count": 308,
   "metadata": {},
   "outputs": [
    {
     "data": {
      "text/plain": [
       "mappingproxy({'__module__': '__main__',\n",
       "              'loyalty_levels': {'bronze', 'gold', 'platinum'},\n",
       "              '__init__': <function __main__.Customer.__init__(self, loyalty) -> None>,\n",
       "              'loyalty': <property at 0x1fc830fe610>,\n",
       "              '__dict__': <attribute '__dict__' of 'Customer' objects>,\n",
       "              '__weakref__': <attribute '__weakref__' of 'Customer' objects>,\n",
       "              '__doc__': None})"
      ]
     },
     "execution_count": 308,
     "metadata": {},
     "output_type": "execute_result"
    }
   ],
   "source": [
    "Customer.__dict__"
   ]
  },
  {
   "cell_type": "code",
   "execution_count": 309,
   "metadata": {},
   "outputs": [
    {
     "data": {
      "text/plain": [
       "{}"
      ]
     },
     "execution_count": 309,
     "metadata": {},
     "output_type": "execute_result"
    }
   ],
   "source": [
    "b.__dict__"
   ]
  },
  {
   "cell_type": "code",
   "execution_count": 310,
   "metadata": {},
   "outputs": [],
   "source": [
    "c2 = Customer(\"platinum\")"
   ]
  },
  {
   "cell_type": "code",
   "execution_count": 311,
   "metadata": {},
   "outputs": [
    {
     "data": {
      "text/plain": [
       "'platinum'"
      ]
     },
     "execution_count": 311,
     "metadata": {},
     "output_type": "execute_result"
    }
   ],
   "source": [
    "c2.loyalty"
   ]
  },
  {
   "cell_type": "code",
   "execution_count": 312,
   "metadata": {},
   "outputs": [
    {
     "data": {
      "text/plain": [
       "{'_loyalty': 'platinum'}"
      ]
     },
     "execution_count": 312,
     "metadata": {},
     "output_type": "execute_result"
    }
   ],
   "source": [
    "c2.__dict__"
   ]
  },
  {
   "attachments": {},
   "cell_type": "markdown",
   "metadata": {},
   "source": [
    "```python\n",
    "property(fget=, fset=, fdel=)\n",
    "```"
   ]
  },
  {
   "cell_type": "code",
   "execution_count": 313,
   "metadata": {},
   "outputs": [],
   "source": [
    "class Customer:\n",
    "    loyalty_levels = {'bronze', 'gold', 'platinum'}\n",
    "\n",
    "    def __init__(self, loyalty) -> None:\n",
    "        self.loyalty = loyalty\n",
    "        \n",
    "    def loyalty_getter(self):\n",
    "        return self._loyalty\n",
    "    \n",
    "    def loyalty_setter(self, level):\n",
    "        if level not in self.loyalty_levels:\n",
    "            raise ValueError(f\"Invalid loyalty {level} specified.\")\n",
    "        else:\n",
    "            self._loyalty = level\n",
    "\n",
    "    def loyalty_deleter(self):\n",
    "        del self._loyalty\n",
    "\n",
    "    loyalty = property(fget=loyalty_getter, fset=loyalty_setter, fdel=loyalty_deleter)"
   ]
  },
  {
   "attachments": {},
   "cell_type": "markdown",
   "metadata": {},
   "source": [
    "# Property Docstrings"
   ]
  },
  {
   "cell_type": "code",
   "execution_count": 314,
   "metadata": {},
   "outputs": [],
   "source": [
    "class Customer:\n",
    "    loyalty_levels = {'bronze', 'gold', 'platinum'}\n",
    "\n",
    "    def __init__(self, loyalty) -> None:\n",
    "        self.loyalty = loyalty\n",
    "        \n",
    "    @property\n",
    "    def loyalty(self):\n",
    "        \"\"\"\n",
    "        A property that returns the loyalty level of the custome.\n",
    "        Setting and deleting is also supported.\n",
    "        \"\"\"\n",
    "        return self._loyalty\n",
    "    \n",
    "    @loyalty.setter\n",
    "    def loyalty(self, level):\n",
    "        if level not in self.loyalty_levels:\n",
    "            raise ValueError(f\"Invalid loyalty {level} specified.\")\n",
    "        else:\n",
    "            self._loyalty = level\n",
    "\n",
    "    @loyalty.deleter\n",
    "    def loyalty(self):\n",
    "        del self._loyalty"
   ]
  },
  {
   "cell_type": "code",
   "execution_count": 315,
   "metadata": {},
   "outputs": [
    {
     "name": "stdout",
     "output_type": "stream",
     "text": [
      "Help on property:\n",
      "\n",
      "    A property that returns the loyalty level of the custome.\n",
      "    Setting and deleting is also supported.\n",
      "\n"
     ]
    }
   ],
   "source": [
    "help(Customer.loyalty)"
   ]
  },
  {
   "cell_type": "code",
   "execution_count": 316,
   "metadata": {},
   "outputs": [
    {
     "data": {
      "text/plain": [
       "'\\n        A property that returns the loyalty level of the custome.\\n        Setting and deleting is also supported.\\n        '"
      ]
     },
     "execution_count": 316,
     "metadata": {},
     "output_type": "execute_result"
    }
   ],
   "source": [
    "Customer.loyalty.__doc__"
   ]
  },
  {
   "cell_type": "code",
   "execution_count": 317,
   "metadata": {},
   "outputs": [
    {
     "name": "stdout",
     "output_type": "stream",
     "text": [
      "Help on class Customer in module __main__:\n",
      "\n",
      "class Customer(builtins.object)\n",
      " |  Customer(loyalty) -> None\n",
      " |  \n",
      " |  Methods defined here:\n",
      " |  \n",
      " |  __init__(self, loyalty) -> None\n",
      " |      Initialize self.  See help(type(self)) for accurate signature.\n",
      " |  \n",
      " |  ----------------------------------------------------------------------\n",
      " |  Data descriptors defined here:\n",
      " |  \n",
      " |  __dict__\n",
      " |      dictionary for instance variables (if defined)\n",
      " |  \n",
      " |  __weakref__\n",
      " |      list of weak references to the object (if defined)\n",
      " |  \n",
      " |  loyalty\n",
      " |      A property that returns the loyalty level of the custome.\n",
      " |      Setting and deleting is also supported.\n",
      " |  \n",
      " |  ----------------------------------------------------------------------\n",
      " |  Data and other attributes defined here:\n",
      " |  \n",
      " |  loyalty_levels = {'bronze', 'gold', 'platinum'}\n",
      "\n"
     ]
    }
   ],
   "source": [
    "help(Customer)"
   ]
  },
  {
   "cell_type": "code",
   "execution_count": 318,
   "metadata": {},
   "outputs": [],
   "source": [
    "class Customer:\n",
    "    loyalty_levels = {'bronze', 'gold', 'platinum'}\n",
    "\n",
    "    def __init__(self, loyalty) -> None:\n",
    "        self.loyalty = loyalty\n",
    "        \n",
    "    @property\n",
    "    def loyalty(self):\n",
    "        \"\"\"\n",
    "        A property that returns the loyalty level of the custome.\n",
    "        Setting and deleting is also supported.\n",
    "        \"\"\"\n",
    "        return self._loyalty\n",
    "    \n",
    "    @loyalty.setter\n",
    "    def loyalty(self, level):\n",
    "        \"\"\" \n",
    "        This is the setter.\n",
    "        \"\"\"\n",
    "        if level not in self.loyalty_levels:\n",
    "            raise ValueError(f\"Invalid loyalty {level} specified.\")\n",
    "        else:\n",
    "            self._loyalty = level\n",
    "\n",
    "    @loyalty.deleter\n",
    "    def loyalty(self):\n",
    "        \"\"\" \n",
    "        Deleter multi-line docstring.\n",
    "        \"\"\"\n",
    "        del self._loyalty"
   ]
  },
  {
   "attachments": {},
   "cell_type": "markdown",
   "metadata": {},
   "source": [
    "Only getter doc string will be shown."
   ]
  },
  {
   "cell_type": "code",
   "execution_count": 319,
   "metadata": {},
   "outputs": [
    {
     "name": "stdout",
     "output_type": "stream",
     "text": [
      "Help on class Customer in module __main__:\n",
      "\n",
      "class Customer(builtins.object)\n",
      " |  Customer(loyalty) -> None\n",
      " |  \n",
      " |  Methods defined here:\n",
      " |  \n",
      " |  __init__(self, loyalty) -> None\n",
      " |      Initialize self.  See help(type(self)) for accurate signature.\n",
      " |  \n",
      " |  ----------------------------------------------------------------------\n",
      " |  Data descriptors defined here:\n",
      " |  \n",
      " |  __dict__\n",
      " |      dictionary for instance variables (if defined)\n",
      " |  \n",
      " |  __weakref__\n",
      " |      list of weak references to the object (if defined)\n",
      " |  \n",
      " |  loyalty\n",
      " |      A property that returns the loyalty level of the custome.\n",
      " |      Setting and deleting is also supported.\n",
      " |  \n",
      " |  ----------------------------------------------------------------------\n",
      " |  Data and other attributes defined here:\n",
      " |  \n",
      " |  loyalty_levels = {'bronze', 'gold', 'platinum'}\n",
      "\n"
     ]
    }
   ],
   "source": [
    "help(Customer)"
   ]
  },
  {
   "cell_type": "code",
   "execution_count": 320,
   "metadata": {},
   "outputs": [],
   "source": [
    "class Customer:\n",
    "    loyalty_levels = {'bronze', 'gold', 'platinum'}\n",
    "\n",
    "    def __init__(self, loyalty) -> None:\n",
    "        self.loyalty = loyalty\n",
    "        \n",
    "    def loyalty_getter(self):\n",
    "        return self._loyalty\n",
    "    \n",
    "    def loyalty_setter(self, level):\n",
    "        if level not in self.loyalty_levels:\n",
    "            raise ValueError(f\"Invalid loyalty {level} specified.\")\n",
    "        else:\n",
    "            self._loyalty = level\n",
    "\n",
    "    def loyalty_deleter(self):\n",
    "        del self._loyalty\n",
    "\n",
    "    loyalty = property(fget=loyalty_getter, fset=loyalty_setter, fdel=loyalty_deleter, doc=\"A property that returns the loyalty level of the custome. Setting and deleting is also supported.\")"
   ]
  },
  {
   "cell_type": "code",
   "execution_count": 321,
   "metadata": {},
   "outputs": [
    {
     "name": "stdout",
     "output_type": "stream",
     "text": [
      "Help on property:\n",
      "\n",
      "    A property that returns the loyalty level of the custome. Setting and deleting is also supported.\n",
      "\n"
     ]
    }
   ],
   "source": [
    "help(Customer.loyalty)"
   ]
  },
  {
   "attachments": {},
   "cell_type": "markdown",
   "metadata": {},
   "source": [
    "# Skill Challenge #6"
   ]
  },
  {
   "cell_type": "code",
   "execution_count": 322,
   "metadata": {},
   "outputs": [],
   "source": [
    "class Tablet:\n",
    "    MAX_MEMORY = 1024\n",
    "    MODELS = {\n",
    "        'lite':{\n",
    "            'base_storage': 32,\n",
    "            'memory': 2\n",
    "        },\n",
    "        'pro':{\n",
    "            'base_storage': 64,\n",
    "            'memory': 3\n",
    "        },\n",
    "        'max':{\n",
    "            'base_storage': 128,\n",
    "            'memory': 4\n",
    "        },\n",
    "    }\n",
    "\n",
    "    def __init__(self, model):\n",
    "        model = model.lower().strip()\n",
    "\n",
    "        if model not in list(self.MODELS.keys()):\n",
    "            raise ValueError(\"Unrecognized model.\")\n",
    "        \n",
    "        specs = self.MODELS[model]\n",
    "\n",
    "        self.model = model\n",
    "        self._base_storage = specs[\"base_storage\"]\n",
    "        self._memory = specs[\"memory\"]\n",
    "        self._added_storage = 0\n",
    "\n",
    "    def add_storage(self, additional_storage):\n",
    "        if self._base_storage + additional_storage + self._added_storage > self.MAX_MEMORY:\n",
    "            raise ValueError(f\"Device memory cannot exceed maximum of {self.MAX_MEMORY}.\")\n",
    "        self._added_storage = additional_storage\n",
    "\n",
    "    @property\n",
    "    def storage(self):\n",
    "        return self._added_storage + self._base_storage\n",
    "    \n",
    "    @storage.setter\n",
    "    def storage(self, memory):\n",
    "        additional_storage = memory - self._base_storage\n",
    "        # check that memory is positive\n",
    "        if additional_storage < 0:\n",
    "            raise ValueError(f\"Device memory cannot be lower than the base memory of {self._base_storage}.\")\n",
    "        # check that it doews not exeed max\n",
    "        if memory + self._base_storage + self._added_storage > self.MAX_MEMORY:\n",
    "            raise ValueError(f\"Device memory cannot exceed maximum of {self.MAX_MEMORY}. Current memory: {self._base_storage + self._added_storage}\")\n",
    "        # figure out the split between base and added\n",
    "        # set added\n",
    "        self._added_storage += additional_storage\n",
    "\n",
    "    @property\n",
    "    def memory(self):\n",
    "        return self._memory\n",
    "\n",
    "    @property\n",
    "    def base_storage(self):\n",
    "        return self._base_storage\n",
    "\n",
    "    def __repr__(self):\n",
    "        return f\"Table(model='{self.model}', base_storage='{self.base_storage}', added_storage='{self._added_storage}', memory='{self.memory}')\""
   ]
  },
  {
   "cell_type": "code",
   "execution_count": 323,
   "metadata": {},
   "outputs": [],
   "source": [
    "t800 = Tablet('max')"
   ]
  },
  {
   "cell_type": "code",
   "execution_count": 324,
   "metadata": {},
   "outputs": [],
   "source": [
    "t800.add_storage(128)"
   ]
  },
  {
   "cell_type": "code",
   "execution_count": 325,
   "metadata": {},
   "outputs": [
    {
     "data": {
      "text/plain": [
       "Table(model='max', base_storage='128', added_storage='128', memory='4')"
      ]
     },
     "execution_count": 325,
     "metadata": {},
     "output_type": "execute_result"
    }
   ],
   "source": [
    "t800"
   ]
  },
  {
   "cell_type": "code",
   "execution_count": 326,
   "metadata": {},
   "outputs": [],
   "source": [
    "# t800.storage = 1000"
   ]
  },
  {
   "attachments": {},
   "cell_type": "markdown",
   "metadata": {},
   "source": [
    "```python\n",
    "---------------------------------------------------------------------------\n",
    "ValueError                                Traceback (most recent call last)\n",
    "Cell In[205], line 1\n",
    "----> 1 t800.storage = 1000\n",
    "\n",
    "Cell In[199], line 48, in Tablet.storage(self, memory)\n",
    "     46 # check that it doews not exeed max\n",
    "     47 if memory + self._base_storage + self._added_storage > self.MAX_MEMORY:\n",
    "---> 48     raise ValueError(f\"Device memory cannot exceed maximum of {self.MAX_MEMORY}. Current memory: {self._base_storage + self._added_storage}\")\n",
    "     49 # figure out the split between base and added\n",
    "     50 # set added\n",
    "     51 self._added_storage += additional_storage\n",
    "\n",
    "ValueError: Device memory cannot exceed maximum of 1024. Current memory: 256\n",
    "```"
   ]
  },
  {
   "cell_type": "code",
   "execution_count": 327,
   "metadata": {},
   "outputs": [
    {
     "data": {
      "text/plain": [
       "768"
      ]
     },
     "execution_count": 327,
     "metadata": {},
     "output_type": "execute_result"
    }
   ],
   "source": [
    "1024 - 256"
   ]
  },
  {
   "cell_type": "code",
   "execution_count": 328,
   "metadata": {},
   "outputs": [],
   "source": [
    "t800.storage = 768"
   ]
  },
  {
   "cell_type": "code",
   "execution_count": 329,
   "metadata": {},
   "outputs": [],
   "source": [
    "# Tablet('maximus')"
   ]
  },
  {
   "attachments": {},
   "cell_type": "markdown",
   "metadata": {},
   "source": [
    "```python\n",
    "---------------------------------------------------------------------------\n",
    "ValueError                                Traceback (most recent call last)\n",
    "Cell In[211], line 1\n",
    "----> 1 Tablet('maximus')\n",
    "\n",
    "Cell In[199], line 22, in Tablet.__init__(self, model)\n",
    "     19 model = model.lower().strip()\n",
    "     21 if model not in list(self.MODELS.keys()):\n",
    "---> 22     raise ValueError(\"Unrecognized model.\")\n",
    "     24 specs = self.MODELS[model]\n",
    "     26 self.model = model\n",
    "\n",
    "ValueError: Unrecognized model.\n",
    "```"
   ]
  },
  {
   "cell_type": "code",
   "execution_count": 330,
   "metadata": {},
   "outputs": [],
   "source": [
    "# t800.memory = 5"
   ]
  },
  {
   "attachments": {},
   "cell_type": "markdown",
   "metadata": {},
   "source": [
    "```python\n",
    "---------------------------------------------------------------------------\n",
    "AttributeError                            Traceback (most recent call last)\n",
    "Cell In[214], line 1\n",
    "----> 1 t800.memory = 5\n",
    "\n",
    "AttributeError: property 'memory' of 'Tablet' object has no setter\n",
    "```"
   ]
  },
  {
   "cell_type": "code",
   "execution_count": null,
   "metadata": {},
   "outputs": [],
   "source": []
  }
 ],
 "metadata": {
  "kernelspec": {
   "display_name": "Python 3",
   "language": "python",
   "name": "python3"
  },
  "language_info": {
   "codemirror_mode": {
    "name": "ipython",
    "version": 3
   },
   "file_extension": ".py",
   "mimetype": "text/x-python",
   "name": "python",
   "nbconvert_exporter": "python",
   "pygments_lexer": "ipython3",
   "version": "3.11.3"
  },
  "orig_nbformat": 4
 },
 "nbformat": 4,
 "nbformat_minor": 2
}
