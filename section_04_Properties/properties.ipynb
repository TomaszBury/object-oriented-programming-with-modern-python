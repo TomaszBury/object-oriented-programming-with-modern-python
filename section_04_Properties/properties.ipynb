{
 "cells": [
  {
   "attachments": {},
   "cell_type": "markdown",
   "metadata": {},
   "source": [
    "# Loyal Customers"
   ]
  },
  {
   "cell_type": "code",
   "execution_count": 1,
   "metadata": {},
   "outputs": [],
   "source": [
    "class Customer:\n",
    "    def __init__(self, loyalty) -> None:\n",
    "        self.loyalty = loyalty"
   ]
  },
  {
   "cell_type": "code",
   "execution_count": 2,
   "metadata": {},
   "outputs": [],
   "source": [
    "c1 = Customer('Bronze')\n",
    "c2 = Customer('Gold')\n",
    "c3 = Customer('Platinum')"
   ]
  },
  {
   "cell_type": "code",
   "execution_count": 3,
   "metadata": {},
   "outputs": [],
   "source": [
    "def get_discount(customer):\n",
    "    discounts = {\n",
    "        'Bronze': .1,\n",
    "        'Gold': .2,\n",
    "        'Platinum': .35\n",
    "    }\n",
    "    discount  = discounts.get(customer.loyalty, None)\n",
    "\n",
    "    if not discount:\n",
    "        return ValueError(\"Could not determine the customer's discount!\")\n",
    "    \n",
    "    return discount"
   ]
  },
  {
   "cell_type": "code",
   "execution_count": 4,
   "metadata": {},
   "outputs": [
    {
     "name": "stdout",
     "output_type": "stream",
     "text": [
      "Your discount is 10%\n",
      "Your discount is 20%\n",
      "Your discount is 35%\n"
     ]
    }
   ],
   "source": [
    "for customer in [c1, c2, c3]:\n",
    "    print(f\"Your discount is {get_discount(customer):.0%}\")"
   ]
  },
  {
   "attachments": {},
   "cell_type": "markdown",
   "metadata": {},
   "source": [
    "# Always Start Plain"
   ]
  },
  {
   "cell_type": "code",
   "execution_count": 5,
   "metadata": {},
   "outputs": [],
   "source": [
    "class Customer:\n",
    "    def __init__(self, loyalty) -> None:\n",
    "        self.loyalty = loyalty"
   ]
  },
  {
   "cell_type": "code",
   "execution_count": 6,
   "metadata": {},
   "outputs": [],
   "source": [
    "class Customer:\n",
    "    def __init__(self, loyalty) -> None:\n",
    "        self.loyalty = loyalty\n",
    "\n",
    "    def get_loyalty(self):\n",
    "        return self.loyalty\n",
    "    \n",
    "    def set_loyalty(self, level):\n",
    "        self.loyalty = level"
   ]
  },
  {
   "cell_type": "code",
   "execution_count": 7,
   "metadata": {},
   "outputs": [],
   "source": [
    "c = Customer('bronze')"
   ]
  },
  {
   "cell_type": "code",
   "execution_count": 8,
   "metadata": {},
   "outputs": [
    {
     "data": {
      "text/plain": [
       "'bronze'"
      ]
     },
     "execution_count": 8,
     "metadata": {},
     "output_type": "execute_result"
    }
   ],
   "source": [
    "c.get_loyalty()"
   ]
  },
  {
   "cell_type": "code",
   "execution_count": 9,
   "metadata": {},
   "outputs": [
    {
     "data": {
      "text/plain": [
       "'bronze'"
      ]
     },
     "execution_count": 9,
     "metadata": {},
     "output_type": "execute_result"
    }
   ],
   "source": [
    "c.loyalty"
   ]
  },
  {
   "cell_type": "code",
   "execution_count": 10,
   "metadata": {},
   "outputs": [
    {
     "name": "stdout",
     "output_type": "stream",
     "text": [
      "The Zen of Python, by Tim Peters\n",
      "\n",
      "Beautiful is better than ugly.\n",
      "Explicit is better than implicit.\n",
      "Simple is better than complex.\n",
      "Complex is better than complicated.\n",
      "Flat is better than nested.\n",
      "Sparse is better than dense.\n",
      "Readability counts.\n",
      "Special cases aren't special enough to break the rules.\n",
      "Although practicality beats purity.\n",
      "Errors should never pass silently.\n",
      "Unless explicitly silenced.\n",
      "In the face of ambiguity, refuse the temptation to guess.\n",
      "There should be one-- and preferably only one --obvious way to do it.\n",
      "Although that way may not be obvious at first unless you're Dutch.\n",
      "Now is better than never.\n",
      "Although never is often better than *right* now.\n",
      "If the implementation is hard to explain, it's a bad idea.\n",
      "If the implementation is easy to explain, it may be a good idea.\n",
      "Namespaces are one honking great idea -- let's do more of those!\n"
     ]
    }
   ],
   "source": [
    "import this"
   ]
  },
  {
   "attachments": {},
   "cell_type": "markdown",
   "metadata": {},
   "source": [
    "# A Refactor"
   ]
  },
  {
   "cell_type": "code",
   "execution_count": 11,
   "metadata": {},
   "outputs": [],
   "source": [
    "class Customer:\n",
    "    def __init__(self, loyalty) -> None:\n",
    "        self.loyalty = loyalty\n",
    "\n",
    "    def get_loyalty(self):\n",
    "        return self.loyalty\n",
    "    \n",
    "    def set_loyalty(self, level):\n",
    "        self.loyalty = level"
   ]
  },
  {
   "cell_type": "code",
   "execution_count": 12,
   "metadata": {},
   "outputs": [],
   "source": [
    "# bronze, gold, platinum"
   ]
  },
  {
   "cell_type": "code",
   "execution_count": 13,
   "metadata": {},
   "outputs": [],
   "source": [
    "c = Customer('Andy')"
   ]
  },
  {
   "cell_type": "code",
   "execution_count": 14,
   "metadata": {},
   "outputs": [
    {
     "data": {
      "text/plain": [
       "'Andy'"
      ]
     },
     "execution_count": 14,
     "metadata": {},
     "output_type": "execute_result"
    }
   ],
   "source": [
    "c.loyalty"
   ]
  },
  {
   "cell_type": "code",
   "execution_count": 15,
   "metadata": {},
   "outputs": [],
   "source": [
    "class Customer:\n",
    "    loyalty_levels = {'bronze', 'gold', 'platinum'}\n",
    "    def __init__(self, loyalty) -> None:\n",
    "        self.set_loyalty(loyalty)\n",
    "\n",
    "    def get_loyalty(self):\n",
    "        return self.loyalty\n",
    "    \n",
    "    def set_loyalty(self, level):\n",
    "        if level not in self.loyalty_levels:\n",
    "            raise ValueError(f\"Invalid loyalty {level} specified.\")\n",
    "        \n",
    "        self.loyalty = level"
   ]
  },
  {
   "cell_type": "code",
   "execution_count": 16,
   "metadata": {},
   "outputs": [],
   "source": [
    "# c = Customer('Andy')"
   ]
  },
  {
   "attachments": {},
   "cell_type": "markdown",
   "metadata": {},
   "source": [
    "```python\n",
    "---------------------------------------------------------------------------\n",
    "ValueError                                Traceback (most recent call last)\n",
    "Cell In[38], line 1\n",
    "----> 1 c = Customer('Andy')\n",
    "\n",
    "Cell In[37], line 4, in Customer.__init__(self, loyalty)\n",
    "      3 def __init__(self, loyalty) -> None:\n",
    "----> 4     self.set_loyalty(loyalty)\n",
    "\n",
    "Cell In[37], line 11, in Customer.set_loyalty(self, level)\n",
    "      9 def set_loyalty(self, level):\n",
    "     10     if level not in self.loyalty_levels:\n",
    "---> 11         raise ValueError(f\"Invalid loyalty {level} specified.\")\n",
    "     13     self.loyalty = level\n",
    "\n",
    "ValueError: Invalid loyalty Andy specified.\n",
    "```"
   ]
  },
  {
   "cell_type": "code",
   "execution_count": 17,
   "metadata": {},
   "outputs": [],
   "source": [
    "c2 = Customer('bronze')"
   ]
  },
  {
   "cell_type": "code",
   "execution_count": 18,
   "metadata": {},
   "outputs": [],
   "source": [
    "c2.loyalty = 'Andy'"
   ]
  },
  {
   "cell_type": "code",
   "execution_count": 19,
   "metadata": {},
   "outputs": [],
   "source": [
    "class Customer:\n",
    "    loyalty_levels = {'bronze', 'gold', 'platinum'}\n",
    "    def __init__(self, loyalty) -> None:\n",
    "        self.set_loyalty(loyalty)\n",
    "\n",
    "    def get_loyalty(self):\n",
    "        return self._loyalty\n",
    "    \n",
    "    def set_loyalty(self, level):\n",
    "        if level not in self.loyalty_levels:\n",
    "            raise ValueError(f\"Invalid loyalty {level} specified.\")\n",
    "        \n",
    "        self._loyalty = level"
   ]
  },
  {
   "cell_type": "code",
   "execution_count": 20,
   "metadata": {},
   "outputs": [],
   "source": [
    "c = Customer('gold')"
   ]
  },
  {
   "cell_type": "code",
   "execution_count": 21,
   "metadata": {},
   "outputs": [],
   "source": [
    "c.loyalty = \"Andy\""
   ]
  },
  {
   "cell_type": "code",
   "execution_count": 22,
   "metadata": {},
   "outputs": [
    {
     "data": {
      "text/plain": [
       "'gold'"
      ]
     },
     "execution_count": 22,
     "metadata": {},
     "output_type": "execute_result"
    }
   ],
   "source": [
    "c.get_loyalty()"
   ]
  },
  {
   "cell_type": "code",
   "execution_count": 23,
   "metadata": {},
   "outputs": [
    {
     "data": {
      "text/plain": [
       "{'_loyalty': 'gold', 'loyalty': 'Andy'}"
      ]
     },
     "execution_count": 23,
     "metadata": {},
     "output_type": "execute_result"
    }
   ],
   "source": [
    "c.__dict__"
   ]
  },
  {
   "attachments": {},
   "cell_type": "markdown",
   "metadata": {},
   "source": [
    "# Private and Mangled attributes"
   ]
  },
  {
   "cell_type": "code",
   "execution_count": 24,
   "metadata": {},
   "outputs": [],
   "source": [
    "class Customer:\n",
    "    loyalty_levels = {'bronze', 'gold', 'platinum'}\n",
    "    def __init__(self, loyalty) -> None:\n",
    "        self.set_loyalty(loyalty)\n",
    "\n",
    "    def get_loyalty(self):\n",
    "        return self._loyalty\n",
    "    \n",
    "    def set_loyalty(self, level):\n",
    "        if level not in self.loyalty_levels:\n",
    "            raise ValueError(f\"Invalid loyalty {level} specified.\")\n",
    "        \n",
    "        self._loyalty = level"
   ]
  },
  {
   "cell_type": "code",
   "execution_count": 25,
   "metadata": {},
   "outputs": [],
   "source": [
    "c = Customer('gold')"
   ]
  },
  {
   "attachments": {},
   "cell_type": "markdown",
   "metadata": {},
   "source": [
    "## _ --> protected or protected"
   ]
  },
  {
   "cell_type": "code",
   "execution_count": 26,
   "metadata": {},
   "outputs": [
    {
     "data": {
      "text/plain": [
       "'gold'"
      ]
     },
     "execution_count": 26,
     "metadata": {},
     "output_type": "execute_result"
    }
   ],
   "source": [
    "c.get_loyalty()"
   ]
  },
  {
   "cell_type": "code",
   "execution_count": 27,
   "metadata": {},
   "outputs": [],
   "source": [
    "c._loyalty = \"bronze\""
   ]
  },
  {
   "cell_type": "code",
   "execution_count": 28,
   "metadata": {},
   "outputs": [
    {
     "data": {
      "text/plain": [
       "'bronze'"
      ]
     },
     "execution_count": 28,
     "metadata": {},
     "output_type": "execute_result"
    }
   ],
   "source": [
    "c.get_loyalty()"
   ]
  },
  {
   "cell_type": "code",
   "execution_count": 32,
   "metadata": {},
   "outputs": [],
   "source": [
    "class Customer:\n",
    "    loyalty_levels = {'bronze', 'gold', 'platinum'}\n",
    "    def __init__(self, loyalty) -> None:\n",
    "        self.set_loyalty(loyalty)\n",
    "\n",
    "    def get_loyalty(self):\n",
    "        return self.__loyalty\n",
    "    \n",
    "    def set_loyalty(self, level):\n",
    "        if level not in self.loyalty_levels:\n",
    "            raise ValueError(f\"Invalid loyalty {level} specified.\")\n",
    "        \n",
    "        self.__loyalty = level"
   ]
  },
  {
   "cell_type": "code",
   "execution_count": 33,
   "metadata": {},
   "outputs": [],
   "source": [
    "c = Customer(\"bronze\")"
   ]
  },
  {
   "cell_type": "code",
   "execution_count": 34,
   "metadata": {},
   "outputs": [
    {
     "data": {
      "text/plain": [
       "'bronze'"
      ]
     },
     "execution_count": 34,
     "metadata": {},
     "output_type": "execute_result"
    }
   ],
   "source": [
    "c.get_loyalty()"
   ]
  },
  {
   "cell_type": "code",
   "execution_count": 37,
   "metadata": {},
   "outputs": [],
   "source": [
    "# c.__loyalty"
   ]
  },
  {
   "attachments": {},
   "cell_type": "markdown",
   "metadata": {},
   "source": [
    "```python\n",
    "---------------------------------------------------------------------------\n",
    "AttributeError                            Traceback (most recent call last)\n",
    "Cell In[35], line 1\n",
    "----> 1 c.__loyalty\n",
    "\n",
    "AttributeError: 'Customer' object has no attribute '__loyalty'\n",
    "```"
   ]
  },
  {
   "cell_type": "code",
   "execution_count": 38,
   "metadata": {},
   "outputs": [
    {
     "data": {
      "text/plain": [
       "{'_Customer__loyalty': 'bronze'}"
      ]
     },
     "execution_count": 38,
     "metadata": {},
     "output_type": "execute_result"
    }
   ],
   "source": [
    "c.__dict__"
   ]
  },
  {
   "attachments": {},
   "cell_type": "markdown",
   "metadata": {},
   "source": [
    "### __ --> name mangled -> mangle -> disfigure"
   ]
  },
  {
   "cell_type": "code",
   "execution_count": 39,
   "metadata": {},
   "outputs": [
    {
     "data": {
      "text/plain": [
       "'bronze'"
      ]
     },
     "execution_count": 39,
     "metadata": {},
     "output_type": "execute_result"
    }
   ],
   "source": [
    "c._Customer__loyalty"
   ]
  },
  {
   "cell_type": "code",
   "execution_count": 40,
   "metadata": {},
   "outputs": [
    {
     "data": {
      "text/plain": [
       "'bronze'"
      ]
     },
     "execution_count": 40,
     "metadata": {},
     "output_type": "execute_result"
    }
   ],
   "source": [
    "# Sefety, not restricting access\n",
    "c._Customer__loyalty"
   ]
  },
  {
   "cell_type": "code",
   "execution_count": null,
   "metadata": {},
   "outputs": [],
   "source": []
  }
 ],
 "metadata": {
  "kernelspec": {
   "display_name": "Python 3",
   "language": "python",
   "name": "python3"
  },
  "language_info": {
   "codemirror_mode": {
    "name": "ipython",
    "version": 3
   },
   "file_extension": ".py",
   "mimetype": "text/x-python",
   "name": "python",
   "nbconvert_exporter": "python",
   "pygments_lexer": "ipython3",
   "version": "3.11.2"
  },
  "orig_nbformat": 4
 },
 "nbformat": 4,
 "nbformat_minor": 2
}
